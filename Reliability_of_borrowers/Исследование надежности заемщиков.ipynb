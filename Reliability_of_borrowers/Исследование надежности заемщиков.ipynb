{
 "cells": [
  {
   "cell_type": "markdown",
   "id": "f0811508",
   "metadata": {},
   "source": [
    "# Исследование надежности заемщиков"
   ]
  },
  {
   "cell_type": "code",
   "execution_count": 1,
   "id": "ae980b24",
   "metadata": {},
   "outputs": [
    {
     "name": "stdout",
     "output_type": "stream",
     "text": [
      "Defaulting to user installation because normal site-packages is not writeable\n",
      "Requirement already satisfied: pandas in c:\\programdata\\anaconda3\\lib\\site-packages (1.4.4)\n",
      "Requirement already satisfied: pytz>=2020.1 in c:\\programdata\\anaconda3\\lib\\site-packages (from pandas) (2022.1)\n",
      "Requirement already satisfied: numpy>=1.18.5 in c:\\programdata\\anaconda3\\lib\\site-packages (from pandas) (1.21.5)\n",
      "Requirement already satisfied: python-dateutil>=2.8.1 in c:\\programdata\\anaconda3\\lib\\site-packages (from pandas) (2.8.2)\n",
      "Requirement already satisfied: six>=1.5 in c:\\programdata\\anaconda3\\lib\\site-packages (from python-dateutil>=2.8.1->pandas) (1.16.0)\n"
     ]
    }
   ],
   "source": [
    "!pip install pandas"
   ]
  },
  {
   "cell_type": "code",
   "execution_count": 2,
   "id": "ce6b0362",
   "metadata": {},
   "outputs": [],
   "source": [
    "#Импортируем бибтотеку и прочитаем данные файла\n",
    "import pandas as pd\n",
    "import matplotlib.pyplot as plt\n",
    "import seaborn as sns\n",
    "\n",
    "try:\n",
    "    data = pd.read_csv('/datasets/data.csv')\n",
    "except:\n",
    "    data = pd.read_csv('https://code.s3.yandex.net/datasets/data.csv')"
   ]
  },
  {
   "cell_type": "code",
   "execution_count": 3,
   "id": "24e53982",
   "metadata": {
    "scrolled": true
   },
   "outputs": [
    {
     "data": {
      "text/html": [
       "<div>\n",
       "<style scoped>\n",
       "    .dataframe tbody tr th:only-of-type {\n",
       "        vertical-align: middle;\n",
       "    }\n",
       "\n",
       "    .dataframe tbody tr th {\n",
       "        vertical-align: top;\n",
       "    }\n",
       "\n",
       "    .dataframe thead th {\n",
       "        text-align: right;\n",
       "    }\n",
       "</style>\n",
       "<table border=\"1\" class=\"dataframe\">\n",
       "  <thead>\n",
       "    <tr style=\"text-align: right;\">\n",
       "      <th></th>\n",
       "      <th>children</th>\n",
       "      <th>days_employed</th>\n",
       "      <th>dob_years</th>\n",
       "      <th>education</th>\n",
       "      <th>education_id</th>\n",
       "      <th>family_status</th>\n",
       "      <th>family_status_id</th>\n",
       "      <th>gender</th>\n",
       "      <th>income_type</th>\n",
       "      <th>debt</th>\n",
       "      <th>total_income</th>\n",
       "      <th>purpose</th>\n",
       "    </tr>\n",
       "  </thead>\n",
       "  <tbody>\n",
       "    <tr>\n",
       "      <th>0</th>\n",
       "      <td>1</td>\n",
       "      <td>-8437.673028</td>\n",
       "      <td>42</td>\n",
       "      <td>высшее</td>\n",
       "      <td>0</td>\n",
       "      <td>женат / замужем</td>\n",
       "      <td>0</td>\n",
       "      <td>F</td>\n",
       "      <td>сотрудник</td>\n",
       "      <td>0</td>\n",
       "      <td>253875.639453</td>\n",
       "      <td>покупка жилья</td>\n",
       "    </tr>\n",
       "    <tr>\n",
       "      <th>1</th>\n",
       "      <td>1</td>\n",
       "      <td>-4024.803754</td>\n",
       "      <td>36</td>\n",
       "      <td>среднее</td>\n",
       "      <td>1</td>\n",
       "      <td>женат / замужем</td>\n",
       "      <td>0</td>\n",
       "      <td>F</td>\n",
       "      <td>сотрудник</td>\n",
       "      <td>0</td>\n",
       "      <td>112080.014102</td>\n",
       "      <td>приобретение автомобиля</td>\n",
       "    </tr>\n",
       "    <tr>\n",
       "      <th>2</th>\n",
       "      <td>0</td>\n",
       "      <td>-5623.422610</td>\n",
       "      <td>33</td>\n",
       "      <td>Среднее</td>\n",
       "      <td>1</td>\n",
       "      <td>женат / замужем</td>\n",
       "      <td>0</td>\n",
       "      <td>M</td>\n",
       "      <td>сотрудник</td>\n",
       "      <td>0</td>\n",
       "      <td>145885.952297</td>\n",
       "      <td>покупка жилья</td>\n",
       "    </tr>\n",
       "    <tr>\n",
       "      <th>3</th>\n",
       "      <td>3</td>\n",
       "      <td>-4124.747207</td>\n",
       "      <td>32</td>\n",
       "      <td>среднее</td>\n",
       "      <td>1</td>\n",
       "      <td>женат / замужем</td>\n",
       "      <td>0</td>\n",
       "      <td>M</td>\n",
       "      <td>сотрудник</td>\n",
       "      <td>0</td>\n",
       "      <td>267628.550329</td>\n",
       "      <td>дополнительное образование</td>\n",
       "    </tr>\n",
       "    <tr>\n",
       "      <th>4</th>\n",
       "      <td>0</td>\n",
       "      <td>340266.072047</td>\n",
       "      <td>53</td>\n",
       "      <td>среднее</td>\n",
       "      <td>1</td>\n",
       "      <td>гражданский брак</td>\n",
       "      <td>1</td>\n",
       "      <td>F</td>\n",
       "      <td>пенсионер</td>\n",
       "      <td>0</td>\n",
       "      <td>158616.077870</td>\n",
       "      <td>сыграть свадьбу</td>\n",
       "    </tr>\n",
       "    <tr>\n",
       "      <th>5</th>\n",
       "      <td>0</td>\n",
       "      <td>-926.185831</td>\n",
       "      <td>27</td>\n",
       "      <td>высшее</td>\n",
       "      <td>0</td>\n",
       "      <td>гражданский брак</td>\n",
       "      <td>1</td>\n",
       "      <td>M</td>\n",
       "      <td>компаньон</td>\n",
       "      <td>0</td>\n",
       "      <td>255763.565419</td>\n",
       "      <td>покупка жилья</td>\n",
       "    </tr>\n",
       "    <tr>\n",
       "      <th>6</th>\n",
       "      <td>0</td>\n",
       "      <td>-2879.202052</td>\n",
       "      <td>43</td>\n",
       "      <td>высшее</td>\n",
       "      <td>0</td>\n",
       "      <td>женат / замужем</td>\n",
       "      <td>0</td>\n",
       "      <td>F</td>\n",
       "      <td>компаньон</td>\n",
       "      <td>0</td>\n",
       "      <td>240525.971920</td>\n",
       "      <td>операции с жильем</td>\n",
       "    </tr>\n",
       "    <tr>\n",
       "      <th>7</th>\n",
       "      <td>0</td>\n",
       "      <td>-152.779569</td>\n",
       "      <td>50</td>\n",
       "      <td>СРЕДНЕЕ</td>\n",
       "      <td>1</td>\n",
       "      <td>женат / замужем</td>\n",
       "      <td>0</td>\n",
       "      <td>M</td>\n",
       "      <td>сотрудник</td>\n",
       "      <td>0</td>\n",
       "      <td>135823.934197</td>\n",
       "      <td>образование</td>\n",
       "    </tr>\n",
       "    <tr>\n",
       "      <th>8</th>\n",
       "      <td>2</td>\n",
       "      <td>-6929.865299</td>\n",
       "      <td>35</td>\n",
       "      <td>ВЫСШЕЕ</td>\n",
       "      <td>0</td>\n",
       "      <td>гражданский брак</td>\n",
       "      <td>1</td>\n",
       "      <td>F</td>\n",
       "      <td>сотрудник</td>\n",
       "      <td>0</td>\n",
       "      <td>95856.832424</td>\n",
       "      <td>на проведение свадьбы</td>\n",
       "    </tr>\n",
       "    <tr>\n",
       "      <th>9</th>\n",
       "      <td>0</td>\n",
       "      <td>-2188.756445</td>\n",
       "      <td>41</td>\n",
       "      <td>среднее</td>\n",
       "      <td>1</td>\n",
       "      <td>женат / замужем</td>\n",
       "      <td>0</td>\n",
       "      <td>M</td>\n",
       "      <td>сотрудник</td>\n",
       "      <td>0</td>\n",
       "      <td>144425.938277</td>\n",
       "      <td>покупка жилья для семьи</td>\n",
       "    </tr>\n",
       "  </tbody>\n",
       "</table>\n",
       "</div>"
      ],
      "text/plain": [
       "   children  days_employed  dob_years education  education_id  \\\n",
       "0         1   -8437.673028         42    высшее             0   \n",
       "1         1   -4024.803754         36   среднее             1   \n",
       "2         0   -5623.422610         33   Среднее             1   \n",
       "3         3   -4124.747207         32   среднее             1   \n",
       "4         0  340266.072047         53   среднее             1   \n",
       "5         0    -926.185831         27    высшее             0   \n",
       "6         0   -2879.202052         43    высшее             0   \n",
       "7         0    -152.779569         50   СРЕДНЕЕ             1   \n",
       "8         2   -6929.865299         35    ВЫСШЕЕ             0   \n",
       "9         0   -2188.756445         41   среднее             1   \n",
       "\n",
       "      family_status  family_status_id gender income_type  debt   total_income  \\\n",
       "0   женат / замужем                 0      F   сотрудник     0  253875.639453   \n",
       "1   женат / замужем                 0      F   сотрудник     0  112080.014102   \n",
       "2   женат / замужем                 0      M   сотрудник     0  145885.952297   \n",
       "3   женат / замужем                 0      M   сотрудник     0  267628.550329   \n",
       "4  гражданский брак                 1      F   пенсионер     0  158616.077870   \n",
       "5  гражданский брак                 1      M   компаньон     0  255763.565419   \n",
       "6   женат / замужем                 0      F   компаньон     0  240525.971920   \n",
       "7   женат / замужем                 0      M   сотрудник     0  135823.934197   \n",
       "8  гражданский брак                 1      F   сотрудник     0   95856.832424   \n",
       "9   женат / замужем                 0      M   сотрудник     0  144425.938277   \n",
       "\n",
       "                      purpose  \n",
       "0               покупка жилья  \n",
       "1     приобретение автомобиля  \n",
       "2               покупка жилья  \n",
       "3  дополнительное образование  \n",
       "4             сыграть свадьбу  \n",
       "5               покупка жилья  \n",
       "6           операции с жильем  \n",
       "7                 образование  \n",
       "8       на проведение свадьбы  \n",
       "9     покупка жилья для семьи  "
      ]
     },
     "execution_count": 3,
     "metadata": {},
     "output_type": "execute_result"
    }
   ],
   "source": [
    "#Посмотрим на первые десять строк датафрейма\n",
    "data.head(10)"
   ]
  },
  {
   "cell_type": "code",
   "execution_count": 4,
   "id": "7abeb44a",
   "metadata": {},
   "outputs": [
    {
     "name": "stdout",
     "output_type": "stream",
     "text": [
      "<class 'pandas.core.frame.DataFrame'>\n",
      "RangeIndex: 21525 entries, 0 to 21524\n",
      "Data columns (total 12 columns):\n",
      " #   Column            Non-Null Count  Dtype  \n",
      "---  ------            --------------  -----  \n",
      " 0   children          21525 non-null  int64  \n",
      " 1   days_employed     19351 non-null  float64\n",
      " 2   dob_years         21525 non-null  int64  \n",
      " 3   education         21525 non-null  object \n",
      " 4   education_id      21525 non-null  int64  \n",
      " 5   family_status     21525 non-null  object \n",
      " 6   family_status_id  21525 non-null  int64  \n",
      " 7   gender            21525 non-null  object \n",
      " 8   income_type       21525 non-null  object \n",
      " 9   debt              21525 non-null  int64  \n",
      " 10  total_income      19351 non-null  float64\n",
      " 11  purpose           21525 non-null  object \n",
      "dtypes: float64(2), int64(5), object(5)\n",
      "memory usage: 2.0+ MB\n"
     ]
    }
   ],
   "source": [
    "#Изучим общую информацию\n",
    "data.info()"
   ]
  },
  {
   "cell_type": "markdown",
   "id": "4e62d548",
   "metadata": {},
   "source": [
    "В нашем датасете 21525 строк. Он раскрывает информацию о кредитных клиентах: количество детей, рабочий стаж, возраст, образование, семейный статус, средний заработок и цель кредита. Типы данных: int64, float64, object. \n",
    "\n",
    "Уже можно видеть пропуски в столбцах стажа, зарплаты. А также минусовые значение в столбце \"стаж\" - это мы исправим. А также проверим данные на дубликаты, выбросы и пропуски."
   ]
  },
  {
   "cell_type": "markdown",
   "id": "9dd0e742",
   "metadata": {},
   "source": [
    "## Предобрадотка данных"
   ]
  },
  {
   "cell_type": "markdown",
   "id": "48f28874",
   "metadata": {},
   "source": [
    "### Удаление пропусков и дубликатов"
   ]
  },
  {
   "cell_type": "code",
   "execution_count": 5,
   "id": "1f820801",
   "metadata": {},
   "outputs": [
    {
     "data": {
      "text/plain": [
       "children               0\n",
       "days_employed       2174\n",
       "dob_years              0\n",
       "education              0\n",
       "education_id           0\n",
       "family_status          0\n",
       "family_status_id       0\n",
       "gender                 0\n",
       "income_type            0\n",
       "debt                   0\n",
       "total_income        2174\n",
       "purpose                0\n",
       "dtype: int64"
      ]
     },
     "execution_count": 5,
     "metadata": {},
     "output_type": "execute_result"
    }
   ],
   "source": [
    "#Проверим базу на пропуски\n",
    "data.isna().sum()"
   ]
  },
  {
   "cell_type": "markdown",
   "id": "bc86d5d3",
   "metadata": {},
   "source": [
    "Один из столбцов с пропущенными значениями — total_income — хранит данные о доходах. На сумму дохода сильнее всего влияет тип занятости, поэтому заполнить пропуски в этом столбце нужно медианным значением по каждому типу из столбца income_type. Например, у человека с типом занятости сотрудник пропуск в столбце total_income должен быть заполнен медианным доходом среди всех записей с тем же типом."
   ]
  },
  {
   "cell_type": "code",
   "execution_count": 6,
   "id": "55fdf609",
   "metadata": {},
   "outputs": [],
   "source": [
    "#Заполним пропуски в столбце total_income медиативным значением\n",
    "for t in data:\n",
    "    data.loc[(data['income_type'] == t) & (data['total_income'].isna()), 'total_income'] = \\\n",
    "    data.loc[(data['income_type'] == t), 'total_income'].median()"
   ]
  },
  {
   "cell_type": "code",
   "execution_count": 7,
   "id": "5caa732f",
   "metadata": {},
   "outputs": [
    {
     "data": {
      "text/plain": [
       "income_type\n",
       "безработный        366413.652744\n",
       "в декрете           -3296.759962\n",
       "госслужащий         -2689.368353\n",
       "компаньон           -1547.382223\n",
       "пенсионер          365213.306266\n",
       "предприниматель      -520.848083\n",
       "сотрудник           -1574.202821\n",
       "студент              -578.751554\n",
       "Name: days_employed, dtype: float64"
      ]
     },
     "execution_count": 7,
     "metadata": {},
     "output_type": "execute_result"
    }
   ],
   "source": [
    "#Также заполним пропуски в столбце days_employed медиативным значением. \n",
    "#Перед этим посмотри на медиативные значения для каждого типа занятости\n",
    "data.groupby('income_type')['days_employed'].agg('median')"
   ]
  },
  {
   "cell_type": "markdown",
   "id": "39c7d3ce",
   "metadata": {},
   "source": [
    "Значение у категорий безработные и пенсионеры очень большие. Однако заменить их в данном иследовании будет сложно. Оставим его как есть, тем более этот столбец не понадобиться нам для исследования."
   ]
  },
  {
   "cell_type": "code",
   "execution_count": 8,
   "id": "ebbe9f2e",
   "metadata": {},
   "outputs": [],
   "source": [
    "#Заменим все отрицательные значения положительными в столбеце days_employed\n",
    "data['days_employed'] = data['days_employed'].abs()"
   ]
  },
  {
   "cell_type": "code",
   "execution_count": 9,
   "id": "e065f839",
   "metadata": {},
   "outputs": [],
   "source": [
    "#Заполним пропуски в столбце days_employed медиативным значением.\n",
    "for t in data:\n",
    "    data.loc[(data['income_type'] == t) & (data['days_employed']. isna()), 'days_employed'] = \\\n",
    "    data.loc[(data['income_type'] == t), 'days_employed'].median()"
   ]
  },
  {
   "cell_type": "code",
   "execution_count": 10,
   "id": "ad1e47a2",
   "metadata": {},
   "outputs": [
    {
     "data": {
      "text/plain": [
       "array([ 1,  0,  3,  2, -1,  4, 20,  5], dtype=int64)"
      ]
     },
     "execution_count": 10,
     "metadata": {},
     "output_type": "execute_result"
    }
   ],
   "source": [
    "#Выведем уникальные значение столбца children \n",
    "data['children'].unique()"
   ]
  },
  {
   "cell_type": "markdown",
   "id": "0b0933a6",
   "metadata": {},
   "source": [
    "Значения -1 и 20 аномальные. Удалим их."
   ]
  },
  {
   "cell_type": "code",
   "execution_count": 11,
   "id": "603fdeeb",
   "metadata": {},
   "outputs": [
    {
     "data": {
      "text/plain": [
       "array([1, 0, 3, 2, 4, 5], dtype=int64)"
      ]
     },
     "execution_count": 11,
     "metadata": {},
     "output_type": "execute_result"
    }
   ],
   "source": [
    "data = data[(data['children'] != -1) & (data['children'] != 20)]\n",
    "#Проверим, что значения удалены\n",
    "data['children'].unique()"
   ]
  },
  {
   "cell_type": "code",
   "execution_count": 12,
   "id": "35bf6fbd",
   "metadata": {},
   "outputs": [],
   "source": [
    "# столбец с образованием приводим к нижнему регистру\n",
    "data['education'] = data['education'].str.lower()"
   ]
  },
  {
   "cell_type": "code",
   "execution_count": 13,
   "id": "bba41246",
   "metadata": {},
   "outputs": [
    {
     "data": {
      "text/plain": [
       "71"
      ]
     },
     "execution_count": 13,
     "metadata": {},
     "output_type": "execute_result"
    }
   ],
   "source": [
    "#Проверим датасет на дубликаты\n",
    "data.duplicated().sum()"
   ]
  },
  {
   "cell_type": "code",
   "execution_count": 14,
   "id": "15631194",
   "metadata": {},
   "outputs": [],
   "source": [
    "#Дубликатов не много, удалим их\n",
    "data = data.drop_duplicates()"
   ]
  },
  {
   "cell_type": "markdown",
   "id": "7880dbde",
   "metadata": {},
   "source": [
    "### Категоризация данных"
   ]
  },
  {
   "cell_type": "markdown",
   "id": "654511fe",
   "metadata": {},
   "source": [
    "**На основании диапазонов, указанных ниже, создадим в датафрейме `data` столбец `total_income_category` с категориями:**\n",
    "\n",
    "- 0–30000 — `'E'`;\n",
    "- 30001–50000 — `'D'`;\n",
    "- 50001–200000 — `'C'`;\n",
    "- 200001–1000000 — `'B'`;\n",
    "- 1000001 и выше — `'A'`.\n",
    "\n",
    "\n",
    "**Например, кредитополучателю с доходом 25000 нужно назначить категорию `'E'`, а клиенту, получающему 235000, — `'B'`.**"
   ]
  },
  {
   "cell_type": "code",
   "execution_count": 15,
   "id": "033bf601",
   "metadata": {},
   "outputs": [],
   "source": [
    "def categorize_income(income):\n",
    "    try:\n",
    "        if 0 <= income <= 30000:\n",
    "            return 'E'\n",
    "        elif 30001 <= income <= 50000:\n",
    "            return 'D'\n",
    "        elif 50001 <= income <= 200000:\n",
    "            return 'C'\n",
    "        elif 200001 <= income <= 1000000:\n",
    "            return 'B'\n",
    "        elif income >= 1000001:\n",
    "            return 'A'\n",
    "    except:\n",
    "        pass"
   ]
  },
  {
   "cell_type": "code",
   "execution_count": 16,
   "id": "a3b7408b",
   "metadata": {},
   "outputs": [],
   "source": [
    "data['total_income_category'] = data['total_income'].apply(categorize_income)"
   ]
  },
  {
   "cell_type": "markdown",
   "id": "b40f6a72",
   "metadata": {},
   "source": [
    "Выведем на экран перечень уникальных целей взятия кредита из столбца purpose."
   ]
  },
  {
   "cell_type": "code",
   "execution_count": 17,
   "id": "606011af",
   "metadata": {},
   "outputs": [
    {
     "data": {
      "text/plain": [
       "array(['покупка жилья', 'приобретение автомобиля',\n",
       "       'дополнительное образование', 'сыграть свадьбу',\n",
       "       'операции с жильем', 'образование', 'на проведение свадьбы',\n",
       "       'покупка жилья для семьи', 'покупка недвижимости',\n",
       "       'покупка коммерческой недвижимости', 'покупка жилой недвижимости',\n",
       "       'строительство собственной недвижимости', 'недвижимость',\n",
       "       'строительство недвижимости', 'на покупку подержанного автомобиля',\n",
       "       'на покупку своего автомобиля',\n",
       "       'операции с коммерческой недвижимостью',\n",
       "       'строительство жилой недвижимости', 'жилье',\n",
       "       'операции со своей недвижимостью', 'автомобили',\n",
       "       'заняться образованием', 'сделка с подержанным автомобилем',\n",
       "       'получение образования', 'автомобиль', 'свадьба',\n",
       "       'получение дополнительного образования', 'покупка своего жилья',\n",
       "       'операции с недвижимостью', 'получение высшего образования',\n",
       "       'свой автомобиль', 'сделка с автомобилем',\n",
       "       'профильное образование', 'высшее образование',\n",
       "       'покупка жилья для сдачи', 'на покупку автомобиля', 'ремонт жилью',\n",
       "       'заняться высшим образованием'], dtype=object)"
      ]
     },
     "execution_count": 17,
     "metadata": {},
     "output_type": "execute_result"
    }
   ],
   "source": [
    "data['purpose'].unique()"
   ]
  },
  {
   "cell_type": "markdown",
   "id": "d7d28d93",
   "metadata": {},
   "source": [
    "**Создадим функцию, которая на основании данных из столбца purpose сформирует новый столбец purpose_category, в который войдут следующие категории:**\n",
    "\n",
    "- 'операции с автомобилем',\n",
    "- 'операции с недвижимостью',\n",
    "- 'проведение свадьбы',\n",
    "- 'получение образования'.\n",
    "\n",
    "Например, если в столбце purpose находится подстрока 'на покупку автомобиля', то в столбце purpose_category должна появиться строка 'операции с автомобилем'."
   ]
  },
  {
   "cell_type": "code",
   "execution_count": 18,
   "id": "d1b69b5e",
   "metadata": {},
   "outputs": [],
   "source": [
    "def categorize_purpose(row):\n",
    "    try:\n",
    "        if 'автом' in row:\n",
    "            return 'операции с автомобилем'\n",
    "        elif 'жил' in row or 'недвиж' in row:\n",
    "            return 'операции с недвижимостью'\n",
    "        elif 'свад' in row:\n",
    "            return 'проведение свадьбы'\n",
    "        elif 'образов' in row:\n",
    "            return 'получение образования'\n",
    "    except:\n",
    "        return 'нет категории'"
   ]
  },
  {
   "cell_type": "code",
   "execution_count": 19,
   "id": "a509795b",
   "metadata": {},
   "outputs": [],
   "source": [
    "data['purpose_category'] = data['purpose'].apply(categorize_purpose)"
   ]
  },
  {
   "cell_type": "markdown",
   "id": "16a0de27",
   "metadata": {},
   "source": [
    "## Исследуем данные"
   ]
  },
  {
   "cell_type": "markdown",
   "id": "592d4460",
   "metadata": {},
   "source": [
    "**Зависимость между количеством детей и возвратом кредита в срок**"
   ]
  },
  {
   "cell_type": "code",
   "execution_count": 20,
   "id": "e4e822f4",
   "metadata": {},
   "outputs": [
    {
     "data": {
      "text/html": [
       "<div>\n",
       "<style scoped>\n",
       "    .dataframe tbody tr th:only-of-type {\n",
       "        vertical-align: middle;\n",
       "    }\n",
       "\n",
       "    .dataframe tbody tr th {\n",
       "        vertical-align: top;\n",
       "    }\n",
       "\n",
       "    .dataframe thead th {\n",
       "        text-align: right;\n",
       "    }\n",
       "</style>\n",
       "<table border=\"1\" class=\"dataframe\">\n",
       "  <thead>\n",
       "    <tr style=\"text-align: right;\">\n",
       "      <th></th>\n",
       "      <th>count</th>\n",
       "      <th>sum</th>\n",
       "      <th>dependence,%</th>\n",
       "    </tr>\n",
       "    <tr>\n",
       "      <th>children</th>\n",
       "      <th></th>\n",
       "      <th></th>\n",
       "      <th></th>\n",
       "    </tr>\n",
       "  </thead>\n",
       "  <tbody>\n",
       "    <tr>\n",
       "      <th>5</th>\n",
       "      <td>9</td>\n",
       "      <td>0</td>\n",
       "      <td>0.000000</td>\n",
       "    </tr>\n",
       "    <tr>\n",
       "      <th>0</th>\n",
       "      <td>14091</td>\n",
       "      <td>1063</td>\n",
       "      <td>7.543822</td>\n",
       "    </tr>\n",
       "    <tr>\n",
       "      <th>3</th>\n",
       "      <td>330</td>\n",
       "      <td>27</td>\n",
       "      <td>8.181818</td>\n",
       "    </tr>\n",
       "    <tr>\n",
       "      <th>1</th>\n",
       "      <td>4808</td>\n",
       "      <td>444</td>\n",
       "      <td>9.234609</td>\n",
       "    </tr>\n",
       "    <tr>\n",
       "      <th>2</th>\n",
       "      <td>2052</td>\n",
       "      <td>194</td>\n",
       "      <td>9.454191</td>\n",
       "    </tr>\n",
       "    <tr>\n",
       "      <th>4</th>\n",
       "      <td>41</td>\n",
       "      <td>4</td>\n",
       "      <td>9.756098</td>\n",
       "    </tr>\n",
       "  </tbody>\n",
       "</table>\n",
       "</div>"
      ],
      "text/plain": [
       "          count   sum  dependence,%\n",
       "children                           \n",
       "5             9     0      0.000000\n",
       "0         14091  1063      7.543822\n",
       "3           330    27      8.181818\n",
       "1          4808   444      9.234609\n",
       "2          2052   194      9.454191\n",
       "4            41     4      9.756098"
      ]
     },
     "execution_count": 20,
     "metadata": {},
     "output_type": "execute_result"
    }
   ],
   "source": [
    "chil_debt = data.groupby('children')['debt'].agg(['count','sum'])\n",
    "#Сгруппируем данные по количеству детей у заемщиков и соответствующее ему кол-во с задолжностью\n",
    "chil_debt['dependence,%'] = (chil_debt['sum']/chil_debt['count'])*100\n",
    "#Создадим новый столбец. Определим отношение кол-ва детей у заемщиков к доле невозврата кредита\n",
    "chil_debt.sort_values(by=['dependence,%'], ascending=True)\n",
    "#Отсортируем данные от более надежных заемщиков к наименее"
   ]
  },
  {
   "cell_type": "code",
   "execution_count": 21,
   "id": "83f51024",
   "metadata": {},
   "outputs": [
    {
     "data": {
      "image/png": "[encoded data removed]",
      "text/plain": [
       "<Figure size 1000x400 with 1 Axes>"
      ]
     },
     "metadata": {},
     "output_type": "display_data"
    }
   ],
   "source": [
    "#Построим график\n",
    "# применяем стиль whitegrid из библиотеки seaborn\n",
    "sns.set_style('whitegrid')\n",
    "# назначаем размер графика\n",
    "plt.figure(figsize=(10, 4))\n",
    "# строим линейный график средствами seaborn\n",
    "sns.lineplot(x='children', y='count', data=chil_debt, marker='D')\n",
    "# формируем заголовок графика и подписи осей средствами matplotlib\n",
    "plt.title('График зависимости количества кредитов от количества детей')\n",
    "plt.xlabel('Количество детей')\n",
    "plt.ylabel('Количество кредитов')\n",
    "# отображаем график на экране\n",
    "plt.show()"
   ]
  },
  {
   "cell_type": "markdown",
   "id": "ac9f1b5d",
   "metadata": {},
   "source": [
    "Исходя из данных мы видим, что заемщики без детей возвращают кредит чаще, чем с детьми. А вот какое именно количество детей в семье - практически не влияет на задолженности. Также мы видим, что данных о семьях с 5-ю детьми нет - это означает, что их слишком мало, чтобы иметь возможность сделать выводы. Значит наша выборка не сбалансирована, классы в выборке имеют разные размеры."
   ]
  },
  {
   "cell_type": "markdown",
   "id": "488e517d",
   "metadata": {},
   "source": [
    "#### Зависимость между семейным положением и возвратом кредита в срок"
   ]
  },
  {
   "cell_type": "code",
   "execution_count": 22,
   "id": "8a60bf33",
   "metadata": {},
   "outputs": [
    {
     "data": {
      "text/html": [
       "<div>\n",
       "<style scoped>\n",
       "    .dataframe tbody tr th:only-of-type {\n",
       "        vertical-align: middle;\n",
       "    }\n",
       "\n",
       "    .dataframe tbody tr th {\n",
       "        vertical-align: top;\n",
       "    }\n",
       "\n",
       "    .dataframe thead th {\n",
       "        text-align: right;\n",
       "    }\n",
       "</style>\n",
       "<table border=\"1\" class=\"dataframe\">\n",
       "  <thead>\n",
       "    <tr style=\"text-align: right;\">\n",
       "      <th></th>\n",
       "      <th>count</th>\n",
       "      <th>sum</th>\n",
       "      <th>dependence,%</th>\n",
       "    </tr>\n",
       "    <tr>\n",
       "      <th>family_status</th>\n",
       "      <th></th>\n",
       "      <th></th>\n",
       "      <th></th>\n",
       "    </tr>\n",
       "  </thead>\n",
       "  <tbody>\n",
       "    <tr>\n",
       "      <th>вдовец / вдова</th>\n",
       "      <td>951</td>\n",
       "      <td>63</td>\n",
       "      <td>6.624606</td>\n",
       "    </tr>\n",
       "    <tr>\n",
       "      <th>в разводе</th>\n",
       "      <td>1189</td>\n",
       "      <td>84</td>\n",
       "      <td>7.064760</td>\n",
       "    </tr>\n",
       "    <tr>\n",
       "      <th>женат / замужем</th>\n",
       "      <td>12261</td>\n",
       "      <td>927</td>\n",
       "      <td>7.560558</td>\n",
       "    </tr>\n",
       "    <tr>\n",
       "      <th>гражданский брак</th>\n",
       "      <td>4134</td>\n",
       "      <td>385</td>\n",
       "      <td>9.313014</td>\n",
       "    </tr>\n",
       "    <tr>\n",
       "      <th>Не женат / не замужем</th>\n",
       "      <td>2796</td>\n",
       "      <td>273</td>\n",
       "      <td>9.763948</td>\n",
       "    </tr>\n",
       "  </tbody>\n",
       "</table>\n",
       "</div>"
      ],
      "text/plain": [
       "                       count  sum  dependence,%\n",
       "family_status                                  \n",
       "вдовец / вдова           951   63      6.624606\n",
       "в разводе               1189   84      7.064760\n",
       "женат / замужем        12261  927      7.560558\n",
       "гражданский брак        4134  385      9.313014\n",
       "Не женат / не замужем   2796  273      9.763948"
      ]
     },
     "execution_count": 22,
     "metadata": {},
     "output_type": "execute_result"
    }
   ],
   "source": [
    "#Сгруппируем данные по семейному положению и определим кол-во задолжностей соответственно \n",
    "fam_debt = data.groupby('family_status')['debt'].agg(['count','sum'])\n",
    "#Создадим новый столбец. Определим отношение семейного статуса к доле невозврата кредита\n",
    "fam_debt['dependence,%'] = (fam_debt['sum']/fam_debt['count'])*100\n",
    "#Отсортируем данные от более надежных заемщиков к наименее\n",
    "fam_debt.sort_values(by=['dependence,%'], ascending=True)"
   ]
  },
  {
   "cell_type": "markdown",
   "id": "cb3a904d",
   "metadata": {},
   "source": [
    "На данный вопрос данные не дают однозначного ответа. Зависимость между семейным положением и возвратом кредита в срок есть, но разница не большая. \n",
    "\n",
    "Однако появляется вопрос: а чем отличается человек в разводе от человека не в браке? Данных чтобы ответить на этот вопрос я не нашла. Зато вижу у них общее - отсутствие отношений. Исходя из этого я сделала дополнительное исследование. "
   ]
  },
  {
   "cell_type": "markdown",
   "id": "703bb9d8",
   "metadata": {},
   "source": [
    "#### Дополнительное исследование: зависимость между семейным положением и возвратом кредита в срок"
   ]
  },
  {
   "cell_type": "code",
   "execution_count": 23,
   "id": "713bd01c",
   "metadata": {},
   "outputs": [],
   "source": [
    "#Разделим все статусы на две категории: в паре - замужем, гражданский брак и одинокие - \n",
    "#овдовевшие, в разводе, не в браке.\n",
    "def categorize_family_status(row):\n",
    "    try:\n",
    "        if 'женат / замужем' in row or 'граждан' in row:\n",
    "            return 'в паре'\n",
    "        elif 'вдов' in row or 'в разводе' in row or 'Не женат / не замужем' in row:\n",
    "            return 'одинокие'\n",
    "    except:\n",
    "        return 'нет категории'"
   ]
  },
  {
   "cell_type": "code",
   "execution_count": 24,
   "id": "b149b305",
   "metadata": {},
   "outputs": [],
   "source": [
    "#Добавим новый столбец\n",
    "data['family_category'] = data['family_status'].apply(categorize_family_status)"
   ]
  },
  {
   "cell_type": "code",
   "execution_count": 25,
   "id": "1e3e600e",
   "metadata": {},
   "outputs": [
    {
     "data": {
      "text/html": [
       "<div>\n",
       "<style scoped>\n",
       "    .dataframe tbody tr th:only-of-type {\n",
       "        vertical-align: middle;\n",
       "    }\n",
       "\n",
       "    .dataframe tbody tr th {\n",
       "        vertical-align: top;\n",
       "    }\n",
       "\n",
       "    .dataframe thead th {\n",
       "        text-align: right;\n",
       "    }\n",
       "</style>\n",
       "<table border=\"1\" class=\"dataframe\">\n",
       "  <thead>\n",
       "    <tr style=\"text-align: right;\">\n",
       "      <th></th>\n",
       "      <th>count</th>\n",
       "      <th>sum</th>\n",
       "      <th>dependence,%</th>\n",
       "    </tr>\n",
       "    <tr>\n",
       "      <th>family_category</th>\n",
       "      <th></th>\n",
       "      <th></th>\n",
       "      <th></th>\n",
       "    </tr>\n",
       "  </thead>\n",
       "  <tbody>\n",
       "    <tr>\n",
       "      <th>в паре</th>\n",
       "      <td>16395</td>\n",
       "      <td>1312</td>\n",
       "      <td>8.002440</td>\n",
       "    </tr>\n",
       "    <tr>\n",
       "      <th>одинокие</th>\n",
       "      <td>4936</td>\n",
       "      <td>420</td>\n",
       "      <td>8.508914</td>\n",
       "    </tr>\n",
       "  </tbody>\n",
       "</table>\n",
       "</div>"
      ],
      "text/plain": [
       "                 count   sum  dependence,%\n",
       "family_category                           \n",
       "в паре           16395  1312      8.002440\n",
       "одинокие          4936   420      8.508914"
      ]
     },
     "execution_count": 25,
     "metadata": {},
     "output_type": "execute_result"
    }
   ],
   "source": [
    "#Сгруппируем данные по семейному положению и определим кол-во задолжностей соответственно\n",
    "fam2_debt = data.groupby('family_category')['debt'].agg(['count','sum'])\n",
    "#Создадим новый столбец. Определим отношение семейного статуса к доле невозврата кредита\n",
    "fam2_debt['dependence,%'] = (fam2_debt['sum']/fam2_debt['count'])*100\n",
    "fam2_debt.sort_values(by=['dependence,%'], ascending=True)"
   ]
  },
  {
   "cell_type": "markdown",
   "id": "88f07b55",
   "metadata": {},
   "source": [
    "<b>Вывод:</b> для проработки гипотезы о влиянии семейного положения на возврат кредита я провела два исследования. \n",
    "       <br/> - первое: изучение данных среди заданных значений в категории по умолчанию. Однако результат меня не удовлетворил. Считаю неверным определять, что например вдовцы/вдовы возвращают кредиты чаще, чем люди вне брака - ведь и те и другие находятся вне отношений. Обозначает ли тот или иной статус действительно наличие или отсутствие отношений у оных? Быть может человек женатый не проживает с супругой совместно и не ведет общий бюджет, но брак еще зарегистрирован - как верно определить это? Потому я делаю вывод, что семейное положение не влияет на возврат кредита.\n",
    "       <br/> - второе: решено было подтвердить мой вывод и сгруппировать семейное положение в две категории. <br/>1 - одинок (вдовы/вдовцы, в разводе и не женат/ не замужем). <br/>2 - в паре (гражданский брак, замужем/женат). По результату разница настолько мала, что первоначальный вывод подтверждается - семейное положение не влияет."
   ]
  },
  {
   "cell_type": "markdown",
   "id": "df169043",
   "metadata": {},
   "source": [
    "#### Зависимость между уровнем дохода и возвратом кредита в срок"
   ]
  },
  {
   "cell_type": "code",
   "execution_count": 26,
   "id": "e0cd33c8",
   "metadata": {},
   "outputs": [
    {
     "data": {
      "text/html": [
       "<div>\n",
       "<style scoped>\n",
       "    .dataframe tbody tr th:only-of-type {\n",
       "        vertical-align: middle;\n",
       "    }\n",
       "\n",
       "    .dataframe tbody tr th {\n",
       "        vertical-align: top;\n",
       "    }\n",
       "\n",
       "    .dataframe thead th {\n",
       "        text-align: right;\n",
       "    }\n",
       "</style>\n",
       "<table border=\"1\" class=\"dataframe\">\n",
       "  <thead>\n",
       "    <tr style=\"text-align: right;\">\n",
       "      <th></th>\n",
       "      <th>count</th>\n",
       "      <th>sum</th>\n",
       "      <th>dependence,%</th>\n",
       "    </tr>\n",
       "    <tr>\n",
       "      <th>total_income_category</th>\n",
       "      <th></th>\n",
       "      <th></th>\n",
       "      <th></th>\n",
       "    </tr>\n",
       "  </thead>\n",
       "  <tbody>\n",
       "    <tr>\n",
       "      <th>D</th>\n",
       "      <td>349</td>\n",
       "      <td>21</td>\n",
       "      <td>6.017192</td>\n",
       "    </tr>\n",
       "    <tr>\n",
       "      <th>B</th>\n",
       "      <td>5013</td>\n",
       "      <td>354</td>\n",
       "      <td>7.061640</td>\n",
       "    </tr>\n",
       "    <tr>\n",
       "      <th>A</th>\n",
       "      <td>25</td>\n",
       "      <td>2</td>\n",
       "      <td>8.000000</td>\n",
       "    </tr>\n",
       "    <tr>\n",
       "      <th>C</th>\n",
       "      <td>13831</td>\n",
       "      <td>1183</td>\n",
       "      <td>8.553250</td>\n",
       "    </tr>\n",
       "    <tr>\n",
       "      <th>E</th>\n",
       "      <td>22</td>\n",
       "      <td>2</td>\n",
       "      <td>9.090909</td>\n",
       "    </tr>\n",
       "  </tbody>\n",
       "</table>\n",
       "</div>"
      ],
      "text/plain": [
       "                       count   sum  dependence,%\n",
       "total_income_category                           \n",
       "D                        349    21      6.017192\n",
       "B                       5013   354      7.061640\n",
       "A                         25     2      8.000000\n",
       "C                      13831  1183      8.553250\n",
       "E                         22     2      9.090909"
      ]
     },
     "execution_count": 26,
     "metadata": {},
     "output_type": "execute_result"
    }
   ],
   "source": [
    "#Сгруппируем данные по классификатору дохода и определим кол-во задолжностей соответственно\n",
    "income_debt = data.groupby('total_income_category')['debt'].agg(['count','sum'])\n",
    "#Создадим новый столбец. Определим отношение дохода к доле невозврата кредита\n",
    "income_debt['dependence,%'] = (income_debt['sum']/income_debt['count'])*100\n",
    "#Отсортируем данные от более надежных заемщиков к наименее\n",
    "income_debt.sort_values(by=['dependence,%'], ascending=True)"
   ]
  },
  {
   "cell_type": "markdown",
   "id": "34ff6f39",
   "metadata": {},
   "source": [
    "Мы видим, что заемщики с доходами меньше 30 000 и больше 1 млн реже возвращают кредит вовремя. Но также мы видим, что выборка очень мала: 22 и 25 заемщиков соответственно. Из-за малого размера выборки выводы делать некорректно. \n",
    "\n",
    "Если говорит о заемщиках категории С, B, D - однозначной закономерности нет, потому мы не можем утверждать, что \"те, кто получаются больше зарплату, лучше отдают кредит\".  "
   ]
  },
  {
   "cell_type": "markdown",
   "id": "d064852f",
   "metadata": {},
   "source": [
    "#### Влияние целей кредита на его возврат в срок"
   ]
  },
  {
   "cell_type": "code",
   "execution_count": 27,
   "id": "7bba8cfd",
   "metadata": {},
   "outputs": [
    {
     "data": {
      "text/html": [
       "<div>\n",
       "<style scoped>\n",
       "    .dataframe tbody tr th:only-of-type {\n",
       "        vertical-align: middle;\n",
       "    }\n",
       "\n",
       "    .dataframe tbody tr th {\n",
       "        vertical-align: top;\n",
       "    }\n",
       "\n",
       "    .dataframe thead th {\n",
       "        text-align: right;\n",
       "    }\n",
       "</style>\n",
       "<table border=\"1\" class=\"dataframe\">\n",
       "  <thead>\n",
       "    <tr style=\"text-align: right;\">\n",
       "      <th></th>\n",
       "      <th>count</th>\n",
       "      <th>sum</th>\n",
       "      <th>dependence,%</th>\n",
       "    </tr>\n",
       "    <tr>\n",
       "      <th>purpose_category</th>\n",
       "      <th></th>\n",
       "      <th></th>\n",
       "      <th></th>\n",
       "    </tr>\n",
       "  </thead>\n",
       "  <tbody>\n",
       "    <tr>\n",
       "      <th>операции с недвижимостью</th>\n",
       "      <td>10751</td>\n",
       "      <td>780</td>\n",
       "      <td>7.255139</td>\n",
       "    </tr>\n",
       "    <tr>\n",
       "      <th>проведение свадьбы</th>\n",
       "      <td>2313</td>\n",
       "      <td>183</td>\n",
       "      <td>7.911803</td>\n",
       "    </tr>\n",
       "    <tr>\n",
       "      <th>получение образования</th>\n",
       "      <td>3988</td>\n",
       "      <td>369</td>\n",
       "      <td>9.252758</td>\n",
       "    </tr>\n",
       "    <tr>\n",
       "      <th>операции с автомобилем</th>\n",
       "      <td>4279</td>\n",
       "      <td>400</td>\n",
       "      <td>9.347978</td>\n",
       "    </tr>\n",
       "  </tbody>\n",
       "</table>\n",
       "</div>"
      ],
      "text/plain": [
       "                          count  sum  dependence,%\n",
       "purpose_category                                  \n",
       "операции с недвижимостью  10751  780      7.255139\n",
       "проведение свадьбы         2313  183      7.911803\n",
       "получение образования      3988  369      9.252758\n",
       "операции с автомобилем     4279  400      9.347978"
      ]
     },
     "execution_count": 27,
     "metadata": {},
     "output_type": "execute_result"
    }
   ],
   "source": [
    "#Сгруппируем данные по классификатору цели кредита и определим кол-во задолжностей соответственно \n",
    "purpose_debt = data.groupby('purpose_category')['debt'].agg(['count','sum'])\n",
    "#Создадим новый столбец. Определим при какой цели кредита чаще возвращают вовремя\n",
    "purpose_debt['dependence,%'] = (purpose_debt['sum']/purpose_debt['count'])*100\n",
    "#Отсортируем данные от более надежных заемщиков к наименее\n",
    "purpose_debt.sort_values(by=['dependence,%'], ascending=True)"
   ]
  },
  {
   "cell_type": "markdown",
   "id": "58906e63",
   "metadata": {},
   "source": [
    "Кредиты с целью получения образования и операции с автомобилем чаще попадают в просрочку. В то время как кредиты на покупка/операции жилья и проведение свадьбы - чаще погашают во время."
   ]
  },
  {
   "cell_type": "markdown",
   "id": "de73d41d",
   "metadata": {},
   "source": [
    "## Вывод"
   ]
  },
  {
   "cell_type": "markdown",
   "id": "5d51c6cf",
   "metadata": {},
   "source": [
    "Мы провели исследования о взаимосвязи семейного положение, дохода, целей кредита и количества детей на своевременный возврат кредита банку."
   ]
  },
  {
   "cell_type": "markdown",
   "id": "ea1c4c72",
   "metadata": {},
   "source": [
    "**Влияние дохода на возврат кредита.**"
   ]
  },
  {
   "cell_type": "markdown",
   "id": "553bd695",
   "metadata": {},
   "source": [
    "Мы разделили доход на 5-ть категории:\n",
    "- 0–30 000\n",
    "- 30 001–50 000\n",
    "- 50 001–200 000\n",
    "- 200 001–1 000 000\n",
    "- 1 000 001 и выше\n",
    "\n",
    "Реже всех возвращают кредит заемщики с доходами менее 30 000 - 9%.\n",
    "Клиенты с доходами от 30 000 - 50 000 и 200 000 - 1 000 000руб возвращают кредиты чаще - 6% и 7% соответственно и являются более добросовестными плательщиками.\n",
    "Так как категория дохода 50 000 - 200 000 руб показывает серединный результат  - 8%, рекомендую более глубоко изучить влияние дохода совместно с другими параметрами, а не изолировано, так как закономерности (чем выше доход, тем чаще возвращают кредит) установить не удалось."
   ]
  },
  {
   "cell_type": "markdown",
   "id": "a197a06c",
   "metadata": {},
   "source": [
    "**Влияние детей на возврат кредита.**"
   ]
  },
  {
   "cell_type": "markdown",
   "id": "da8573c9",
   "metadata": {},
   "source": [
    "Однозначно заемщики без детей отдают кредиты чаще, чем с детьми - всего 7,5%. А вот какое именно количество детей не влияет, так как результаты очень близки: один ребенок - 9,2% просрочки, два - 9,4%.\n",
    "\n",
    "Кредиторов с тремя детьми в данных в 6 раз меньше, чем, например, с одним - потому считаю базу не достаточной, чтобы сделать выводы, что семьи с тремя детьми возвращают кредит чуть чаще, чем с 1, 2 или 4 детьми."
   ]
  },
  {
   "cell_type": "markdown",
   "id": "96a07fb9",
   "metadata": {},
   "source": [
    "**Влияние цели кредита на его возврат.**"
   ]
  },
  {
   "cell_type": "markdown",
   "id": "301ae427",
   "metadata": {},
   "source": [
    "Кредит отдают чаще при целях покупка/операции с недвижимостью и проведение свадьбы (7,2% и 7,9% соответственно). Кредиты с целью покупки авто и получение образования реже (9,3 и 9,2 соответственно)."
   ]
  },
  {
   "cell_type": "markdown",
   "id": "08b1f00a",
   "metadata": {},
   "source": [
    "**Влияение семейного положения на возврат кредита.**"
   ]
  },
  {
   "cell_type": "markdown",
   "id": "d0d938d6",
   "metadata": {},
   "source": [
    "В ходе исследования мы получили неоднозначные данные. Например, показатель невозвратов у овдовевших людей (6,6%) или людей в разводе(7%) близок к проценту невозврата у людей в браке (7,5%). Очевидно: это сравнение людей одиноких и людей в паре - и оно очень близко.\n",
    "\n",
    "Поэтому мы проведи дополнительное исследование объединив такие значения как овдовевшие, в разводе, не в браке в \"одинокие\", а значения: в браке, гражданский брак - \"в браке\". При сравнении двух категорий значения близки - 8% и 8,5% - влияния не установлено."
   ]
  },
  {
   "cell_type": "markdown",
   "id": "e57df405",
   "metadata": {},
   "source": [
    "**Подводя итог** однозначно можем сказать, что на возврат кредита влияет наличие детей (но не их количество) и цель кредита."
   ]
  },
  {
   "cell_type": "code",
   "execution_count": null,
   "id": "131c3af1",
   "metadata": {},
   "outputs": [],
   "source": []
  }
 ],
 "metadata": {
  "kernelspec": {
   "display_name": "Python 3 (ipykernel)",
   "language": "python",
   "name": "python3"
  },
  "language_info": {
   "codemirror_mode": {
    "name": "ipython",
    "version": 3
   },
   "file_extension": ".py",
   "mimetype": "text/x-python",
   "name": "python",
   "nbconvert_exporter": "python",
   "pygments_lexer": "ipython3",
   "version": "3.9.13"
  }
 },
 "nbformat": 4,
 "nbformat_minor": 5
}
