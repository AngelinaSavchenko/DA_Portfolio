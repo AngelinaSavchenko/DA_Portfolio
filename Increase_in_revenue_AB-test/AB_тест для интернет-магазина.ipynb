{
 "cells": [
  {
   "cell_type": "markdown",
   "metadata": {},
   "source": [
    "Я — аналитик крупного интернет-магазина. Вместе с отделом маркетинга мы подготовили список гипотез для увеличения выручки.\n",
    "Приоритизируем гипотезы, запустим A/B-тест и проанализируем результаты."
   ]
  },
  {
   "cell_type": "markdown",
   "metadata": {},
   "source": [
    "Перед нами поставлено две задачи:\n",
    "- Провести приоретизацию гипотиз по увеличению выручки интернет-магазина с указанными параметрами Reach, Impact, Confidence, Effort. Для приоретизации мы используем два фреймворка: ICE и RICE.  \n",
    "- Проанализировать результаты проведенных А/B-тестов. \n",
    "\n",
    "Для анализа результатов А/B-тестов мы имеем два датасета с данными о заказах и с данными о посетителях. Проанализируем выручку, средний чек, среднее количество заказов по группам по \"сырым\" и очищенным от выбросов данным. И примем решение по результатам теста: остановить тест с отрицательным или положительным результатом, либо продлить тест."
   ]
  },
  {
   "cell_type": "markdown",
   "metadata": {},
   "source": [
    "## Предобратотка данных"
   ]
  },
  {
   "cell_type": "code",
   "execution_count": 1,
   "metadata": {},
   "outputs": [],
   "source": [
    "# Импортируем необходимые библиотеки, загрузим данные\n",
    "import pandas as pd\n",
    "import numpy as np\n",
    "from datetime import date, datetime, timedelta\n",
    "from matplotlib import pyplot as plt\n",
    "import seaborn as sns\n",
    "import datetime as dt\n",
    "import math as mth\n",
    "from scipy import stats as st"
   ]
  },
  {
   "cell_type": "code",
   "execution_count": 2,
   "metadata": {},
   "outputs": [],
   "source": [
    "# устанавливаем отображение количества столбцов экране \n",
    "pd.options.display.max_columns = 40\n",
    "pd.options.display.max_colwidth = 150\n",
    "pd.options.display.float_format = '{:.2f}'.format # устанавливаем отображение числа знаков после точки.\n",
    "import warnings\n",
    "warnings.filterwarnings('ignore')"
   ]
  },
  {
   "cell_type": "code",
   "execution_count": 3,
   "metadata": {},
   "outputs": [],
   "source": [
    "hypothesis = pd.read_csv('/datasets/hypothesis.csv')\n",
    "orders = pd.read_csv('/datasets/orders.csv')\n",
    "visitors = pd.read_csv('/datasets/visitors.csv')"
   ]
  },
  {
   "cell_type": "code",
   "execution_count": 4,
   "metadata": {},
   "outputs": [
    {
     "name": "stdout",
     "output_type": "stream",
     "text": [
      "<class 'pandas.core.frame.DataFrame'>\n",
      "RangeIndex: 9 entries, 0 to 8\n",
      "Data columns (total 5 columns):\n",
      " #   Column      Non-Null Count  Dtype \n",
      "---  ------      --------------  ----- \n",
      " 0   Hypothesis  9 non-null      object\n",
      " 1   Reach       9 non-null      int64 \n",
      " 2   Impact      9 non-null      int64 \n",
      " 3   Confidence  9 non-null      int64 \n",
      " 4   Efforts     9 non-null      int64 \n",
      "dtypes: int64(4), object(1)\n",
      "memory usage: 488.0+ bytes\n"
     ]
    },
    {
     "data": {
      "text/html": [
       "<div>\n",
       "<style scoped>\n",
       "    .dataframe tbody tr th:only-of-type {\n",
       "        vertical-align: middle;\n",
       "    }\n",
       "\n",
       "    .dataframe tbody tr th {\n",
       "        vertical-align: top;\n",
       "    }\n",
       "\n",
       "    .dataframe thead th {\n",
       "        text-align: right;\n",
       "    }\n",
       "</style>\n",
       "<table border=\"1\" class=\"dataframe\">\n",
       "  <thead>\n",
       "    <tr style=\"text-align: right;\">\n",
       "      <th></th>\n",
       "      <th>Hypothesis</th>\n",
       "      <th>Reach</th>\n",
       "      <th>Impact</th>\n",
       "      <th>Confidence</th>\n",
       "      <th>Efforts</th>\n",
       "    </tr>\n",
       "  </thead>\n",
       "  <tbody>\n",
       "    <tr>\n",
       "      <th>0</th>\n",
       "      <td>Добавить два новых канала привлечения трафика, что позволит привлекать на 30% больше пользователей</td>\n",
       "      <td>3</td>\n",
       "      <td>10</td>\n",
       "      <td>8</td>\n",
       "      <td>6</td>\n",
       "    </tr>\n",
       "    <tr>\n",
       "      <th>1</th>\n",
       "      <td>Запустить собственную службу доставки, что сократит срок доставки заказов</td>\n",
       "      <td>2</td>\n",
       "      <td>5</td>\n",
       "      <td>4</td>\n",
       "      <td>10</td>\n",
       "    </tr>\n",
       "    <tr>\n",
       "      <th>2</th>\n",
       "      <td>Добавить блоки рекомендаций товаров на сайт интернет магазина, чтобы повысить конверсию и средний чек заказа</td>\n",
       "      <td>8</td>\n",
       "      <td>3</td>\n",
       "      <td>7</td>\n",
       "      <td>3</td>\n",
       "    </tr>\n",
       "    <tr>\n",
       "      <th>3</th>\n",
       "      <td>Изменить структура категорий, что увеличит конверсию, т.к. пользователи быстрее найдут нужный товар</td>\n",
       "      <td>8</td>\n",
       "      <td>3</td>\n",
       "      <td>3</td>\n",
       "      <td>8</td>\n",
       "    </tr>\n",
       "    <tr>\n",
       "      <th>4</th>\n",
       "      <td>Изменить цвет фона главной страницы, чтобы увеличить вовлеченность пользователей</td>\n",
       "      <td>3</td>\n",
       "      <td>1</td>\n",
       "      <td>1</td>\n",
       "      <td>1</td>\n",
       "    </tr>\n",
       "  </tbody>\n",
       "</table>\n",
       "</div>"
      ],
      "text/plain": [
       "                                                                                                     Hypothesis  \\\n",
       "0            Добавить два новых канала привлечения трафика, что позволит привлекать на 30% больше пользователей   \n",
       "1                                     Запустить собственную службу доставки, что сократит срок доставки заказов   \n",
       "2  Добавить блоки рекомендаций товаров на сайт интернет магазина, чтобы повысить конверсию и средний чек заказа   \n",
       "3           Изменить структура категорий, что увеличит конверсию, т.к. пользователи быстрее найдут нужный товар   \n",
       "4                              Изменить цвет фона главной страницы, чтобы увеличить вовлеченность пользователей   \n",
       "\n",
       "   Reach  Impact  Confidence  Efforts  \n",
       "0      3      10           8        6  \n",
       "1      2       5           4       10  \n",
       "2      8       3           7        3  \n",
       "3      8       3           3        8  \n",
       "4      3       1           1        1  "
      ]
     },
     "execution_count": 4,
     "metadata": {},
     "output_type": "execute_result"
    }
   ],
   "source": [
    "# Посмотрим на формат данных и их состав\n",
    "hypothesis.info()\n",
    "# Выведем 5 первых строк данных таблицы hypothesis\n",
    "hypothesis.head()"
   ]
  },
  {
   "cell_type": "code",
   "execution_count": 5,
   "metadata": {},
   "outputs": [
    {
     "name": "stdout",
     "output_type": "stream",
     "text": [
      "<class 'pandas.core.frame.DataFrame'>\n",
      "RangeIndex: 1197 entries, 0 to 1196\n",
      "Data columns (total 5 columns):\n",
      " #   Column         Non-Null Count  Dtype \n",
      "---  ------         --------------  ----- \n",
      " 0   transactionId  1197 non-null   int64 \n",
      " 1   visitorId      1197 non-null   int64 \n",
      " 2   date           1197 non-null   object\n",
      " 3   revenue        1197 non-null   int64 \n",
      " 4   group          1197 non-null   object\n",
      "dtypes: int64(3), object(2)\n",
      "memory usage: 46.9+ KB\n"
     ]
    },
    {
     "data": {
      "text/html": [
       "<div>\n",
       "<style scoped>\n",
       "    .dataframe tbody tr th:only-of-type {\n",
       "        vertical-align: middle;\n",
       "    }\n",
       "\n",
       "    .dataframe tbody tr th {\n",
       "        vertical-align: top;\n",
       "    }\n",
       "\n",
       "    .dataframe thead th {\n",
       "        text-align: right;\n",
       "    }\n",
       "</style>\n",
       "<table border=\"1\" class=\"dataframe\">\n",
       "  <thead>\n",
       "    <tr style=\"text-align: right;\">\n",
       "      <th></th>\n",
       "      <th>transactionId</th>\n",
       "      <th>visitorId</th>\n",
       "      <th>date</th>\n",
       "      <th>revenue</th>\n",
       "      <th>group</th>\n",
       "    </tr>\n",
       "  </thead>\n",
       "  <tbody>\n",
       "    <tr>\n",
       "      <th>0</th>\n",
       "      <td>3667963787</td>\n",
       "      <td>3312258926</td>\n",
       "      <td>2019-08-15</td>\n",
       "      <td>1650</td>\n",
       "      <td>B</td>\n",
       "    </tr>\n",
       "    <tr>\n",
       "      <th>1</th>\n",
       "      <td>2804400009</td>\n",
       "      <td>3642806036</td>\n",
       "      <td>2019-08-15</td>\n",
       "      <td>730</td>\n",
       "      <td>B</td>\n",
       "    </tr>\n",
       "    <tr>\n",
       "      <th>2</th>\n",
       "      <td>2961555356</td>\n",
       "      <td>4069496402</td>\n",
       "      <td>2019-08-15</td>\n",
       "      <td>400</td>\n",
       "      <td>A</td>\n",
       "    </tr>\n",
       "    <tr>\n",
       "      <th>3</th>\n",
       "      <td>3797467345</td>\n",
       "      <td>1196621759</td>\n",
       "      <td>2019-08-15</td>\n",
       "      <td>9759</td>\n",
       "      <td>B</td>\n",
       "    </tr>\n",
       "    <tr>\n",
       "      <th>4</th>\n",
       "      <td>2282983706</td>\n",
       "      <td>2322279887</td>\n",
       "      <td>2019-08-15</td>\n",
       "      <td>2308</td>\n",
       "      <td>B</td>\n",
       "    </tr>\n",
       "  </tbody>\n",
       "</table>\n",
       "</div>"
      ],
      "text/plain": [
       "   transactionId   visitorId        date  revenue group\n",
       "0     3667963787  3312258926  2019-08-15     1650     B\n",
       "1     2804400009  3642806036  2019-08-15      730     B\n",
       "2     2961555356  4069496402  2019-08-15      400     A\n",
       "3     3797467345  1196621759  2019-08-15     9759     B\n",
       "4     2282983706  2322279887  2019-08-15     2308     B"
      ]
     },
     "execution_count": 5,
     "metadata": {},
     "output_type": "execute_result"
    }
   ],
   "source": [
    "# Посмотрим на формат данных и их состав\n",
    "orders.info()\n",
    "# Выведем 5 первых строк данных таблицы orders\n",
    "orders.head()"
   ]
  },
  {
   "cell_type": "code",
   "execution_count": 6,
   "metadata": {},
   "outputs": [
    {
     "name": "stdout",
     "output_type": "stream",
     "text": [
      "<class 'pandas.core.frame.DataFrame'>\n",
      "RangeIndex: 62 entries, 0 to 61\n",
      "Data columns (total 3 columns):\n",
      " #   Column    Non-Null Count  Dtype \n",
      "---  ------    --------------  ----- \n",
      " 0   date      62 non-null     object\n",
      " 1   group     62 non-null     object\n",
      " 2   visitors  62 non-null     int64 \n",
      "dtypes: int64(1), object(2)\n",
      "memory usage: 1.6+ KB\n"
     ]
    },
    {
     "data": {
      "text/html": [
       "<div>\n",
       "<style scoped>\n",
       "    .dataframe tbody tr th:only-of-type {\n",
       "        vertical-align: middle;\n",
       "    }\n",
       "\n",
       "    .dataframe tbody tr th {\n",
       "        vertical-align: top;\n",
       "    }\n",
       "\n",
       "    .dataframe thead th {\n",
       "        text-align: right;\n",
       "    }\n",
       "</style>\n",
       "<table border=\"1\" class=\"dataframe\">\n",
       "  <thead>\n",
       "    <tr style=\"text-align: right;\">\n",
       "      <th></th>\n",
       "      <th>date</th>\n",
       "      <th>group</th>\n",
       "      <th>visitors</th>\n",
       "    </tr>\n",
       "  </thead>\n",
       "  <tbody>\n",
       "    <tr>\n",
       "      <th>0</th>\n",
       "      <td>2019-08-01</td>\n",
       "      <td>A</td>\n",
       "      <td>719</td>\n",
       "    </tr>\n",
       "    <tr>\n",
       "      <th>1</th>\n",
       "      <td>2019-08-02</td>\n",
       "      <td>A</td>\n",
       "      <td>619</td>\n",
       "    </tr>\n",
       "    <tr>\n",
       "      <th>2</th>\n",
       "      <td>2019-08-03</td>\n",
       "      <td>A</td>\n",
       "      <td>507</td>\n",
       "    </tr>\n",
       "    <tr>\n",
       "      <th>3</th>\n",
       "      <td>2019-08-04</td>\n",
       "      <td>A</td>\n",
       "      <td>717</td>\n",
       "    </tr>\n",
       "    <tr>\n",
       "      <th>4</th>\n",
       "      <td>2019-08-05</td>\n",
       "      <td>A</td>\n",
       "      <td>756</td>\n",
       "    </tr>\n",
       "  </tbody>\n",
       "</table>\n",
       "</div>"
      ],
      "text/plain": [
       "         date group  visitors\n",
       "0  2019-08-01     A       719\n",
       "1  2019-08-02     A       619\n",
       "2  2019-08-03     A       507\n",
       "3  2019-08-04     A       717\n",
       "4  2019-08-05     A       756"
      ]
     },
     "execution_count": 6,
     "metadata": {},
     "output_type": "execute_result"
    }
   ],
   "source": [
    "# Посмотрим на формат данных и их состав\n",
    "visitors.info()\n",
    "# Выведем 5 первых строк данных таблицы visitors\n",
    "visitors.head()"
   ]
  },
  {
   "cell_type": "markdown",
   "metadata": {},
   "source": [
    "Перед нами три датасета: таблица с 9 гипотезами по увеличению выручки интернет-магазина с указанными параметрами Reach, Impact, Confidence, Effort. И два - с результати проведенных А/В тестов.\n",
    "В таблице hypothesis 9 строк, orders - 1197, visitors - 62. Типы данных: int, object.\n",
    "\n",
    "Перед началом исследования изменим наименование столбцов, проверим датасет на пропуски и дубликаты и изменим тип данных у столбцов с датой."
   ]
  },
  {
   "cell_type": "code",
   "execution_count": 7,
   "metadata": {},
   "outputs": [
    {
     "data": {
      "text/plain": [
       "Index(['hypothesis', 'reach', 'impact', 'confidence', 'efforts'], dtype='object')"
      ]
     },
     "metadata": {},
     "output_type": "display_data"
    },
    {
     "data": {
      "text/plain": [
       "Index(['transactionid', 'visitorid', 'date', 'revenue', 'group'], dtype='object')"
      ]
     },
     "metadata": {},
     "output_type": "display_data"
    },
    {
     "data": {
      "text/plain": [
       "Index(['date', 'group', 'visitors'], dtype='object')"
      ]
     },
     "metadata": {},
     "output_type": "display_data"
    }
   ],
   "source": [
    "# Приведем наименование столбцов в таблицах к строчным буквам\n",
    "hypothesis.columns = [x.lower().replace(' ', '_') for x in hypothesis.columns.values]\n",
    "display(hypothesis.columns)\n",
    "orders.columns = [x.lower().replace(' ', '_') for x in orders.columns.values]\n",
    "display(orders.columns)\n",
    "visitors.columns = [x.lower().replace(' ', '_') for x in visitors.columns.values]\n",
    "display(visitors.columns)"
   ]
  },
  {
   "cell_type": "code",
   "execution_count": 8,
   "metadata": {},
   "outputs": [
    {
     "name": "stdout",
     "output_type": "stream",
     "text": [
      "date        0\n",
      "group       0\n",
      "visitors    0\n",
      "dtype: int64\n",
      "0\n",
      "transactionid    0\n",
      "visitorid        0\n",
      "date             0\n",
      "revenue          0\n",
      "group            0\n",
      "dtype: int64\n",
      "0\n",
      "hypothesis    0\n",
      "reach         0\n",
      "impact        0\n",
      "confidence    0\n",
      "efforts       0\n",
      "dtype: int64\n",
      "0\n"
     ]
    }
   ],
   "source": [
    "# Проверим наличие пропусков и дубликатов\n",
    "print(visitors.isna().sum())\n",
    "print(visitors.duplicated().sum())\n",
    "\n",
    "print(orders.isna().sum())\n",
    "print(orders.duplicated().sum())\n",
    "\n",
    "print(hypothesis.isna().sum())\n",
    "print(hypothesis.duplicated().sum())"
   ]
  },
  {
   "cell_type": "code",
   "execution_count": 9,
   "metadata": {},
   "outputs": [],
   "source": [
    "# Приведем столбцы с датами к верным типам данных\n",
    "visitors['date'] = visitors['date'].map(\n",
    "    lambda x: dt.datetime.strptime(x, '%Y-%m-%d')\n",
    ")\n",
    "\n",
    "orders['date'] = orders['date'].map(\n",
    "    lambda x: dt.datetime.strptime(x, '%Y-%m-%d')\n",
    ")"
   ]
  },
  {
   "cell_type": "markdown",
   "metadata": {},
   "source": [
    "Пропусков и дубликатов в данных нет. Тип данных изменили. Можно приступать к исследованию."
   ]
  },
  {
   "cell_type": "code",
   "execution_count": 10,
   "metadata": {},
   "outputs": [
    {
     "data": {
      "text/plain": [
       "array(['A', 'B'], dtype=object)"
      ]
     },
     "metadata": {},
     "output_type": "display_data"
    },
    {
     "data": {
      "text/plain": [
       "array(['B', 'A'], dtype=object)"
      ]
     },
     "metadata": {},
     "output_type": "display_data"
    }
   ],
   "source": [
    "#Продтвердим количество групп а A/B-тесте\n",
    "display(visitors['group'].unique())\n",
    "display(orders['group'].unique())"
   ]
  },
  {
   "cell_type": "markdown",
   "metadata": {},
   "source": [
    "В данных только две группы: А и В. Отлично"
   ]
  },
  {
   "cell_type": "code",
   "execution_count": 11,
   "metadata": {
    "scrolled": true
   },
   "outputs": [
    {
     "data": {
      "text/plain": [
       "group\n",
       "A    31\n",
       "B    30\n",
       "Name: visitors, dtype: int64"
      ]
     },
     "metadata": {},
     "output_type": "display_data"
    },
    {
     "data": {
      "text/plain": [
       "group\n",
       "A    503\n",
       "B    586\n",
       "Name: visitorid, dtype: int64"
      ]
     },
     "metadata": {},
     "output_type": "display_data"
    }
   ],
   "source": [
    "#Посмотрим распределние количества пользователей в каждой группе\n",
    "display(visitors.groupby('group')['visitors'].nunique())\n",
    "display(orders.groupby('group')['visitorid'].nunique())"
   ]
  },
  {
   "cell_type": "markdown",
   "metadata": {},
   "source": [
    "Распределение в датасете orders неравное: в группе В пользователей больше на 14%. Но это вполне допустимо, так как это говорит лишь о несбалансированности, а не о некорректности. "
   ]
  },
  {
   "cell_type": "code",
   "execution_count": 12,
   "metadata": {},
   "outputs": [
    {
     "data": {
      "text/plain": [
       "58"
      ]
     },
     "execution_count": 12,
     "metadata": {},
     "output_type": "execute_result"
    }
   ],
   "source": [
    "#Проверим не попадают ли пользователи в обе группы\n",
    "len(np.intersect1d(orders.query('group == \"A\"')['visitorid'].unique(), orders.query('group == \"B\"')['visitorid'].unique()))"
   ]
  },
  {
   "cell_type": "markdown",
   "metadata": {},
   "source": [
    "58 пользователей присутствуют в обоих группах. От общего количества пользователей это лишь 5%, что допустимо. Примем решение не удалять данных пользователей."
   ]
  },
  {
   "cell_type": "markdown",
   "metadata": {},
   "source": [
    "## Приоритизация гипотез"
   ]
  },
  {
   "cell_type": "markdown",
   "metadata": {},
   "source": [
    "### Применение фреймворка ICE для приоритизации гипотез"
   ]
  },
  {
   "cell_type": "code",
   "execution_count": 13,
   "metadata": {},
   "outputs": [
    {
     "data": {
      "text/html": [
       "<div>\n",
       "<style scoped>\n",
       "    .dataframe tbody tr th:only-of-type {\n",
       "        vertical-align: middle;\n",
       "    }\n",
       "\n",
       "    .dataframe tbody tr th {\n",
       "        vertical-align: top;\n",
       "    }\n",
       "\n",
       "    .dataframe thead th {\n",
       "        text-align: right;\n",
       "    }\n",
       "</style>\n",
       "<table border=\"1\" class=\"dataframe\">\n",
       "  <thead>\n",
       "    <tr style=\"text-align: right;\">\n",
       "      <th></th>\n",
       "      <th>hypothesis</th>\n",
       "      <th>ICE</th>\n",
       "    </tr>\n",
       "  </thead>\n",
       "  <tbody>\n",
       "    <tr>\n",
       "      <th>8</th>\n",
       "      <td>Запустить акцию, дающую скидку на товар в день рождения</td>\n",
       "      <td>16.20</td>\n",
       "    </tr>\n",
       "    <tr>\n",
       "      <th>0</th>\n",
       "      <td>Добавить два новых канала привлечения трафика, что позволит привлекать на 30% больше пользователей</td>\n",
       "      <td>13.33</td>\n",
       "    </tr>\n",
       "    <tr>\n",
       "      <th>7</th>\n",
       "      <td>Добавить форму подписки на все основные страницы, чтобы собрать базу клиентов для email-рассылок</td>\n",
       "      <td>11.20</td>\n",
       "    </tr>\n",
       "    <tr>\n",
       "      <th>6</th>\n",
       "      <td>Показать на главной странице баннеры с актуальными акциями и распродажами, чтобы увеличить конверсию</td>\n",
       "      <td>8.00</td>\n",
       "    </tr>\n",
       "    <tr>\n",
       "      <th>2</th>\n",
       "      <td>Добавить блоки рекомендаций товаров на сайт интернет магазина, чтобы повысить конверсию и средний чек заказа</td>\n",
       "      <td>7.00</td>\n",
       "    </tr>\n",
       "    <tr>\n",
       "      <th>1</th>\n",
       "      <td>Запустить собственную службу доставки, что сократит срок доставки заказов</td>\n",
       "      <td>2.00</td>\n",
       "    </tr>\n",
       "    <tr>\n",
       "      <th>5</th>\n",
       "      <td>Добавить страницу отзывов клиентов о магазине, что позволит увеличить количество заказов</td>\n",
       "      <td>1.33</td>\n",
       "    </tr>\n",
       "    <tr>\n",
       "      <th>3</th>\n",
       "      <td>Изменить структура категорий, что увеличит конверсию, т.к. пользователи быстрее найдут нужный товар</td>\n",
       "      <td>1.12</td>\n",
       "    </tr>\n",
       "    <tr>\n",
       "      <th>4</th>\n",
       "      <td>Изменить цвет фона главной страницы, чтобы увеличить вовлеченность пользователей</td>\n",
       "      <td>1.00</td>\n",
       "    </tr>\n",
       "  </tbody>\n",
       "</table>\n",
       "</div>"
      ],
      "text/plain": [
       "                                                                                                     hypothesis  \\\n",
       "8                                                       Запустить акцию, дающую скидку на товар в день рождения   \n",
       "0            Добавить два новых канала привлечения трафика, что позволит привлекать на 30% больше пользователей   \n",
       "7              Добавить форму подписки на все основные страницы, чтобы собрать базу клиентов для email-рассылок   \n",
       "6          Показать на главной странице баннеры с актуальными акциями и распродажами, чтобы увеличить конверсию   \n",
       "2  Добавить блоки рекомендаций товаров на сайт интернет магазина, чтобы повысить конверсию и средний чек заказа   \n",
       "1                                     Запустить собственную службу доставки, что сократит срок доставки заказов   \n",
       "5                      Добавить страницу отзывов клиентов о магазине, что позволит увеличить количество заказов   \n",
       "3           Изменить структура категорий, что увеличит конверсию, т.к. пользователи быстрее найдут нужный товар   \n",
       "4                              Изменить цвет фона главной страницы, чтобы увеличить вовлеченность пользователей   \n",
       "\n",
       "    ICE  \n",
       "8 16.20  \n",
       "0 13.33  \n",
       "7 11.20  \n",
       "6  8.00  \n",
       "2  7.00  \n",
       "1  2.00  \n",
       "5  1.33  \n",
       "3  1.12  \n",
       "4  1.00  "
      ]
     },
     "metadata": {},
     "output_type": "display_data"
    }
   ],
   "source": [
    "hypothesis['ICE'] = ((hypothesis['impact']*hypothesis['confidence'])/hypothesis['efforts'])\n",
    "display(hypothesis[['hypothesis', 'ICE']].sort_values(by='ICE', ascending=False))"
   ]
  },
  {
   "cell_type": "markdown",
   "metadata": {},
   "source": [
    "Наиболее перспективные гипотезы по ICE 8, 0, 7"
   ]
  },
  {
   "cell_type": "markdown",
   "metadata": {},
   "source": [
    "### Применение фреймворка RICE для приоритизации гипотез"
   ]
  },
  {
   "cell_type": "code",
   "execution_count": 14,
   "metadata": {},
   "outputs": [
    {
     "data": {
      "text/html": [
       "<div>\n",
       "<style scoped>\n",
       "    .dataframe tbody tr th:only-of-type {\n",
       "        vertical-align: middle;\n",
       "    }\n",
       "\n",
       "    .dataframe tbody tr th {\n",
       "        vertical-align: top;\n",
       "    }\n",
       "\n",
       "    .dataframe thead th {\n",
       "        text-align: right;\n",
       "    }\n",
       "</style>\n",
       "<table border=\"1\" class=\"dataframe\">\n",
       "  <thead>\n",
       "    <tr style=\"text-align: right;\">\n",
       "      <th></th>\n",
       "      <th>hypothesis</th>\n",
       "      <th>RICE</th>\n",
       "    </tr>\n",
       "  </thead>\n",
       "  <tbody>\n",
       "    <tr>\n",
       "      <th>7</th>\n",
       "      <td>Добавить форму подписки на все основные страницы, чтобы собрать базу клиентов для email-рассылок</td>\n",
       "      <td>112.00</td>\n",
       "    </tr>\n",
       "    <tr>\n",
       "      <th>2</th>\n",
       "      <td>Добавить блоки рекомендаций товаров на сайт интернет магазина, чтобы повысить конверсию и средний чек заказа</td>\n",
       "      <td>56.00</td>\n",
       "    </tr>\n",
       "    <tr>\n",
       "      <th>0</th>\n",
       "      <td>Добавить два новых канала привлечения трафика, что позволит привлекать на 30% больше пользователей</td>\n",
       "      <td>40.00</td>\n",
       "    </tr>\n",
       "    <tr>\n",
       "      <th>6</th>\n",
       "      <td>Показать на главной странице баннеры с актуальными акциями и распродажами, чтобы увеличить конверсию</td>\n",
       "      <td>40.00</td>\n",
       "    </tr>\n",
       "    <tr>\n",
       "      <th>8</th>\n",
       "      <td>Запустить акцию, дающую скидку на товар в день рождения</td>\n",
       "      <td>16.20</td>\n",
       "    </tr>\n",
       "    <tr>\n",
       "      <th>3</th>\n",
       "      <td>Изменить структура категорий, что увеличит конверсию, т.к. пользователи быстрее найдут нужный товар</td>\n",
       "      <td>9.00</td>\n",
       "    </tr>\n",
       "    <tr>\n",
       "      <th>1</th>\n",
       "      <td>Запустить собственную службу доставки, что сократит срок доставки заказов</td>\n",
       "      <td>4.00</td>\n",
       "    </tr>\n",
       "    <tr>\n",
       "      <th>5</th>\n",
       "      <td>Добавить страницу отзывов клиентов о магазине, что позволит увеличить количество заказов</td>\n",
       "      <td>4.00</td>\n",
       "    </tr>\n",
       "    <tr>\n",
       "      <th>4</th>\n",
       "      <td>Изменить цвет фона главной страницы, чтобы увеличить вовлеченность пользователей</td>\n",
       "      <td>3.00</td>\n",
       "    </tr>\n",
       "  </tbody>\n",
       "</table>\n",
       "</div>"
      ],
      "text/plain": [
       "                                                                                                     hypothesis  \\\n",
       "7              Добавить форму подписки на все основные страницы, чтобы собрать базу клиентов для email-рассылок   \n",
       "2  Добавить блоки рекомендаций товаров на сайт интернет магазина, чтобы повысить конверсию и средний чек заказа   \n",
       "0            Добавить два новых канала привлечения трафика, что позволит привлекать на 30% больше пользователей   \n",
       "6          Показать на главной странице баннеры с актуальными акциями и распродажами, чтобы увеличить конверсию   \n",
       "8                                                       Запустить акцию, дающую скидку на товар в день рождения   \n",
       "3           Изменить структура категорий, что увеличит конверсию, т.к. пользователи быстрее найдут нужный товар   \n",
       "1                                     Запустить собственную службу доставки, что сократит срок доставки заказов   \n",
       "5                      Добавить страницу отзывов клиентов о магазине, что позволит увеличить количество заказов   \n",
       "4                              Изменить цвет фона главной страницы, чтобы увеличить вовлеченность пользователей   \n",
       "\n",
       "    RICE  \n",
       "7 112.00  \n",
       "2  56.00  \n",
       "0  40.00  \n",
       "6  40.00  \n",
       "8  16.20  \n",
       "3   9.00  \n",
       "1   4.00  \n",
       "5   4.00  \n",
       "4   3.00  "
      ]
     },
     "metadata": {},
     "output_type": "display_data"
    }
   ],
   "source": [
    "hypothesis['RICE'] = ((hypothesis['reach']*hypothesis['impact']*hypothesis['confidence'])/hypothesis['efforts'])\n",
    "display(hypothesis[['hypothesis', 'RICE']].sort_values(by='RICE', ascending=False))"
   ]
  },
  {
   "cell_type": "markdown",
   "metadata": {},
   "source": [
    "Наиболее перспективные гипотезы по RICE 7, 2, 0, 6"
   ]
  },
  {
   "cell_type": "markdown",
   "metadata": {},
   "source": [
    "###  Изменение приоритизации гипотез при применении RICE вместо ICE"
   ]
  },
  {
   "cell_type": "code",
   "execution_count": 15,
   "metadata": {},
   "outputs": [
    {
     "data": {
      "text/html": [
       "<div>\n",
       "<style scoped>\n",
       "    .dataframe tbody tr th:only-of-type {\n",
       "        vertical-align: middle;\n",
       "    }\n",
       "\n",
       "    .dataframe tbody tr th {\n",
       "        vertical-align: top;\n",
       "    }\n",
       "\n",
       "    .dataframe thead th {\n",
       "        text-align: right;\n",
       "    }\n",
       "</style>\n",
       "<table border=\"1\" class=\"dataframe\">\n",
       "  <thead>\n",
       "    <tr style=\"text-align: right;\">\n",
       "      <th></th>\n",
       "      <th>hypothesis</th>\n",
       "      <th>reach</th>\n",
       "      <th>impact</th>\n",
       "      <th>confidence</th>\n",
       "      <th>efforts</th>\n",
       "      <th>ICE</th>\n",
       "      <th>RICE</th>\n",
       "    </tr>\n",
       "  </thead>\n",
       "  <tbody>\n",
       "    <tr>\n",
       "      <th>7</th>\n",
       "      <td>Добавить форму подписки на все основные страницы, чтобы собрать базу клиентов для email-рассылок</td>\n",
       "      <td>10</td>\n",
       "      <td>7</td>\n",
       "      <td>8</td>\n",
       "      <td>5</td>\n",
       "      <td>11.20</td>\n",
       "      <td>112.00</td>\n",
       "    </tr>\n",
       "    <tr>\n",
       "      <th>2</th>\n",
       "      <td>Добавить блоки рекомендаций товаров на сайт интернет магазина, чтобы повысить конверсию и средний чек заказа</td>\n",
       "      <td>8</td>\n",
       "      <td>3</td>\n",
       "      <td>7</td>\n",
       "      <td>3</td>\n",
       "      <td>7.00</td>\n",
       "      <td>56.00</td>\n",
       "    </tr>\n",
       "    <tr>\n",
       "      <th>0</th>\n",
       "      <td>Добавить два новых канала привлечения трафика, что позволит привлекать на 30% больше пользователей</td>\n",
       "      <td>3</td>\n",
       "      <td>10</td>\n",
       "      <td>8</td>\n",
       "      <td>6</td>\n",
       "      <td>13.33</td>\n",
       "      <td>40.00</td>\n",
       "    </tr>\n",
       "    <tr>\n",
       "      <th>6</th>\n",
       "      <td>Показать на главной странице баннеры с актуальными акциями и распродажами, чтобы увеличить конверсию</td>\n",
       "      <td>5</td>\n",
       "      <td>3</td>\n",
       "      <td>8</td>\n",
       "      <td>3</td>\n",
       "      <td>8.00</td>\n",
       "      <td>40.00</td>\n",
       "    </tr>\n",
       "    <tr>\n",
       "      <th>8</th>\n",
       "      <td>Запустить акцию, дающую скидку на товар в день рождения</td>\n",
       "      <td>1</td>\n",
       "      <td>9</td>\n",
       "      <td>9</td>\n",
       "      <td>5</td>\n",
       "      <td>16.20</td>\n",
       "      <td>16.20</td>\n",
       "    </tr>\n",
       "    <tr>\n",
       "      <th>3</th>\n",
       "      <td>Изменить структура категорий, что увеличит конверсию, т.к. пользователи быстрее найдут нужный товар</td>\n",
       "      <td>8</td>\n",
       "      <td>3</td>\n",
       "      <td>3</td>\n",
       "      <td>8</td>\n",
       "      <td>1.12</td>\n",
       "      <td>9.00</td>\n",
       "    </tr>\n",
       "    <tr>\n",
       "      <th>1</th>\n",
       "      <td>Запустить собственную службу доставки, что сократит срок доставки заказов</td>\n",
       "      <td>2</td>\n",
       "      <td>5</td>\n",
       "      <td>4</td>\n",
       "      <td>10</td>\n",
       "      <td>2.00</td>\n",
       "      <td>4.00</td>\n",
       "    </tr>\n",
       "    <tr>\n",
       "      <th>5</th>\n",
       "      <td>Добавить страницу отзывов клиентов о магазине, что позволит увеличить количество заказов</td>\n",
       "      <td>3</td>\n",
       "      <td>2</td>\n",
       "      <td>2</td>\n",
       "      <td>3</td>\n",
       "      <td>1.33</td>\n",
       "      <td>4.00</td>\n",
       "    </tr>\n",
       "    <tr>\n",
       "      <th>4</th>\n",
       "      <td>Изменить цвет фона главной страницы, чтобы увеличить вовлеченность пользователей</td>\n",
       "      <td>3</td>\n",
       "      <td>1</td>\n",
       "      <td>1</td>\n",
       "      <td>1</td>\n",
       "      <td>1.00</td>\n",
       "      <td>3.00</td>\n",
       "    </tr>\n",
       "  </tbody>\n",
       "</table>\n",
       "</div>"
      ],
      "text/plain": [
       "                                                                                                     hypothesis  \\\n",
       "7              Добавить форму подписки на все основные страницы, чтобы собрать базу клиентов для email-рассылок   \n",
       "2  Добавить блоки рекомендаций товаров на сайт интернет магазина, чтобы повысить конверсию и средний чек заказа   \n",
       "0            Добавить два новых канала привлечения трафика, что позволит привлекать на 30% больше пользователей   \n",
       "6          Показать на главной странице баннеры с актуальными акциями и распродажами, чтобы увеличить конверсию   \n",
       "8                                                       Запустить акцию, дающую скидку на товар в день рождения   \n",
       "3           Изменить структура категорий, что увеличит конверсию, т.к. пользователи быстрее найдут нужный товар   \n",
       "1                                     Запустить собственную службу доставки, что сократит срок доставки заказов   \n",
       "5                      Добавить страницу отзывов клиентов о магазине, что позволит увеличить количество заказов   \n",
       "4                              Изменить цвет фона главной страницы, чтобы увеличить вовлеченность пользователей   \n",
       "\n",
       "   reach  impact  confidence  efforts   ICE   RICE  \n",
       "7     10       7           8        5 11.20 112.00  \n",
       "2      8       3           7        3  7.00  56.00  \n",
       "0      3      10           8        6 13.33  40.00  \n",
       "6      5       3           8        3  8.00  40.00  \n",
       "8      1       9           9        5 16.20  16.20  \n",
       "3      8       3           3        8  1.12   9.00  \n",
       "1      2       5           4       10  2.00   4.00  \n",
       "5      3       2           2        3  1.33   4.00  \n",
       "4      3       1           1        1  1.00   3.00  "
      ]
     },
     "execution_count": 15,
     "metadata": {},
     "output_type": "execute_result"
    }
   ],
   "source": [
    "hypothesis.sort_values(by=['RICE'], ascending=False)"
   ]
  },
  {
   "cell_type": "markdown",
   "metadata": {},
   "source": [
    "Мы видим разные перспективные гипотизы по разным фреймворкам. На значение RICE, в отличие от ICE, также влияет оценка охвата: сколько пользователей(reach) затронет то ли иное изменение.\n",
    "\n",
    "Я рекомендую обратить внимание на гипотезу №7 - она имеет максимальных охват, высокий показатель и влияния(impact), и уверенности(confidence) при средних трудозатратах(efforts).\n",
    "Также обратить внимание на гипотезу №0 - при низком охвате, мы видим максимальное значение влияния, и трудозатраты чуть выше среднего. \n",
    "Гипотеза №2 может быть успешной: при хорошем охвате и низких трудозатратах. Да, коллеги ей присвоили низкий уровень влияния, но я бы не недооценивала рекомендации товаров, как способ увеличения среднего чека."
   ]
  },
  {
   "cell_type": "markdown",
   "metadata": {},
   "source": [
    "## Анализ A/B-теста"
   ]
  },
  {
   "cell_type": "markdown",
   "metadata": {},
   "source": [
    "### Соберем кумулятивные данные"
   ]
  },
  {
   "cell_type": "markdown",
   "metadata": {},
   "source": [
    "Соберем кумулятивные данные. Объявим датафрейм cumulativeData со столбцами:\n",
    "- date — дата;\n",
    "- group — группа A/B-теста (A или B);\n",
    "- orders — кумулятивное количество заказов на указанную дату в указанной группе;\n",
    "- buyers — кумулятивное количество пользователей, совершивших хотя бы один заказ, на указанную дату в указанной группе;\n",
    "- revenue — кумулятивная выручка на указанную дату в указанной группе (средний чек);\n",
    "- visitors — кумулятивное количество посетителей интернет-магазина на указанную дату в определённой группе."
   ]
  },
  {
   "cell_type": "code",
   "execution_count": 16,
   "metadata": {},
   "outputs": [
    {
     "data": {
      "text/plain": [
       "(      transactionid   visitorid       date  revenue group\n",
       " 0        3667963787  3312258926 2019-08-15     1650     B\n",
       " 1        2804400009  3642806036 2019-08-15      730     B\n",
       " 2        2961555356  4069496402 2019-08-15      400     A\n",
       " 3        3797467345  1196621759 2019-08-15     9759     B\n",
       " 4        2282983706  2322279887 2019-08-15     2308     B\n",
       " ...             ...         ...        ...      ...   ...\n",
       " 1192     2662137336  3733762160 2019-08-14     6490     B\n",
       " 1193     2203539145   370388673 2019-08-14     3190     A\n",
       " 1194     1807773912   573423106 2019-08-14    10550     A\n",
       " 1195     1947021204  1614305549 2019-08-14      100     A\n",
       " 1196     3936777065  2108080724 2019-08-15   202740     B\n",
       " \n",
       " [1197 rows x 5 columns],\n",
       "          date group  visitors\n",
       " 0  2019-08-01     A       719\n",
       " 1  2019-08-02     A       619\n",
       " 2  2019-08-03     A       507\n",
       " 3  2019-08-04     A       717\n",
       " 4  2019-08-05     A       756\n",
       " ..        ...   ...       ...\n",
       " 57 2019-08-27     B       720\n",
       " 58 2019-08-28     B       654\n",
       " 59 2019-08-29     B       531\n",
       " 60 2019-08-30     B       490\n",
       " 61 2019-08-31     B       718\n",
       " \n",
       " [62 rows x 3 columns])"
      ]
     },
     "execution_count": 16,
     "metadata": {},
     "output_type": "execute_result"
    }
   ],
   "source": [
    "orders, visitors"
   ]
  },
  {
   "cell_type": "code",
   "execution_count": 17,
   "metadata": {},
   "outputs": [],
   "source": [
    "#Создадим массив уникальных пар значений дат и групп\n",
    "datesGroups = orders[['date','group']].drop_duplicates()"
   ]
  },
  {
   "cell_type": "code",
   "execution_count": 18,
   "metadata": {},
   "outputs": [
    {
     "data": {
      "text/html": [
       "<div>\n",
       "<style scoped>\n",
       "    .dataframe tbody tr th:only-of-type {\n",
       "        vertical-align: middle;\n",
       "    }\n",
       "\n",
       "    .dataframe tbody tr th {\n",
       "        vertical-align: top;\n",
       "    }\n",
       "\n",
       "    .dataframe thead th {\n",
       "        text-align: right;\n",
       "    }\n",
       "</style>\n",
       "<table border=\"1\" class=\"dataframe\">\n",
       "  <thead>\n",
       "    <tr style=\"text-align: right;\">\n",
       "      <th></th>\n",
       "      <th>date</th>\n",
       "      <th>group</th>\n",
       "      <th>transactionid</th>\n",
       "      <th>visitorid</th>\n",
       "      <th>revenue</th>\n",
       "    </tr>\n",
       "  </thead>\n",
       "  <tbody>\n",
       "    <tr>\n",
       "      <th>55</th>\n",
       "      <td>2019-08-01</td>\n",
       "      <td>A</td>\n",
       "      <td>24</td>\n",
       "      <td>20</td>\n",
       "      <td>148579</td>\n",
       "    </tr>\n",
       "    <tr>\n",
       "      <th>66</th>\n",
       "      <td>2019-08-01</td>\n",
       "      <td>B</td>\n",
       "      <td>21</td>\n",
       "      <td>20</td>\n",
       "      <td>101217</td>\n",
       "    </tr>\n",
       "    <tr>\n",
       "      <th>175</th>\n",
       "      <td>2019-08-02</td>\n",
       "      <td>A</td>\n",
       "      <td>44</td>\n",
       "      <td>38</td>\n",
       "      <td>242401</td>\n",
       "    </tr>\n",
       "    <tr>\n",
       "      <th>173</th>\n",
       "      <td>2019-08-02</td>\n",
       "      <td>B</td>\n",
       "      <td>45</td>\n",
       "      <td>43</td>\n",
       "      <td>266748</td>\n",
       "    </tr>\n",
       "    <tr>\n",
       "      <th>291</th>\n",
       "      <td>2019-08-03</td>\n",
       "      <td>A</td>\n",
       "      <td>68</td>\n",
       "      <td>62</td>\n",
       "      <td>354874</td>\n",
       "    </tr>\n",
       "  </tbody>\n",
       "</table>\n",
       "</div>"
      ],
      "text/plain": [
       "          date group  transactionid  visitorid  revenue\n",
       "55  2019-08-01     A             24         20   148579\n",
       "66  2019-08-01     B             21         20   101217\n",
       "175 2019-08-02     A             44         38   242401\n",
       "173 2019-08-02     B             45         43   266748\n",
       "291 2019-08-03     A             68         62   354874"
      ]
     },
     "execution_count": 18,
     "metadata": {},
     "output_type": "execute_result"
    }
   ],
   "source": [
    "#Соберём агрегированные кумулятивные по дням данные о заказах\n",
    "ordersAggregated = datesGroups.apply(lambda x: orders[np.logical_and(orders['date'] <= x['date'], orders['group'] == x['group'])]\\\n",
    ".agg({'date' : 'max', 'group' : 'max', 'transactionid' : pd.Series.nunique, 'visitorid' : pd.Series.nunique, 'revenue' : 'sum'}), axis=1).sort_values(by=['date','group'])\n",
    "\n",
    "ordersAggregated.head()"
   ]
  },
  {
   "cell_type": "code",
   "execution_count": 19,
   "metadata": {},
   "outputs": [
    {
     "data": {
      "text/html": [
       "<div>\n",
       "<style scoped>\n",
       "    .dataframe tbody tr th:only-of-type {\n",
       "        vertical-align: middle;\n",
       "    }\n",
       "\n",
       "    .dataframe tbody tr th {\n",
       "        vertical-align: top;\n",
       "    }\n",
       "\n",
       "    .dataframe thead th {\n",
       "        text-align: right;\n",
       "    }\n",
       "</style>\n",
       "<table border=\"1\" class=\"dataframe\">\n",
       "  <thead>\n",
       "    <tr style=\"text-align: right;\">\n",
       "      <th></th>\n",
       "      <th>date</th>\n",
       "      <th>group</th>\n",
       "      <th>visitors</th>\n",
       "    </tr>\n",
       "  </thead>\n",
       "  <tbody>\n",
       "    <tr>\n",
       "      <th>55</th>\n",
       "      <td>2019-08-01</td>\n",
       "      <td>A</td>\n",
       "      <td>719</td>\n",
       "    </tr>\n",
       "    <tr>\n",
       "      <th>66</th>\n",
       "      <td>2019-08-01</td>\n",
       "      <td>B</td>\n",
       "      <td>713</td>\n",
       "    </tr>\n",
       "    <tr>\n",
       "      <th>175</th>\n",
       "      <td>2019-08-02</td>\n",
       "      <td>A</td>\n",
       "      <td>1338</td>\n",
       "    </tr>\n",
       "    <tr>\n",
       "      <th>173</th>\n",
       "      <td>2019-08-02</td>\n",
       "      <td>B</td>\n",
       "      <td>1294</td>\n",
       "    </tr>\n",
       "    <tr>\n",
       "      <th>291</th>\n",
       "      <td>2019-08-03</td>\n",
       "      <td>A</td>\n",
       "      <td>1845</td>\n",
       "    </tr>\n",
       "  </tbody>\n",
       "</table>\n",
       "</div>"
      ],
      "text/plain": [
       "          date group  visitors\n",
       "55  2019-08-01     A       719\n",
       "66  2019-08-01     B       713\n",
       "175 2019-08-02     A      1338\n",
       "173 2019-08-02     B      1294\n",
       "291 2019-08-03     A      1845"
      ]
     },
     "execution_count": 19,
     "metadata": {},
     "output_type": "execute_result"
    }
   ],
   "source": [
    "#Соберём агрегированные кумулятивные по дням данные о посетителях\n",
    "visitorsAggregated = datesGroups.apply(lambda x: visitors[np.logical_and(visitors['date'] <= x['date'], visitors['group'] == x['group'])].agg({'date' : 'max', 'group' : 'max', 'visitors' : 'sum'}), axis=1).sort_values(by=['date','group'])\n",
    "visitorsAggregated.head()"
   ]
  },
  {
   "cell_type": "code",
   "execution_count": 20,
   "metadata": {
    "scrolled": true
   },
   "outputs": [
    {
     "data": {
      "text/html": [
       "<div>\n",
       "<style scoped>\n",
       "    .dataframe tbody tr th:only-of-type {\n",
       "        vertical-align: middle;\n",
       "    }\n",
       "\n",
       "    .dataframe tbody tr th {\n",
       "        vertical-align: top;\n",
       "    }\n",
       "\n",
       "    .dataframe thead th {\n",
       "        text-align: right;\n",
       "    }\n",
       "</style>\n",
       "<table border=\"1\" class=\"dataframe\">\n",
       "  <thead>\n",
       "    <tr style=\"text-align: right;\">\n",
       "      <th></th>\n",
       "      <th>date</th>\n",
       "      <th>group</th>\n",
       "      <th>orders</th>\n",
       "      <th>buyers</th>\n",
       "      <th>revenue</th>\n",
       "      <th>visitors</th>\n",
       "    </tr>\n",
       "  </thead>\n",
       "  <tbody>\n",
       "    <tr>\n",
       "      <th>0</th>\n",
       "      <td>2019-08-01</td>\n",
       "      <td>A</td>\n",
       "      <td>24</td>\n",
       "      <td>20</td>\n",
       "      <td>148579</td>\n",
       "      <td>719</td>\n",
       "    </tr>\n",
       "    <tr>\n",
       "      <th>1</th>\n",
       "      <td>2019-08-01</td>\n",
       "      <td>B</td>\n",
       "      <td>21</td>\n",
       "      <td>20</td>\n",
       "      <td>101217</td>\n",
       "      <td>713</td>\n",
       "    </tr>\n",
       "    <tr>\n",
       "      <th>2</th>\n",
       "      <td>2019-08-02</td>\n",
       "      <td>A</td>\n",
       "      <td>44</td>\n",
       "      <td>38</td>\n",
       "      <td>242401</td>\n",
       "      <td>1338</td>\n",
       "    </tr>\n",
       "    <tr>\n",
       "      <th>3</th>\n",
       "      <td>2019-08-02</td>\n",
       "      <td>B</td>\n",
       "      <td>45</td>\n",
       "      <td>43</td>\n",
       "      <td>266748</td>\n",
       "      <td>1294</td>\n",
       "    </tr>\n",
       "    <tr>\n",
       "      <th>4</th>\n",
       "      <td>2019-08-03</td>\n",
       "      <td>A</td>\n",
       "      <td>68</td>\n",
       "      <td>62</td>\n",
       "      <td>354874</td>\n",
       "      <td>1845</td>\n",
       "    </tr>\n",
       "  </tbody>\n",
       "</table>\n",
       "</div>"
      ],
      "text/plain": [
       "        date group  orders  buyers  revenue  visitors\n",
       "0 2019-08-01     A      24      20   148579       719\n",
       "1 2019-08-01     B      21      20   101217       713\n",
       "2 2019-08-02     A      44      38   242401      1338\n",
       "3 2019-08-02     B      45      43   266748      1294\n",
       "4 2019-08-03     A      68      62   354874      1845"
      ]
     },
     "execution_count": 20,
     "metadata": {},
     "output_type": "execute_result"
    }
   ],
   "source": [
    "#Объединим две таблицы в одну и переименнуем название столбцов\n",
    "cumulativeData = ordersAggregated.merge(visitorsAggregated, left_on=['date', 'group'], right_on=['date', 'group'])\n",
    "cumulativeData.columns = ['date', 'group', 'orders', 'buyers', 'revenue', 'visitors']\n",
    "cumulativeData.head(5)"
   ]
  },
  {
   "cell_type": "markdown",
   "metadata": {},
   "source": [
    "### График кумулятивной выручки по группам"
   ]
  },
  {
   "cell_type": "code",
   "execution_count": 21,
   "metadata": {},
   "outputs": [
    {
     "data": {
      "image/png": "[encoded data removed]",
      "text/plain": [
       "<Figure size 1080x360 with 1 Axes>"
      ]
     },
     "metadata": {
      "needs_background": "light"
     },
     "output_type": "display_data"
    }
   ],
   "source": [
    "#Датафрейм с кумулятивным количеством заказов и кумулятивной выручкой по дням в группе А\n",
    "cumulativeRevenueA = cumulativeData[cumulativeData['group']=='A'][['date','revenue', 'orders']]\n",
    "\n",
    "# датафрейм с кумулятивным количеством заказов и кумулятивной выручкой по дням в группе B\n",
    "cumulativeRevenueB = cumulativeData[cumulativeData['group']=='B'][['date','revenue', 'orders']]\n",
    "\n",
    "plt.figure(figsize=(15,5))\n",
    "plt.plot(cumulativeRevenueA['date'], cumulativeRevenueA['revenue'], label='A')\n",
    "plt.plot(cumulativeRevenueB['date'], cumulativeRevenueB['revenue'], label='B')\n",
    "plt.grid()\n",
    "plt.title('График кумулятивной выручки по группам')\n",
    "plt.ylabel(\"Выручка\")\n",
    "plt.legend();"
   ]
  },
  {
   "cell_type": "markdown",
   "metadata": {},
   "source": [
    "Выручка группы А равномерно увеличивается в течение всего теста - это хороший знак. Выручка группы Б имеет один резкий подъем: это может говорит о резком увеличении заказов либо о появлении очень дорогого заказа - возможно это будет выбросом."
   ]
  },
  {
   "cell_type": "markdown",
   "metadata": {},
   "source": [
    "### График кумулятивного среднего чека по группам"
   ]
  },
  {
   "cell_type": "code",
   "execution_count": 22,
   "metadata": {},
   "outputs": [
    {
     "data": {
      "image/png": "[encoded data removed]",
      "text/plain": [
       "<Figure size 1080x360 with 1 Axes>"
      ]
     },
     "metadata": {
      "needs_background": "light"
     },
     "output_type": "display_data"
    }
   ],
   "source": [
    "plt.figure(figsize=(15,5))\n",
    "plt.plot(cumulativeRevenueA['date'], cumulativeRevenueA['revenue']/cumulativeRevenueA['orders'], label='A')\n",
    "plt.plot(cumulativeRevenueB['date'], cumulativeRevenueB['revenue']/cumulativeRevenueB['orders'], label='B')\n",
    "plt.grid()\n",
    "plt.title('График кумулятивного среднего чека по группам')\n",
    "plt.ylabel(\"Средний чек\")\n",
    "plt.legend();"
   ]
  },
  {
   "cell_type": "markdown",
   "metadata": {},
   "source": [
    "Средний чек группы А становится равномерным к середине теста. В то время как группа Б показывает падение к концу теста после резкого всплеска на графике - это возможно попали крупные заказы в середине теста. Тогда ей (группе) нужно больше данных, чтобы прийти к реальному среднему чеку и установиться на его уровне."
   ]
  },
  {
   "cell_type": "markdown",
   "metadata": {},
   "source": [
    "### График относительного изменения кумулятивного среднего чека группы B к группе A"
   ]
  },
  {
   "cell_type": "code",
   "execution_count": 23,
   "metadata": {},
   "outputs": [
    {
     "data": {
      "image/png": "[encoded data removed]",
      "text/plain": [
       "<Figure size 1080x360 with 1 Axes>"
      ]
     },
     "metadata": {
      "needs_background": "light"
     },
     "output_type": "display_data"
    }
   ],
   "source": [
    "#Собираем данные в одном датафрейме\n",
    "mergedCumulativeRevenue = cumulativeRevenueA.merge(cumulativeRevenueB, left_on='date', right_on='date', how='left', suffixes=['A', 'B'])\n",
    "\n",
    "#Строим отношение средних чеков\n",
    "plt.figure(figsize=(15,5))\n",
    "plt.plot(mergedCumulativeRevenue['date'], (mergedCumulativeRevenue['revenueB']/mergedCumulativeRevenue['ordersB'])/(mergedCumulativeRevenue['revenueA']/mergedCumulativeRevenue['ordersA'])-1)\n",
    "plt.title('График относительного изменения кумулятивного среднего чека группы B к группе A')\n",
    "plt.ylabel(\"Проценты\")\n",
    "#Добавляем ось X\n",
    "plt.axhline(y=0, color='black', linestyle='--'); "
   ]
  },
  {
   "cell_type": "markdown",
   "metadata": {},
   "source": [
    "И на данном графике видим \"скачки\", что говорит нам о крупных заказах или выбросах."
   ]
  },
  {
   "cell_type": "markdown",
   "metadata": {},
   "source": [
    "### График кумулятивного среднего количества заказов (конверсии) на посетителя по группам "
   ]
  },
  {
   "cell_type": "code",
   "execution_count": 24,
   "metadata": {},
   "outputs": [
    {
     "data": {
      "image/png": "[encoded data removed]",
      "text/plain": [
       "<Figure size 1080x360 with 1 Axes>"
      ]
     },
     "metadata": {
      "needs_background": "light"
     },
     "output_type": "display_data"
    }
   ],
   "source": [
    "# считаем кумулятивную конверсию\n",
    "cumulativeData['conversion'] = cumulativeData['orders']/cumulativeData['visitors']\n",
    "\n",
    "# отделяем данные по группе A\n",
    "cumulativeDataA = cumulativeData[cumulativeData['group']=='A']\n",
    "\n",
    "# отделяем данные по группе B\n",
    "cumulativeDataB = cumulativeData[cumulativeData['group']=='B']\n",
    "# строим графики\n",
    "plt.figure(figsize=(15,5))\n",
    "plt.plot(cumulativeDataA['date'], cumulativeDataA['conversion'], label='A')\n",
    "plt.plot(cumulativeDataB['date'], cumulativeDataB['conversion'], label='B')\n",
    "plt.grid()\n",
    "plt.title('График конверсии по группам')\n",
    "plt.ylabel(\"Конверсия\")\n",
    "plt.legend();\n",
    "#Задаем масштаб осей\n",
    "plt.axis([dt.datetime(2019, 8, 1), dt.datetime(2019, 8, 31), 0, 0.05]);"
   ]
  },
  {
   "cell_type": "markdown",
   "metadata": {},
   "source": [
    "В начале теста мы видим скачок у обоих групп и преимущество у группы А. Через неделю показатели конверсии группы В становятся выше - эта тенденция остается до конца теста. В конце 11 дня наблюдаем еще один \"всполох\" (в группе В он чуть больше). К концу теста значения равномерны."
   ]
  },
  {
   "cell_type": "markdown",
   "metadata": {},
   "source": [
    "### График относительного изменения кумулятивного среднего количества заказов на посетителя группы B к группе A"
   ]
  },
  {
   "cell_type": "code",
   "execution_count": 25,
   "metadata": {},
   "outputs": [
    {
     "data": {
      "image/png": "[encoded data removed]",
      "text/plain": [
       "<Figure size 1080x360 with 1 Axes>"
      ]
     },
     "metadata": {
      "needs_background": "light"
     },
     "output_type": "display_data"
    }
   ],
   "source": [
    "#Собираем данные в одном датафрейме\n",
    "mergedCumulativeConversions = cumulativeDataA[['date', 'conversion']].merge(cumulativeDataB[['date', 'conversion']], left_on='date', right_on='date', how='left', suffixes=['A', 'B'])\n",
    "\n",
    "#Строим отношение конверсий\n",
    "plt.figure(figsize=(15,5))\n",
    "plt.plot(mergedCumulativeConversions['date'], mergedCumulativeConversions['conversionB']/mergedCumulativeConversions['conversionA']-1, label='Относительный прирост конверсии группы B относительно группы A')\n",
    "plt.title('График относительного изменения кумулятивной конверсии группы B к группе A')\n",
    "plt.legend()\n",
    "#Добавляем ось X\n",
    "plt.axhline(y=0, color='black', linestyle='--')\n",
    "plt.axhline(y=0.2, color='grey', linestyle='--')\n",
    "plt.axis([dt.datetime(2019, 8, 1), dt.datetime(2019, 8, 31), -0.5, 0.5]); "
   ]
  },
  {
   "cell_type": "markdown",
   "metadata": {},
   "source": [
    "В начале теста конверсия группы В была ниже группы А, к середине теста - превысила на 20%, ближе к концу изменения остановилось на уровне 15-10%."
   ]
  },
  {
   "cell_type": "markdown",
   "metadata": {},
   "source": [
    "### Точечный график количества заказов по пользователям"
   ]
  },
  {
   "cell_type": "code",
   "execution_count": 26,
   "metadata": {},
   "outputs": [
    {
     "data": {
      "text/html": [
       "<div>\n",
       "<style scoped>\n",
       "    .dataframe tbody tr th:only-of-type {\n",
       "        vertical-align: middle;\n",
       "    }\n",
       "\n",
       "    .dataframe tbody tr th {\n",
       "        vertical-align: top;\n",
       "    }\n",
       "\n",
       "    .dataframe thead th {\n",
       "        text-align: right;\n",
       "    }\n",
       "</style>\n",
       "<table border=\"1\" class=\"dataframe\">\n",
       "  <thead>\n",
       "    <tr style=\"text-align: right;\">\n",
       "      <th></th>\n",
       "      <th>transactionid</th>\n",
       "      <th>visitorid</th>\n",
       "      <th>date</th>\n",
       "      <th>revenue</th>\n",
       "      <th>group</th>\n",
       "    </tr>\n",
       "  </thead>\n",
       "  <tbody>\n",
       "    <tr>\n",
       "      <th>0</th>\n",
       "      <td>3667963787</td>\n",
       "      <td>3312258926</td>\n",
       "      <td>2019-08-15</td>\n",
       "      <td>1650</td>\n",
       "      <td>B</td>\n",
       "    </tr>\n",
       "    <tr>\n",
       "      <th>1</th>\n",
       "      <td>2804400009</td>\n",
       "      <td>3642806036</td>\n",
       "      <td>2019-08-15</td>\n",
       "      <td>730</td>\n",
       "      <td>B</td>\n",
       "    </tr>\n",
       "    <tr>\n",
       "      <th>2</th>\n",
       "      <td>2961555356</td>\n",
       "      <td>4069496402</td>\n",
       "      <td>2019-08-15</td>\n",
       "      <td>400</td>\n",
       "      <td>A</td>\n",
       "    </tr>\n",
       "    <tr>\n",
       "      <th>3</th>\n",
       "      <td>3797467345</td>\n",
       "      <td>1196621759</td>\n",
       "      <td>2019-08-15</td>\n",
       "      <td>9759</td>\n",
       "      <td>B</td>\n",
       "    </tr>\n",
       "    <tr>\n",
       "      <th>4</th>\n",
       "      <td>2282983706</td>\n",
       "      <td>2322279887</td>\n",
       "      <td>2019-08-15</td>\n",
       "      <td>2308</td>\n",
       "      <td>B</td>\n",
       "    </tr>\n",
       "  </tbody>\n",
       "</table>\n",
       "</div>"
      ],
      "text/plain": [
       "   transactionid   visitorid       date  revenue group\n",
       "0     3667963787  3312258926 2019-08-15     1650     B\n",
       "1     2804400009  3642806036 2019-08-15      730     B\n",
       "2     2961555356  4069496402 2019-08-15      400     A\n",
       "3     3797467345  1196621759 2019-08-15     9759     B\n",
       "4     2282983706  2322279887 2019-08-15     2308     B"
      ]
     },
     "execution_count": 26,
     "metadata": {},
     "output_type": "execute_result"
    }
   ],
   "source": [
    "orders.head()"
   ]
  },
  {
   "cell_type": "code",
   "execution_count": 27,
   "metadata": {},
   "outputs": [
    {
     "data": {
      "text/html": [
       "<div>\n",
       "<style scoped>\n",
       "    .dataframe tbody tr th:only-of-type {\n",
       "        vertical-align: middle;\n",
       "    }\n",
       "\n",
       "    .dataframe tbody tr th {\n",
       "        vertical-align: top;\n",
       "    }\n",
       "\n",
       "    .dataframe thead th {\n",
       "        text-align: right;\n",
       "    }\n",
       "</style>\n",
       "<table border=\"1\" class=\"dataframe\">\n",
       "  <thead>\n",
       "    <tr style=\"text-align: right;\">\n",
       "      <th></th>\n",
       "      <th>userId</th>\n",
       "      <th>orders</th>\n",
       "    </tr>\n",
       "  </thead>\n",
       "  <tbody>\n",
       "    <tr>\n",
       "      <th>1023</th>\n",
       "      <td>4256040402</td>\n",
       "      <td>11</td>\n",
       "    </tr>\n",
       "    <tr>\n",
       "      <th>591</th>\n",
       "      <td>2458001652</td>\n",
       "      <td>11</td>\n",
       "    </tr>\n",
       "    <tr>\n",
       "      <th>569</th>\n",
       "      <td>2378935119</td>\n",
       "      <td>9</td>\n",
       "    </tr>\n",
       "    <tr>\n",
       "      <th>487</th>\n",
       "      <td>2038680547</td>\n",
       "      <td>8</td>\n",
       "    </tr>\n",
       "    <tr>\n",
       "      <th>44</th>\n",
       "      <td>199603092</td>\n",
       "      <td>5</td>\n",
       "    </tr>\n",
       "    <tr>\n",
       "      <th>744</th>\n",
       "      <td>3062433592</td>\n",
       "      <td>5</td>\n",
       "    </tr>\n",
       "    <tr>\n",
       "      <th>55</th>\n",
       "      <td>237748145</td>\n",
       "      <td>5</td>\n",
       "    </tr>\n",
       "    <tr>\n",
       "      <th>917</th>\n",
       "      <td>3803269165</td>\n",
       "      <td>5</td>\n",
       "    </tr>\n",
       "    <tr>\n",
       "      <th>299</th>\n",
       "      <td>1230306981</td>\n",
       "      <td>5</td>\n",
       "    </tr>\n",
       "    <tr>\n",
       "      <th>897</th>\n",
       "      <td>3717692402</td>\n",
       "      <td>5</td>\n",
       "    </tr>\n",
       "  </tbody>\n",
       "</table>\n",
       "</div>"
      ],
      "text/plain": [
       "          userId  orders\n",
       "1023  4256040402      11\n",
       "591   2458001652      11\n",
       "569   2378935119       9\n",
       "487   2038680547       8\n",
       "44     199603092       5\n",
       "744   3062433592       5\n",
       "55     237748145       5\n",
       "917   3803269165       5\n",
       "299   1230306981       5\n",
       "897   3717692402       5"
      ]
     },
     "metadata": {},
     "output_type": "display_data"
    }
   ],
   "source": [
    "#Подсчитает число уникальных заказов по сгруппированным данным\n",
    "ordersByUsers = orders.groupby('visitorid', as_index=False).agg({'transactionid': 'nunique'})\n",
    "#Переименуем столбцы\n",
    "ordersByUsers.columns = ['userId', 'orders']\n",
    "display(ordersByUsers.sort_values(by='orders', ascending=False).head(10)) "
   ]
  },
  {
   "cell_type": "code",
   "execution_count": 28,
   "metadata": {},
   "outputs": [
    {
     "data": {
      "image/png": "[encoded data removed]",
      "text/plain": [
       "<Figure size 1080x360 with 1 Axes>"
      ]
     },
     "metadata": {
      "needs_background": "light"
     },
     "output_type": "display_data"
    }
   ],
   "source": [
    "#Построим точечную диаграмму числа заказов на одного пользователя\n",
    "x_values = pd.Series(range(0,len(ordersByUsers)))\n",
    "\n",
    "plt.figure(figsize=(15,5))\n",
    "plt.grid()\n",
    "plt.title('График количества заказов по пользователям')\n",
    "plt.ylabel(\"Количество заказов\")\n",
    "plt.scatter(x_values, ordersByUsers['orders']) ;"
   ]
  },
  {
   "cell_type": "markdown",
   "metadata": {},
   "source": [
    "Видим, что клиентов, кто сделал 2 заказа совсем немного, еще меньше - кто делал больше 2, возможно такие заказы будут считаться аномальными. Проверим."
   ]
  },
  {
   "cell_type": "markdown",
   "metadata": {},
   "source": [
    "### Посчитаем 95-й и 99-й перцентили количества заказов на пользователя"
   ]
  },
  {
   "cell_type": "code",
   "execution_count": 29,
   "metadata": {},
   "outputs": [
    {
     "name": "stdout",
     "output_type": "stream",
     "text": [
      "[1. 2. 4.]\n"
     ]
    }
   ],
   "source": [
    "print(np.percentile(ordersByUsers['orders'], [90, 95, 99]))"
   ]
  },
  {
   "cell_type": "markdown",
   "metadata": {},
   "source": [
    "Не более 5% пользователей сделали больше 2 заказов. И не более 1% - более 4 заказов."
   ]
  },
  {
   "cell_type": "markdown",
   "metadata": {},
   "source": [
    "### Точечный график стоимостей заказов"
   ]
  },
  {
   "cell_type": "code",
   "execution_count": 30,
   "metadata": {},
   "outputs": [
    {
     "data": {
      "image/png": "[encoded data removed]",
      "text/plain": [
       "<Figure size 1080x360 with 1 Axes>"
      ]
     },
     "metadata": {
      "needs_background": "light"
     },
     "output_type": "display_data"
    }
   ],
   "source": [
    "#Построим точечную диаграмму стоимостей заказов на одного пользователя\n",
    "x_values = pd.Series(range(0, len(orders['revenue'])))\n",
    "\n",
    "plt.figure(figsize=(15,5))\n",
    "plt.grid()\n",
    "plt.title('График cтоимостей заказов')\n",
    "plt.ylabel('Сумма заказа')\n",
    "plt.scatter(x_values, orders['revenue']);"
   ]
  },
  {
   "cell_type": "markdown",
   "metadata": {},
   "source": [
    "Видим один очень крупный аномальный заказ на сумму более более 1 200 000, заказ на сумму 200 000 также выбивается из общей статистики. В целом заказов больше 20 000 - 30 000 мало."
   ]
  },
  {
   "cell_type": "markdown",
   "metadata": {},
   "source": [
    "### Посчитаем 95-й и 99-й перцентили стоимости заказов"
   ]
  },
  {
   "cell_type": "code",
   "execution_count": 31,
   "metadata": {},
   "outputs": [
    {
     "name": "stdout",
     "output_type": "stream",
     "text": [
      "[18168.  28000.  58233.2]\n"
     ]
    }
   ],
   "source": [
    "print(np.percentile(orders['revenue'], [90, 95, 99]))"
   ]
  },
  {
   "cell_type": "markdown",
   "metadata": {},
   "source": [
    "Не более чем у 5% пользователей чек выше 28 000, и не больше чем у 1% - выше 58 000."
   ]
  },
  {
   "cell_type": "markdown",
   "metadata": {},
   "source": [
    "### Статистическая значимость различий в среднем количестве заказов на посетителя между группами по «сырым» данным"
   ]
  },
  {
   "cell_type": "markdown",
   "metadata": {},
   "source": [
    "Сформулируем гипотезы:\n",
    "- Н0: различий в среднем количестве заказов между группами нет\n",
    "- Н1: различия в среднем количестве заказов между группами есть"
   ]
  },
  {
   "cell_type": "code",
   "execution_count": 32,
   "metadata": {},
   "outputs": [],
   "source": [
    "#Подготовим данные\n",
    "visitorsADaily = visitors[visitors['group'] == 'A'][['date', 'visitors']]\n",
    "visitorsADaily.columns = ['date', 'visitorsPerDateA']\n",
    "\n",
    "visitorsACummulative = visitorsADaily.apply(lambda x: visitorsADaily[visitorsADaily['date'] <= x['date']].agg({'date':'max', 'visitorsPerDateA':'sum'}), axis=1)\n",
    "visitorsACummulative.columns = ['date', 'visitorsCummulativeA']\n",
    "\n",
    "visitorsBDaily = visitors[visitors['group'] == 'B'][['date', 'visitors']]\n",
    "visitorsBDaily.columns = ['date', 'visitorsPerDateB']\n",
    "\n",
    "visitorsBCummulative = visitorsBDaily.apply(lambda x: visitorsBDaily[visitorsBDaily['date'] <= x['date']].agg({'date':'max', 'visitorsPerDateB':'sum'}), axis=1)\n",
    "visitorsBCummulative.columns = ['date', 'visitorsCummulativeB']\n",
    "\n",
    "ordersADaily = orders[orders['group'] == 'A'][['date', 'transactionid', 'visitorid', 'revenue']].groupby('date', as_index=False).agg({'transactionid' : pd.Series.nunique, 'revenue' : 'sum'})\n",
    "ordersADaily.columns = ['date', 'ordersPerDateA', 'revenuePerDateA']\n",
    "\n",
    "ordersACummulative = ordersADaily.apply(lambda x:ordersADaily[ordersADaily['date'] <= x['date']].agg({'date': 'max', 'ordersPerDateA': 'sum', 'revenuePerDateA': 'sum'}), axis=1).sort_values(by='date')\n",
    "ordersACummulative.columns = ['date', 'ordersCummulativeA', 'revenueCummulativeA']\n",
    "\n",
    "ordersBDaily = orders[orders['group'] == 'B'][['date', 'transactionid', 'visitorid', 'revenue']].groupby('date', as_index=False).agg({'transactionid' : pd.Series.nunique, 'revenue' : 'sum'})\n",
    "ordersBDaily.columns = ['date', 'ordersPerDateB', 'revenuePerDateB']\n",
    "\n",
    "ordersBCummulative = ordersBDaily.apply(lambda x:ordersBDaily[ordersBDaily['date'] <= x['date']].agg({'date': 'max', 'ordersPerDateB': 'sum', 'revenuePerDateB': 'sum'}), axis=1).sort_values(by='date')\n",
    "ordersBCummulative.columns = ['date', 'ordersCummulativeB', 'revenueCummulativeB']"
   ]
  },
  {
   "cell_type": "code",
   "execution_count": 33,
   "metadata": {},
   "outputs": [
    {
     "data": {
      "text/html": [
       "<div>\n",
       "<style scoped>\n",
       "    .dataframe tbody tr th:only-of-type {\n",
       "        vertical-align: middle;\n",
       "    }\n",
       "\n",
       "    .dataframe tbody tr th {\n",
       "        vertical-align: top;\n",
       "    }\n",
       "\n",
       "    .dataframe thead th {\n",
       "        text-align: right;\n",
       "    }\n",
       "</style>\n",
       "<table border=\"1\" class=\"dataframe\">\n",
       "  <thead>\n",
       "    <tr style=\"text-align: right;\">\n",
       "      <th></th>\n",
       "      <th>date</th>\n",
       "      <th>ordersPerDateA</th>\n",
       "      <th>revenuePerDateA</th>\n",
       "      <th>ordersPerDateB</th>\n",
       "      <th>revenuePerDateB</th>\n",
       "      <th>ordersCummulativeA</th>\n",
       "      <th>revenueCummulativeA</th>\n",
       "      <th>ordersCummulativeB</th>\n",
       "      <th>revenueCummulativeB</th>\n",
       "      <th>visitorsPerDateA</th>\n",
       "      <th>visitorsPerDateB</th>\n",
       "      <th>visitorsCummulativeA</th>\n",
       "      <th>visitorsCummulativeB</th>\n",
       "    </tr>\n",
       "  </thead>\n",
       "  <tbody>\n",
       "    <tr>\n",
       "      <th>0</th>\n",
       "      <td>2019-08-01</td>\n",
       "      <td>24</td>\n",
       "      <td>148579</td>\n",
       "      <td>21</td>\n",
       "      <td>101217</td>\n",
       "      <td>24</td>\n",
       "      <td>148579</td>\n",
       "      <td>21</td>\n",
       "      <td>101217</td>\n",
       "      <td>719</td>\n",
       "      <td>713</td>\n",
       "      <td>719</td>\n",
       "      <td>713</td>\n",
       "    </tr>\n",
       "    <tr>\n",
       "      <th>1</th>\n",
       "      <td>2019-08-02</td>\n",
       "      <td>20</td>\n",
       "      <td>93822</td>\n",
       "      <td>24</td>\n",
       "      <td>165531</td>\n",
       "      <td>44</td>\n",
       "      <td>242401</td>\n",
       "      <td>45</td>\n",
       "      <td>266748</td>\n",
       "      <td>619</td>\n",
       "      <td>581</td>\n",
       "      <td>1338</td>\n",
       "      <td>1294</td>\n",
       "    </tr>\n",
       "    <tr>\n",
       "      <th>2</th>\n",
       "      <td>2019-08-03</td>\n",
       "      <td>24</td>\n",
       "      <td>112473</td>\n",
       "      <td>16</td>\n",
       "      <td>114248</td>\n",
       "      <td>68</td>\n",
       "      <td>354874</td>\n",
       "      <td>61</td>\n",
       "      <td>380996</td>\n",
       "      <td>507</td>\n",
       "      <td>509</td>\n",
       "      <td>1845</td>\n",
       "      <td>1803</td>\n",
       "    </tr>\n",
       "    <tr>\n",
       "      <th>3</th>\n",
       "      <td>2019-08-04</td>\n",
       "      <td>16</td>\n",
       "      <td>70825</td>\n",
       "      <td>17</td>\n",
       "      <td>108571</td>\n",
       "      <td>84</td>\n",
       "      <td>425699</td>\n",
       "      <td>78</td>\n",
       "      <td>489567</td>\n",
       "      <td>717</td>\n",
       "      <td>770</td>\n",
       "      <td>2562</td>\n",
       "      <td>2573</td>\n",
       "    </tr>\n",
       "    <tr>\n",
       "      <th>4</th>\n",
       "      <td>2019-08-05</td>\n",
       "      <td>25</td>\n",
       "      <td>124218</td>\n",
       "      <td>23</td>\n",
       "      <td>92428</td>\n",
       "      <td>109</td>\n",
       "      <td>549917</td>\n",
       "      <td>101</td>\n",
       "      <td>581995</td>\n",
       "      <td>756</td>\n",
       "      <td>707</td>\n",
       "      <td>3318</td>\n",
       "      <td>3280</td>\n",
       "    </tr>\n",
       "  </tbody>\n",
       "</table>\n",
       "</div>"
      ],
      "text/plain": [
       "        date  ordersPerDateA  revenuePerDateA  ordersPerDateB  \\\n",
       "0 2019-08-01              24           148579              21   \n",
       "1 2019-08-02              20            93822              24   \n",
       "2 2019-08-03              24           112473              16   \n",
       "3 2019-08-04              16            70825              17   \n",
       "4 2019-08-05              25           124218              23   \n",
       "\n",
       "   revenuePerDateB  ordersCummulativeA  revenueCummulativeA  \\\n",
       "0           101217                  24               148579   \n",
       "1           165531                  44               242401   \n",
       "2           114248                  68               354874   \n",
       "3           108571                  84               425699   \n",
       "4            92428                 109               549917   \n",
       "\n",
       "   ordersCummulativeB  revenueCummulativeB  visitorsPerDateA  \\\n",
       "0                  21               101217               719   \n",
       "1                  45               266748               619   \n",
       "2                  61               380996               507   \n",
       "3                  78               489567               717   \n",
       "4                 101               581995               756   \n",
       "\n",
       "   visitorsPerDateB  visitorsCummulativeA  visitorsCummulativeB  \n",
       "0               713                   719                   713  \n",
       "1               581                  1338                  1294  \n",
       "2               509                  1845                  1803  \n",
       "3               770                  2562                  2573  \n",
       "4               707                  3318                  3280  "
      ]
     },
     "metadata": {},
     "output_type": "display_data"
    }
   ],
   "source": [
    "#Соберем данные в одну таблицу\n",
    "data = (\n",
    "    ordersADaily.merge(\n",
    "        ordersBDaily, left_on='date', right_on='date', how='left'\n",
    "    )\n",
    "    .merge(ordersACummulative, left_on='date', right_on='date', how='left')\n",
    "    .merge(ordersBCummulative, left_on='date', right_on='date', how='left')\n",
    "    .merge(visitorsADaily, left_on='date', right_on='date', how='left')\n",
    "    .merge(visitorsBDaily, left_on='date', right_on='date', how='left')\n",
    "    .merge(visitorsACummulative, left_on='date', right_on='date', how='left')\n",
    "    .merge(visitorsBCummulative, left_on='date', right_on='date', how='left')\n",
    ")\n",
    "display(data.head())"
   ]
  },
  {
   "cell_type": "code",
   "execution_count": 34,
   "metadata": {},
   "outputs": [],
   "source": [
    "ordersByUsersA = (\n",
    "    orders[orders['group'] == 'A']\n",
    "    .groupby('visitorid', as_index=False)\n",
    "    .agg({'transactionid': pd.Series.nunique})\n",
    ")\n",
    "ordersByUsersA.columns = ['userId', 'orders']\n",
    "\n",
    "ordersByUsersB = (\n",
    "    orders[orders['group'] == 'B']\n",
    "    .groupby('visitorid', as_index=False)\n",
    "    .agg({'transactionid': pd.Series.nunique})\n",
    ")\n",
    "ordersByUsersB.columns = ['userId', 'orders']\n",
    "\n",
    "sampleA = pd.concat(\n",
    "    [\n",
    "        ordersByUsersA['orders'],\n",
    "        pd.Series(\n",
    "            0,\n",
    "            index=np.arange(\n",
    "                data['visitorsPerDateA'].sum() - len(ordersByUsersA['orders'])\n",
    "            ),\n",
    "            name='orders',\n",
    "        ),\n",
    "    ],\n",
    "    axis=0,\n",
    ")\n",
    "\n",
    "sampleB = pd.concat(\n",
    "    [\n",
    "        ordersByUsersB['orders'],\n",
    "        pd.Series(\n",
    "            0,\n",
    "            index=np.arange(\n",
    "                data['visitorsPerDateB'].sum() - len(ordersByUsersB['orders'])\n",
    "            ),\n",
    "            name='orders',\n",
    "        ),\n",
    "    ],\n",
    "    axis=0,\n",
    ")"
   ]
  },
  {
   "cell_type": "code",
   "execution_count": 35,
   "metadata": {},
   "outputs": [
    {
     "name": "stdout",
     "output_type": "stream",
     "text": [
      "Значение по критерию Манна-Уитни: 0.01679\n",
      "Прирост среднего часла заказов группы В: 13.81%\n"
     ]
    }
   ],
   "source": [
    "#Применим критерий Манна-Уитни и выведем относительный прирост среднего числа заказов группы B\n",
    "print('Значение по критерию Манна-Уитни:', \"{0:.5f}\".format(st.mannwhitneyu(sampleA, sampleB)[1]))\n",
    "\n",
    "print('Прирост среднего часла заказов группы В:', \"{0:.2%}\".format(sampleB.mean() / sampleA.mean() - 1))"
   ]
  },
  {
   "cell_type": "markdown",
   "metadata": {},
   "source": [
    "Значение критерия 0,017 меньше значения p-value=0.05 - значит гипотезу о равном количетсве заказов между группами отвергаем. Однако группа В показывает на 13,8% больше заказов относительно группы А."
   ]
  },
  {
   "cell_type": "markdown",
   "metadata": {},
   "source": [
    "### Статистическая значимость различий в среднем чеке заказов между группами по «сырым» данным"
   ]
  },
  {
   "cell_type": "markdown",
   "metadata": {},
   "source": [
    "Сформулируем гипотезы:\n",
    "\n",
    "- Н0: различий в среднем чеке между группами нет\n",
    "- Н1: различия в среднем чеке между группами есть"
   ]
  },
  {
   "cell_type": "code",
   "execution_count": 36,
   "metadata": {},
   "outputs": [
    {
     "name": "stdout",
     "output_type": "stream",
     "text": [
      "Значение по критерию Манна-Уитни: 0.729\n",
      "Прирост среднего чека группы В: 25.87%\n"
     ]
    }
   ],
   "source": [
    "#Применим критерий Манна-Уитни и выведем относительный прирост среднего чека группы B\n",
    "print('Значение по критерию Манна-Уитни:', '{0:.3f}'.format(st.mannwhitneyu(orders[orders['group']=='A']['revenue'], orders[orders['group']=='B']['revenue'])[1]))\n",
    "print('Прирост среднего чека группы В:','{0:.2%}'.format(orders[orders['group']=='B']['revenue'].mean()/orders[orders['group']=='A']['revenue'].mean()-1))"
   ]
  },
  {
   "cell_type": "markdown",
   "metadata": {},
   "source": [
    "Значение критерия 0,729, что больше значения p-value=0.05 - значит гипотезу о различии в среднем чеке между группами не отвергаем. Однако группа В показывает средний чек на 25,9% больше относительно группы А."
   ]
  },
  {
   "cell_type": "markdown",
   "metadata": {},
   "source": [
    "### Статистическая значимость различий в среднем количестве заказов между группами по «очищенным» данным"
   ]
  },
  {
   "cell_type": "markdown",
   "metadata": {},
   "source": [
    "В нашем исследовании мы выяснили, что лишь 5% пользователей сделали больше 2 заказов и заказов на сумму больше 28 000. Потому примем за аномальных пользователей тех, кто совершил более 2 заказов или совершил заказ более чем на 30 000."
   ]
  },
  {
   "cell_type": "code",
   "execution_count": 37,
   "metadata": {},
   "outputs": [
    {
     "name": "stdout",
     "output_type": "stream",
     "text": [
      "1099    148427295\n",
      "18      199603092\n",
      "928     204675465\n",
      "23      237748145\n",
      "37      249864742\n",
      "dtype: int64\n",
      "74\n"
     ]
    }
   ],
   "source": [
    "#Сделаем срезы пользователей с заказами больше 2 и дороже 30 000\n",
    "usersWithManyOrders = pd.concat(\n",
    "    [\n",
    "        ordersByUsersA[ordersByUsersA['orders'] > int(np.percentile(ordersByUsers['orders'], [95]))]['userId'],\n",
    "        ordersByUsersB[ordersByUsersB['orders'] > int(np.percentile(ordersByUsers['orders'], [95]))]['userId'],\n",
    "    ],\n",
    "    axis=0,\n",
    ")\n",
    "usersWithExpensiveOrders = orders[orders['revenue'] > int(np.percentile(orders['revenue'], [95]))]['visitorid']\n",
    "abnormalUsers = (\n",
    "    pd.concat([usersWithManyOrders, usersWithExpensiveOrders], axis=0)\n",
    "    .drop_duplicates()\n",
    "    .sort_values()\n",
    ")\n",
    "print(abnormalUsers.head(5))\n",
    "print(abnormalUsers.shape[0]) "
   ]
  },
  {
   "cell_type": "markdown",
   "metadata": {},
   "source": [
    "74 аномальных пользователей."
   ]
  },
  {
   "cell_type": "markdown",
   "metadata": {},
   "source": [
    "Сформулируем гипотезы:\n",
    "\n",
    "- Н0: различий в среднем количестве заказов между группами нет\n",
    "- Н1: различия в среднем количестве заказов между группами есть"
   ]
  },
  {
   "cell_type": "code",
   "execution_count": 38,
   "metadata": {},
   "outputs": [],
   "source": [
    "sampleAFiltered = pd.concat(\n",
    "    [\n",
    "        ordersByUsersA[\n",
    "            np.logical_not(ordersByUsersA['userId'].isin(abnormalUsers))\n",
    "        ]['orders'],\n",
    "        pd.Series(\n",
    "            0,\n",
    "            index=np.arange(\n",
    "                data['visitorsPerDateA'].sum() - len(ordersByUsersA['orders'])\n",
    "            ),\n",
    "            name='orders',\n",
    "        ),\n",
    "    ],\n",
    "    axis=0,\n",
    ")\n",
    "\n",
    "sampleBFiltered = pd.concat(\n",
    "    [\n",
    "        ordersByUsersB[\n",
    "            np.logical_not(ordersByUsersB['userId'].isin(abnormalUsers))\n",
    "        ]['orders'],\n",
    "        pd.Series(\n",
    "            0,\n",
    "            index=np.arange(\n",
    "                data['visitorsPerDateB'].sum() - len(ordersByUsersB['orders'])\n",
    "            ),\n",
    "            name='orders',\n",
    "        ),\n",
    "    ],\n",
    "    axis=0,\n",
    ") "
   ]
  },
  {
   "cell_type": "code",
   "execution_count": 39,
   "metadata": {},
   "outputs": [
    {
     "name": "stdout",
     "output_type": "stream",
     "text": [
      "Значение по критерию Манна-Уитни: 0.01304\n",
      "Относительный прирост среднего числа заказов группы В: 17.27%\n"
     ]
    }
   ],
   "source": [
    "#Применим критерий Манна-Уитни и выведем относительный прирост среднего числа заказов группы B\n",
    "print('Значение по критерию Манна-Уитни:', \"{0:.5f}\".format(st.mannwhitneyu(sampleAFiltered, sampleBFiltered)[1]))\n",
    "\n",
    "print('Относительный прирост среднего числа заказов группы В:', \"{0:.2%}\".format(sampleBFiltered.mean() / sampleAFiltered.mean() - 1))"
   ]
  },
  {
   "cell_type": "markdown",
   "metadata": {},
   "source": [
    "Значение критерия 0,013 меньше значения p-value=0.05 - значит гипотезу об утсутствии различии в среднем количестве заказов между группами отвергаем. Группа В показывает еще больший прирост заказов - 17,2% относительно группы А."
   ]
  },
  {
   "cell_type": "markdown",
   "metadata": {},
   "source": [
    "### Статистическая значимость различий в среднем чеке между группами по «очищенным» данным"
   ]
  },
  {
   "cell_type": "markdown",
   "metadata": {},
   "source": [
    "Сформулируем гипотезы:\n",
    "\n",
    "- Н0: различий в среднем чеке между группами нет\n",
    "- Н1: различия в среднем чеке между группами есть"
   ]
  },
  {
   "cell_type": "code",
   "execution_count": 40,
   "metadata": {},
   "outputs": [
    {
     "name": "stdout",
     "output_type": "stream",
     "text": [
      "Значение по критерию Манна-Уитни: 0.73848\n",
      "Прирост среднего чека группы В: -1.96%\n"
     ]
    }
   ],
   "source": [
    "print(\n",
    "    'Значение по критерию Манна-Уитни:','{0:.5f}'.format(\n",
    "        st.mannwhitneyu(\n",
    "            orders[\n",
    "                np.logical_and(\n",
    "                    orders['group'] == 'A',\n",
    "                    np.logical_not(orders['visitorid'].isin(abnormalUsers)),\n",
    "                )\n",
    "            ]['revenue'],\n",
    "            orders[\n",
    "                np.logical_and(\n",
    "                    orders['group'] == 'B',\n",
    "                    np.logical_not(orders['visitorid'].isin(abnormalUsers)),\n",
    "                )\n",
    "            ]['revenue'],\n",
    "        )[1]\n",
    "    )\n",
    ")\n",
    "\n",
    "print(\n",
    "    'Прирост среднего чека группы В:', \"{0:.2%}\".format(\n",
    "        orders[\n",
    "            np.logical_and(\n",
    "                orders['group'] == 'B',\n",
    "                np.logical_not(orders['visitorid'].isin(abnormalUsers)),\n",
    "            )\n",
    "        ]['revenue'].mean()\n",
    "        / orders[\n",
    "            np.logical_and(\n",
    "                orders['group'] == 'A',\n",
    "                np.logical_not(orders['visitorid'].isin(abnormalUsers)),\n",
    "            )\n",
    "        ]['revenue'].mean()\n",
    "        - 1\n",
    "    )\n",
    ") "
   ]
  },
  {
   "cell_type": "markdown",
   "metadata": {},
   "source": [
    "Значение критерия 0,720, что больше значения p-value=0.05 - значит гипотезу о различии в среднем чеке между группами не отвергаем. Однако группа В показывает средний чек на 2% меньше относительно группы А."
   ]
  },
  {
   "cell_type": "markdown",
   "metadata": {},
   "source": [
    "### Решение по результатам теста"
   ]
  },
  {
   "cell_type": "markdown",
   "metadata": {},
   "source": [
    "Завершив исследование мы выяснили:\n",
    "- Есть статистически значимое различия по среднему количеству заказов между группами как по «сырым», так и по данным после фильтрации аномалий;\n",
    "- Нет статистически значимого различия по среднему чеку между группами ни по «сырым», ни по данным после фильтрации аномалий;\n",
    "\n",
    "Принимаем решение остановить тест и зафиксировать победу группы В: она показывает конверсию выше (на 17%), чем группа А. В значениях среднего чека разница совсем минимальная - 2% в пользу группы А."
   ]
  }
 ],
 "metadata": {
  "ExecuteTimeLog": [
   {
    "duration": 1593,
    "start_time": "2022-12-12T10:17:44.344Z"
   },
   {
    "duration": 5,
    "start_time": "2022-12-12T10:17:53.514Z"
   },
   {
    "duration": 216,
    "start_time": "2022-12-12T10:19:30.318Z"
   },
   {
    "duration": 20,
    "start_time": "2022-12-12T10:20:32.939Z"
   },
   {
    "duration": 16,
    "start_time": "2022-12-12T10:21:39.419Z"
   },
   {
    "duration": 21,
    "start_time": "2022-12-12T10:22:00.456Z"
   },
   {
    "duration": 9,
    "start_time": "2022-12-12T10:27:53.987Z"
   },
   {
    "duration": 13,
    "start_time": "2022-12-12T10:28:30.958Z"
   },
   {
    "duration": 3,
    "start_time": "2022-12-12T10:32:46.511Z"
   },
   {
    "duration": 15,
    "start_time": "2022-12-12T10:35:43.233Z"
   },
   {
    "duration": 14,
    "start_time": "2022-12-12T10:40:11.321Z"
   },
   {
    "duration": 19,
    "start_time": "2022-12-12T10:40:34.636Z"
   },
   {
    "duration": 5,
    "start_time": "2022-12-12T10:41:37.894Z"
   },
   {
    "duration": 5,
    "start_time": "2022-12-12T10:41:47.070Z"
   },
   {
    "duration": 5,
    "start_time": "2022-12-12T10:41:51.777Z"
   },
   {
    "duration": 4,
    "start_time": "2022-12-12T10:42:11.651Z"
   },
   {
    "duration": 5,
    "start_time": "2022-12-12T10:42:21.497Z"
   },
   {
    "duration": 10,
    "start_time": "2022-12-12T11:35:32.738Z"
   },
   {
    "duration": 12,
    "start_time": "2022-12-12T11:36:31.016Z"
   },
   {
    "duration": 12,
    "start_time": "2022-12-12T11:37:14.541Z"
   },
   {
    "duration": 3,
    "start_time": "2022-12-12T11:38:51.872Z"
   },
   {
    "duration": 1123,
    "start_time": "2022-12-12T11:39:01.903Z"
   },
   {
    "duration": 3,
    "start_time": "2022-12-12T11:39:03.028Z"
   },
   {
    "duration": 92,
    "start_time": "2022-12-12T11:39:03.032Z"
   },
   {
    "duration": 20,
    "start_time": "2022-12-12T11:39:03.126Z"
   },
   {
    "duration": 28,
    "start_time": "2022-12-12T11:39:03.148Z"
   },
   {
    "duration": 19,
    "start_time": "2022-12-12T11:39:03.177Z"
   },
   {
    "duration": 11,
    "start_time": "2022-12-12T11:39:03.199Z"
   },
   {
    "duration": 14,
    "start_time": "2022-12-12T11:39:03.212Z"
   },
   {
    "duration": 16,
    "start_time": "2022-12-12T11:39:03.227Z"
   },
   {
    "duration": 14,
    "start_time": "2022-12-12T11:39:03.246Z"
   },
   {
    "duration": 9,
    "start_time": "2022-12-12T11:39:14.016Z"
   },
   {
    "duration": 8,
    "start_time": "2022-12-12T11:41:32.887Z"
   },
   {
    "duration": 4,
    "start_time": "2022-12-12T11:43:35.884Z"
   },
   {
    "duration": 7,
    "start_time": "2022-12-12T11:43:42.463Z"
   },
   {
    "duration": 3,
    "start_time": "2022-12-12T11:43:52.943Z"
   },
   {
    "duration": 7,
    "start_time": "2022-12-12T11:43:58.427Z"
   },
   {
    "duration": 3,
    "start_time": "2022-12-12T11:44:09.082Z"
   },
   {
    "duration": 8,
    "start_time": "2022-12-12T11:44:14.027Z"
   },
   {
    "duration": 12,
    "start_time": "2022-12-12T11:44:28.443Z"
   },
   {
    "duration": 3,
    "start_time": "2022-12-12T11:44:39.334Z"
   },
   {
    "duration": 9,
    "start_time": "2022-12-12T11:44:44.849Z"
   },
   {
    "duration": 95,
    "start_time": "2022-12-12T11:47:00.701Z"
   },
   {
    "duration": 9,
    "start_time": "2022-12-12T12:14:32.899Z"
   },
   {
    "duration": 49,
    "start_time": "2022-12-12T12:15:38.142Z"
   },
   {
    "duration": 12,
    "start_time": "2022-12-12T12:16:00.387Z"
   },
   {
    "duration": 10,
    "start_time": "2022-12-12T12:16:28.244Z"
   },
   {
    "duration": 139,
    "start_time": "2022-12-12T13:28:30.443Z"
   },
   {
    "duration": 138,
    "start_time": "2022-12-12T13:28:47.876Z"
   },
   {
    "duration": 6,
    "start_time": "2022-12-12T13:37:59.221Z"
   },
   {
    "duration": 52,
    "start_time": "2022-12-12T13:50:15.124Z"
   },
   {
    "duration": 56,
    "start_time": "2022-12-12T13:50:22.326Z"
   },
   {
    "duration": 751,
    "start_time": "2022-12-12T13:50:42.758Z"
   },
   {
    "duration": 24,
    "start_time": "2022-12-12T13:51:11.351Z"
   },
   {
    "duration": 33,
    "start_time": "2022-12-12T13:51:51.271Z"
   },
   {
    "duration": 12,
    "start_time": "2022-12-12T13:55:33.359Z"
   },
   {
    "duration": 13,
    "start_time": "2022-12-12T13:58:31.618Z"
   },
   {
    "duration": 186,
    "start_time": "2022-12-12T13:59:08.382Z"
   },
   {
    "duration": 155,
    "start_time": "2022-12-12T14:03:25.828Z"
   },
   {
    "duration": 14,
    "start_time": "2022-12-12T14:08:17.918Z"
   },
   {
    "duration": 230,
    "start_time": "2022-12-12T14:13:03.931Z"
   },
   {
    "duration": 183,
    "start_time": "2022-12-12T14:14:27.701Z"
   },
   {
    "duration": 187,
    "start_time": "2022-12-12T14:16:53.345Z"
   },
   {
    "duration": 38,
    "start_time": "2022-12-12T14:18:08.415Z"
   },
   {
    "duration": 309,
    "start_time": "2022-12-12T14:18:27.875Z"
   },
   {
    "duration": 222,
    "start_time": "2022-12-12T14:18:35.242Z"
   },
   {
    "duration": 16,
    "start_time": "2022-12-12T14:19:34.949Z"
   },
   {
    "duration": 238,
    "start_time": "2022-12-12T14:19:49.042Z"
   },
   {
    "duration": 256,
    "start_time": "2022-12-12T14:20:12.865Z"
   },
   {
    "duration": 230,
    "start_time": "2022-12-12T14:20:18.916Z"
   },
   {
    "duration": 208,
    "start_time": "2022-12-12T14:20:22.881Z"
   },
   {
    "duration": 1235,
    "start_time": "2022-12-12T14:20:54.500Z"
   },
   {
    "duration": 3,
    "start_time": "2022-12-12T14:20:55.738Z"
   },
   {
    "duration": 83,
    "start_time": "2022-12-12T14:20:55.742Z"
   },
   {
    "duration": 23,
    "start_time": "2022-12-12T14:20:55.828Z"
   },
   {
    "duration": 16,
    "start_time": "2022-12-12T14:20:55.852Z"
   },
   {
    "duration": 25,
    "start_time": "2022-12-12T14:20:55.869Z"
   },
   {
    "duration": 20,
    "start_time": "2022-12-12T14:20:55.895Z"
   },
   {
    "duration": 19,
    "start_time": "2022-12-12T14:20:55.917Z"
   },
   {
    "duration": 25,
    "start_time": "2022-12-12T14:20:55.939Z"
   },
   {
    "duration": 14,
    "start_time": "2022-12-12T14:20:55.967Z"
   },
   {
    "duration": 26,
    "start_time": "2022-12-12T14:20:55.982Z"
   },
   {
    "duration": 18,
    "start_time": "2022-12-12T14:20:56.010Z"
   },
   {
    "duration": 37,
    "start_time": "2022-12-12T14:20:56.030Z"
   },
   {
    "duration": 17,
    "start_time": "2022-12-12T14:20:56.070Z"
   },
   {
    "duration": 272,
    "start_time": "2022-12-12T14:20:56.090Z"
   },
   {
    "duration": 160,
    "start_time": "2022-12-12T14:20:56.364Z"
   },
   {
    "duration": 12,
    "start_time": "2022-12-12T14:20:56.526Z"
   },
   {
    "duration": 286,
    "start_time": "2022-12-12T14:20:56.540Z"
   },
   {
    "duration": 13,
    "start_time": "2022-12-12T14:21:22.097Z"
   },
   {
    "duration": 202,
    "start_time": "2022-12-12T14:22:17.457Z"
   },
   {
    "duration": 14,
    "start_time": "2022-12-12T14:22:23.318Z"
   },
   {
    "duration": 145,
    "start_time": "2022-12-12T14:22:49.164Z"
   },
   {
    "duration": 14,
    "start_time": "2022-12-12T14:22:55.026Z"
   },
   {
    "duration": 1225,
    "start_time": "2022-12-12T14:23:01.599Z"
   },
   {
    "duration": 4,
    "start_time": "2022-12-12T14:23:02.826Z"
   },
   {
    "duration": 95,
    "start_time": "2022-12-12T14:23:02.831Z"
   },
   {
    "duration": 21,
    "start_time": "2022-12-12T14:23:02.928Z"
   },
   {
    "duration": 17,
    "start_time": "2022-12-12T14:23:02.950Z"
   },
   {
    "duration": 33,
    "start_time": "2022-12-12T14:23:02.968Z"
   },
   {
    "duration": 19,
    "start_time": "2022-12-12T14:23:03.003Z"
   },
   {
    "duration": 29,
    "start_time": "2022-12-12T14:23:03.024Z"
   },
   {
    "duration": 18,
    "start_time": "2022-12-12T14:23:03.055Z"
   },
   {
    "duration": 21,
    "start_time": "2022-12-12T14:23:03.075Z"
   },
   {
    "duration": 10,
    "start_time": "2022-12-12T14:23:03.098Z"
   },
   {
    "duration": 13,
    "start_time": "2022-12-12T14:23:03.110Z"
   },
   {
    "duration": 26,
    "start_time": "2022-12-12T14:23:03.125Z"
   },
   {
    "duration": 6,
    "start_time": "2022-12-12T14:23:03.154Z"
   },
   {
    "duration": 207,
    "start_time": "2022-12-12T14:23:03.162Z"
   },
   {
    "duration": 146,
    "start_time": "2022-12-12T14:23:03.371Z"
   },
   {
    "duration": 14,
    "start_time": "2022-12-12T14:23:03.519Z"
   },
   {
    "duration": 305,
    "start_time": "2022-12-12T14:23:03.534Z"
   },
   {
    "duration": 210,
    "start_time": "2022-12-12T14:29:53.084Z"
   },
   {
    "duration": 301,
    "start_time": "2022-12-12T14:39:19.302Z"
   },
   {
    "duration": 302,
    "start_time": "2022-12-12T14:39:28.674Z"
   },
   {
    "duration": 349,
    "start_time": "2022-12-12T14:39:43.871Z"
   },
   {
    "duration": 286,
    "start_time": "2022-12-12T14:39:57.844Z"
   },
   {
    "duration": 311,
    "start_time": "2022-12-12T14:40:16.664Z"
   },
   {
    "duration": 449,
    "start_time": "2022-12-12T14:40:37.344Z"
   },
   {
    "duration": 289,
    "start_time": "2022-12-12T14:40:46.744Z"
   },
   {
    "duration": 274,
    "start_time": "2022-12-12T14:40:53.340Z"
   },
   {
    "duration": 314,
    "start_time": "2022-12-12T14:44:44.853Z"
   },
   {
    "duration": 321,
    "start_time": "2022-12-12T14:45:05.708Z"
   },
   {
    "duration": 224,
    "start_time": "2022-12-12T15:37:14.942Z"
   },
   {
    "duration": 227,
    "start_time": "2022-12-12T15:37:33.579Z"
   },
   {
    "duration": 1155,
    "start_time": "2022-12-12T15:43:38.644Z"
   },
   {
    "duration": 3,
    "start_time": "2022-12-12T15:43:39.801Z"
   },
   {
    "duration": 81,
    "start_time": "2022-12-12T15:43:39.806Z"
   },
   {
    "duration": 27,
    "start_time": "2022-12-12T15:43:39.889Z"
   },
   {
    "duration": 25,
    "start_time": "2022-12-12T15:43:39.918Z"
   },
   {
    "duration": 23,
    "start_time": "2022-12-12T15:43:39.945Z"
   },
   {
    "duration": 28,
    "start_time": "2022-12-12T15:43:39.970Z"
   },
   {
    "duration": 15,
    "start_time": "2022-12-12T15:43:40.000Z"
   },
   {
    "duration": 24,
    "start_time": "2022-12-12T15:43:40.018Z"
   },
   {
    "duration": 18,
    "start_time": "2022-12-12T15:43:40.049Z"
   },
   {
    "duration": 31,
    "start_time": "2022-12-12T15:43:40.069Z"
   },
   {
    "duration": 12,
    "start_time": "2022-12-12T15:43:40.101Z"
   },
   {
    "duration": 24,
    "start_time": "2022-12-12T15:43:40.115Z"
   },
   {
    "duration": 7,
    "start_time": "2022-12-12T15:43:40.142Z"
   },
   {
    "duration": 250,
    "start_time": "2022-12-12T15:43:40.152Z"
   },
   {
    "duration": 182,
    "start_time": "2022-12-12T15:43:40.404Z"
   },
   {
    "duration": 20,
    "start_time": "2022-12-12T15:43:40.588Z"
   },
   {
    "duration": 313,
    "start_time": "2022-12-12T15:43:40.610Z"
   },
   {
    "duration": 241,
    "start_time": "2022-12-12T15:43:40.925Z"
   },
   {
    "duration": 351,
    "start_time": "2022-12-12T15:43:41.168Z"
   },
   {
    "duration": 3,
    "start_time": "2022-12-12T15:47:55.913Z"
   },
   {
    "duration": 819,
    "start_time": "2022-12-12T15:52:15.638Z"
   },
   {
    "duration": 756,
    "start_time": "2022-12-12T15:53:37.630Z"
   },
   {
    "duration": 910,
    "start_time": "2022-12-12T15:54:05.612Z"
   },
   {
    "duration": 795,
    "start_time": "2022-12-12T15:57:01.429Z"
   },
   {
    "duration": 260,
    "start_time": "2022-12-12T15:57:22.363Z"
   },
   {
    "duration": 319,
    "start_time": "2022-12-12T15:57:33.777Z"
   },
   {
    "duration": 235,
    "start_time": "2022-12-12T16:04:50.478Z"
   },
   {
    "duration": 195,
    "start_time": "2022-12-12T16:05:40.716Z"
   },
   {
    "duration": 239,
    "start_time": "2022-12-12T16:05:47.889Z"
   },
   {
    "duration": 212,
    "start_time": "2022-12-12T16:05:58.008Z"
   },
   {
    "duration": 210,
    "start_time": "2022-12-12T16:06:05.159Z"
   },
   {
    "duration": 206,
    "start_time": "2022-12-12T16:06:32.437Z"
   },
   {
    "duration": 45,
    "start_time": "2022-12-12T16:17:24.338Z"
   },
   {
    "duration": 51,
    "start_time": "2022-12-12T16:17:51.296Z"
   },
   {
    "duration": 55,
    "start_time": "2022-12-12T16:18:04.906Z"
   },
   {
    "duration": 50,
    "start_time": "2022-12-12T16:18:38.358Z"
   },
   {
    "duration": 5,
    "start_time": "2022-12-12T16:18:56.218Z"
   },
   {
    "duration": 315,
    "start_time": "2022-12-12T16:19:02.315Z"
   },
   {
    "duration": 327,
    "start_time": "2022-12-12T16:22:00.710Z"
   },
   {
    "duration": 343,
    "start_time": "2022-12-12T16:22:44.063Z"
   },
   {
    "duration": 264,
    "start_time": "2022-12-12T16:23:08.248Z"
   },
   {
    "duration": 288,
    "start_time": "2022-12-12T16:23:42.877Z"
   },
   {
    "duration": 286,
    "start_time": "2022-12-12T16:23:50.040Z"
   },
   {
    "duration": 284,
    "start_time": "2022-12-12T16:24:02.545Z"
   },
   {
    "duration": 12,
    "start_time": "2022-12-12T16:42:45.846Z"
   },
   {
    "duration": 9,
    "start_time": "2022-12-12T16:42:53.637Z"
   },
   {
    "duration": 12,
    "start_time": "2022-12-12T16:47:24.981Z"
   },
   {
    "duration": 155,
    "start_time": "2022-12-12T16:48:58.177Z"
   },
   {
    "duration": 139,
    "start_time": "2022-12-12T16:49:11.075Z"
   },
   {
    "duration": 8,
    "start_time": "2022-12-12T16:53:30.511Z"
   },
   {
    "duration": 4,
    "start_time": "2022-12-12T16:55:03.396Z"
   },
   {
    "duration": 5,
    "start_time": "2022-12-12T16:55:15.983Z"
   },
   {
    "duration": 6,
    "start_time": "2022-12-12T16:55:26.911Z"
   },
   {
    "duration": 5,
    "start_time": "2022-12-12T16:55:52.909Z"
   },
   {
    "duration": 13,
    "start_time": "2022-12-12T17:06:02.623Z"
   },
   {
    "duration": 11,
    "start_time": "2022-12-12T17:06:16.305Z"
   },
   {
    "duration": 155,
    "start_time": "2022-12-12T17:06:22.596Z"
   },
   {
    "duration": 179,
    "start_time": "2022-12-12T17:08:10.134Z"
   },
   {
    "duration": 155,
    "start_time": "2022-12-12T17:09:52.750Z"
   },
   {
    "duration": 172,
    "start_time": "2022-12-12T17:10:35.155Z"
   },
   {
    "duration": 866,
    "start_time": "2022-12-12T18:04:51.900Z"
   },
   {
    "duration": 6,
    "start_time": "2022-12-12T18:06:38.502Z"
   },
   {
    "duration": 52,
    "start_time": "2022-12-13T09:33:46.117Z"
   },
   {
    "duration": 1322,
    "start_time": "2022-12-13T09:33:54.050Z"
   },
   {
    "duration": 5,
    "start_time": "2022-12-13T09:33:55.374Z"
   },
   {
    "duration": 240,
    "start_time": "2022-12-13T09:33:55.382Z"
   },
   {
    "duration": 20,
    "start_time": "2022-12-13T09:33:55.624Z"
   },
   {
    "duration": 24,
    "start_time": "2022-12-13T09:33:55.646Z"
   },
   {
    "duration": 27,
    "start_time": "2022-12-13T09:33:55.672Z"
   },
   {
    "duration": 14,
    "start_time": "2022-12-13T09:33:55.701Z"
   },
   {
    "duration": 29,
    "start_time": "2022-12-13T09:33:55.717Z"
   },
   {
    "duration": 18,
    "start_time": "2022-12-13T09:33:55.748Z"
   },
   {
    "duration": 43,
    "start_time": "2022-12-13T09:33:55.769Z"
   },
   {
    "duration": 13,
    "start_time": "2022-12-13T09:33:55.813Z"
   },
   {
    "duration": 18,
    "start_time": "2022-12-13T09:33:55.828Z"
   },
   {
    "duration": 20,
    "start_time": "2022-12-13T09:33:55.848Z"
   },
   {
    "duration": 22,
    "start_time": "2022-12-13T09:33:55.870Z"
   },
   {
    "duration": 197,
    "start_time": "2022-12-13T09:33:55.893Z"
   },
   {
    "duration": 130,
    "start_time": "2022-12-13T09:33:56.092Z"
   },
   {
    "duration": 11,
    "start_time": "2022-12-13T09:33:56.224Z"
   },
   {
    "duration": 277,
    "start_time": "2022-12-13T09:33:56.238Z"
   },
   {
    "duration": 197,
    "start_time": "2022-12-13T09:33:56.517Z"
   },
   {
    "duration": 364,
    "start_time": "2022-12-13T09:33:56.716Z"
   },
   {
    "duration": 184,
    "start_time": "2022-12-13T09:33:57.082Z"
   },
   {
    "duration": 296,
    "start_time": "2022-12-13T09:33:57.268Z"
   },
   {
    "duration": 12,
    "start_time": "2022-12-13T09:33:57.566Z"
   },
   {
    "duration": 24,
    "start_time": "2022-12-13T09:33:57.580Z"
   },
   {
    "duration": 129,
    "start_time": "2022-12-13T09:33:57.606Z"
   },
   {
    "duration": 4,
    "start_time": "2022-12-13T09:33:57.736Z"
   },
   {
    "duration": 156,
    "start_time": "2022-12-13T09:33:57.742Z"
   },
   {
    "duration": 4,
    "start_time": "2022-12-13T09:33:57.901Z"
   },
   {
    "duration": 141,
    "start_time": "2022-12-13T09:33:57.906Z"
   },
   {
    "duration": 85,
    "start_time": "2022-12-13T09:35:23.418Z"
   },
   {
    "duration": 93,
    "start_time": "2022-12-13T09:41:25.434Z"
   },
   {
    "duration": 152,
    "start_time": "2022-12-13T09:44:50.395Z"
   },
   {
    "duration": 261,
    "start_time": "2022-12-13T09:46:46.933Z"
   },
   {
    "duration": 167,
    "start_time": "2022-12-13T09:48:28.024Z"
   },
   {
    "duration": 204,
    "start_time": "2022-12-13T09:49:35.916Z"
   },
   {
    "duration": 23,
    "start_time": "2022-12-13T09:50:54.772Z"
   },
   {
    "duration": 26,
    "start_time": "2022-12-13T09:51:11.647Z"
   },
   {
    "duration": 174,
    "start_time": "2022-12-13T09:56:20.839Z"
   },
   {
    "duration": 133,
    "start_time": "2022-12-13T09:57:52.623Z"
   },
   {
    "duration": 12,
    "start_time": "2022-12-13T10:05:05.886Z"
   },
   {
    "duration": 21,
    "start_time": "2022-12-13T10:05:26.321Z"
   },
   {
    "duration": 33,
    "start_time": "2022-12-13T10:07:32.793Z"
   },
   {
    "duration": 10,
    "start_time": "2022-12-13T10:15:29.209Z"
   },
   {
    "duration": 12,
    "start_time": "2022-12-13T10:15:36.325Z"
   },
   {
    "duration": 1206,
    "start_time": "2022-12-13T10:28:03.757Z"
   },
   {
    "duration": 1150,
    "start_time": "2022-12-13T10:28:31.087Z"
   },
   {
    "duration": 1242,
    "start_time": "2022-12-13T10:29:10.229Z"
   },
   {
    "duration": 11,
    "start_time": "2022-12-13T10:31:29.026Z"
   },
   {
    "duration": 9,
    "start_time": "2022-12-13T10:43:52.150Z"
   },
   {
    "duration": 24,
    "start_time": "2022-12-13T10:44:53.774Z"
   },
   {
    "duration": 11,
    "start_time": "2022-12-13T10:57:02.964Z"
   },
   {
    "duration": 1166,
    "start_time": "2022-12-13T10:57:17.298Z"
   },
   {
    "duration": 12,
    "start_time": "2022-12-13T10:58:08.046Z"
   },
   {
    "duration": 16,
    "start_time": "2022-12-13T10:58:13.066Z"
   },
   {
    "duration": 71,
    "start_time": "2022-12-13T11:23:56.635Z"
   },
   {
    "duration": 1232,
    "start_time": "2022-12-13T11:57:42.082Z"
   },
   {
    "duration": 3,
    "start_time": "2022-12-13T11:57:43.316Z"
   },
   {
    "duration": 92,
    "start_time": "2022-12-13T11:57:43.321Z"
   },
   {
    "duration": 24,
    "start_time": "2022-12-13T11:57:43.415Z"
   },
   {
    "duration": 15,
    "start_time": "2022-12-13T11:57:43.441Z"
   },
   {
    "duration": 18,
    "start_time": "2022-12-13T11:57:43.457Z"
   },
   {
    "duration": 13,
    "start_time": "2022-12-13T11:57:43.477Z"
   },
   {
    "duration": 21,
    "start_time": "2022-12-13T11:57:43.492Z"
   },
   {
    "duration": 19,
    "start_time": "2022-12-13T11:57:43.515Z"
   },
   {
    "duration": 16,
    "start_time": "2022-12-13T11:57:43.537Z"
   },
   {
    "duration": 27,
    "start_time": "2022-12-13T11:57:43.555Z"
   },
   {
    "duration": 27,
    "start_time": "2022-12-13T11:57:43.584Z"
   },
   {
    "duration": 16,
    "start_time": "2022-12-13T11:57:43.614Z"
   },
   {
    "duration": 7,
    "start_time": "2022-12-13T11:57:43.632Z"
   },
   {
    "duration": 205,
    "start_time": "2022-12-13T11:57:43.641Z"
   },
   {
    "duration": 150,
    "start_time": "2022-12-13T11:57:43.847Z"
   },
   {
    "duration": 18,
    "start_time": "2022-12-13T11:57:43.999Z"
   },
   {
    "duration": 355,
    "start_time": "2022-12-13T11:57:44.019Z"
   },
   {
    "duration": 246,
    "start_time": "2022-12-13T11:57:44.377Z"
   },
   {
    "duration": 282,
    "start_time": "2022-12-13T11:57:44.625Z"
   },
   {
    "duration": 237,
    "start_time": "2022-12-13T11:57:44.909Z"
   },
   {
    "duration": 357,
    "start_time": "2022-12-13T11:57:45.147Z"
   },
   {
    "duration": 9,
    "start_time": "2022-12-13T11:57:45.506Z"
   },
   {
    "duration": 24,
    "start_time": "2022-12-13T11:57:45.518Z"
   },
   {
    "duration": 174,
    "start_time": "2022-12-13T11:57:45.544Z"
   },
   {
    "duration": 6,
    "start_time": "2022-12-13T11:57:45.720Z"
   },
   {
    "duration": 193,
    "start_time": "2022-12-13T11:57:45.728Z"
   },
   {
    "duration": 6,
    "start_time": "2022-12-13T11:57:45.925Z"
   },
   {
    "duration": 314,
    "start_time": "2022-12-13T11:57:45.933Z"
   },
   {
    "duration": 31,
    "start_time": "2022-12-13T11:57:46.248Z"
   },
   {
    "duration": 177,
    "start_time": "2022-12-13T11:57:46.281Z"
   },
   {
    "duration": 49,
    "start_time": "2022-12-13T11:57:46.459Z"
   },
   {
    "duration": 14,
    "start_time": "2022-12-13T11:57:46.510Z"
   },
   {
    "duration": 15,
    "start_time": "2022-12-13T11:57:46.526Z"
   },
   {
    "duration": 9,
    "start_time": "2022-12-13T11:57:46.543Z"
   },
   {
    "duration": 56,
    "start_time": "2022-12-13T11:57:46.553Z"
   },
   {
    "duration": 17,
    "start_time": "2022-12-13T11:57:46.611Z"
   },
   {
    "duration": 217,
    "start_time": "2022-12-13T12:00:26.028Z"
   },
   {
    "duration": 292,
    "start_time": "2022-12-13T12:01:29.919Z"
   },
   {
    "duration": 339,
    "start_time": "2022-12-13T12:01:58.152Z"
   },
   {
    "duration": 141,
    "start_time": "2022-12-13T12:03:26.404Z"
   },
   {
    "duration": 1241,
    "start_time": "2022-12-13T12:06:08.683Z"
   },
   {
    "duration": 3,
    "start_time": "2022-12-13T12:06:09.926Z"
   },
   {
    "duration": 90,
    "start_time": "2022-12-13T12:06:09.930Z"
   },
   {
    "duration": 23,
    "start_time": "2022-12-13T12:06:10.023Z"
   },
   {
    "duration": 29,
    "start_time": "2022-12-13T12:06:10.048Z"
   },
   {
    "duration": 45,
    "start_time": "2022-12-13T12:06:10.079Z"
   },
   {
    "duration": 28,
    "start_time": "2022-12-13T12:06:10.126Z"
   },
   {
    "duration": 39,
    "start_time": "2022-12-13T12:06:10.156Z"
   },
   {
    "duration": 38,
    "start_time": "2022-12-13T12:06:10.197Z"
   },
   {
    "duration": 42,
    "start_time": "2022-12-13T12:06:10.238Z"
   },
   {
    "duration": 14,
    "start_time": "2022-12-13T12:06:10.281Z"
   },
   {
    "duration": 17,
    "start_time": "2022-12-13T12:06:10.299Z"
   },
   {
    "duration": 53,
    "start_time": "2022-12-13T12:06:10.317Z"
   },
   {
    "duration": 19,
    "start_time": "2022-12-13T12:06:10.371Z"
   },
   {
    "duration": 220,
    "start_time": "2022-12-13T12:06:10.392Z"
   },
   {
    "duration": 143,
    "start_time": "2022-12-13T12:06:10.614Z"
   },
   {
    "duration": 26,
    "start_time": "2022-12-13T12:06:10.759Z"
   },
   {
    "duration": 337,
    "start_time": "2022-12-13T12:06:10.787Z"
   },
   {
    "duration": 210,
    "start_time": "2022-12-13T12:06:11.126Z"
   },
   {
    "duration": 349,
    "start_time": "2022-12-13T12:06:11.338Z"
   },
   {
    "duration": 203,
    "start_time": "2022-12-13T12:06:11.689Z"
   },
   {
    "duration": 323,
    "start_time": "2022-12-13T12:06:11.894Z"
   },
   {
    "duration": 11,
    "start_time": "2022-12-13T12:06:12.219Z"
   },
   {
    "duration": 35,
    "start_time": "2022-12-13T12:06:12.231Z"
   },
   {
    "duration": 168,
    "start_time": "2022-12-13T12:06:12.268Z"
   },
   {
    "duration": 5,
    "start_time": "2022-12-13T12:06:12.438Z"
   },
   {
    "duration": 209,
    "start_time": "2022-12-13T12:06:12.444Z"
   },
   {
    "duration": 4,
    "start_time": "2022-12-13T12:06:12.657Z"
   },
   {
    "duration": 330,
    "start_time": "2022-12-13T12:06:12.663Z"
   },
   {
    "duration": 41,
    "start_time": "2022-12-13T12:06:12.996Z"
   },
   {
    "duration": 187,
    "start_time": "2022-12-13T12:06:13.038Z"
   },
   {
    "duration": 24,
    "start_time": "2022-12-13T12:06:13.227Z"
   },
   {
    "duration": 30,
    "start_time": "2022-12-13T12:06:13.252Z"
   },
   {
    "duration": 10,
    "start_time": "2022-12-13T12:06:13.285Z"
   },
   {
    "duration": 41,
    "start_time": "2022-12-13T12:06:13.298Z"
   },
   {
    "duration": 56,
    "start_time": "2022-12-13T12:06:13.341Z"
   },
   {
    "duration": 22,
    "start_time": "2022-12-13T12:06:13.399Z"
   },
   {
    "duration": 1279,
    "start_time": "2022-12-14T11:32:37.325Z"
   },
   {
    "duration": 4,
    "start_time": "2022-12-14T11:32:38.606Z"
   },
   {
    "duration": 216,
    "start_time": "2022-12-14T11:32:38.611Z"
   },
   {
    "duration": 18,
    "start_time": "2022-12-14T11:32:38.828Z"
   },
   {
    "duration": 19,
    "start_time": "2022-12-14T11:32:38.848Z"
   },
   {
    "duration": 26,
    "start_time": "2022-12-14T11:32:38.868Z"
   },
   {
    "duration": 12,
    "start_time": "2022-12-14T11:32:38.895Z"
   },
   {
    "duration": 14,
    "start_time": "2022-12-14T11:32:38.909Z"
   },
   {
    "duration": 15,
    "start_time": "2022-12-14T11:32:38.924Z"
   },
   {
    "duration": 16,
    "start_time": "2022-12-14T11:32:38.940Z"
   },
   {
    "duration": 14,
    "start_time": "2022-12-14T11:32:38.958Z"
   },
   {
    "duration": 15,
    "start_time": "2022-12-14T11:32:38.974Z"
   },
   {
    "duration": 14,
    "start_time": "2022-12-14T11:32:38.990Z"
   },
   {
    "duration": 14,
    "start_time": "2022-12-14T11:32:39.007Z"
   },
   {
    "duration": 181,
    "start_time": "2022-12-14T11:32:39.023Z"
   },
   {
    "duration": 135,
    "start_time": "2022-12-14T11:32:39.206Z"
   },
   {
    "duration": 11,
    "start_time": "2022-12-14T11:32:39.343Z"
   },
   {
    "duration": 286,
    "start_time": "2022-12-14T11:32:39.356Z"
   },
   {
    "duration": 205,
    "start_time": "2022-12-14T11:32:39.644Z"
   },
   {
    "duration": 345,
    "start_time": "2022-12-14T11:32:39.851Z"
   },
   {
    "duration": 187,
    "start_time": "2022-12-14T11:32:40.197Z"
   },
   {
    "duration": 307,
    "start_time": "2022-12-14T11:32:40.386Z"
   },
   {
    "duration": 8,
    "start_time": "2022-12-14T11:32:40.694Z"
   },
   {
    "duration": 25,
    "start_time": "2022-12-14T11:32:40.704Z"
   },
   {
    "duration": 1112,
    "start_time": "2022-12-14T11:32:42.586Z"
   },
   {
    "duration": 3,
    "start_time": "2022-12-14T11:32:43.700Z"
   },
   {
    "duration": 76,
    "start_time": "2022-12-14T11:32:43.705Z"
   },
   {
    "duration": 20,
    "start_time": "2022-12-14T11:32:43.783Z"
   },
   {
    "duration": 18,
    "start_time": "2022-12-14T11:32:43.805Z"
   },
   {
    "duration": 16,
    "start_time": "2022-12-14T11:32:43.825Z"
   },
   {
    "duration": 7,
    "start_time": "2022-12-14T11:32:43.843Z"
   },
   {
    "duration": 14,
    "start_time": "2022-12-14T11:32:43.852Z"
   },
   {
    "duration": 13,
    "start_time": "2022-12-14T11:32:43.868Z"
   },
   {
    "duration": 39,
    "start_time": "2022-12-14T11:32:43.882Z"
   },
   {
    "duration": 11,
    "start_time": "2022-12-14T11:32:43.923Z"
   },
   {
    "duration": 9,
    "start_time": "2022-12-14T11:32:43.936Z"
   },
   {
    "duration": 17,
    "start_time": "2022-12-14T11:32:43.946Z"
   },
   {
    "duration": 6,
    "start_time": "2022-12-14T11:32:43.965Z"
   },
   {
    "duration": 195,
    "start_time": "2022-12-14T11:32:43.972Z"
   },
   {
    "duration": 129,
    "start_time": "2022-12-14T11:32:44.169Z"
   },
   {
    "duration": 26,
    "start_time": "2022-12-14T11:32:44.300Z"
   },
   {
    "duration": 299,
    "start_time": "2022-12-14T11:32:44.327Z"
   },
   {
    "duration": 205,
    "start_time": "2022-12-14T11:32:44.628Z"
   },
   {
    "duration": 326,
    "start_time": "2022-12-14T11:32:44.835Z"
   },
   {
    "duration": 212,
    "start_time": "2022-12-14T11:32:45.163Z"
   },
   {
    "duration": 339,
    "start_time": "2022-12-14T11:32:45.377Z"
   },
   {
    "duration": 8,
    "start_time": "2022-12-14T11:32:45.718Z"
   },
   {
    "duration": 13,
    "start_time": "2022-12-14T11:32:45.728Z"
   },
   {
    "duration": 151,
    "start_time": "2022-12-14T11:32:45.742Z"
   },
   {
    "duration": 5,
    "start_time": "2022-12-14T11:32:45.895Z"
   },
   {
    "duration": 159,
    "start_time": "2022-12-14T11:32:45.901Z"
   },
   {
    "duration": 4,
    "start_time": "2022-12-14T11:32:46.062Z"
   },
   {
    "duration": 263,
    "start_time": "2022-12-14T11:32:46.067Z"
   },
   {
    "duration": 24,
    "start_time": "2022-12-14T11:32:46.332Z"
   },
   {
    "duration": 132,
    "start_time": "2022-12-14T11:32:46.358Z"
   },
   {
    "duration": 33,
    "start_time": "2022-12-14T11:32:46.491Z"
   },
   {
    "duration": 10,
    "start_time": "2022-12-14T11:32:46.525Z"
   },
   {
    "duration": 25,
    "start_time": "2022-12-14T11:32:46.536Z"
   },
   {
    "duration": 21,
    "start_time": "2022-12-14T11:32:46.563Z"
   },
   {
    "duration": 33,
    "start_time": "2022-12-14T11:32:46.587Z"
   },
   {
    "duration": 13,
    "start_time": "2022-12-14T11:32:46.623Z"
   },
   {
    "duration": 1351,
    "start_time": "2022-12-14T11:37:43.121Z"
   },
   {
    "duration": 12,
    "start_time": "2022-12-14T11:37:50.101Z"
   },
   {
    "duration": 9,
    "start_time": "2022-12-14T11:37:55.224Z"
   },
   {
    "duration": 45,
    "start_time": "2022-12-15T12:58:19.441Z"
   },
   {
    "duration": 1331,
    "start_time": "2022-12-15T12:58:27.158Z"
   },
   {
    "duration": 3,
    "start_time": "2022-12-15T12:58:28.490Z"
   },
   {
    "duration": 256,
    "start_time": "2022-12-15T12:58:28.494Z"
   },
   {
    "duration": 20,
    "start_time": "2022-12-15T12:58:28.752Z"
   },
   {
    "duration": 20,
    "start_time": "2022-12-15T12:58:28.773Z"
   },
   {
    "duration": 14,
    "start_time": "2022-12-15T12:58:28.795Z"
   },
   {
    "duration": 9,
    "start_time": "2022-12-15T12:58:28.811Z"
   },
   {
    "duration": 11,
    "start_time": "2022-12-15T12:58:28.822Z"
   },
   {
    "duration": 14,
    "start_time": "2022-12-15T12:58:28.834Z"
   },
   {
    "duration": 110,
    "start_time": "2022-12-15T12:58:28.850Z"
   },
   {
    "duration": 0,
    "start_time": "2022-12-15T12:58:28.962Z"
   },
   {
    "duration": 0,
    "start_time": "2022-12-15T12:58:28.963Z"
   },
   {
    "duration": 0,
    "start_time": "2022-12-15T12:58:28.964Z"
   },
   {
    "duration": 0,
    "start_time": "2022-12-15T12:58:28.965Z"
   },
   {
    "duration": 0,
    "start_time": "2022-12-15T12:58:28.978Z"
   },
   {
    "duration": 0,
    "start_time": "2022-12-15T12:58:28.979Z"
   },
   {
    "duration": 0,
    "start_time": "2022-12-15T12:58:28.980Z"
   },
   {
    "duration": 0,
    "start_time": "2022-12-15T12:58:28.980Z"
   },
   {
    "duration": 0,
    "start_time": "2022-12-15T12:58:28.981Z"
   },
   {
    "duration": 0,
    "start_time": "2022-12-15T12:58:28.982Z"
   },
   {
    "duration": 0,
    "start_time": "2022-12-15T12:58:28.983Z"
   },
   {
    "duration": 0,
    "start_time": "2022-12-15T12:58:28.984Z"
   },
   {
    "duration": 0,
    "start_time": "2022-12-15T12:58:28.985Z"
   },
   {
    "duration": 0,
    "start_time": "2022-12-15T12:58:28.986Z"
   },
   {
    "duration": 0,
    "start_time": "2022-12-15T12:58:28.988Z"
   },
   {
    "duration": 0,
    "start_time": "2022-12-15T12:58:28.989Z"
   },
   {
    "duration": 0,
    "start_time": "2022-12-15T12:58:28.990Z"
   },
   {
    "duration": 1,
    "start_time": "2022-12-15T12:58:28.990Z"
   },
   {
    "duration": 0,
    "start_time": "2022-12-15T12:58:28.992Z"
   },
   {
    "duration": 0,
    "start_time": "2022-12-15T12:58:28.992Z"
   },
   {
    "duration": 0,
    "start_time": "2022-12-15T12:58:28.993Z"
   },
   {
    "duration": 0,
    "start_time": "2022-12-15T12:58:28.994Z"
   },
   {
    "duration": 0,
    "start_time": "2022-12-15T12:58:28.995Z"
   },
   {
    "duration": 0,
    "start_time": "2022-12-15T12:58:28.996Z"
   },
   {
    "duration": 0,
    "start_time": "2022-12-15T12:58:28.997Z"
   },
   {
    "duration": 0,
    "start_time": "2022-12-15T12:58:28.998Z"
   },
   {
    "duration": 0,
    "start_time": "2022-12-15T12:58:28.999Z"
   },
   {
    "duration": 0,
    "start_time": "2022-12-15T12:58:29.000Z"
   },
   {
    "duration": 4,
    "start_time": "2022-12-15T12:59:10.270Z"
   },
   {
    "duration": 5,
    "start_time": "2022-12-15T12:59:49.337Z"
   },
   {
    "duration": 6,
    "start_time": "2022-12-15T12:59:53.960Z"
   },
   {
    "duration": 4,
    "start_time": "2022-12-15T13:01:35.164Z"
   },
   {
    "duration": 4,
    "start_time": "2022-12-15T13:01:51.757Z"
   },
   {
    "duration": 4,
    "start_time": "2022-12-15T13:01:58.207Z"
   },
   {
    "duration": 5,
    "start_time": "2022-12-15T13:02:10.109Z"
   },
   {
    "duration": 5,
    "start_time": "2022-12-15T13:03:29.201Z"
   },
   {
    "duration": 10,
    "start_time": "2022-12-15T13:03:51.803Z"
   },
   {
    "duration": 4,
    "start_time": "2022-12-15T13:04:16.145Z"
   },
   {
    "duration": 7,
    "start_time": "2022-12-15T13:04:21.015Z"
   },
   {
    "duration": 10,
    "start_time": "2022-12-15T13:05:09.357Z"
   },
   {
    "duration": 1160,
    "start_time": "2022-12-15T13:39:15.566Z"
   },
   {
    "duration": 11,
    "start_time": "2022-12-15T13:39:26.304Z"
   },
   {
    "duration": 8,
    "start_time": "2022-12-15T13:39:43.420Z"
   },
   {
    "duration": 1142,
    "start_time": "2022-12-15T13:49:42.626Z"
   },
   {
    "duration": 9,
    "start_time": "2022-12-15T13:49:43.770Z"
   },
   {
    "duration": 89,
    "start_time": "2022-12-15T13:49:43.781Z"
   },
   {
    "duration": 20,
    "start_time": "2022-12-15T13:49:43.872Z"
   },
   {
    "duration": 19,
    "start_time": "2022-12-15T13:49:43.893Z"
   },
   {
    "duration": 24,
    "start_time": "2022-12-15T13:49:43.914Z"
   },
   {
    "duration": 12,
    "start_time": "2022-12-15T13:49:43.940Z"
   },
   {
    "duration": 37,
    "start_time": "2022-12-15T13:49:43.954Z"
   },
   {
    "duration": 20,
    "start_time": "2022-12-15T13:49:43.994Z"
   },
   {
    "duration": 17,
    "start_time": "2022-12-15T13:49:44.017Z"
   },
   {
    "duration": 16,
    "start_time": "2022-12-15T13:49:44.037Z"
   },
   {
    "duration": 32,
    "start_time": "2022-12-15T13:49:44.054Z"
   },
   {
    "duration": 20,
    "start_time": "2022-12-15T13:49:44.088Z"
   },
   {
    "duration": 12,
    "start_time": "2022-12-15T13:49:44.110Z"
   },
   {
    "duration": 25,
    "start_time": "2022-12-15T13:49:44.124Z"
   },
   {
    "duration": 33,
    "start_time": "2022-12-15T13:49:44.151Z"
   },
   {
    "duration": 12,
    "start_time": "2022-12-15T13:49:44.186Z"
   },
   {
    "duration": 185,
    "start_time": "2022-12-15T13:49:44.200Z"
   },
   {
    "duration": 139,
    "start_time": "2022-12-15T13:49:44.387Z"
   },
   {
    "duration": 11,
    "start_time": "2022-12-15T13:49:44.527Z"
   },
   {
    "duration": 295,
    "start_time": "2022-12-15T13:49:44.540Z"
   },
   {
    "duration": 203,
    "start_time": "2022-12-15T13:49:44.837Z"
   },
   {
    "duration": 354,
    "start_time": "2022-12-15T13:49:45.042Z"
   },
   {
    "duration": 206,
    "start_time": "2022-12-15T13:49:45.398Z"
   },
   {
    "duration": 300,
    "start_time": "2022-12-15T13:49:45.606Z"
   },
   {
    "duration": 8,
    "start_time": "2022-12-15T13:49:45.907Z"
   },
   {
    "duration": 31,
    "start_time": "2022-12-15T13:49:45.917Z"
   },
   {
    "duration": 135,
    "start_time": "2022-12-15T13:49:45.950Z"
   },
   {
    "duration": 4,
    "start_time": "2022-12-15T13:49:46.087Z"
   },
   {
    "duration": 163,
    "start_time": "2022-12-15T13:49:46.092Z"
   },
   {
    "duration": 4,
    "start_time": "2022-12-15T13:49:46.257Z"
   },
   {
    "duration": 275,
    "start_time": "2022-12-15T13:49:46.263Z"
   },
   {
    "duration": 25,
    "start_time": "2022-12-15T13:49:46.540Z"
   },
   {
    "duration": 133,
    "start_time": "2022-12-15T13:49:46.578Z"
   },
   {
    "duration": 23,
    "start_time": "2022-12-15T13:49:46.713Z"
   },
   {
    "duration": 11,
    "start_time": "2022-12-15T13:49:46.738Z"
   },
   {
    "duration": 31,
    "start_time": "2022-12-15T13:49:46.751Z"
   },
   {
    "duration": 9,
    "start_time": "2022-12-15T13:49:46.783Z"
   },
   {
    "duration": 25,
    "start_time": "2022-12-15T13:49:46.793Z"
   },
   {
    "duration": 12,
    "start_time": "2022-12-15T13:49:46.819Z"
   },
   {
    "duration": 21,
    "start_time": "2022-12-15T13:51:35.578Z"
   },
   {
    "duration": 23,
    "start_time": "2022-12-15T13:52:28.651Z"
   },
   {
    "duration": 24,
    "start_time": "2022-12-15T13:52:35.960Z"
   },
   {
    "duration": 10,
    "start_time": "2022-12-15T13:54:42.372Z"
   },
   {
    "duration": 11,
    "start_time": "2022-12-15T13:54:52.927Z"
   },
   {
    "duration": 5,
    "start_time": "2022-12-15T13:57:39.704Z"
   },
   {
    "duration": 5,
    "start_time": "2022-12-15T13:58:43.214Z"
   },
   {
    "duration": 70,
    "start_time": "2022-12-15T13:59:04.742Z"
   },
   {
    "duration": 70,
    "start_time": "2022-12-15T13:59:20.328Z"
   },
   {
    "duration": 9,
    "start_time": "2022-12-15T14:02:33.921Z"
   },
   {
    "duration": 1224,
    "start_time": "2022-12-15T14:03:37.034Z"
   },
   {
    "duration": 9,
    "start_time": "2022-12-15T14:04:38.423Z"
   },
   {
    "duration": 12,
    "start_time": "2022-12-15T14:06:18.362Z"
   },
   {
    "duration": 1117,
    "start_time": "2022-12-15T14:07:40.860Z"
   },
   {
    "duration": 4,
    "start_time": "2022-12-15T14:07:41.979Z"
   },
   {
    "duration": 86,
    "start_time": "2022-12-15T14:07:41.984Z"
   },
   {
    "duration": 18,
    "start_time": "2022-12-15T14:07:42.072Z"
   },
   {
    "duration": 14,
    "start_time": "2022-12-15T14:07:42.092Z"
   },
   {
    "duration": 13,
    "start_time": "2022-12-15T14:07:42.108Z"
   },
   {
    "duration": 8,
    "start_time": "2022-12-15T14:07:42.123Z"
   },
   {
    "duration": 45,
    "start_time": "2022-12-15T14:07:42.133Z"
   },
   {
    "duration": 13,
    "start_time": "2022-12-15T14:07:42.180Z"
   },
   {
    "duration": 10,
    "start_time": "2022-12-15T14:07:42.196Z"
   },
   {
    "duration": 10,
    "start_time": "2022-12-15T14:07:42.207Z"
   },
   {
    "duration": 13,
    "start_time": "2022-12-15T14:07:42.218Z"
   },
   {
    "duration": 10,
    "start_time": "2022-12-15T14:07:42.232Z"
   },
   {
    "duration": 11,
    "start_time": "2022-12-15T14:07:42.244Z"
   },
   {
    "duration": 9,
    "start_time": "2022-12-15T14:07:42.278Z"
   },
   {
    "duration": 14,
    "start_time": "2022-12-15T14:07:42.289Z"
   },
   {
    "duration": 17,
    "start_time": "2022-12-15T14:07:42.304Z"
   },
   {
    "duration": 174,
    "start_time": "2022-12-15T14:07:42.322Z"
   },
   {
    "duration": 135,
    "start_time": "2022-12-15T14:07:42.497Z"
   },
   {
    "duration": 13,
    "start_time": "2022-12-15T14:07:42.633Z"
   },
   {
    "duration": 305,
    "start_time": "2022-12-15T14:07:42.648Z"
   },
   {
    "duration": 197,
    "start_time": "2022-12-15T14:07:42.955Z"
   },
   {
    "duration": 324,
    "start_time": "2022-12-15T14:07:43.154Z"
   },
   {
    "duration": 180,
    "start_time": "2022-12-15T14:07:43.479Z"
   },
   {
    "duration": 319,
    "start_time": "2022-12-15T14:07:43.661Z"
   },
   {
    "duration": 10,
    "start_time": "2022-12-15T14:07:43.982Z"
   },
   {
    "duration": 20,
    "start_time": "2022-12-15T14:07:43.994Z"
   },
   {
    "duration": 199,
    "start_time": "2022-12-15T14:07:44.018Z"
   },
   {
    "duration": 5,
    "start_time": "2022-12-15T14:07:44.219Z"
   },
   {
    "duration": 168,
    "start_time": "2022-12-15T14:07:44.226Z"
   },
   {
    "duration": 4,
    "start_time": "2022-12-15T14:07:44.395Z"
   },
   {
    "duration": 268,
    "start_time": "2022-12-15T14:07:44.401Z"
   },
   {
    "duration": 27,
    "start_time": "2022-12-15T14:07:44.671Z"
   },
   {
    "duration": 138,
    "start_time": "2022-12-15T14:07:44.699Z"
   },
   {
    "duration": 22,
    "start_time": "2022-12-15T14:07:44.838Z"
   },
   {
    "duration": 24,
    "start_time": "2022-12-15T14:07:44.861Z"
   },
   {
    "duration": 10,
    "start_time": "2022-12-15T14:07:44.886Z"
   },
   {
    "duration": 7,
    "start_time": "2022-12-15T14:07:44.897Z"
   },
   {
    "duration": 24,
    "start_time": "2022-12-15T14:07:44.905Z"
   },
   {
    "duration": 12,
    "start_time": "2022-12-15T14:07:44.930Z"
   },
   {
    "duration": 23,
    "start_time": "2022-12-15T14:09:36.898Z"
   },
   {
    "duration": 15,
    "start_time": "2022-12-15T14:11:01.113Z"
   },
   {
    "duration": 14,
    "start_time": "2022-12-15T14:11:10.896Z"
   },
   {
    "duration": 14,
    "start_time": "2022-12-15T14:11:51.157Z"
   },
   {
    "duration": 1251,
    "start_time": "2022-12-15T14:12:27.161Z"
   },
   {
    "duration": 4,
    "start_time": "2022-12-15T14:12:28.415Z"
   },
   {
    "duration": 97,
    "start_time": "2022-12-15T14:12:28.420Z"
   },
   {
    "duration": 20,
    "start_time": "2022-12-15T14:12:28.519Z"
   },
   {
    "duration": 20,
    "start_time": "2022-12-15T14:12:28.540Z"
   },
   {
    "duration": 26,
    "start_time": "2022-12-15T14:12:28.561Z"
   },
   {
    "duration": 15,
    "start_time": "2022-12-15T14:12:28.592Z"
   },
   {
    "duration": 12,
    "start_time": "2022-12-15T14:12:28.609Z"
   },
   {
    "duration": 12,
    "start_time": "2022-12-15T14:12:28.623Z"
   },
   {
    "duration": 24,
    "start_time": "2022-12-15T14:12:28.638Z"
   },
   {
    "duration": 31,
    "start_time": "2022-12-15T14:12:28.663Z"
   },
   {
    "duration": 11,
    "start_time": "2022-12-15T14:12:28.696Z"
   },
   {
    "duration": 12,
    "start_time": "2022-12-15T14:12:28.709Z"
   },
   {
    "duration": 9,
    "start_time": "2022-12-15T14:12:28.723Z"
   },
   {
    "duration": 13,
    "start_time": "2022-12-15T14:12:28.733Z"
   },
   {
    "duration": 31,
    "start_time": "2022-12-15T14:12:28.747Z"
   },
   {
    "duration": 7,
    "start_time": "2022-12-15T14:12:28.781Z"
   },
   {
    "duration": 218,
    "start_time": "2022-12-15T14:12:28.792Z"
   },
   {
    "duration": 143,
    "start_time": "2022-12-15T14:12:29.013Z"
   },
   {
    "duration": 34,
    "start_time": "2022-12-15T14:12:29.157Z"
   },
   {
    "duration": 328,
    "start_time": "2022-12-15T14:12:29.194Z"
   },
   {
    "duration": 228,
    "start_time": "2022-12-15T14:12:29.524Z"
   },
   {
    "duration": 357,
    "start_time": "2022-12-15T14:12:29.754Z"
   },
   {
    "duration": 231,
    "start_time": "2022-12-15T14:12:30.113Z"
   },
   {
    "duration": 365,
    "start_time": "2022-12-15T14:12:30.346Z"
   },
   {
    "duration": 9,
    "start_time": "2022-12-15T14:12:30.712Z"
   },
   {
    "duration": 78,
    "start_time": "2022-12-15T14:12:30.723Z"
   },
   {
    "duration": 223,
    "start_time": "2022-12-15T14:12:30.805Z"
   },
   {
    "duration": 6,
    "start_time": "2022-12-15T14:12:31.030Z"
   },
   {
    "duration": 201,
    "start_time": "2022-12-15T14:12:31.037Z"
   },
   {
    "duration": 5,
    "start_time": "2022-12-15T14:12:31.240Z"
   },
   {
    "duration": 313,
    "start_time": "2022-12-15T14:12:31.246Z"
   },
   {
    "duration": 38,
    "start_time": "2022-12-15T14:12:31.561Z"
   },
   {
    "duration": 164,
    "start_time": "2022-12-15T14:12:31.601Z"
   },
   {
    "duration": 43,
    "start_time": "2022-12-15T14:12:31.766Z"
   },
   {
    "duration": 10,
    "start_time": "2022-12-15T14:12:31.811Z"
   },
   {
    "duration": 17,
    "start_time": "2022-12-15T14:12:31.822Z"
   },
   {
    "duration": 8,
    "start_time": "2022-12-15T14:12:31.840Z"
   },
   {
    "duration": 49,
    "start_time": "2022-12-15T14:12:31.849Z"
   },
   {
    "duration": 16,
    "start_time": "2022-12-15T14:12:31.900Z"
   },
   {
    "duration": 1179,
    "start_time": "2022-12-15T14:17:30.199Z"
   },
   {
    "duration": 3,
    "start_time": "2022-12-15T14:17:31.380Z"
   },
   {
    "duration": 87,
    "start_time": "2022-12-15T14:17:31.385Z"
   },
   {
    "duration": 19,
    "start_time": "2022-12-15T14:17:31.474Z"
   },
   {
    "duration": 15,
    "start_time": "2022-12-15T14:17:31.495Z"
   },
   {
    "duration": 13,
    "start_time": "2022-12-15T14:17:31.511Z"
   },
   {
    "duration": 10,
    "start_time": "2022-12-15T14:17:31.526Z"
   },
   {
    "duration": 48,
    "start_time": "2022-12-15T14:17:31.537Z"
   },
   {
    "duration": 23,
    "start_time": "2022-12-15T14:17:31.586Z"
   },
   {
    "duration": 48,
    "start_time": "2022-12-15T14:17:31.612Z"
   },
   {
    "duration": 15,
    "start_time": "2022-12-15T14:17:31.662Z"
   },
   {
    "duration": 29,
    "start_time": "2022-12-15T14:17:31.679Z"
   },
   {
    "duration": 24,
    "start_time": "2022-12-15T14:17:31.710Z"
   },
   {
    "duration": 19,
    "start_time": "2022-12-15T14:17:31.736Z"
   },
   {
    "duration": 64,
    "start_time": "2022-12-15T14:17:31.757Z"
   },
   {
    "duration": 15,
    "start_time": "2022-12-15T14:17:31.822Z"
   },
   {
    "duration": 7,
    "start_time": "2022-12-15T14:17:31.838Z"
   },
   {
    "duration": 182,
    "start_time": "2022-12-15T14:17:31.847Z"
   },
   {
    "duration": 131,
    "start_time": "2022-12-15T14:17:32.030Z"
   },
   {
    "duration": 21,
    "start_time": "2022-12-15T14:17:32.162Z"
   },
   {
    "duration": 278,
    "start_time": "2022-12-15T14:17:32.185Z"
   },
   {
    "duration": 200,
    "start_time": "2022-12-15T14:17:32.465Z"
   },
   {
    "duration": 361,
    "start_time": "2022-12-15T14:17:32.667Z"
   },
   {
    "duration": 217,
    "start_time": "2022-12-15T14:17:33.030Z"
   },
   {
    "duration": 332,
    "start_time": "2022-12-15T14:17:33.249Z"
   },
   {
    "duration": 8,
    "start_time": "2022-12-15T14:17:33.582Z"
   },
   {
    "duration": 13,
    "start_time": "2022-12-15T14:17:33.591Z"
   },
   {
    "duration": 161,
    "start_time": "2022-12-15T14:17:33.607Z"
   },
   {
    "duration": 10,
    "start_time": "2022-12-15T14:17:33.770Z"
   },
   {
    "duration": 167,
    "start_time": "2022-12-15T14:17:33.782Z"
   },
   {
    "duration": 4,
    "start_time": "2022-12-15T14:17:33.951Z"
   },
   {
    "duration": 328,
    "start_time": "2022-12-15T14:17:33.957Z"
   },
   {
    "duration": 26,
    "start_time": "2022-12-15T14:17:34.287Z"
   },
   {
    "duration": 142,
    "start_time": "2022-12-15T14:17:34.315Z"
   },
   {
    "duration": 26,
    "start_time": "2022-12-15T14:17:34.458Z"
   },
   {
    "duration": 10,
    "start_time": "2022-12-15T14:17:34.486Z"
   },
   {
    "duration": 13,
    "start_time": "2022-12-15T14:17:34.498Z"
   },
   {
    "duration": 6,
    "start_time": "2022-12-15T14:17:34.513Z"
   },
   {
    "duration": 25,
    "start_time": "2022-12-15T14:17:34.521Z"
   },
   {
    "duration": 37,
    "start_time": "2022-12-15T14:17:34.547Z"
   }
  ],
  "kernelspec": {
   "display_name": "Python 3 (ipykernel)",
   "language": "python",
   "name": "python3"
  },
  "language_info": {
   "codemirror_mode": {
    "name": "ipython",
    "version": 3
   },
   "file_extension": ".py",
   "mimetype": "text/x-python",
   "name": "python",
   "nbconvert_exporter": "python",
   "pygments_lexer": "ipython3",
   "version": "3.9.13"
  },
  "toc": {
   "base_numbering": 1,
   "nav_menu": {},
   "number_sections": true,
   "sideBar": true,
   "skip_h1_title": true,
   "title_cell": "Table of Contents",
   "title_sidebar": "Contents",
   "toc_cell": false,
   "toc_position": {},
   "toc_section_display": true,
   "toc_window_display": false
  }
 },
 "nbformat": 4,
 "nbformat_minor": 2
}
