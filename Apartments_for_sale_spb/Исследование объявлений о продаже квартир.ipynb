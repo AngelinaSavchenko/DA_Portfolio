{
 "cells": [
  {
   "cell_type": "code",
   "execution_count": 1,
   "metadata": {},
   "outputs": [
    {
     "name": "stdout",
     "output_type": "stream",
     "text": [
      "Defaulting to user installation because normal site-packages is not writeable\n",
      "Requirement already satisfied: pandas in c:\\programdata\\anaconda3\\lib\\site-packages (1.4.4)\n",
      "Requirement already satisfied: numpy>=1.18.5 in c:\\programdata\\anaconda3\\lib\\site-packages (from pandas) (1.21.5)\n",
      "Requirement already satisfied: pytz>=2020.1 in c:\\programdata\\anaconda3\\lib\\site-packages (from pandas) (2022.1)\n",
      "Requirement already satisfied: python-dateutil>=2.8.1 in c:\\programdata\\anaconda3\\lib\\site-packages (from pandas) (2.8.2)\n",
      "Requirement already satisfied: six>=1.5 in c:\\programdata\\anaconda3\\lib\\site-packages (from python-dateutil>=2.8.1->pandas) (1.16.0)\n"
     ]
    }
   ],
   "source": [
    "!pip install pandas"
   ]
  },
  {
   "cell_type": "markdown",
   "metadata": {},
   "source": [
    "# Исследование объявлений о продаже квартир\n",
    "\n",
    "В вашем распоряжении данные сервиса Яндекс.Недвижимость — архив объявлений о продаже квартир в Санкт-Петербурге и соседних населённых пунктов за несколько лет. Нужно научиться определять рыночную стоимость объектов недвижимости. Наша задача — установить параметры. Это позволит построить автоматизированную систему: она отследит аномалии и мошенническую деятельность. \n",
    "\n",
    "По каждой квартире на продажу доступны два вида данных. Первые вписаны пользователем, вторые — получены автоматически на основе картографических данных. Например, расстояние до центра, аэропорта, ближайшего парка и водоёма. "
   ]
  },
  {
   "cell_type": "markdown",
   "metadata": {},
   "source": [
    "### Откроем файл с данными и изучим общую информацию. "
   ]
  },
  {
   "cell_type": "code",
   "execution_count": 2,
   "metadata": {},
   "outputs": [],
   "source": [
    "#Импортируем библиотеку pandas\n",
    "import pandas as pd\n",
    "#Импортируем библиотеку pyplot\n",
    "import matplotlib.pyplot as plt\n",
    "import numpy as np\n",
    "import seaborn"
   ]
  },
  {
   "cell_type": "code",
   "execution_count": 3,
   "metadata": {},
   "outputs": [],
   "source": [
    "#Считаем данные из csv-файла в датафрейм и сохраним в переменную df\n",
    "try:\n",
    "    df = pd.read_csv('/datasets/real_estate_data.csv', sep='\\t')\n",
    "except:\n",
    "    df = pd.read_csv('https://code.s3.yandex.net/datasets/real_estate_data.csv', sep='\\t')"
   ]
  },
  {
   "cell_type": "code",
   "execution_count": 4,
   "metadata": {},
   "outputs": [
    {
     "name": "stdout",
     "output_type": "stream",
     "text": [
      "<class 'pandas.core.frame.DataFrame'>\n",
      "RangeIndex: 23699 entries, 0 to 23698\n",
      "Data columns (total 22 columns):\n",
      " #   Column                Non-Null Count  Dtype  \n",
      "---  ------                --------------  -----  \n",
      " 0   total_images          23699 non-null  int64  \n",
      " 1   last_price            23699 non-null  float64\n",
      " 2   total_area            23699 non-null  float64\n",
      " 3   first_day_exposition  23699 non-null  object \n",
      " 4   rooms                 23699 non-null  int64  \n",
      " 5   ceiling_height        14504 non-null  float64\n",
      " 6   floors_total          23613 non-null  float64\n",
      " 7   living_area           21796 non-null  float64\n",
      " 8   floor                 23699 non-null  int64  \n",
      " 9   is_apartment          2775 non-null   object \n",
      " 10  studio                23699 non-null  bool   \n",
      " 11  open_plan             23699 non-null  bool   \n",
      " 12  kitchen_area          21421 non-null  float64\n",
      " 13  balcony               12180 non-null  float64\n",
      " 14  locality_name         23650 non-null  object \n",
      " 15  airports_nearest      18157 non-null  float64\n",
      " 16  cityCenters_nearest   18180 non-null  float64\n",
      " 17  parks_around3000      18181 non-null  float64\n",
      " 18  parks_nearest         8079 non-null   float64\n",
      " 19  ponds_around3000      18181 non-null  float64\n",
      " 20  ponds_nearest         9110 non-null   float64\n",
      " 21  days_exposition       20518 non-null  float64\n",
      "dtypes: bool(2), float64(14), int64(3), object(3)\n",
      "memory usage: 3.7+ MB\n"
     ]
    },
    {
     "data": {
      "text/html": [
       "<div>\n",
       "<style scoped>\n",
       "    .dataframe tbody tr th:only-of-type {\n",
       "        vertical-align: middle;\n",
       "    }\n",
       "\n",
       "    .dataframe tbody tr th {\n",
       "        vertical-align: top;\n",
       "    }\n",
       "\n",
       "    .dataframe thead th {\n",
       "        text-align: right;\n",
       "    }\n",
       "</style>\n",
       "<table border=\"1\" class=\"dataframe\">\n",
       "  <thead>\n",
       "    <tr style=\"text-align: right;\">\n",
       "      <th></th>\n",
       "      <th>total_images</th>\n",
       "      <th>last_price</th>\n",
       "      <th>total_area</th>\n",
       "      <th>first_day_exposition</th>\n",
       "      <th>rooms</th>\n",
       "      <th>ceiling_height</th>\n",
       "      <th>floors_total</th>\n",
       "      <th>living_area</th>\n",
       "      <th>floor</th>\n",
       "      <th>is_apartment</th>\n",
       "      <th>...</th>\n",
       "      <th>kitchen_area</th>\n",
       "      <th>balcony</th>\n",
       "      <th>locality_name</th>\n",
       "      <th>airports_nearest</th>\n",
       "      <th>cityCenters_nearest</th>\n",
       "      <th>parks_around3000</th>\n",
       "      <th>parks_nearest</th>\n",
       "      <th>ponds_around3000</th>\n",
       "      <th>ponds_nearest</th>\n",
       "      <th>days_exposition</th>\n",
       "    </tr>\n",
       "  </thead>\n",
       "  <tbody>\n",
       "    <tr>\n",
       "      <th>0</th>\n",
       "      <td>20</td>\n",
       "      <td>13000000.0</td>\n",
       "      <td>108.00</td>\n",
       "      <td>2019-03-07T00:00:00</td>\n",
       "      <td>3</td>\n",
       "      <td>2.70</td>\n",
       "      <td>16.0</td>\n",
       "      <td>51.00</td>\n",
       "      <td>8</td>\n",
       "      <td>NaN</td>\n",
       "      <td>...</td>\n",
       "      <td>25.00</td>\n",
       "      <td>NaN</td>\n",
       "      <td>Санкт-Петербург</td>\n",
       "      <td>18863.0</td>\n",
       "      <td>16028.0</td>\n",
       "      <td>1.0</td>\n",
       "      <td>482.0</td>\n",
       "      <td>2.0</td>\n",
       "      <td>755.0</td>\n",
       "      <td>NaN</td>\n",
       "    </tr>\n",
       "    <tr>\n",
       "      <th>1</th>\n",
       "      <td>7</td>\n",
       "      <td>3350000.0</td>\n",
       "      <td>40.40</td>\n",
       "      <td>2018-12-04T00:00:00</td>\n",
       "      <td>1</td>\n",
       "      <td>NaN</td>\n",
       "      <td>11.0</td>\n",
       "      <td>18.60</td>\n",
       "      <td>1</td>\n",
       "      <td>NaN</td>\n",
       "      <td>...</td>\n",
       "      <td>11.00</td>\n",
       "      <td>2.0</td>\n",
       "      <td>посёлок Шушары</td>\n",
       "      <td>12817.0</td>\n",
       "      <td>18603.0</td>\n",
       "      <td>0.0</td>\n",
       "      <td>NaN</td>\n",
       "      <td>0.0</td>\n",
       "      <td>NaN</td>\n",
       "      <td>81.0</td>\n",
       "    </tr>\n",
       "    <tr>\n",
       "      <th>2</th>\n",
       "      <td>10</td>\n",
       "      <td>5196000.0</td>\n",
       "      <td>56.00</td>\n",
       "      <td>2015-08-20T00:00:00</td>\n",
       "      <td>2</td>\n",
       "      <td>NaN</td>\n",
       "      <td>5.0</td>\n",
       "      <td>34.30</td>\n",
       "      <td>4</td>\n",
       "      <td>NaN</td>\n",
       "      <td>...</td>\n",
       "      <td>8.30</td>\n",
       "      <td>0.0</td>\n",
       "      <td>Санкт-Петербург</td>\n",
       "      <td>21741.0</td>\n",
       "      <td>13933.0</td>\n",
       "      <td>1.0</td>\n",
       "      <td>90.0</td>\n",
       "      <td>2.0</td>\n",
       "      <td>574.0</td>\n",
       "      <td>558.0</td>\n",
       "    </tr>\n",
       "    <tr>\n",
       "      <th>3</th>\n",
       "      <td>0</td>\n",
       "      <td>64900000.0</td>\n",
       "      <td>159.00</td>\n",
       "      <td>2015-07-24T00:00:00</td>\n",
       "      <td>3</td>\n",
       "      <td>NaN</td>\n",
       "      <td>14.0</td>\n",
       "      <td>NaN</td>\n",
       "      <td>9</td>\n",
       "      <td>NaN</td>\n",
       "      <td>...</td>\n",
       "      <td>NaN</td>\n",
       "      <td>0.0</td>\n",
       "      <td>Санкт-Петербург</td>\n",
       "      <td>28098.0</td>\n",
       "      <td>6800.0</td>\n",
       "      <td>2.0</td>\n",
       "      <td>84.0</td>\n",
       "      <td>3.0</td>\n",
       "      <td>234.0</td>\n",
       "      <td>424.0</td>\n",
       "    </tr>\n",
       "    <tr>\n",
       "      <th>4</th>\n",
       "      <td>2</td>\n",
       "      <td>10000000.0</td>\n",
       "      <td>100.00</td>\n",
       "      <td>2018-06-19T00:00:00</td>\n",
       "      <td>2</td>\n",
       "      <td>3.03</td>\n",
       "      <td>14.0</td>\n",
       "      <td>32.00</td>\n",
       "      <td>13</td>\n",
       "      <td>NaN</td>\n",
       "      <td>...</td>\n",
       "      <td>41.00</td>\n",
       "      <td>NaN</td>\n",
       "      <td>Санкт-Петербург</td>\n",
       "      <td>31856.0</td>\n",
       "      <td>8098.0</td>\n",
       "      <td>2.0</td>\n",
       "      <td>112.0</td>\n",
       "      <td>1.0</td>\n",
       "      <td>48.0</td>\n",
       "      <td>121.0</td>\n",
       "    </tr>\n",
       "    <tr>\n",
       "      <th>5</th>\n",
       "      <td>10</td>\n",
       "      <td>2890000.0</td>\n",
       "      <td>30.40</td>\n",
       "      <td>2018-09-10T00:00:00</td>\n",
       "      <td>1</td>\n",
       "      <td>NaN</td>\n",
       "      <td>12.0</td>\n",
       "      <td>14.40</td>\n",
       "      <td>5</td>\n",
       "      <td>NaN</td>\n",
       "      <td>...</td>\n",
       "      <td>9.10</td>\n",
       "      <td>NaN</td>\n",
       "      <td>городской посёлок Янино-1</td>\n",
       "      <td>NaN</td>\n",
       "      <td>NaN</td>\n",
       "      <td>NaN</td>\n",
       "      <td>NaN</td>\n",
       "      <td>NaN</td>\n",
       "      <td>NaN</td>\n",
       "      <td>55.0</td>\n",
       "    </tr>\n",
       "    <tr>\n",
       "      <th>6</th>\n",
       "      <td>6</td>\n",
       "      <td>3700000.0</td>\n",
       "      <td>37.30</td>\n",
       "      <td>2017-11-02T00:00:00</td>\n",
       "      <td>1</td>\n",
       "      <td>NaN</td>\n",
       "      <td>26.0</td>\n",
       "      <td>10.60</td>\n",
       "      <td>6</td>\n",
       "      <td>NaN</td>\n",
       "      <td>...</td>\n",
       "      <td>14.40</td>\n",
       "      <td>1.0</td>\n",
       "      <td>посёлок Парголово</td>\n",
       "      <td>52996.0</td>\n",
       "      <td>19143.0</td>\n",
       "      <td>0.0</td>\n",
       "      <td>NaN</td>\n",
       "      <td>0.0</td>\n",
       "      <td>NaN</td>\n",
       "      <td>155.0</td>\n",
       "    </tr>\n",
       "    <tr>\n",
       "      <th>7</th>\n",
       "      <td>5</td>\n",
       "      <td>7915000.0</td>\n",
       "      <td>71.60</td>\n",
       "      <td>2019-04-18T00:00:00</td>\n",
       "      <td>2</td>\n",
       "      <td>NaN</td>\n",
       "      <td>24.0</td>\n",
       "      <td>NaN</td>\n",
       "      <td>22</td>\n",
       "      <td>NaN</td>\n",
       "      <td>...</td>\n",
       "      <td>18.90</td>\n",
       "      <td>2.0</td>\n",
       "      <td>Санкт-Петербург</td>\n",
       "      <td>23982.0</td>\n",
       "      <td>11634.0</td>\n",
       "      <td>0.0</td>\n",
       "      <td>NaN</td>\n",
       "      <td>0.0</td>\n",
       "      <td>NaN</td>\n",
       "      <td>NaN</td>\n",
       "    </tr>\n",
       "    <tr>\n",
       "      <th>8</th>\n",
       "      <td>20</td>\n",
       "      <td>2900000.0</td>\n",
       "      <td>33.16</td>\n",
       "      <td>2018-05-23T00:00:00</td>\n",
       "      <td>1</td>\n",
       "      <td>NaN</td>\n",
       "      <td>27.0</td>\n",
       "      <td>15.43</td>\n",
       "      <td>26</td>\n",
       "      <td>NaN</td>\n",
       "      <td>...</td>\n",
       "      <td>8.81</td>\n",
       "      <td>NaN</td>\n",
       "      <td>посёлок Мурино</td>\n",
       "      <td>NaN</td>\n",
       "      <td>NaN</td>\n",
       "      <td>NaN</td>\n",
       "      <td>NaN</td>\n",
       "      <td>NaN</td>\n",
       "      <td>NaN</td>\n",
       "      <td>189.0</td>\n",
       "    </tr>\n",
       "    <tr>\n",
       "      <th>9</th>\n",
       "      <td>18</td>\n",
       "      <td>5400000.0</td>\n",
       "      <td>61.00</td>\n",
       "      <td>2017-02-26T00:00:00</td>\n",
       "      <td>3</td>\n",
       "      <td>2.50</td>\n",
       "      <td>9.0</td>\n",
       "      <td>43.60</td>\n",
       "      <td>7</td>\n",
       "      <td>NaN</td>\n",
       "      <td>...</td>\n",
       "      <td>6.50</td>\n",
       "      <td>2.0</td>\n",
       "      <td>Санкт-Петербург</td>\n",
       "      <td>50898.0</td>\n",
       "      <td>15008.0</td>\n",
       "      <td>0.0</td>\n",
       "      <td>NaN</td>\n",
       "      <td>0.0</td>\n",
       "      <td>NaN</td>\n",
       "      <td>289.0</td>\n",
       "    </tr>\n",
       "    <tr>\n",
       "      <th>10</th>\n",
       "      <td>5</td>\n",
       "      <td>5050000.0</td>\n",
       "      <td>39.60</td>\n",
       "      <td>2017-11-16T00:00:00</td>\n",
       "      <td>1</td>\n",
       "      <td>2.67</td>\n",
       "      <td>12.0</td>\n",
       "      <td>20.30</td>\n",
       "      <td>3</td>\n",
       "      <td>NaN</td>\n",
       "      <td>...</td>\n",
       "      <td>8.50</td>\n",
       "      <td>NaN</td>\n",
       "      <td>Санкт-Петербург</td>\n",
       "      <td>38357.0</td>\n",
       "      <td>13878.0</td>\n",
       "      <td>1.0</td>\n",
       "      <td>310.0</td>\n",
       "      <td>2.0</td>\n",
       "      <td>553.0</td>\n",
       "      <td>137.0</td>\n",
       "    </tr>\n",
       "    <tr>\n",
       "      <th>11</th>\n",
       "      <td>9</td>\n",
       "      <td>3300000.0</td>\n",
       "      <td>44.00</td>\n",
       "      <td>2018-08-27T00:00:00</td>\n",
       "      <td>2</td>\n",
       "      <td>NaN</td>\n",
       "      <td>5.0</td>\n",
       "      <td>31.00</td>\n",
       "      <td>4</td>\n",
       "      <td>False</td>\n",
       "      <td>...</td>\n",
       "      <td>6.00</td>\n",
       "      <td>1.0</td>\n",
       "      <td>Ломоносов</td>\n",
       "      <td>48252.0</td>\n",
       "      <td>51677.0</td>\n",
       "      <td>0.0</td>\n",
       "      <td>NaN</td>\n",
       "      <td>0.0</td>\n",
       "      <td>NaN</td>\n",
       "      <td>7.0</td>\n",
       "    </tr>\n",
       "    <tr>\n",
       "      <th>12</th>\n",
       "      <td>10</td>\n",
       "      <td>3890000.0</td>\n",
       "      <td>54.00</td>\n",
       "      <td>2016-06-30T00:00:00</td>\n",
       "      <td>2</td>\n",
       "      <td>NaN</td>\n",
       "      <td>5.0</td>\n",
       "      <td>30.00</td>\n",
       "      <td>5</td>\n",
       "      <td>NaN</td>\n",
       "      <td>...</td>\n",
       "      <td>9.00</td>\n",
       "      <td>0.0</td>\n",
       "      <td>Сертолово</td>\n",
       "      <td>NaN</td>\n",
       "      <td>NaN</td>\n",
       "      <td>NaN</td>\n",
       "      <td>NaN</td>\n",
       "      <td>NaN</td>\n",
       "      <td>NaN</td>\n",
       "      <td>90.0</td>\n",
       "    </tr>\n",
       "    <tr>\n",
       "      <th>13</th>\n",
       "      <td>20</td>\n",
       "      <td>3550000.0</td>\n",
       "      <td>42.80</td>\n",
       "      <td>2017-07-01T00:00:00</td>\n",
       "      <td>2</td>\n",
       "      <td>2.56</td>\n",
       "      <td>5.0</td>\n",
       "      <td>27.00</td>\n",
       "      <td>5</td>\n",
       "      <td>NaN</td>\n",
       "      <td>...</td>\n",
       "      <td>5.20</td>\n",
       "      <td>1.0</td>\n",
       "      <td>Петергоф</td>\n",
       "      <td>37868.0</td>\n",
       "      <td>33058.0</td>\n",
       "      <td>1.0</td>\n",
       "      <td>294.0</td>\n",
       "      <td>3.0</td>\n",
       "      <td>298.0</td>\n",
       "      <td>366.0</td>\n",
       "    </tr>\n",
       "    <tr>\n",
       "      <th>14</th>\n",
       "      <td>1</td>\n",
       "      <td>4400000.0</td>\n",
       "      <td>36.00</td>\n",
       "      <td>2016-06-23T00:00:00</td>\n",
       "      <td>1</td>\n",
       "      <td>NaN</td>\n",
       "      <td>6.0</td>\n",
       "      <td>17.00</td>\n",
       "      <td>1</td>\n",
       "      <td>NaN</td>\n",
       "      <td>...</td>\n",
       "      <td>8.00</td>\n",
       "      <td>0.0</td>\n",
       "      <td>Пушкин</td>\n",
       "      <td>20782.0</td>\n",
       "      <td>30759.0</td>\n",
       "      <td>0.0</td>\n",
       "      <td>NaN</td>\n",
       "      <td>1.0</td>\n",
       "      <td>96.0</td>\n",
       "      <td>203.0</td>\n",
       "    </tr>\n",
       "  </tbody>\n",
       "</table>\n",
       "<p>15 rows × 22 columns</p>\n",
       "</div>"
      ],
      "text/plain": [
       "    total_images  last_price  total_area first_day_exposition  rooms  \\\n",
       "0             20  13000000.0      108.00  2019-03-07T00:00:00      3   \n",
       "1              7   3350000.0       40.40  2018-12-04T00:00:00      1   \n",
       "2             10   5196000.0       56.00  2015-08-20T00:00:00      2   \n",
       "3              0  64900000.0      159.00  2015-07-24T00:00:00      3   \n",
       "4              2  10000000.0      100.00  2018-06-19T00:00:00      2   \n",
       "5             10   2890000.0       30.40  2018-09-10T00:00:00      1   \n",
       "6              6   3700000.0       37.30  2017-11-02T00:00:00      1   \n",
       "7              5   7915000.0       71.60  2019-04-18T00:00:00      2   \n",
       "8             20   2900000.0       33.16  2018-05-23T00:00:00      1   \n",
       "9             18   5400000.0       61.00  2017-02-26T00:00:00      3   \n",
       "10             5   5050000.0       39.60  2017-11-16T00:00:00      1   \n",
       "11             9   3300000.0       44.00  2018-08-27T00:00:00      2   \n",
       "12            10   3890000.0       54.00  2016-06-30T00:00:00      2   \n",
       "13            20   3550000.0       42.80  2017-07-01T00:00:00      2   \n",
       "14             1   4400000.0       36.00  2016-06-23T00:00:00      1   \n",
       "\n",
       "    ceiling_height  floors_total  living_area  floor is_apartment  ...  \\\n",
       "0             2.70          16.0        51.00      8          NaN  ...   \n",
       "1              NaN          11.0        18.60      1          NaN  ...   \n",
       "2              NaN           5.0        34.30      4          NaN  ...   \n",
       "3              NaN          14.0          NaN      9          NaN  ...   \n",
       "4             3.03          14.0        32.00     13          NaN  ...   \n",
       "5              NaN          12.0        14.40      5          NaN  ...   \n",
       "6              NaN          26.0        10.60      6          NaN  ...   \n",
       "7              NaN          24.0          NaN     22          NaN  ...   \n",
       "8              NaN          27.0        15.43     26          NaN  ...   \n",
       "9             2.50           9.0        43.60      7          NaN  ...   \n",
       "10            2.67          12.0        20.30      3          NaN  ...   \n",
       "11             NaN           5.0        31.00      4        False  ...   \n",
       "12             NaN           5.0        30.00      5          NaN  ...   \n",
       "13            2.56           5.0        27.00      5          NaN  ...   \n",
       "14             NaN           6.0        17.00      1          NaN  ...   \n",
       "\n",
       "    kitchen_area  balcony              locality_name  airports_nearest  \\\n",
       "0          25.00      NaN            Санкт-Петербург           18863.0   \n",
       "1          11.00      2.0             посёлок Шушары           12817.0   \n",
       "2           8.30      0.0            Санкт-Петербург           21741.0   \n",
       "3            NaN      0.0            Санкт-Петербург           28098.0   \n",
       "4          41.00      NaN            Санкт-Петербург           31856.0   \n",
       "5           9.10      NaN  городской посёлок Янино-1               NaN   \n",
       "6          14.40      1.0          посёлок Парголово           52996.0   \n",
       "7          18.90      2.0            Санкт-Петербург           23982.0   \n",
       "8           8.81      NaN             посёлок Мурино               NaN   \n",
       "9           6.50      2.0            Санкт-Петербург           50898.0   \n",
       "10          8.50      NaN            Санкт-Петербург           38357.0   \n",
       "11          6.00      1.0                  Ломоносов           48252.0   \n",
       "12          9.00      0.0                  Сертолово               NaN   \n",
       "13          5.20      1.0                   Петергоф           37868.0   \n",
       "14          8.00      0.0                     Пушкин           20782.0   \n",
       "\n",
       "   cityCenters_nearest  parks_around3000  parks_nearest  ponds_around3000  \\\n",
       "0              16028.0               1.0          482.0               2.0   \n",
       "1              18603.0               0.0            NaN               0.0   \n",
       "2              13933.0               1.0           90.0               2.0   \n",
       "3               6800.0               2.0           84.0               3.0   \n",
       "4               8098.0               2.0          112.0               1.0   \n",
       "5                  NaN               NaN            NaN               NaN   \n",
       "6              19143.0               0.0            NaN               0.0   \n",
       "7              11634.0               0.0            NaN               0.0   \n",
       "8                  NaN               NaN            NaN               NaN   \n",
       "9              15008.0               0.0            NaN               0.0   \n",
       "10             13878.0               1.0          310.0               2.0   \n",
       "11             51677.0               0.0            NaN               0.0   \n",
       "12                 NaN               NaN            NaN               NaN   \n",
       "13             33058.0               1.0          294.0               3.0   \n",
       "14             30759.0               0.0            NaN               1.0   \n",
       "\n",
       "    ponds_nearest  days_exposition  \n",
       "0           755.0              NaN  \n",
       "1             NaN             81.0  \n",
       "2           574.0            558.0  \n",
       "3           234.0            424.0  \n",
       "4            48.0            121.0  \n",
       "5             NaN             55.0  \n",
       "6             NaN            155.0  \n",
       "7             NaN              NaN  \n",
       "8             NaN            189.0  \n",
       "9             NaN            289.0  \n",
       "10          553.0            137.0  \n",
       "11            NaN              7.0  \n",
       "12            NaN             90.0  \n",
       "13          298.0            366.0  \n",
       "14           96.0            203.0  \n",
       "\n",
       "[15 rows x 22 columns]"
      ]
     },
     "execution_count": 4,
     "metadata": {},
     "output_type": "execute_result"
    }
   ],
   "source": [
    "#Выведем общую информацию и первые 15 строк массива.\n",
    "df.info()\n",
    "df.head(15)"
   ]
  },
  {
   "cell_type": "code",
   "execution_count": 5,
   "metadata": {},
   "outputs": [
    {
     "data": {
      "text/plain": [
       "array([[<AxesSubplot:title={'center':'total_images'}>,\n",
       "        <AxesSubplot:title={'center':'last_price'}>,\n",
       "        <AxesSubplot:title={'center':'total_area'}>,\n",
       "        <AxesSubplot:title={'center':'rooms'}>],\n",
       "       [<AxesSubplot:title={'center':'ceiling_height'}>,\n",
       "        <AxesSubplot:title={'center':'floors_total'}>,\n",
       "        <AxesSubplot:title={'center':'living_area'}>,\n",
       "        <AxesSubplot:title={'center':'floor'}>],\n",
       "       [<AxesSubplot:title={'center':'kitchen_area'}>,\n",
       "        <AxesSubplot:title={'center':'balcony'}>,\n",
       "        <AxesSubplot:title={'center':'airports_nearest'}>,\n",
       "        <AxesSubplot:title={'center':'cityCenters_nearest'}>],\n",
       "       [<AxesSubplot:title={'center':'parks_around3000'}>,\n",
       "        <AxesSubplot:title={'center':'parks_nearest'}>,\n",
       "        <AxesSubplot:title={'center':'ponds_around3000'}>,\n",
       "        <AxesSubplot:title={'center':'ponds_nearest'}>],\n",
       "       [<AxesSubplot:title={'center':'days_exposition'}>, <AxesSubplot:>,\n",
       "        <AxesSubplot:>, <AxesSubplot:>]], dtype=object)"
      ]
     },
     "execution_count": 5,
     "metadata": {},
     "output_type": "execute_result"
    },
    {
     "data": {
      "image/png": "[encoded data removed]",
      "text/plain": [
       "<Figure size 2000x1500 with 20 Axes>"
      ]
     },
     "metadata": {},
     "output_type": "display_data"
    }
   ],
   "source": [
    "#Построим гистограммы\n",
    "df.hist(figsize=(20,15))"
   ]
  },
  {
   "cell_type": "markdown",
   "metadata": {},
   "source": [
    "### Предобработка данных"
   ]
  },
  {
   "cell_type": "code",
   "execution_count": 6,
   "metadata": {},
   "outputs": [
    {
     "data": {
      "text/plain": [
       "total_images                0\n",
       "last_price                  0\n",
       "total_area                  0\n",
       "first_day_exposition        0\n",
       "rooms                       0\n",
       "ceiling_height           9195\n",
       "floors_total               86\n",
       "living_area              1903\n",
       "floor                       0\n",
       "is_apartment            20924\n",
       "studio                      0\n",
       "open_plan                   0\n",
       "kitchen_area             2278\n",
       "balcony                 11519\n",
       "locality_name              49\n",
       "airports_nearest         5542\n",
       "cityCenters_nearest      5519\n",
       "parks_around3000         5518\n",
       "parks_nearest           15620\n",
       "ponds_around3000         5518\n",
       "ponds_nearest           14589\n",
       "days_exposition          3181\n",
       "dtype: int64"
      ]
     },
     "execution_count": 6,
     "metadata": {},
     "output_type": "execute_result"
    }
   ],
   "source": [
    "#Посмотрим количество пропусков по каждому столбцу\n",
    "df.isna().sum()"
   ]
  },
  {
   "cell_type": "code",
   "execution_count": 7,
   "metadata": {},
   "outputs": [
    {
     "data": {
      "text/plain": [
       "0"
      ]
     },
     "execution_count": 7,
     "metadata": {},
     "output_type": "execute_result"
    }
   ],
   "source": [
    "df.duplicated().sum()"
   ]
  },
  {
   "cell_type": "markdown",
   "metadata": {},
   "source": [
    "Видим большое количество пропусков. Для проведения исследования нам не потребуются все атрибуты. Такие столбцы как airports_nearest, parks_nearest, ponds_nearest, ponds_around3000, parks_around3000 - мы не будем трогать, так как в расчетах эти значения не будут участвовать."
   ]
  },
  {
   "cell_type": "markdown",
   "metadata": {},
   "source": [
    "#### Заполним пустые значения"
   ]
  },
  {
   "cell_type": "code",
   "execution_count": 8,
   "metadata": {},
   "outputs": [],
   "source": [
    "#Заменим название столбца\n",
    "df=df.rename(columns={'cityCenters_nearest': 'city_centers_nearest'})"
   ]
  },
  {
   "cell_type": "code",
   "execution_count": 9,
   "metadata": {},
   "outputs": [],
   "source": [
    "#Отработает пропуски с булевыми значениями\n",
    "df['is_apartment']=df['is_apartment'].fillna(value=False)"
   ]
  },
  {
   "cell_type": "markdown",
   "metadata": {},
   "source": [
    "**Поработаем с выбросами**"
   ]
  },
  {
   "cell_type": "markdown",
   "metadata": {},
   "source": [
    "В выборке есть одна уникальная квартира - равных ей нет. Чтобы она не искажала результаты, мы ее удалим."
   ]
  },
  {
   "cell_type": "code",
   "execution_count": 10,
   "metadata": {},
   "outputs": [
    {
     "data": {
      "text/html": [
       "<div>\n",
       "<style scoped>\n",
       "    .dataframe tbody tr th:only-of-type {\n",
       "        vertical-align: middle;\n",
       "    }\n",
       "\n",
       "    .dataframe tbody tr th {\n",
       "        vertical-align: top;\n",
       "    }\n",
       "\n",
       "    .dataframe thead th {\n",
       "        text-align: right;\n",
       "    }\n",
       "</style>\n",
       "<table border=\"1\" class=\"dataframe\">\n",
       "  <thead>\n",
       "    <tr style=\"text-align: right;\">\n",
       "      <th></th>\n",
       "      <th>total_images</th>\n",
       "      <th>last_price</th>\n",
       "      <th>total_area</th>\n",
       "      <th>first_day_exposition</th>\n",
       "      <th>rooms</th>\n",
       "      <th>ceiling_height</th>\n",
       "      <th>floors_total</th>\n",
       "      <th>living_area</th>\n",
       "      <th>floor</th>\n",
       "      <th>is_apartment</th>\n",
       "      <th>...</th>\n",
       "      <th>kitchen_area</th>\n",
       "      <th>balcony</th>\n",
       "      <th>locality_name</th>\n",
       "      <th>airports_nearest</th>\n",
       "      <th>city_centers_nearest</th>\n",
       "      <th>parks_around3000</th>\n",
       "      <th>parks_nearest</th>\n",
       "      <th>ponds_around3000</th>\n",
       "      <th>ponds_nearest</th>\n",
       "      <th>days_exposition</th>\n",
       "    </tr>\n",
       "  </thead>\n",
       "  <tbody>\n",
       "    <tr>\n",
       "      <th>19540</th>\n",
       "      <td>8</td>\n",
       "      <td>420000000.0</td>\n",
       "      <td>900.0</td>\n",
       "      <td>2017-12-06T00:00:00</td>\n",
       "      <td>12</td>\n",
       "      <td>2.8</td>\n",
       "      <td>25.0</td>\n",
       "      <td>409.7</td>\n",
       "      <td>25</td>\n",
       "      <td>False</td>\n",
       "      <td>...</td>\n",
       "      <td>112.0</td>\n",
       "      <td>NaN</td>\n",
       "      <td>Санкт-Петербург</td>\n",
       "      <td>30706.0</td>\n",
       "      <td>7877.0</td>\n",
       "      <td>0.0</td>\n",
       "      <td>NaN</td>\n",
       "      <td>2.0</td>\n",
       "      <td>318.0</td>\n",
       "      <td>106.0</td>\n",
       "    </tr>\n",
       "  </tbody>\n",
       "</table>\n",
       "<p>1 rows × 22 columns</p>\n",
       "</div>"
      ],
      "text/plain": [
       "       total_images   last_price  total_area first_day_exposition  rooms  \\\n",
       "19540             8  420000000.0       900.0  2017-12-06T00:00:00     12   \n",
       "\n",
       "       ceiling_height  floors_total  living_area  floor  is_apartment  ...  \\\n",
       "19540             2.8          25.0        409.7     25         False  ...   \n",
       "\n",
       "       kitchen_area  balcony    locality_name  airports_nearest  \\\n",
       "19540         112.0      NaN  Санкт-Петербург           30706.0   \n",
       "\n",
       "      city_centers_nearest  parks_around3000  parks_nearest  ponds_around3000  \\\n",
       "19540               7877.0               0.0            NaN               2.0   \n",
       "\n",
       "       ponds_nearest  days_exposition  \n",
       "19540          318.0            106.0  \n",
       "\n",
       "[1 rows x 22 columns]"
      ]
     },
     "execution_count": 10,
     "metadata": {},
     "output_type": "execute_result"
    }
   ],
   "source": [
    "#Сделаем срез, чтобы найти квартиру-аномалию\n",
    "df.query('rooms >= 10 and total_area == 900')"
   ]
  },
  {
   "cell_type": "code",
   "execution_count": 11,
   "metadata": {
    "scrolled": true
   },
   "outputs": [
    {
     "data": {
      "text/html": [
       "<div>\n",
       "<style scoped>\n",
       "    .dataframe tbody tr th:only-of-type {\n",
       "        vertical-align: middle;\n",
       "    }\n",
       "\n",
       "    .dataframe tbody tr th {\n",
       "        vertical-align: top;\n",
       "    }\n",
       "\n",
       "    .dataframe thead th {\n",
       "        text-align: right;\n",
       "    }\n",
       "</style>\n",
       "<table border=\"1\" class=\"dataframe\">\n",
       "  <thead>\n",
       "    <tr style=\"text-align: right;\">\n",
       "      <th></th>\n",
       "      <th>total_images</th>\n",
       "      <th>last_price</th>\n",
       "      <th>total_area</th>\n",
       "      <th>first_day_exposition</th>\n",
       "      <th>rooms</th>\n",
       "      <th>ceiling_height</th>\n",
       "      <th>floors_total</th>\n",
       "      <th>living_area</th>\n",
       "      <th>floor</th>\n",
       "      <th>is_apartment</th>\n",
       "      <th>...</th>\n",
       "      <th>kitchen_area</th>\n",
       "      <th>balcony</th>\n",
       "      <th>locality_name</th>\n",
       "      <th>airports_nearest</th>\n",
       "      <th>city_centers_nearest</th>\n",
       "      <th>parks_around3000</th>\n",
       "      <th>parks_nearest</th>\n",
       "      <th>ponds_around3000</th>\n",
       "      <th>ponds_nearest</th>\n",
       "      <th>days_exposition</th>\n",
       "    </tr>\n",
       "  </thead>\n",
       "  <tbody>\n",
       "  </tbody>\n",
       "</table>\n",
       "<p>0 rows × 22 columns</p>\n",
       "</div>"
      ],
      "text/plain": [
       "Empty DataFrame\n",
       "Columns: [total_images, last_price, total_area, first_day_exposition, rooms, ceiling_height, floors_total, living_area, floor, is_apartment, studio, open_plan, kitchen_area, balcony, locality_name, airports_nearest, city_centers_nearest, parks_around3000, parks_nearest, ponds_around3000, ponds_nearest, days_exposition]\n",
       "Index: []\n",
       "\n",
       "[0 rows x 22 columns]"
      ]
     },
     "execution_count": 11,
     "metadata": {},
     "output_type": "execute_result"
    }
   ],
   "source": [
    "#Удалим строку с квартирой стоимость 420 млн.\n",
    "df = df.query('total_area != 900')\n",
    "df.query('rooms >= 10 and total_area == 900')"
   ]
  },
  {
   "cell_type": "code",
   "execution_count": 12,
   "metadata": {},
   "outputs": [
    {
     "data": {
      "text/html": [
       "<div>\n",
       "<style scoped>\n",
       "    .dataframe tbody tr th:only-of-type {\n",
       "        vertical-align: middle;\n",
       "    }\n",
       "\n",
       "    .dataframe tbody tr th {\n",
       "        vertical-align: top;\n",
       "    }\n",
       "\n",
       "    .dataframe thead th {\n",
       "        text-align: right;\n",
       "    }\n",
       "</style>\n",
       "<table border=\"1\" class=\"dataframe\">\n",
       "  <thead>\n",
       "    <tr style=\"text-align: right;\">\n",
       "      <th></th>\n",
       "      <th>total_images</th>\n",
       "      <th>last_price</th>\n",
       "      <th>total_area</th>\n",
       "      <th>first_day_exposition</th>\n",
       "      <th>rooms</th>\n",
       "      <th>ceiling_height</th>\n",
       "      <th>floors_total</th>\n",
       "      <th>living_area</th>\n",
       "      <th>floor</th>\n",
       "      <th>is_apartment</th>\n",
       "      <th>...</th>\n",
       "      <th>kitchen_area</th>\n",
       "      <th>balcony</th>\n",
       "      <th>locality_name</th>\n",
       "      <th>airports_nearest</th>\n",
       "      <th>city_centers_nearest</th>\n",
       "      <th>parks_around3000</th>\n",
       "      <th>parks_nearest</th>\n",
       "      <th>ponds_around3000</th>\n",
       "      <th>ponds_nearest</th>\n",
       "      <th>days_exposition</th>\n",
       "    </tr>\n",
       "  </thead>\n",
       "  <tbody>\n",
       "  </tbody>\n",
       "</table>\n",
       "<p>0 rows × 22 columns</p>\n",
       "</div>"
      ],
      "text/plain": [
       "Empty DataFrame\n",
       "Columns: [total_images, last_price, total_area, first_day_exposition, rooms, ceiling_height, floors_total, living_area, floor, is_apartment, studio, open_plan, kitchen_area, balcony, locality_name, airports_nearest, city_centers_nearest, parks_around3000, parks_nearest, ponds_around3000, ponds_nearest, days_exposition]\n",
       "Index: []\n",
       "\n",
       "[0 rows x 22 columns]"
      ]
     },
     "execution_count": 12,
     "metadata": {},
     "output_type": "execute_result"
    }
   ],
   "source": [
    "#Удалим строку с квартирой с подозрительно низкой стоимостью 12 190.\n",
    "df = df.query('total_area != 900')\n",
    "df.query('rooms >= 10 and total_area == 900')"
   ]
  },
  {
   "cell_type": "markdown",
   "metadata": {},
   "source": [
    "Найдем и удалим выбросы в значениях высот полотков"
   ]
  },
  {
   "cell_type": "code",
   "execution_count": 13,
   "metadata": {
    "scrolled": true
   },
   "outputs": [
    {
     "data": {
      "text/plain": [
       "ceiling_height\n",
       "2.50              3515\n",
       "2.60              1646\n",
       "2.70              1574\n",
       "3.00              1112\n",
       "2.80               992\n",
       "                  ... \n",
       "3.88                 1\n",
       "3.93                 1\n",
       "3.98                 1\n",
       "4.06                 1\n",
       "100.00               1\n",
       "Length: 183, dtype: int64"
      ]
     },
     "execution_count": 13,
     "metadata": {},
     "output_type": "execute_result"
    }
   ],
   "source": [
    "#Посмотрим какие есть аномалии\n",
    "df[['ceiling_height']].value_counts()"
   ]
  },
  {
   "cell_type": "code",
   "execution_count": 14,
   "metadata": {},
   "outputs": [
    {
     "data": {
      "text/html": [
       "<div>\n",
       "<style scoped>\n",
       "    .dataframe tbody tr th:only-of-type {\n",
       "        vertical-align: middle;\n",
       "    }\n",
       "\n",
       "    .dataframe tbody tr th {\n",
       "        vertical-align: top;\n",
       "    }\n",
       "\n",
       "    .dataframe thead th {\n",
       "        text-align: right;\n",
       "    }\n",
       "</style>\n",
       "<table border=\"1\" class=\"dataframe\">\n",
       "  <thead>\n",
       "    <tr style=\"text-align: right;\">\n",
       "      <th></th>\n",
       "      <th>total_images</th>\n",
       "      <th>last_price</th>\n",
       "      <th>total_area</th>\n",
       "      <th>first_day_exposition</th>\n",
       "      <th>rooms</th>\n",
       "      <th>ceiling_height</th>\n",
       "      <th>floors_total</th>\n",
       "      <th>living_area</th>\n",
       "      <th>floor</th>\n",
       "      <th>is_apartment</th>\n",
       "      <th>...</th>\n",
       "      <th>kitchen_area</th>\n",
       "      <th>balcony</th>\n",
       "      <th>locality_name</th>\n",
       "      <th>airports_nearest</th>\n",
       "      <th>city_centers_nearest</th>\n",
       "      <th>parks_around3000</th>\n",
       "      <th>parks_nearest</th>\n",
       "      <th>ponds_around3000</th>\n",
       "      <th>ponds_nearest</th>\n",
       "      <th>days_exposition</th>\n",
       "    </tr>\n",
       "  </thead>\n",
       "  <tbody>\n",
       "    <tr>\n",
       "      <th>5712</th>\n",
       "      <td>5</td>\n",
       "      <td>1500000.0</td>\n",
       "      <td>42.8</td>\n",
       "      <td>2017-08-14T00:00:00</td>\n",
       "      <td>2</td>\n",
       "      <td>1.20</td>\n",
       "      <td>2.0</td>\n",
       "      <td>27.5</td>\n",
       "      <td>1</td>\n",
       "      <td>False</td>\n",
       "      <td>...</td>\n",
       "      <td>5.20</td>\n",
       "      <td>NaN</td>\n",
       "      <td>городской посёлок Мга</td>\n",
       "      <td>NaN</td>\n",
       "      <td>NaN</td>\n",
       "      <td>NaN</td>\n",
       "      <td>NaN</td>\n",
       "      <td>NaN</td>\n",
       "      <td>NaN</td>\n",
       "      <td>248.0</td>\n",
       "    </tr>\n",
       "    <tr>\n",
       "      <th>16934</th>\n",
       "      <td>5</td>\n",
       "      <td>4100000.0</td>\n",
       "      <td>40.0</td>\n",
       "      <td>2017-10-17T00:00:00</td>\n",
       "      <td>1</td>\n",
       "      <td>1.75</td>\n",
       "      <td>37.0</td>\n",
       "      <td>17.4</td>\n",
       "      <td>5</td>\n",
       "      <td>False</td>\n",
       "      <td>...</td>\n",
       "      <td>8.34</td>\n",
       "      <td>NaN</td>\n",
       "      <td>Санкт-Петербург</td>\n",
       "      <td>18732.0</td>\n",
       "      <td>20444.0</td>\n",
       "      <td>0.0</td>\n",
       "      <td>NaN</td>\n",
       "      <td>3.0</td>\n",
       "      <td>80.0</td>\n",
       "      <td>71.0</td>\n",
       "    </tr>\n",
       "    <tr>\n",
       "      <th>22590</th>\n",
       "      <td>16</td>\n",
       "      <td>6000000.0</td>\n",
       "      <td>55.0</td>\n",
       "      <td>2018-10-31T00:00:00</td>\n",
       "      <td>2</td>\n",
       "      <td>1.00</td>\n",
       "      <td>12.0</td>\n",
       "      <td>32.4</td>\n",
       "      <td>7</td>\n",
       "      <td>False</td>\n",
       "      <td>...</td>\n",
       "      <td>10.00</td>\n",
       "      <td>NaN</td>\n",
       "      <td>Санкт-Петербург</td>\n",
       "      <td>33053.0</td>\n",
       "      <td>14217.0</td>\n",
       "      <td>2.0</td>\n",
       "      <td>293.0</td>\n",
       "      <td>2.0</td>\n",
       "      <td>289.0</td>\n",
       "      <td>13.0</td>\n",
       "    </tr>\n",
       "  </tbody>\n",
       "</table>\n",
       "<p>3 rows × 22 columns</p>\n",
       "</div>"
      ],
      "text/plain": [
       "       total_images  last_price  total_area first_day_exposition  rooms  \\\n",
       "5712              5   1500000.0        42.8  2017-08-14T00:00:00      2   \n",
       "16934             5   4100000.0        40.0  2017-10-17T00:00:00      1   \n",
       "22590            16   6000000.0        55.0  2018-10-31T00:00:00      2   \n",
       "\n",
       "       ceiling_height  floors_total  living_area  floor  is_apartment  ...  \\\n",
       "5712             1.20           2.0         27.5      1         False  ...   \n",
       "16934            1.75          37.0         17.4      5         False  ...   \n",
       "22590            1.00          12.0         32.4      7         False  ...   \n",
       "\n",
       "       kitchen_area  balcony          locality_name  airports_nearest  \\\n",
       "5712           5.20      NaN  городской посёлок Мга               NaN   \n",
       "16934          8.34      NaN        Санкт-Петербург           18732.0   \n",
       "22590         10.00      NaN        Санкт-Петербург           33053.0   \n",
       "\n",
       "      city_centers_nearest  parks_around3000  parks_nearest  ponds_around3000  \\\n",
       "5712                   NaN               NaN            NaN               NaN   \n",
       "16934              20444.0               0.0            NaN               3.0   \n",
       "22590              14217.0               2.0          293.0               2.0   \n",
       "\n",
       "       ponds_nearest  days_exposition  \n",
       "5712             NaN            248.0  \n",
       "16934           80.0             71.0  \n",
       "22590          289.0             13.0  \n",
       "\n",
       "[3 rows x 22 columns]"
      ]
     },
     "execution_count": 14,
     "metadata": {},
     "output_type": "execute_result"
    }
   ],
   "source": [
    "df.query('ceiling_height < 2')"
   ]
  },
  {
   "cell_type": "code",
   "execution_count": 15,
   "metadata": {},
   "outputs": [
    {
     "data": {
      "text/plain": [
       "75"
      ]
     },
     "execution_count": 15,
     "metadata": {},
     "output_type": "execute_result"
    }
   ],
   "source": [
    "#Посчитаем сколько в базе квартир с потолками выше 4м\n",
    "len(df.query('ceiling_height > 4'))"
   ]
  },
  {
   "cell_type": "code",
   "execution_count": 16,
   "metadata": {},
   "outputs": [
    {
     "data": {
      "text/plain": [
       "<AxesSubplot:>"
      ]
     },
     "execution_count": 16,
     "metadata": {},
     "output_type": "execute_result"
    },
    {
     "data": {
      "image/png": "[encoded data removed]",
      "text/plain": [
       "<Figure size 640x480 with 1 Axes>"
      ]
     },
     "metadata": {},
     "output_type": "display_data"
    }
   ],
   "source": [
    "#Посмотрим как распределяются значения в столбце ceiling_height\n",
    "df['ceiling_height'].hist(range=(0,5))"
   ]
  },
  {
   "cell_type": "code",
   "execution_count": 17,
   "metadata": {},
   "outputs": [
    {
     "data": {
      "text/plain": [
       "2.65"
      ]
     },
     "execution_count": 17,
     "metadata": {},
     "output_type": "execute_result"
    }
   ],
   "source": [
    "#Избавимся от выбросов и узнаем медианное значение\n",
    "df = df.loc[df['ceiling_height'] < 4]\n",
    "df['ceiling_height'].median()\n"
   ]
  },
  {
   "cell_type": "code",
   "execution_count": 18,
   "metadata": {},
   "outputs": [],
   "source": [
    "#Заполним пропуски медианым знаечнием\n",
    "df['ceiling_height'] = df['ceiling_height'].fillna(2.65)"
   ]
  },
  {
   "cell_type": "markdown",
   "metadata": {},
   "source": [
    "Среди значений ceiling_height видим высоту потолка 100м - это явно ошибка ввода. По гистограме, где мы смотрим значения не более 5м, очевидно, что все значения лежат в промежутке от 2,5 до 3,5м - что является норной. Объявлений с высотой полотка свеше 4м всего 75 - мы решили их удалить. Пропуски заполнили значением по медиане. "
   ]
  },
  {
   "cell_type": "code",
   "execution_count": 19,
   "metadata": {
    "scrolled": true
   },
   "outputs": [
    {
     "data": {
      "text/html": [
       "<div>\n",
       "<style scoped>\n",
       "    .dataframe tbody tr th:only-of-type {\n",
       "        vertical-align: middle;\n",
       "    }\n",
       "\n",
       "    .dataframe tbody tr th {\n",
       "        vertical-align: top;\n",
       "    }\n",
       "\n",
       "    .dataframe thead th {\n",
       "        text-align: right;\n",
       "    }\n",
       "</style>\n",
       "<table border=\"1\" class=\"dataframe\">\n",
       "  <thead>\n",
       "    <tr style=\"text-align: right;\">\n",
       "      <th></th>\n",
       "      <th>total_images</th>\n",
       "      <th>last_price</th>\n",
       "      <th>total_area</th>\n",
       "      <th>rooms</th>\n",
       "      <th>ceiling_height</th>\n",
       "      <th>floors_total</th>\n",
       "      <th>living_area</th>\n",
       "      <th>floor</th>\n",
       "      <th>kitchen_area</th>\n",
       "      <th>balcony</th>\n",
       "      <th>airports_nearest</th>\n",
       "      <th>city_centers_nearest</th>\n",
       "      <th>parks_around3000</th>\n",
       "      <th>parks_nearest</th>\n",
       "      <th>ponds_around3000</th>\n",
       "      <th>ponds_nearest</th>\n",
       "      <th>days_exposition</th>\n",
       "    </tr>\n",
       "  </thead>\n",
       "  <tbody>\n",
       "    <tr>\n",
       "      <th>count</th>\n",
       "      <td>14389.000000</td>\n",
       "      <td>1.438900e+04</td>\n",
       "      <td>14389.000000</td>\n",
       "      <td>14389.000000</td>\n",
       "      <td>14389.000000</td>\n",
       "      <td>14380.000000</td>\n",
       "      <td>13600.000000</td>\n",
       "      <td>14389.000000</td>\n",
       "      <td>13464.000000</td>\n",
       "      <td>7203.000000</td>\n",
       "      <td>11446.000000</td>\n",
       "      <td>11463.000000</td>\n",
       "      <td>11464.000000</td>\n",
       "      <td>5231.000000</td>\n",
       "      <td>11464.000000</td>\n",
       "      <td>5664.000000</td>\n",
       "      <td>11963.000000</td>\n",
       "    </tr>\n",
       "    <tr>\n",
       "      <th>mean</th>\n",
       "      <td>10.308778</td>\n",
       "      <td>6.693211e+06</td>\n",
       "      <td>61.419440</td>\n",
       "      <td>2.131003</td>\n",
       "      <td>2.717237</td>\n",
       "      <td>10.201460</td>\n",
       "      <td>35.380730</td>\n",
       "      <td>5.633053</td>\n",
       "      <td>10.517391</td>\n",
       "      <td>1.359850</td>\n",
       "      <td>28839.254412</td>\n",
       "      <td>14118.337346</td>\n",
       "      <td>0.634770</td>\n",
       "      <td>477.044542</td>\n",
       "      <td>0.770150</td>\n",
       "      <td>519.029661</td>\n",
       "      <td>189.801471</td>\n",
       "    </tr>\n",
       "    <tr>\n",
       "      <th>std</th>\n",
       "      <td>5.614486</td>\n",
       "      <td>9.183635e+06</td>\n",
       "      <td>35.104971</td>\n",
       "      <td>1.089543</td>\n",
       "      <td>0.250571</td>\n",
       "      <td>6.200026</td>\n",
       "      <td>21.820751</td>\n",
       "      <td>4.619950</td>\n",
       "      <td>5.891545</td>\n",
       "      <td>1.067252</td>\n",
       "      <td>12644.546367</td>\n",
       "      <td>8738.006332</td>\n",
       "      <td>0.817446</td>\n",
       "      <td>320.783326</td>\n",
       "      <td>0.947885</td>\n",
       "      <td>280.476234</td>\n",
       "      <td>228.164568</td>\n",
       "    </tr>\n",
       "    <tr>\n",
       "      <th>min</th>\n",
       "      <td>0.000000</td>\n",
       "      <td>1.219000e+04</td>\n",
       "      <td>12.000000</td>\n",
       "      <td>0.000000</td>\n",
       "      <td>1.000000</td>\n",
       "      <td>1.000000</td>\n",
       "      <td>2.000000</td>\n",
       "      <td>1.000000</td>\n",
       "      <td>1.300000</td>\n",
       "      <td>0.000000</td>\n",
       "      <td>0.000000</td>\n",
       "      <td>181.000000</td>\n",
       "      <td>0.000000</td>\n",
       "      <td>3.000000</td>\n",
       "      <td>0.000000</td>\n",
       "      <td>16.000000</td>\n",
       "      <td>1.000000</td>\n",
       "    </tr>\n",
       "    <tr>\n",
       "      <th>25%</th>\n",
       "      <td>6.000000</td>\n",
       "      <td>3.550000e+06</td>\n",
       "      <td>41.000000</td>\n",
       "      <td>1.000000</td>\n",
       "      <td>2.510000</td>\n",
       "      <td>5.000000</td>\n",
       "      <td>19.100000</td>\n",
       "      <td>2.000000</td>\n",
       "      <td>7.000000</td>\n",
       "      <td>1.000000</td>\n",
       "      <td>18504.250000</td>\n",
       "      <td>9170.500000</td>\n",
       "      <td>0.000000</td>\n",
       "      <td>285.000000</td>\n",
       "      <td>0.000000</td>\n",
       "      <td>287.000000</td>\n",
       "      <td>45.000000</td>\n",
       "    </tr>\n",
       "    <tr>\n",
       "      <th>50%</th>\n",
       "      <td>10.000000</td>\n",
       "      <td>4.850000e+06</td>\n",
       "      <td>53.000000</td>\n",
       "      <td>2.000000</td>\n",
       "      <td>2.650000</td>\n",
       "      <td>9.000000</td>\n",
       "      <td>30.700000</td>\n",
       "      <td>4.000000</td>\n",
       "      <td>9.000000</td>\n",
       "      <td>1.000000</td>\n",
       "      <td>26785.500000</td>\n",
       "      <td>12995.000000</td>\n",
       "      <td>0.000000</td>\n",
       "      <td>448.000000</td>\n",
       "      <td>0.000000</td>\n",
       "      <td>504.000000</td>\n",
       "      <td>103.000000</td>\n",
       "    </tr>\n",
       "    <tr>\n",
       "      <th>75%</th>\n",
       "      <td>15.000000</td>\n",
       "      <td>7.000000e+06</td>\n",
       "      <td>71.000000</td>\n",
       "      <td>3.000000</td>\n",
       "      <td>2.800000</td>\n",
       "      <td>14.000000</td>\n",
       "      <td>43.100000</td>\n",
       "      <td>7.000000</td>\n",
       "      <td>12.000000</td>\n",
       "      <td>2.000000</td>\n",
       "      <td>37131.000000</td>\n",
       "      <td>16053.500000</td>\n",
       "      <td>1.000000</td>\n",
       "      <td>602.000000</td>\n",
       "      <td>1.000000</td>\n",
       "      <td>733.000000</td>\n",
       "      <td>246.000000</td>\n",
       "    </tr>\n",
       "    <tr>\n",
       "      <th>max</th>\n",
       "      <td>35.000000</td>\n",
       "      <td>3.300000e+08</td>\n",
       "      <td>631.200000</td>\n",
       "      <td>16.000000</td>\n",
       "      <td>3.980000</td>\n",
       "      <td>60.000000</td>\n",
       "      <td>409.000000</td>\n",
       "      <td>30.000000</td>\n",
       "      <td>100.000000</td>\n",
       "      <td>5.000000</td>\n",
       "      <td>84869.000000</td>\n",
       "      <td>65968.000000</td>\n",
       "      <td>3.000000</td>\n",
       "      <td>3190.000000</td>\n",
       "      <td>3.000000</td>\n",
       "      <td>1344.000000</td>\n",
       "      <td>1580.000000</td>\n",
       "    </tr>\n",
       "  </tbody>\n",
       "</table>\n",
       "</div>"
      ],
      "text/plain": [
       "       total_images    last_price    total_area         rooms  ceiling_height  \\\n",
       "count  14389.000000  1.438900e+04  14389.000000  14389.000000    14389.000000   \n",
       "mean      10.308778  6.693211e+06     61.419440      2.131003        2.717237   \n",
       "std        5.614486  9.183635e+06     35.104971      1.089543        0.250571   \n",
       "min        0.000000  1.219000e+04     12.000000      0.000000        1.000000   \n",
       "25%        6.000000  3.550000e+06     41.000000      1.000000        2.510000   \n",
       "50%       10.000000  4.850000e+06     53.000000      2.000000        2.650000   \n",
       "75%       15.000000  7.000000e+06     71.000000      3.000000        2.800000   \n",
       "max       35.000000  3.300000e+08    631.200000     16.000000        3.980000   \n",
       "\n",
       "       floors_total   living_area         floor  kitchen_area      balcony  \\\n",
       "count  14380.000000  13600.000000  14389.000000  13464.000000  7203.000000   \n",
       "mean      10.201460     35.380730      5.633053     10.517391     1.359850   \n",
       "std        6.200026     21.820751      4.619950      5.891545     1.067252   \n",
       "min        1.000000      2.000000      1.000000      1.300000     0.000000   \n",
       "25%        5.000000     19.100000      2.000000      7.000000     1.000000   \n",
       "50%        9.000000     30.700000      4.000000      9.000000     1.000000   \n",
       "75%       14.000000     43.100000      7.000000     12.000000     2.000000   \n",
       "max       60.000000    409.000000     30.000000    100.000000     5.000000   \n",
       "\n",
       "       airports_nearest  city_centers_nearest  parks_around3000  \\\n",
       "count      11446.000000          11463.000000      11464.000000   \n",
       "mean       28839.254412          14118.337346          0.634770   \n",
       "std        12644.546367           8738.006332          0.817446   \n",
       "min            0.000000            181.000000          0.000000   \n",
       "25%        18504.250000           9170.500000          0.000000   \n",
       "50%        26785.500000          12995.000000          0.000000   \n",
       "75%        37131.000000          16053.500000          1.000000   \n",
       "max        84869.000000          65968.000000          3.000000   \n",
       "\n",
       "       parks_nearest  ponds_around3000  ponds_nearest  days_exposition  \n",
       "count    5231.000000      11464.000000    5664.000000     11963.000000  \n",
       "mean      477.044542          0.770150     519.029661       189.801471  \n",
       "std       320.783326          0.947885     280.476234       228.164568  \n",
       "min         3.000000          0.000000      16.000000         1.000000  \n",
       "25%       285.000000          0.000000     287.000000        45.000000  \n",
       "50%       448.000000          0.000000     504.000000       103.000000  \n",
       "75%       602.000000          1.000000     733.000000       246.000000  \n",
       "max      3190.000000          3.000000    1344.000000      1580.000000  "
      ]
     },
     "execution_count": 19,
     "metadata": {},
     "output_type": "execute_result"
    }
   ],
   "source": [
    "#Все значения допустимы, если учитывать, что объявления о продаже комнат в коммуналках, например.\n",
    "df.describe()    "
   ]
  },
  {
   "cell_type": "markdown",
   "metadata": {},
   "source": [
    "Среди значений мы видим аномально большое значений в графе floors_total = 60. Проверим его отдельно. Также есть аномально высокое значение в графе days_exposition - данное значение обработаем отдельно.\n",
    "\n",
    "Прочие данные в норме. \n",
    "Видим, что в столбцах нет значений равных 0. Применим это значения вместо NaN"
   ]
  },
  {
   "cell_type": "code",
   "execution_count": 20,
   "metadata": {},
   "outputs": [],
   "source": [
    "#Заменим значения, где за пропуски справедливо принять 0.\n",
    "df[['balcony', 'days_exposition', 'living_area', 'kitchen_area', 'city_centers_nearest']] = df[['balcony', 'days_exposition', 'living_area', 'kitchen_area', 'city_centers_nearest']].fillna(0)"
   ]
  },
  {
   "cell_type": "code",
   "execution_count": 21,
   "metadata": {
    "scrolled": true
   },
   "outputs": [],
   "source": [
    "#Отсутствующих значений в locality_name и floors_total очень мало, можно их удалить без вреда для исследования.\n",
    "df = df.dropna(subset=['locality_name', 'floors_total'])"
   ]
  },
  {
   "cell_type": "code",
   "execution_count": 22,
   "metadata": {},
   "outputs": [
    {
     "data": {
      "text/plain": [
       "array(['Санкт-Петербург', 'Петергоф', 'посёлок Парголово',\n",
       "       'деревня Кудрово', 'Пушкин', 'поселок городского типа Красный Бор',\n",
       "       'посёлок Мурино', 'Сертолово', 'Гатчина', 'поселок Мурино',\n",
       "       'Ломоносов', 'деревня Фёдоровское', 'Выборг', 'Кронштадт',\n",
       "       'Колпино', 'Кировск', 'деревня Новое Девяткино',\n",
       "       'посёлок городского типа Сиверский',\n",
       "       'садовое товарищество Новая Ропша', 'Павловск', 'Всеволожск',\n",
       "       'Волхов', 'Кингисепп', 'Приозерск', 'Сестрорецк',\n",
       "       'поселок городского типа Кузьмоловский', 'деревня Куттузи',\n",
       "       'поселок Торковичи', 'посёлок Шушары', 'поселок Первомайское',\n",
       "       'Красное Село', 'посёлок Понтонный', 'деревня Старая',\n",
       "       'деревня Лесколово', 'посёлок Новый Свет', 'село Путилово',\n",
       "       'Ивангород', 'Сланцы', 'Шлиссельбург', 'Никольское', 'Зеленогорск',\n",
       "       'Сосновый Бор', 'деревня Оржицы', 'деревня Кальтино', 'Кудрово',\n",
       "       'поселок городского типа Рощино', 'Сясьстрой', 'Кириши', 'Луга',\n",
       "       'Волосово', 'поселок Оредеж',\n",
       "       'посёлок городского типа Красный Бор', 'поселок Бугры',\n",
       "       'посёлок Металлострой', 'посёлок Молодёжное', 'Тихвин',\n",
       "       'посёлок Победа', 'деревня Нурма',\n",
       "       'поселок городского типа Синявино', 'Тосно',\n",
       "       'посёлок городского типа Кузьмоловский', 'поселок Романовка',\n",
       "       'посёлок Александровская', 'деревня Лопухинка',\n",
       "       'поселок городского типа Советский', 'посёлок Петровское',\n",
       "       'посёлок городского типа Токсово', 'поселок Новый Свет',\n",
       "       'деревня Келози', 'деревня Вартемяги', 'Подпорожье',\n",
       "       'посёлок Тельмана', 'городской поселок Большая Ижора',\n",
       "       'городской посёлок Янино-1', 'городской посёлок Павлово',\n",
       "       'деревня Агалатово', 'поселок Цвелодубово',\n",
       "       'поселок городского типа Рахья', 'поселок городского типа Вырица',\n",
       "       'деревня Белогорка', 'поселок Заводской', 'деревня Горбунки',\n",
       "       'Мурино', 'деревня Батово', 'деревня Заневка', 'поселок Сельцо',\n",
       "       'городской посёлок Фёдоровское', 'деревня Мистолово',\n",
       "       'поселок Зимитицы', 'поселок Барышево', 'деревня Разметелево',\n",
       "       'поселок городского типа имени Свердлова', 'деревня Пеники',\n",
       "       'поселок Рябово', 'Отрадное', 'деревня Бегуницы', 'посёлок Поляны',\n",
       "       'посёлок Аннино', 'посёлок Стрельна', 'поселок Елизаветино',\n",
       "       'посёлок городского типа Кузнечное', 'поселок Запорожское',\n",
       "       'посёлок городского типа Рощино', 'поселок Молодцово',\n",
       "       'деревня Гостилицы', 'Коммунар',\n",
       "       'посёлок городского типа имени Морозова', 'посёлок Песочный',\n",
       "       'поселок Ильичёво', 'деревня Колтуши',\n",
       "       'посёлок городского типа Тайцы', 'поселок станции Вещево',\n",
       "       'деревня Калитино', 'поселок городского типа Дубровка',\n",
       "       'посёлок городского типа имени Свердлова', 'деревня Коркино',\n",
       "       'Новая Ладога', 'посёлок Ропша',\n",
       "       'поселок городского типа Приладожский', 'посёлок Щеглово',\n",
       "       'посёлок Гаврилово', 'Пикалёво', 'деревня Рабитицы',\n",
       "       'поселок городского типа Никольский', 'деревня Большие Колпаны',\n",
       "       'посёлок городского типа Лебяжье', 'деревня Кузьмолово',\n",
       "       'деревня Малые Колпаны', 'поселок Тельмана', 'деревня Лаголово',\n",
       "       'городской посёлок Назия', 'посёлок Репино', 'село Павлово',\n",
       "       'посёлок Ильичёво', 'поселок Углово', 'Приморск',\n",
       "       'садовое товарищество Рахья', 'посёлок городского типа Ульяновка',\n",
       "       'поселок Победа', 'деревня Меньково',\n",
       "       'городской посёлок Новоселье', 'посёлок Сапёрный', 'посёлок Бугры',\n",
       "       'деревня Гарболово', 'деревня Юкки', 'поселок Терволово',\n",
       "       'поселок Поляны', 'посёлок Плодовое', 'посёлок Пудость',\n",
       "       'Светогорск', 'городской посёлок Мга', 'Любань', 'деревня Кривко',\n",
       "       'поселок Глебычево', 'поселок Войсковицы', 'поселок Жилпосёлок',\n",
       "       'посёлок Войскорово', 'поселок Аннино', 'поселок Стеклянный',\n",
       "       'село Русско-Высоцкое', 'посёлок Новогорелово',\n",
       "       'городской поселок Янино-1', 'село Копорье',\n",
       "       'городской посёлок Виллози', 'деревня Лампово',\n",
       "       'деревня Шпаньково', 'деревня Кипень', 'посёлок Терволово',\n",
       "       'посёлок Сумино', 'посёлок Сосново', 'деревня Старосиверская',\n",
       "       'посёлок Кикерино', 'деревня Низино', 'поселок Возрождение',\n",
       "       'посёлок Пригородный', 'посёлок Торфяное', 'поселок Суходолье',\n",
       "       'поселок Красная Долина', 'посёлок Мичуринское', 'деревня Хапо-Ое',\n",
       "       'поселок городского типа Дружная Горка', 'поселок Лисий Нос',\n",
       "       'деревня Яльгелево', 'Каменногорск', 'поселок Семрино',\n",
       "       'деревня Малое Верево', 'деревня Камышовка', 'деревня Хязельки',\n",
       "       'посёлок городского типа Павлово', 'деревня Ялгино',\n",
       "       'поселок Гончарово', 'поселок Почап', 'посёлок Сапёрное',\n",
       "       'посёлок Платформа 69-й километр',\n",
       "       'посёлок городского типа Важины', 'посёлок городского типа Мга',\n",
       "       'поселок Серебрянский', 'поселок Лукаши', 'Лодейное Поле',\n",
       "       'поселок Петровское', 'городской посёлок Рощино',\n",
       "       'посёлок при железнодорожной станции Вещево', 'деревня Извара',\n",
       "       'поселок Ушаки', 'деревня Котлы', 'поселок Кингисеппский',\n",
       "       'деревня Новолисино', 'посёлок станции Громово',\n",
       "       'поселок городского типа Ефимовский', 'деревня Глинка',\n",
       "       'поселок Глажево', 'деревня Старая Пустошь', 'поселок Коммунары',\n",
       "       'поселок Починок', 'деревня Разбегаево',\n",
       "       'посёлок городского типа Рябово', 'деревня Фалилеево',\n",
       "       'поселок Гладкое',\n",
       "       'посёлок при железнодорожной станции Приветнинское',\n",
       "       'посёлок Жилгородок', 'деревня Бор', 'посёлок Коробицыно',\n",
       "       'деревня Большая Вруда', 'городской посёлок Лесогорский',\n",
       "       'посёлок Лисий Нос', 'городской посёлок Советский',\n",
       "       'деревня Малое Карлино', 'посёлок Кобралово', 'поселок Кобралово',\n",
       "       'поселок городского типа Кондратьево',\n",
       "       'коттеджный поселок Счастье', 'поселок Мельниково',\n",
       "       'поселок Любань', 'городской посёлок Будогощь',\n",
       "       'поселок городского типа Лебяжье', 'деревня Зимитицы',\n",
       "       'деревня Тойворово', 'поселок Лесное', 'поселок Совхозный',\n",
       "       'деревня Парицы', 'посёлок Суйда',\n",
       "       'посёлок городского типа Форносово', 'деревня Сяськелево',\n",
       "       'поселок Мичуринское', 'поселок Перово',\n",
       "       'посёлок городского типа Вырица', 'Высоцк', 'поселок Гарболово',\n",
       "       'поселок Котельский', 'посёлок Стеклянный', 'посёлок Ленинское',\n",
       "       'деревня Пудомяги', 'деревня Большая Пустомержа',\n",
       "       'деревня Вахнова Кара', 'коттеджный поселок Кивеннапа Север',\n",
       "       'поселок Коробицыно', 'поселок Ромашки', 'деревня Каськово',\n",
       "       'поселок Сумино', 'поселок Новый Учхоз', 'деревня Ваганово',\n",
       "       'поселок Пушное', 'поселок станции Приветнинское', 'Бокситогорск',\n",
       "       'городской посёлок Свирьстрой', 'деревня Кисельня',\n",
       "       'посёлок Старая Малукса', 'деревня Торосово', 'деревня Ненимяки',\n",
       "       'поселок Пансионат Зелёный Бор', 'поселок Громово',\n",
       "       'деревня Рапполово', 'посёлок Мельниково', 'поселок Житково',\n",
       "       'поселок Рабитицы', 'деревня Тарасово', 'деревня Суоранда',\n",
       "       'поселок Дружноселье', 'деревня Борисова Грива',\n",
       "       'посёлок Возрождение', 'посёлок Дзержинского'], dtype=object)"
      ]
     },
     "execution_count": 22,
     "metadata": {},
     "output_type": "execute_result"
    }
   ],
   "source": [
    "#Посмотрим какие есть значения в столбце locality_name\n",
    "df['locality_name'].unique()"
   ]
  },
  {
   "cell_type": "code",
   "execution_count": 23,
   "metadata": {
    "scrolled": true
   },
   "outputs": [
    {
     "data": {
      "text/plain": [
       "array(['Санкт-Петербург', 'Петергоф', 'поселок Парголово',\n",
       "       'деревня Кудрово', 'Пушкин', 'поселок Красный Бор',\n",
       "       'поселок Мурино', 'Сертолово', 'Гатчина', 'Ломоносов',\n",
       "       'деревня Фёдоровское', 'Выборг', 'Кронштадт', 'Колпино', 'Кировск',\n",
       "       'деревня Новое Девяткино', 'поселок Сиверский',\n",
       "       'садовое товарищество Новая Ропша', 'Павловск', 'Всеволожск',\n",
       "       'Волхов', 'Кингисепп', 'Приозерск', 'Сестрорецк',\n",
       "       'поселок Кузьмоловский', 'деревня Куттузи', 'поселок Торковичи',\n",
       "       'поселок Шушары', 'поселок Первомайское', 'Красное Село',\n",
       "       'поселок Понтонный', 'деревня Старая', 'деревня Лесколово',\n",
       "       'поселок Новый Свет', 'село Путилово', 'Ивангород', 'Сланцы',\n",
       "       'Шлиссельбург', 'Никольское', 'Зеленогорск', 'Сосновый Бор',\n",
       "       'деревня Оржицы', 'деревня Кальтино', 'Кудрово', 'поселок Рощино',\n",
       "       'Сясьстрой', 'Кириши', 'Луга', 'Волосово', 'поселок Оредеж',\n",
       "       'поселок Бугры', 'поселок Металлострой', 'поселок Молодёжное',\n",
       "       'Тихвин', 'поселок Победа', 'деревня Нурма', 'поселок Синявино',\n",
       "       'Тосно', 'поселок Романовка', 'поселок Александровская',\n",
       "       'деревня Лопухинка', 'поселок Советский', 'поселок Петровское',\n",
       "       'поселок Токсово', 'деревня Келози', 'деревня Вартемяги',\n",
       "       'Подпорожье', 'поселок Тельмана', 'поселок Большая Ижора',\n",
       "       'поселок Янино-1', 'поселок Павлово', 'деревня Агалатово',\n",
       "       'поселок Цвелодубово', 'поселок Рахья', 'поселок Вырица',\n",
       "       'деревня Белогорка', 'поселок Заводской', 'деревня Горбунки',\n",
       "       'Мурино', 'деревня Батово', 'деревня Заневка', 'поселок Сельцо',\n",
       "       'поселок Фёдоровское', 'деревня Мистолово', 'поселок Зимитицы',\n",
       "       'поселок Барышево', 'деревня Разметелево',\n",
       "       'поселок имени Свердлова', 'деревня Пеники', 'поселок Рябово',\n",
       "       'Отрадное', 'деревня Бегуницы', 'поселок Поляны', 'поселок Аннино',\n",
       "       'поселок Стрельна', 'поселок Елизаветино', 'поселок Кузнечное',\n",
       "       'поселок Запорожское', 'поселок Молодцово', 'деревня Гостилицы',\n",
       "       'Коммунар', 'поселок имени Морозова', 'поселок Песочный',\n",
       "       'поселок Ильичёво', 'деревня Колтуши', 'поселок Тайцы',\n",
       "       'поселок станции Вещево', 'деревня Калитино', 'поселок Дубровка',\n",
       "       'деревня Коркино', 'Новая Ладога', 'поселок Ропша',\n",
       "       'поселок Приладожский', 'поселок Щеглово', 'поселок Гаврилово',\n",
       "       'Пикалёво', 'деревня Рабитицы', 'поселок Никольский',\n",
       "       'деревня Большие Колпаны', 'поселок Лебяжье', 'деревня Кузьмолово',\n",
       "       'деревня Малые Колпаны', 'деревня Лаголово', 'поселок Назия',\n",
       "       'поселок Репино', 'село Павлово', 'поселок Углово', 'Приморск',\n",
       "       'садовое товарищество Рахья', 'поселок Ульяновка',\n",
       "       'деревня Меньково', 'поселок Новоселье', 'поселок Сапёрный',\n",
       "       'деревня Гарболово', 'деревня Юкки', 'поселок Терволово',\n",
       "       'поселок Плодовое', 'поселок Пудость', 'Светогорск', 'поселок Мга',\n",
       "       'Любань', 'деревня Кривко', 'поселок Глебычево',\n",
       "       'поселок Войсковицы', 'поселок Жилпоселок', 'поселок Войскорово',\n",
       "       'поселок Стеклянный', 'село Русско-Высоцкое',\n",
       "       'поселок Новогорелово', 'село Копорье', 'поселок Виллози',\n",
       "       'деревня Лампово', 'деревня Шпаньково', 'деревня Кипень',\n",
       "       'поселок Сумино', 'поселок Сосново', 'деревня Старосиверская',\n",
       "       'поселок Кикерино', 'деревня Низино', 'поселок Возрождение',\n",
       "       'поселок Пригородный', 'поселок Торфяное', 'поселок Суходолье',\n",
       "       'поселок Красная Долина', 'поселок Мичуринское', 'деревня Хапо-Ое',\n",
       "       'поселок Дружная Горка', 'поселок Лисий Нос', 'деревня Яльгелево',\n",
       "       'Каменногорск', 'поселок Семрино', 'деревня Малое Верево',\n",
       "       'деревня Камышовка', 'деревня Хязельки', 'деревня Ялгино',\n",
       "       'поселок Гончарово', 'поселок Почап', 'поселок Сапёрное',\n",
       "       'поселок Платформа 69-й километр', 'поселок Важины',\n",
       "       'поселок Серебрянский', 'поселок Лукаши', 'Лодейное Поле',\n",
       "       'поселок при железнодорожной станции Вещево', 'деревня Извара',\n",
       "       'поселок Ушаки', 'деревня Котлы', 'поселок Кингисеппский',\n",
       "       'деревня Новолисино', 'поселок станции Громово',\n",
       "       'поселок Ефимовский', 'деревня Глинка', 'поселок Глажево',\n",
       "       'деревня Старая Пустошь', 'поселок Коммунары', 'поселок Починок',\n",
       "       'деревня Разбегаево', 'деревня Фалилеево', 'поселок Гладкое',\n",
       "       'поселок при железнодорожной станции Приветнинское',\n",
       "       'поселок Жилгородок', 'деревня Бор', 'поселок Коробицыно',\n",
       "       'деревня Большая Вруда', 'поселок Лесогорский',\n",
       "       'деревня Малое Карлино', 'поселок Кобралово',\n",
       "       'поселок Кондратьево', 'коттеджный поселок Счастье',\n",
       "       'поселок Мельниково', 'поселок Любань', 'поселок Будогощь',\n",
       "       'деревня Зимитицы', 'деревня Тойворово', 'поселок Лесное',\n",
       "       'поселок Совхозный', 'деревня Парицы', 'поселок Суйда',\n",
       "       'поселок Форносово', 'деревня Сяськелево', 'поселок Перово',\n",
       "       'Высоцк', 'поселок Гарболово', 'поселок Котельский',\n",
       "       'поселок Ленинское', 'деревня Пудомяги',\n",
       "       'деревня Большая Пустомержа', 'деревня Вахнова Кара',\n",
       "       'коттеджный поселок Кивеннапа Север', 'поселок Ромашки',\n",
       "       'деревня Каськово', 'поселок Новый Учхоз', 'деревня Ваганово',\n",
       "       'поселок Пушное', 'поселок станции Приветнинское', 'Бокситогорск',\n",
       "       'поселок Свирьстрой', 'деревня Кисельня', 'поселок Старая Малукса',\n",
       "       'деревня Торосово', 'деревня Ненимяки',\n",
       "       'поселок Пансионат Зелёный Бор', 'поселок Громово',\n",
       "       'деревня Рапполово', 'поселок Житково', 'поселок Рабитицы',\n",
       "       'деревня Тарасово', 'деревня Суоранда', 'поселок Дружноселье',\n",
       "       'деревня Борисова Грива', 'поселок Дзержинского'], dtype=object)"
      ]
     },
     "execution_count": 23,
     "metadata": {},
     "output_type": "execute_result"
    }
   ],
   "source": [
    "#Заменим повторяющиеся значения в столбце locality_name - избавимся от всех неявных дубликатов.\n",
    "df['locality_name'] = df['locality_name'].str.replace('посёлок', 'поселок') \n",
    "df['locality_name'] = df['locality_name'].str.replace('поселок городского типа', 'поселок')\n",
    "df['locality_name'] = df['locality_name'].str.replace('городской поселок', 'поселок')\n",
    "df['locality_name'].unique()"
   ]
  },
  {
   "cell_type": "code",
   "execution_count": 24,
   "metadata": {
    "scrolled": true
   },
   "outputs": [
    {
     "data": {
      "text/plain": [
       "total_images               0\n",
       "last_price                 0\n",
       "total_area                 0\n",
       "first_day_exposition       0\n",
       "rooms                      0\n",
       "ceiling_height             0\n",
       "floors_total               0\n",
       "living_area                0\n",
       "floor                      0\n",
       "is_apartment               0\n",
       "studio                     0\n",
       "open_plan                  0\n",
       "kitchen_area               0\n",
       "balcony                    0\n",
       "locality_name              0\n",
       "airports_nearest        2940\n",
       "city_centers_nearest       0\n",
       "parks_around3000        2922\n",
       "parks_nearest           9144\n",
       "ponds_around3000        2922\n",
       "ponds_nearest           8718\n",
       "days_exposition            0\n",
       "dtype: int64"
      ]
     },
     "execution_count": 24,
     "metadata": {},
     "output_type": "execute_result"
    }
   ],
   "source": [
    "#Проверим, что избавились от всех пропусков в необходимых столбцах.\n",
    "df.isna().sum()"
   ]
  },
  {
   "cell_type": "code",
   "execution_count": 25,
   "metadata": {
    "scrolled": true
   },
   "outputs": [
    {
     "data": {
      "text/plain": [
       "8793         12190.0\n",
       "16219       450000.0\n",
       "10782       490000.0\n",
       "4405        500000.0\n",
       "1358        550000.0\n",
       "            ...     \n",
       "13749    240000000.0\n",
       "16461    245000000.0\n",
       "22831    289238400.0\n",
       "15651    300000000.0\n",
       "1436     330000000.0\n",
       "Name: last_price, Length: 14367, dtype: float64"
      ]
     },
     "execution_count": 25,
     "metadata": {},
     "output_type": "execute_result"
    }
   ],
   "source": [
    "df['last_price'].sort_values()"
   ]
  },
  {
   "cell_type": "code",
   "execution_count": 26,
   "metadata": {
    "scrolled": true
   },
   "outputs": [
    {
     "data": {
      "text/html": [
       "<div>\n",
       "<style scoped>\n",
       "    .dataframe tbody tr th:only-of-type {\n",
       "        vertical-align: middle;\n",
       "    }\n",
       "\n",
       "    .dataframe tbody tr th {\n",
       "        vertical-align: top;\n",
       "    }\n",
       "\n",
       "    .dataframe thead th {\n",
       "        text-align: right;\n",
       "    }\n",
       "</style>\n",
       "<table border=\"1\" class=\"dataframe\">\n",
       "  <thead>\n",
       "    <tr style=\"text-align: right;\">\n",
       "      <th></th>\n",
       "      <th>total_images</th>\n",
       "      <th>last_price</th>\n",
       "      <th>total_area</th>\n",
       "      <th>first_day_exposition</th>\n",
       "      <th>rooms</th>\n",
       "      <th>ceiling_height</th>\n",
       "      <th>floors_total</th>\n",
       "      <th>living_area</th>\n",
       "      <th>floor</th>\n",
       "      <th>is_apartment</th>\n",
       "      <th>...</th>\n",
       "      <th>kitchen_area</th>\n",
       "      <th>balcony</th>\n",
       "      <th>locality_name</th>\n",
       "      <th>airports_nearest</th>\n",
       "      <th>city_centers_nearest</th>\n",
       "      <th>parks_around3000</th>\n",
       "      <th>parks_nearest</th>\n",
       "      <th>ponds_around3000</th>\n",
       "      <th>ponds_nearest</th>\n",
       "      <th>days_exposition</th>\n",
       "    </tr>\n",
       "  </thead>\n",
       "  <tbody>\n",
       "    <tr>\n",
       "      <th>793</th>\n",
       "      <td>20</td>\n",
       "      <td>135000000.0</td>\n",
       "      <td>310.0</td>\n",
       "      <td>2018-05-22T00:00:00</td>\n",
       "      <td>4</td>\n",
       "      <td>3.30</td>\n",
       "      <td>5.0</td>\n",
       "      <td>250.0</td>\n",
       "      <td>2</td>\n",
       "      <td>False</td>\n",
       "      <td>...</td>\n",
       "      <td>50.0</td>\n",
       "      <td>0.0</td>\n",
       "      <td>Санкт-Петербург</td>\n",
       "      <td>34159.0</td>\n",
       "      <td>7251.0</td>\n",
       "      <td>2.0</td>\n",
       "      <td>295.0</td>\n",
       "      <td>3.0</td>\n",
       "      <td>190.0</td>\n",
       "      <td>342.0</td>\n",
       "    </tr>\n",
       "    <tr>\n",
       "      <th>1188</th>\n",
       "      <td>20</td>\n",
       "      <td>118000000.0</td>\n",
       "      <td>290.6</td>\n",
       "      <td>2018-06-01T00:00:00</td>\n",
       "      <td>6</td>\n",
       "      <td>3.82</td>\n",
       "      <td>6.0</td>\n",
       "      <td>188.7</td>\n",
       "      <td>3</td>\n",
       "      <td>False</td>\n",
       "      <td>...</td>\n",
       "      <td>22.0</td>\n",
       "      <td>1.0</td>\n",
       "      <td>Санкт-Петербург</td>\n",
       "      <td>25309.0</td>\n",
       "      <td>6224.0</td>\n",
       "      <td>1.0</td>\n",
       "      <td>217.0</td>\n",
       "      <td>0.0</td>\n",
       "      <td>NaN</td>\n",
       "      <td>316.0</td>\n",
       "    </tr>\n",
       "    <tr>\n",
       "      <th>1436</th>\n",
       "      <td>19</td>\n",
       "      <td>330000000.0</td>\n",
       "      <td>190.0</td>\n",
       "      <td>2018-04-04T00:00:00</td>\n",
       "      <td>3</td>\n",
       "      <td>3.50</td>\n",
       "      <td>7.0</td>\n",
       "      <td>95.0</td>\n",
       "      <td>5</td>\n",
       "      <td>False</td>\n",
       "      <td>...</td>\n",
       "      <td>40.0</td>\n",
       "      <td>0.0</td>\n",
       "      <td>Санкт-Петербург</td>\n",
       "      <td>23011.0</td>\n",
       "      <td>1197.0</td>\n",
       "      <td>3.0</td>\n",
       "      <td>519.0</td>\n",
       "      <td>3.0</td>\n",
       "      <td>285.0</td>\n",
       "      <td>233.0</td>\n",
       "    </tr>\n",
       "    <tr>\n",
       "      <th>2243</th>\n",
       "      <td>9</td>\n",
       "      <td>130278280.0</td>\n",
       "      <td>304.0</td>\n",
       "      <td>2015-07-24T00:00:00</td>\n",
       "      <td>5</td>\n",
       "      <td>3.11</td>\n",
       "      <td>9.0</td>\n",
       "      <td>0.0</td>\n",
       "      <td>7</td>\n",
       "      <td>False</td>\n",
       "      <td>...</td>\n",
       "      <td>0.0</td>\n",
       "      <td>0.0</td>\n",
       "      <td>Санкт-Петербург</td>\n",
       "      <td>25593.0</td>\n",
       "      <td>5913.0</td>\n",
       "      <td>2.0</td>\n",
       "      <td>164.0</td>\n",
       "      <td>0.0</td>\n",
       "      <td>NaN</td>\n",
       "      <td>599.0</td>\n",
       "    </tr>\n",
       "    <tr>\n",
       "      <th>2536</th>\n",
       "      <td>16</td>\n",
       "      <td>159984000.0</td>\n",
       "      <td>242.4</td>\n",
       "      <td>2015-08-27T00:00:00</td>\n",
       "      <td>4</td>\n",
       "      <td>3.85</td>\n",
       "      <td>9.0</td>\n",
       "      <td>131.0</td>\n",
       "      <td>7</td>\n",
       "      <td>False</td>\n",
       "      <td>...</td>\n",
       "      <td>20.0</td>\n",
       "      <td>0.0</td>\n",
       "      <td>Санкт-Петербург</td>\n",
       "      <td>21946.0</td>\n",
       "      <td>2242.0</td>\n",
       "      <td>1.0</td>\n",
       "      <td>679.0</td>\n",
       "      <td>1.0</td>\n",
       "      <td>227.0</td>\n",
       "      <td>501.0</td>\n",
       "    </tr>\n",
       "    <tr>\n",
       "      <th>4996</th>\n",
       "      <td>20</td>\n",
       "      <td>124000000.0</td>\n",
       "      <td>124.5</td>\n",
       "      <td>2017-10-12T00:00:00</td>\n",
       "      <td>4</td>\n",
       "      <td>3.00</td>\n",
       "      <td>4.0</td>\n",
       "      <td>67.2</td>\n",
       "      <td>2</td>\n",
       "      <td>False</td>\n",
       "      <td>...</td>\n",
       "      <td>20.0</td>\n",
       "      <td>0.0</td>\n",
       "      <td>Санкт-Петербург</td>\n",
       "      <td>20399.0</td>\n",
       "      <td>1722.0</td>\n",
       "      <td>3.0</td>\n",
       "      <td>302.0</td>\n",
       "      <td>3.0</td>\n",
       "      <td>172.0</td>\n",
       "      <td>45.0</td>\n",
       "    </tr>\n",
       "    <tr>\n",
       "      <th>7674</th>\n",
       "      <td>20</td>\n",
       "      <td>131000000.0</td>\n",
       "      <td>380.0</td>\n",
       "      <td>2016-09-23T00:00:00</td>\n",
       "      <td>5</td>\n",
       "      <td>3.90</td>\n",
       "      <td>6.0</td>\n",
       "      <td>150.0</td>\n",
       "      <td>4</td>\n",
       "      <td>False</td>\n",
       "      <td>...</td>\n",
       "      <td>0.0</td>\n",
       "      <td>1.0</td>\n",
       "      <td>Санкт-Петербург</td>\n",
       "      <td>25801.0</td>\n",
       "      <td>4504.0</td>\n",
       "      <td>2.0</td>\n",
       "      <td>161.0</td>\n",
       "      <td>1.0</td>\n",
       "      <td>635.0</td>\n",
       "      <td>901.0</td>\n",
       "    </tr>\n",
       "    <tr>\n",
       "      <th>12674</th>\n",
       "      <td>16</td>\n",
       "      <td>140000000.0</td>\n",
       "      <td>241.0</td>\n",
       "      <td>2015-07-24T00:00:00</td>\n",
       "      <td>5</td>\n",
       "      <td>3.00</td>\n",
       "      <td>5.0</td>\n",
       "      <td>0.0</td>\n",
       "      <td>4</td>\n",
       "      <td>False</td>\n",
       "      <td>...</td>\n",
       "      <td>0.0</td>\n",
       "      <td>0.0</td>\n",
       "      <td>Санкт-Петербург</td>\n",
       "      <td>23512.0</td>\n",
       "      <td>3503.0</td>\n",
       "      <td>3.0</td>\n",
       "      <td>413.0</td>\n",
       "      <td>3.0</td>\n",
       "      <td>83.0</td>\n",
       "      <td>399.0</td>\n",
       "    </tr>\n",
       "    <tr>\n",
       "      <th>12859</th>\n",
       "      <td>20</td>\n",
       "      <td>140000000.0</td>\n",
       "      <td>631.2</td>\n",
       "      <td>2019-04-09T00:00:00</td>\n",
       "      <td>7</td>\n",
       "      <td>3.90</td>\n",
       "      <td>4.0</td>\n",
       "      <td>322.3</td>\n",
       "      <td>4</td>\n",
       "      <td>False</td>\n",
       "      <td>...</td>\n",
       "      <td>19.5</td>\n",
       "      <td>1.0</td>\n",
       "      <td>Санкт-Петербург</td>\n",
       "      <td>25707.0</td>\n",
       "      <td>4972.0</td>\n",
       "      <td>0.0</td>\n",
       "      <td>NaN</td>\n",
       "      <td>2.0</td>\n",
       "      <td>210.0</td>\n",
       "      <td>0.0</td>\n",
       "    </tr>\n",
       "    <tr>\n",
       "      <th>13749</th>\n",
       "      <td>7</td>\n",
       "      <td>240000000.0</td>\n",
       "      <td>410.0</td>\n",
       "      <td>2017-04-01T00:00:00</td>\n",
       "      <td>6</td>\n",
       "      <td>3.40</td>\n",
       "      <td>7.0</td>\n",
       "      <td>218.0</td>\n",
       "      <td>7</td>\n",
       "      <td>False</td>\n",
       "      <td>...</td>\n",
       "      <td>40.0</td>\n",
       "      <td>0.0</td>\n",
       "      <td>Санкт-Петербург</td>\n",
       "      <td>32440.0</td>\n",
       "      <td>5297.0</td>\n",
       "      <td>0.0</td>\n",
       "      <td>NaN</td>\n",
       "      <td>2.0</td>\n",
       "      <td>198.0</td>\n",
       "      <td>199.0</td>\n",
       "    </tr>\n",
       "    <tr>\n",
       "      <th>13864</th>\n",
       "      <td>20</td>\n",
       "      <td>130000000.0</td>\n",
       "      <td>231.0</td>\n",
       "      <td>2015-08-13T00:00:00</td>\n",
       "      <td>6</td>\n",
       "      <td>3.60</td>\n",
       "      <td>6.0</td>\n",
       "      <td>148.0</td>\n",
       "      <td>4</td>\n",
       "      <td>False</td>\n",
       "      <td>...</td>\n",
       "      <td>12.0</td>\n",
       "      <td>0.0</td>\n",
       "      <td>Санкт-Петербург</td>\n",
       "      <td>22992.0</td>\n",
       "      <td>1280.0</td>\n",
       "      <td>3.0</td>\n",
       "      <td>395.0</td>\n",
       "      <td>3.0</td>\n",
       "      <td>170.0</td>\n",
       "      <td>467.0</td>\n",
       "    </tr>\n",
       "    <tr>\n",
       "      <th>15016</th>\n",
       "      <td>8</td>\n",
       "      <td>150000000.0</td>\n",
       "      <td>500.0</td>\n",
       "      <td>2016-01-13T00:00:00</td>\n",
       "      <td>4</td>\n",
       "      <td>3.20</td>\n",
       "      <td>7.0</td>\n",
       "      <td>0.0</td>\n",
       "      <td>7</td>\n",
       "      <td>False</td>\n",
       "      <td>...</td>\n",
       "      <td>0.0</td>\n",
       "      <td>0.0</td>\n",
       "      <td>Санкт-Петербург</td>\n",
       "      <td>33058.0</td>\n",
       "      <td>6150.0</td>\n",
       "      <td>3.0</td>\n",
       "      <td>209.0</td>\n",
       "      <td>3.0</td>\n",
       "      <td>531.0</td>\n",
       "      <td>303.0</td>\n",
       "    </tr>\n",
       "    <tr>\n",
       "      <th>15651</th>\n",
       "      <td>20</td>\n",
       "      <td>300000000.0</td>\n",
       "      <td>618.0</td>\n",
       "      <td>2017-12-18T00:00:00</td>\n",
       "      <td>7</td>\n",
       "      <td>3.40</td>\n",
       "      <td>7.0</td>\n",
       "      <td>258.0</td>\n",
       "      <td>5</td>\n",
       "      <td>False</td>\n",
       "      <td>...</td>\n",
       "      <td>70.0</td>\n",
       "      <td>0.0</td>\n",
       "      <td>Санкт-Петербург</td>\n",
       "      <td>32440.0</td>\n",
       "      <td>5297.0</td>\n",
       "      <td>0.0</td>\n",
       "      <td>NaN</td>\n",
       "      <td>2.0</td>\n",
       "      <td>198.0</td>\n",
       "      <td>111.0</td>\n",
       "    </tr>\n",
       "    <tr>\n",
       "      <th>16461</th>\n",
       "      <td>17</td>\n",
       "      <td>245000000.0</td>\n",
       "      <td>285.7</td>\n",
       "      <td>2017-04-10T00:00:00</td>\n",
       "      <td>6</td>\n",
       "      <td>3.35</td>\n",
       "      <td>7.0</td>\n",
       "      <td>182.8</td>\n",
       "      <td>4</td>\n",
       "      <td>False</td>\n",
       "      <td>...</td>\n",
       "      <td>29.8</td>\n",
       "      <td>0.0</td>\n",
       "      <td>Санкт-Петербург</td>\n",
       "      <td>33143.0</td>\n",
       "      <td>6235.0</td>\n",
       "      <td>3.0</td>\n",
       "      <td>400.0</td>\n",
       "      <td>3.0</td>\n",
       "      <td>140.0</td>\n",
       "      <td>249.0</td>\n",
       "    </tr>\n",
       "    <tr>\n",
       "      <th>16647</th>\n",
       "      <td>15</td>\n",
       "      <td>122000000.0</td>\n",
       "      <td>145.0</td>\n",
       "      <td>2017-04-25T00:00:00</td>\n",
       "      <td>3</td>\n",
       "      <td>3.30</td>\n",
       "      <td>6.0</td>\n",
       "      <td>36.0</td>\n",
       "      <td>2</td>\n",
       "      <td>False</td>\n",
       "      <td>...</td>\n",
       "      <td>72.0</td>\n",
       "      <td>0.0</td>\n",
       "      <td>Санкт-Петербург</td>\n",
       "      <td>33931.0</td>\n",
       "      <td>7023.0</td>\n",
       "      <td>2.0</td>\n",
       "      <td>478.0</td>\n",
       "      <td>3.0</td>\n",
       "      <td>250.0</td>\n",
       "      <td>335.0</td>\n",
       "    </tr>\n",
       "    <tr>\n",
       "      <th>17912</th>\n",
       "      <td>17</td>\n",
       "      <td>135000000.0</td>\n",
       "      <td>166.0</td>\n",
       "      <td>2019-02-07T00:00:00</td>\n",
       "      <td>3</td>\n",
       "      <td>3.30</td>\n",
       "      <td>7.0</td>\n",
       "      <td>52.0</td>\n",
       "      <td>1</td>\n",
       "      <td>False</td>\n",
       "      <td>...</td>\n",
       "      <td>64.0</td>\n",
       "      <td>0.0</td>\n",
       "      <td>Санкт-Петербург</td>\n",
       "      <td>32863.0</td>\n",
       "      <td>5955.0</td>\n",
       "      <td>2.0</td>\n",
       "      <td>230.0</td>\n",
       "      <td>3.0</td>\n",
       "      <td>215.0</td>\n",
       "      <td>0.0</td>\n",
       "    </tr>\n",
       "    <tr>\n",
       "      <th>19865</th>\n",
       "      <td>20</td>\n",
       "      <td>180000000.0</td>\n",
       "      <td>347.0</td>\n",
       "      <td>2015-01-21T00:00:00</td>\n",
       "      <td>8</td>\n",
       "      <td>3.90</td>\n",
       "      <td>6.0</td>\n",
       "      <td>260.0</td>\n",
       "      <td>3</td>\n",
       "      <td>False</td>\n",
       "      <td>...</td>\n",
       "      <td>45.0</td>\n",
       "      <td>0.0</td>\n",
       "      <td>Санкт-Петербург</td>\n",
       "      <td>23962.0</td>\n",
       "      <td>3794.0</td>\n",
       "      <td>2.0</td>\n",
       "      <td>537.0</td>\n",
       "      <td>3.0</td>\n",
       "      <td>501.0</td>\n",
       "      <td>834.0</td>\n",
       "    </tr>\n",
       "    <tr>\n",
       "      <th>21023</th>\n",
       "      <td>17</td>\n",
       "      <td>124350000.0</td>\n",
       "      <td>248.7</td>\n",
       "      <td>2015-08-27T00:00:00</td>\n",
       "      <td>4</td>\n",
       "      <td>3.40</td>\n",
       "      <td>9.0</td>\n",
       "      <td>131.0</td>\n",
       "      <td>4</td>\n",
       "      <td>False</td>\n",
       "      <td>...</td>\n",
       "      <td>23.0</td>\n",
       "      <td>0.0</td>\n",
       "      <td>Санкт-Петербург</td>\n",
       "      <td>21946.0</td>\n",
       "      <td>2242.0</td>\n",
       "      <td>1.0</td>\n",
       "      <td>679.0</td>\n",
       "      <td>1.0</td>\n",
       "      <td>227.0</td>\n",
       "      <td>501.0</td>\n",
       "    </tr>\n",
       "    <tr>\n",
       "      <th>21955</th>\n",
       "      <td>19</td>\n",
       "      <td>130000000.0</td>\n",
       "      <td>431.0</td>\n",
       "      <td>2017-10-02T00:00:00</td>\n",
       "      <td>7</td>\n",
       "      <td>3.70</td>\n",
       "      <td>8.0</td>\n",
       "      <td>220.0</td>\n",
       "      <td>5</td>\n",
       "      <td>False</td>\n",
       "      <td>...</td>\n",
       "      <td>20.0</td>\n",
       "      <td>5.0</td>\n",
       "      <td>Санкт-Петербург</td>\n",
       "      <td>NaN</td>\n",
       "      <td>0.0</td>\n",
       "      <td>NaN</td>\n",
       "      <td>NaN</td>\n",
       "      <td>NaN</td>\n",
       "      <td>NaN</td>\n",
       "      <td>161.0</td>\n",
       "    </tr>\n",
       "    <tr>\n",
       "      <th>22831</th>\n",
       "      <td>18</td>\n",
       "      <td>289238400.0</td>\n",
       "      <td>187.5</td>\n",
       "      <td>2019-03-19T00:00:00</td>\n",
       "      <td>2</td>\n",
       "      <td>3.37</td>\n",
       "      <td>6.0</td>\n",
       "      <td>63.7</td>\n",
       "      <td>6</td>\n",
       "      <td>False</td>\n",
       "      <td>...</td>\n",
       "      <td>30.2</td>\n",
       "      <td>0.0</td>\n",
       "      <td>Санкт-Петербург</td>\n",
       "      <td>22494.0</td>\n",
       "      <td>1073.0</td>\n",
       "      <td>3.0</td>\n",
       "      <td>386.0</td>\n",
       "      <td>3.0</td>\n",
       "      <td>188.0</td>\n",
       "      <td>0.0</td>\n",
       "    </tr>\n",
       "  </tbody>\n",
       "</table>\n",
       "<p>20 rows × 22 columns</p>\n",
       "</div>"
      ],
      "text/plain": [
       "       total_images   last_price  total_area first_day_exposition  rooms  \\\n",
       "793              20  135000000.0       310.0  2018-05-22T00:00:00      4   \n",
       "1188             20  118000000.0       290.6  2018-06-01T00:00:00      6   \n",
       "1436             19  330000000.0       190.0  2018-04-04T00:00:00      3   \n",
       "2243              9  130278280.0       304.0  2015-07-24T00:00:00      5   \n",
       "2536             16  159984000.0       242.4  2015-08-27T00:00:00      4   \n",
       "4996             20  124000000.0       124.5  2017-10-12T00:00:00      4   \n",
       "7674             20  131000000.0       380.0  2016-09-23T00:00:00      5   \n",
       "12674            16  140000000.0       241.0  2015-07-24T00:00:00      5   \n",
       "12859            20  140000000.0       631.2  2019-04-09T00:00:00      7   \n",
       "13749             7  240000000.0       410.0  2017-04-01T00:00:00      6   \n",
       "13864            20  130000000.0       231.0  2015-08-13T00:00:00      6   \n",
       "15016             8  150000000.0       500.0  2016-01-13T00:00:00      4   \n",
       "15651            20  300000000.0       618.0  2017-12-18T00:00:00      7   \n",
       "16461            17  245000000.0       285.7  2017-04-10T00:00:00      6   \n",
       "16647            15  122000000.0       145.0  2017-04-25T00:00:00      3   \n",
       "17912            17  135000000.0       166.0  2019-02-07T00:00:00      3   \n",
       "19865            20  180000000.0       347.0  2015-01-21T00:00:00      8   \n",
       "21023            17  124350000.0       248.7  2015-08-27T00:00:00      4   \n",
       "21955            19  130000000.0       431.0  2017-10-02T00:00:00      7   \n",
       "22831            18  289238400.0       187.5  2019-03-19T00:00:00      2   \n",
       "\n",
       "       ceiling_height  floors_total  living_area  floor  is_apartment  ...  \\\n",
       "793              3.30           5.0        250.0      2         False  ...   \n",
       "1188             3.82           6.0        188.7      3         False  ...   \n",
       "1436             3.50           7.0         95.0      5         False  ...   \n",
       "2243             3.11           9.0          0.0      7         False  ...   \n",
       "2536             3.85           9.0        131.0      7         False  ...   \n",
       "4996             3.00           4.0         67.2      2         False  ...   \n",
       "7674             3.90           6.0        150.0      4         False  ...   \n",
       "12674            3.00           5.0          0.0      4         False  ...   \n",
       "12859            3.90           4.0        322.3      4         False  ...   \n",
       "13749            3.40           7.0        218.0      7         False  ...   \n",
       "13864            3.60           6.0        148.0      4         False  ...   \n",
       "15016            3.20           7.0          0.0      7         False  ...   \n",
       "15651            3.40           7.0        258.0      5         False  ...   \n",
       "16461            3.35           7.0        182.8      4         False  ...   \n",
       "16647            3.30           6.0         36.0      2         False  ...   \n",
       "17912            3.30           7.0         52.0      1         False  ...   \n",
       "19865            3.90           6.0        260.0      3         False  ...   \n",
       "21023            3.40           9.0        131.0      4         False  ...   \n",
       "21955            3.70           8.0        220.0      5         False  ...   \n",
       "22831            3.37           6.0         63.7      6         False  ...   \n",
       "\n",
       "       kitchen_area  balcony    locality_name  airports_nearest  \\\n",
       "793            50.0      0.0  Санкт-Петербург           34159.0   \n",
       "1188           22.0      1.0  Санкт-Петербург           25309.0   \n",
       "1436           40.0      0.0  Санкт-Петербург           23011.0   \n",
       "2243            0.0      0.0  Санкт-Петербург           25593.0   \n",
       "2536           20.0      0.0  Санкт-Петербург           21946.0   \n",
       "4996           20.0      0.0  Санкт-Петербург           20399.0   \n",
       "7674            0.0      1.0  Санкт-Петербург           25801.0   \n",
       "12674           0.0      0.0  Санкт-Петербург           23512.0   \n",
       "12859          19.5      1.0  Санкт-Петербург           25707.0   \n",
       "13749          40.0      0.0  Санкт-Петербург           32440.0   \n",
       "13864          12.0      0.0  Санкт-Петербург           22992.0   \n",
       "15016           0.0      0.0  Санкт-Петербург           33058.0   \n",
       "15651          70.0      0.0  Санкт-Петербург           32440.0   \n",
       "16461          29.8      0.0  Санкт-Петербург           33143.0   \n",
       "16647          72.0      0.0  Санкт-Петербург           33931.0   \n",
       "17912          64.0      0.0  Санкт-Петербург           32863.0   \n",
       "19865          45.0      0.0  Санкт-Петербург           23962.0   \n",
       "21023          23.0      0.0  Санкт-Петербург           21946.0   \n",
       "21955          20.0      5.0  Санкт-Петербург               NaN   \n",
       "22831          30.2      0.0  Санкт-Петербург           22494.0   \n",
       "\n",
       "      city_centers_nearest  parks_around3000  parks_nearest  ponds_around3000  \\\n",
       "793                 7251.0               2.0          295.0               3.0   \n",
       "1188                6224.0               1.0          217.0               0.0   \n",
       "1436                1197.0               3.0          519.0               3.0   \n",
       "2243                5913.0               2.0          164.0               0.0   \n",
       "2536                2242.0               1.0          679.0               1.0   \n",
       "4996                1722.0               3.0          302.0               3.0   \n",
       "7674                4504.0               2.0          161.0               1.0   \n",
       "12674               3503.0               3.0          413.0               3.0   \n",
       "12859               4972.0               0.0            NaN               2.0   \n",
       "13749               5297.0               0.0            NaN               2.0   \n",
       "13864               1280.0               3.0          395.0               3.0   \n",
       "15016               6150.0               3.0          209.0               3.0   \n",
       "15651               5297.0               0.0            NaN               2.0   \n",
       "16461               6235.0               3.0          400.0               3.0   \n",
       "16647               7023.0               2.0          478.0               3.0   \n",
       "17912               5955.0               2.0          230.0               3.0   \n",
       "19865               3794.0               2.0          537.0               3.0   \n",
       "21023               2242.0               1.0          679.0               1.0   \n",
       "21955                  0.0               NaN            NaN               NaN   \n",
       "22831               1073.0               3.0          386.0               3.0   \n",
       "\n",
       "       ponds_nearest  days_exposition  \n",
       "793            190.0            342.0  \n",
       "1188             NaN            316.0  \n",
       "1436           285.0            233.0  \n",
       "2243             NaN            599.0  \n",
       "2536           227.0            501.0  \n",
       "4996           172.0             45.0  \n",
       "7674           635.0            901.0  \n",
       "12674           83.0            399.0  \n",
       "12859          210.0              0.0  \n",
       "13749          198.0            199.0  \n",
       "13864          170.0            467.0  \n",
       "15016          531.0            303.0  \n",
       "15651          198.0            111.0  \n",
       "16461          140.0            249.0  \n",
       "16647          250.0            335.0  \n",
       "17912          215.0              0.0  \n",
       "19865          501.0            834.0  \n",
       "21023          227.0            501.0  \n",
       "21955            NaN            161.0  \n",
       "22831          188.0              0.0  \n",
       "\n",
       "[20 rows x 22 columns]"
      ]
     },
     "execution_count": 26,
     "metadata": {},
     "output_type": "execute_result"
    }
   ],
   "source": [
    "df.query('last_price > 100000000')"
   ]
  },
  {
   "cell_type": "code",
   "execution_count": 27,
   "metadata": {},
   "outputs": [],
   "source": [
    "#Удалим строку объекта с неправдопадобно низкой стоимостью 12 190.\n",
    "df = df.query('last_price != 12190')"
   ]
  },
  {
   "cell_type": "markdown",
   "metadata": {},
   "source": [
    "Проверим аномально высокое значение floors_total = 60"
   ]
  },
  {
   "cell_type": "code",
   "execution_count": 28,
   "metadata": {
    "scrolled": true
   },
   "outputs": [
    {
     "data": {
      "text/html": [
       "<div>\n",
       "<style scoped>\n",
       "    .dataframe tbody tr th:only-of-type {\n",
       "        vertical-align: middle;\n",
       "    }\n",
       "\n",
       "    .dataframe tbody tr th {\n",
       "        vertical-align: top;\n",
       "    }\n",
       "\n",
       "    .dataframe thead th {\n",
       "        text-align: right;\n",
       "    }\n",
       "</style>\n",
       "<table border=\"1\" class=\"dataframe\">\n",
       "  <thead>\n",
       "    <tr style=\"text-align: right;\">\n",
       "      <th></th>\n",
       "      <th>total_images</th>\n",
       "      <th>last_price</th>\n",
       "      <th>total_area</th>\n",
       "      <th>first_day_exposition</th>\n",
       "      <th>rooms</th>\n",
       "      <th>ceiling_height</th>\n",
       "      <th>floors_total</th>\n",
       "      <th>living_area</th>\n",
       "      <th>floor</th>\n",
       "      <th>is_apartment</th>\n",
       "      <th>...</th>\n",
       "      <th>kitchen_area</th>\n",
       "      <th>balcony</th>\n",
       "      <th>locality_name</th>\n",
       "      <th>airports_nearest</th>\n",
       "      <th>city_centers_nearest</th>\n",
       "      <th>parks_around3000</th>\n",
       "      <th>parks_nearest</th>\n",
       "      <th>ponds_around3000</th>\n",
       "      <th>ponds_nearest</th>\n",
       "      <th>days_exposition</th>\n",
       "    </tr>\n",
       "  </thead>\n",
       "  <tbody>\n",
       "    <tr>\n",
       "      <th>2253</th>\n",
       "      <td>12</td>\n",
       "      <td>3800000.0</td>\n",
       "      <td>45.5</td>\n",
       "      <td>2018-06-28T00:00:00</td>\n",
       "      <td>2</td>\n",
       "      <td>2.88</td>\n",
       "      <td>60.0</td>\n",
       "      <td>27.4</td>\n",
       "      <td>4</td>\n",
       "      <td>False</td>\n",
       "      <td>...</td>\n",
       "      <td>7.4</td>\n",
       "      <td>0.0</td>\n",
       "      <td>Кронштадт</td>\n",
       "      <td>67763.0</td>\n",
       "      <td>49488.0</td>\n",
       "      <td>2.0</td>\n",
       "      <td>342.0</td>\n",
       "      <td>3.0</td>\n",
       "      <td>614.0</td>\n",
       "      <td>166.0</td>\n",
       "    </tr>\n",
       "  </tbody>\n",
       "</table>\n",
       "<p>1 rows × 22 columns</p>\n",
       "</div>"
      ],
      "text/plain": [
       "      total_images  last_price  total_area first_day_exposition  rooms  \\\n",
       "2253            12   3800000.0        45.5  2018-06-28T00:00:00      2   \n",
       "\n",
       "      ceiling_height  floors_total  living_area  floor  is_apartment  ...  \\\n",
       "2253            2.88          60.0         27.4      4         False  ...   \n",
       "\n",
       "      kitchen_area  balcony  locality_name  airports_nearest  \\\n",
       "2253           7.4      0.0      Кронштадт           67763.0   \n",
       "\n",
       "     city_centers_nearest  parks_around3000  parks_nearest  ponds_around3000  \\\n",
       "2253              49488.0               2.0          342.0               3.0   \n",
       "\n",
       "      ponds_nearest  days_exposition  \n",
       "2253          614.0            166.0  \n",
       "\n",
       "[1 rows x 22 columns]"
      ]
     },
     "execution_count": 28,
     "metadata": {},
     "output_type": "execute_result"
    }
   ],
   "source": [
    "#Посмотрим, сколько строк со значением 60 имеет датасет.\n",
    "df.query('floors_total == 60')"
   ]
  },
  {
   "cell_type": "markdown",
   "metadata": {},
   "source": [
    "Значение floors_total = 60 имееть лишь одна квартира. Учитывая стоимость, общую площадь и этаж самой квартиры - предположу что, здесь могла быть допущена ошибка при вводе: не 60, а 6. Заменим данное значение."
   ]
  },
  {
   "cell_type": "code",
   "execution_count": 29,
   "metadata": {},
   "outputs": [],
   "source": [
    "#Заменим 60 на 6\n",
    "df['floors_total'] = np.where((df.floors_total == 60), 6, df.floors_total)"
   ]
  },
  {
   "cell_type": "code",
   "execution_count": 30,
   "metadata": {},
   "outputs": [
    {
     "data": {
      "text/plain": [
       "count    14366.000000\n",
       "mean        10.198107\n",
       "std          6.184033\n",
       "min          1.000000\n",
       "25%          5.000000\n",
       "50%          9.000000\n",
       "75%         14.000000\n",
       "max         52.000000\n",
       "Name: floors_total, dtype: float64"
      ]
     },
     "execution_count": 30,
     "metadata": {},
     "output_type": "execute_result"
    }
   ],
   "source": [
    "#Проверим, что значение заменилось.\n",
    "df['floors_total'].describe()"
   ]
  },
  {
   "cell_type": "markdown",
   "metadata": {},
   "source": [
    "#### Заменим тип данных"
   ]
  },
  {
   "cell_type": "code",
   "execution_count": 31,
   "metadata": {},
   "outputs": [],
   "source": [
    "#Изменим у столбцов 'last_price', 'total_area' тип данных на числовой(int)\n",
    "df[['last_price', 'total_area', 'living_area', 'kitchen_area', 'city_centers_nearest']] = df[['last_price', 'total_area', 'living_area', 'kitchen_area', 'city_centers_nearest']].astype(int)\n",
    "df['first_day_exposition'] = pd.to_datetime(df['first_day_exposition'], format = '%Y-%m-%d')"
   ]
  },
  {
   "cell_type": "markdown",
   "metadata": {},
   "source": [
    "#### Вывод: \n",
    "Дубликатов в базе нет, однако пропусков много.\n",
    "\n",
    "Причин возникновения пропусков несколько. Например:\n",
    "- человек физически не заполнил графы, например 'балкон' - если их нет в квартире.\n",
    "- система не нашла значения для столбца 'city_centers_nearest', если точка находится в отдалении от Санкт-Петербурга и для этой точки не задан центр для отсчета расстояния.\n",
    "\n",
    "Значения с пропусками, которые не участвуют в расчетах мы трогать не стали. Необходимые - заполнили нулевыми значениями. is_apartment - пропуски заменили значениями false. А для ceiling_height взяли медиативное значение по срезу без выбросов. \n",
    "\n",
    "Строки с отсутствующими значениями в графах 'locality_name', 'floors_total' мизерно мало, поэтому принято решение их удалить. \n",
    "\n",
    "Есть и другие выбросы, но категорий слишком много, чтобы можно было выделить часть с аномалиями и избавиться от нее. Есть лишь одно единственное объявление: с общей площадью 900кв м и стоимостью 420 000 000руб - данный объект является аномальным по многим параметрам - его мы удалили. Так же объект с общей стоимостью 12 190руб: данная цифра не может отображать реальную цену (слишком мала) - это объявление мы тоже удалили.\n",
    "\n",
    "Убрали неявные дубликаты в столбце 'locality_name'. \n",
    "\n",
    "Для будующих расчетов нам потребовалось изменить тип данных в столбцах 'last_price', 'total_area', 'living_area', 'kitchen_area', 'city_centers_nearest' с float на int. И по той же причины мы изменили тип 'first_day_exposition' на datetime."
   ]
  },
  {
   "cell_type": "markdown",
   "metadata": {},
   "source": [
    "### Посчитаем и добавим в таблицу новые столбцы"
   ]
  },
  {
   "cell_type": "code",
   "execution_count": 32,
   "metadata": {},
   "outputs": [],
   "source": [
    "#Расчитаем стоимость одного квадратного метра\n",
    "df['price_per_m'] = df['last_price'] / df['total_area']"
   ]
  },
  {
   "cell_type": "code",
   "execution_count": 33,
   "metadata": {},
   "outputs": [],
   "source": [
    "#Присвоим дням недели цифровое значение\n",
    "df['weekday'] = df['first_day_exposition'].dt.weekday"
   ]
  },
  {
   "cell_type": "code",
   "execution_count": 34,
   "metadata": {},
   "outputs": [],
   "source": [
    "#Добавим месяц публикации\n",
    "df['month'] = df['first_day_exposition'].dt.month"
   ]
  },
  {
   "cell_type": "code",
   "execution_count": 35,
   "metadata": {},
   "outputs": [],
   "source": [
    "#Добавим год публикации\n",
    "df['year'] = df['first_day_exposition'].dt.year"
   ]
  },
  {
   "cell_type": "code",
   "execution_count": 36,
   "metadata": {},
   "outputs": [],
   "source": [
    "#Добавим категории для значения этажей\n",
    "def floor_num(row):\n",
    "    floors_total = row['floors_total']\n",
    "    floor = row['floor']\n",
    "    \n",
    "    if floor == 1:\n",
    "        return 'первый'\n",
    "    elif floor == floors_total:\n",
    "        return 'последний'\n",
    "    return 'другой'\n",
    "\n",
    "df['floor_num'] = df.apply(floor_num, axis = 1)\n",
    "    "
   ]
  },
  {
   "cell_type": "code",
   "execution_count": 37,
   "metadata": {},
   "outputs": [],
   "source": [
    "#Переведем в значении city_centers_nearest метры в километры и округлим до целых значений\n",
    "df['city_centers_km'] = (df['city_centers_nearest'] / 1000).astype(int)"
   ]
  },
  {
   "cell_type": "code",
   "execution_count": 38,
   "metadata": {},
   "outputs": [
    {
     "data": {
      "text/html": [
       "<div>\n",
       "<style scoped>\n",
       "    .dataframe tbody tr th:only-of-type {\n",
       "        vertical-align: middle;\n",
       "    }\n",
       "\n",
       "    .dataframe tbody tr th {\n",
       "        vertical-align: top;\n",
       "    }\n",
       "\n",
       "    .dataframe thead th {\n",
       "        text-align: right;\n",
       "    }\n",
       "</style>\n",
       "<table border=\"1\" class=\"dataframe\">\n",
       "  <thead>\n",
       "    <tr style=\"text-align: right;\">\n",
       "      <th></th>\n",
       "      <th>total_images</th>\n",
       "      <th>last_price</th>\n",
       "      <th>total_area</th>\n",
       "      <th>first_day_exposition</th>\n",
       "      <th>rooms</th>\n",
       "      <th>ceiling_height</th>\n",
       "      <th>floors_total</th>\n",
       "      <th>living_area</th>\n",
       "      <th>floor</th>\n",
       "      <th>is_apartment</th>\n",
       "      <th>...</th>\n",
       "      <th>parks_nearest</th>\n",
       "      <th>ponds_around3000</th>\n",
       "      <th>ponds_nearest</th>\n",
       "      <th>days_exposition</th>\n",
       "      <th>price_per_m</th>\n",
       "      <th>weekday</th>\n",
       "      <th>month</th>\n",
       "      <th>year</th>\n",
       "      <th>floor_num</th>\n",
       "      <th>city_centers_km</th>\n",
       "    </tr>\n",
       "  </thead>\n",
       "  <tbody>\n",
       "    <tr>\n",
       "      <th>0</th>\n",
       "      <td>20</td>\n",
       "      <td>13000000</td>\n",
       "      <td>108</td>\n",
       "      <td>2019-03-07</td>\n",
       "      <td>3</td>\n",
       "      <td>2.70</td>\n",
       "      <td>16.0</td>\n",
       "      <td>51</td>\n",
       "      <td>8</td>\n",
       "      <td>False</td>\n",
       "      <td>...</td>\n",
       "      <td>482.0</td>\n",
       "      <td>2.0</td>\n",
       "      <td>755.0</td>\n",
       "      <td>0.0</td>\n",
       "      <td>120370.370370</td>\n",
       "      <td>3</td>\n",
       "      <td>3</td>\n",
       "      <td>2019</td>\n",
       "      <td>другой</td>\n",
       "      <td>16</td>\n",
       "    </tr>\n",
       "    <tr>\n",
       "      <th>4</th>\n",
       "      <td>2</td>\n",
       "      <td>10000000</td>\n",
       "      <td>100</td>\n",
       "      <td>2018-06-19</td>\n",
       "      <td>2</td>\n",
       "      <td>3.03</td>\n",
       "      <td>14.0</td>\n",
       "      <td>32</td>\n",
       "      <td>13</td>\n",
       "      <td>False</td>\n",
       "      <td>...</td>\n",
       "      <td>112.0</td>\n",
       "      <td>1.0</td>\n",
       "      <td>48.0</td>\n",
       "      <td>121.0</td>\n",
       "      <td>100000.000000</td>\n",
       "      <td>1</td>\n",
       "      <td>6</td>\n",
       "      <td>2018</td>\n",
       "      <td>другой</td>\n",
       "      <td>8</td>\n",
       "    </tr>\n",
       "    <tr>\n",
       "      <th>9</th>\n",
       "      <td>18</td>\n",
       "      <td>5400000</td>\n",
       "      <td>61</td>\n",
       "      <td>2017-02-26</td>\n",
       "      <td>3</td>\n",
       "      <td>2.50</td>\n",
       "      <td>9.0</td>\n",
       "      <td>43</td>\n",
       "      <td>7</td>\n",
       "      <td>False</td>\n",
       "      <td>...</td>\n",
       "      <td>NaN</td>\n",
       "      <td>0.0</td>\n",
       "      <td>NaN</td>\n",
       "      <td>289.0</td>\n",
       "      <td>88524.590164</td>\n",
       "      <td>6</td>\n",
       "      <td>2</td>\n",
       "      <td>2017</td>\n",
       "      <td>другой</td>\n",
       "      <td>15</td>\n",
       "    </tr>\n",
       "    <tr>\n",
       "      <th>10</th>\n",
       "      <td>5</td>\n",
       "      <td>5050000</td>\n",
       "      <td>39</td>\n",
       "      <td>2017-11-16</td>\n",
       "      <td>1</td>\n",
       "      <td>2.67</td>\n",
       "      <td>12.0</td>\n",
       "      <td>20</td>\n",
       "      <td>3</td>\n",
       "      <td>False</td>\n",
       "      <td>...</td>\n",
       "      <td>310.0</td>\n",
       "      <td>2.0</td>\n",
       "      <td>553.0</td>\n",
       "      <td>137.0</td>\n",
       "      <td>129487.179487</td>\n",
       "      <td>3</td>\n",
       "      <td>11</td>\n",
       "      <td>2017</td>\n",
       "      <td>другой</td>\n",
       "      <td>13</td>\n",
       "    </tr>\n",
       "    <tr>\n",
       "      <th>13</th>\n",
       "      <td>20</td>\n",
       "      <td>3550000</td>\n",
       "      <td>42</td>\n",
       "      <td>2017-07-01</td>\n",
       "      <td>2</td>\n",
       "      <td>2.56</td>\n",
       "      <td>5.0</td>\n",
       "      <td>27</td>\n",
       "      <td>5</td>\n",
       "      <td>False</td>\n",
       "      <td>...</td>\n",
       "      <td>294.0</td>\n",
       "      <td>3.0</td>\n",
       "      <td>298.0</td>\n",
       "      <td>366.0</td>\n",
       "      <td>84523.809524</td>\n",
       "      <td>5</td>\n",
       "      <td>7</td>\n",
       "      <td>2017</td>\n",
       "      <td>последний</td>\n",
       "      <td>33</td>\n",
       "    </tr>\n",
       "  </tbody>\n",
       "</table>\n",
       "<p>5 rows × 28 columns</p>\n",
       "</div>"
      ],
      "text/plain": [
       "    total_images  last_price  total_area first_day_exposition  rooms  \\\n",
       "0             20    13000000         108           2019-03-07      3   \n",
       "4              2    10000000         100           2018-06-19      2   \n",
       "9             18     5400000          61           2017-02-26      3   \n",
       "10             5     5050000          39           2017-11-16      1   \n",
       "13            20     3550000          42           2017-07-01      2   \n",
       "\n",
       "    ceiling_height  floors_total  living_area  floor  is_apartment  ...  \\\n",
       "0             2.70          16.0           51      8         False  ...   \n",
       "4             3.03          14.0           32     13         False  ...   \n",
       "9             2.50           9.0           43      7         False  ...   \n",
       "10            2.67          12.0           20      3         False  ...   \n",
       "13            2.56           5.0           27      5         False  ...   \n",
       "\n",
       "    parks_nearest  ponds_around3000  ponds_nearest  days_exposition  \\\n",
       "0           482.0               2.0          755.0              0.0   \n",
       "4           112.0               1.0           48.0            121.0   \n",
       "9             NaN               0.0            NaN            289.0   \n",
       "10          310.0               2.0          553.0            137.0   \n",
       "13          294.0               3.0          298.0            366.0   \n",
       "\n",
       "      price_per_m  weekday  month  year  floor_num  city_centers_km  \n",
       "0   120370.370370        3      3  2019     другой               16  \n",
       "4   100000.000000        1      6  2018     другой                8  \n",
       "9    88524.590164        6      2  2017     другой               15  \n",
       "10  129487.179487        3     11  2017     другой               13  \n",
       "13   84523.809524        5      7  2017  последний               33  \n",
       "\n",
       "[5 rows x 28 columns]"
      ]
     },
     "execution_count": 38,
     "metadata": {},
     "output_type": "execute_result"
    }
   ],
   "source": [
    "#Проверим, что все новый столбцы добавились\n",
    "df.head(5)"
   ]
  },
  {
   "cell_type": "markdown",
   "metadata": {},
   "source": [
    "### Проведем исследовательский анализ данных"
   ]
  },
  {
   "cell_type": "markdown",
   "metadata": {},
   "source": [
    "#### Общее изучение параметров объектов"
   ]
  },
  {
   "cell_type": "code",
   "execution_count": 39,
   "metadata": {},
   "outputs": [
    {
     "data": {
      "text/plain": [
       "array([[<AxesSubplot:title={'center':'total_area'}>,\n",
       "        <AxesSubplot:title={'center':'living_area'}>,\n",
       "        <AxesSubplot:title={'center':'kitchen_area'}>,\n",
       "        <AxesSubplot:title={'center':'last_price'}>],\n",
       "       [<AxesSubplot:title={'center':'rooms'}>,\n",
       "        <AxesSubplot:title={'center':'ceiling_height'}>,\n",
       "        <AxesSubplot:title={'center':'floor'}>,\n",
       "        <AxesSubplot:title={'center':'floors_total'}>],\n",
       "       [<AxesSubplot:title={'center':'city_centers_nearest'}>,\n",
       "        <AxesSubplot:title={'center':'parks_nearest'}>,\n",
       "        <AxesSubplot:title={'center':'airports_nearest'}>,\n",
       "        <AxesSubplot:title={'center':'weekday'}>],\n",
       "       [<AxesSubplot:title={'center':'month'}>, <AxesSubplot:>,\n",
       "        <AxesSubplot:>, <AxesSubplot:>]], dtype=object)"
      ]
     },
     "execution_count": 39,
     "metadata": {},
     "output_type": "execute_result"
    },
    {
     "data": {
      "image/png": "[encoded data removed]",
      "text/plain": [
       "<Figure size 2000x1500 with 16 Axes>"
      ]
     },
     "metadata": {},
     "output_type": "display_data"
    }
   ],
   "source": [
    "#Построим гистограмы параметров объектов\n",
    "df[['total_area', 'living_area', 'kitchen_area', 'last_price', 'rooms', 'ceiling_height', 'floor', 'floor_num', 'floors_total', 'city_centers_nearest', 'parks_nearest', 'airports_nearest', 'weekday', 'month']].hist(figsize=(20,15))"
   ]
  },
  {
   "cell_type": "markdown",
   "metadata": {},
   "source": [
    "На рынке мы видим разнообразие предложений. \n",
    "Однако подавляющее количество объектов имеют площадь до 80кв.м, с жилой площадью в 45кв.м и кухнями 10кв.м. Разрыв площадей тем не менее большой: представлены объекты и по 100, 200 и даже 900кв.м.\n",
    "\n",
    "Много предложений на рынке на 2,3 комнатные квартиры со стандартными потолками в 2,5 - 3м. Высотных многоэтажек представлено мало, чаще это дома 10-12-этажные. В продаже квартиры ниже 5 этажа встречаются чаще, чем этажами выше. \n",
    "\n",
    "Почти половина предложений находятся в 7 км от центра, предложений дальше 20км от центра Санкт-Петербурга мало. Парк, если он есть рядом, будет в радиусе км. Аэропорт расположен далеко от города: расстояние от объектов 10-40км, реже 40-60км. \n",
    "\n",
    "По данным мы можем наблюдать сезонность: предложений с ноября по февраль в разы больше, чем с мая по сентябрь. Это можно объяснить тем, что летом многие уезжают отдыхать из города и оставляют дела на осень-зиму. Объявления публикуют в будни дни, в выходные - меньше. Можно предположить, что выгоднее выставить объявление в будни, чтобы в выходной день были просмотры. "
   ]
  },
  {
   "cell_type": "markdown",
   "metadata": {},
   "source": [
    "#### Изучим, как быстро продавались квартиры"
   ]
  },
  {
   "cell_type": "code",
   "execution_count": 40,
   "metadata": {
    "scrolled": true
   },
   "outputs": [
    {
     "data": {
      "text/plain": [
       "count    14366.000000\n",
       "mean       157.650494\n",
       "std        219.647221\n",
       "min          0.000000\n",
       "25%         17.000000\n",
       "50%         71.500000\n",
       "75%        201.000000\n",
       "max       1580.000000\n",
       "Name: days_exposition, dtype: float64"
      ]
     },
     "execution_count": 40,
     "metadata": {},
     "output_type": "execute_result"
    }
   ],
   "source": [
    "#Посмотрим описание по столбцу days_exposition\n",
    "df['days_exposition'].describe()"
   ]
  },
  {
   "cell_type": "markdown",
   "metadata": {},
   "source": [
    "По данным мы видим аномальные значения до 1580 дней, что составляет более 4 лет. Такие данные могли уже устареть. 75% базы лежит в значении до 200 дней - эти значения и изучим. "
   ]
  },
  {
   "cell_type": "code",
   "execution_count": 41,
   "metadata": {
    "scrolled": true
   },
   "outputs": [
    {
     "data": {
      "text/plain": [
       "<AxesSubplot:>"
      ]
     },
     "execution_count": 41,
     "metadata": {},
     "output_type": "execute_result"
    },
    {
     "data": {
      "image/png": "[encoded data removed]",
      "text/plain": [
       "<Figure size 640x480 with 1 Axes>"
      ]
     },
     "metadata": {},
     "output_type": "display_data"
    }
   ],
   "source": [
    "#Поближе посмотрим распредеделние закрытия сделки до 200 дней.\n",
    "days_exposition = df.query('days_exposition < 200')\n",
    "days_exposition['days_exposition'].hist()"
   ]
  },
  {
   "cell_type": "code",
   "execution_count": 42,
   "metadata": {},
   "outputs": [
    {
     "name": "stdout",
     "output_type": "stream",
     "text": [
      "Средняя продолжительность размещения: 57 дней\n",
      "Средняя медиана продолжительности размещения: 45 дней\n"
     ]
    }
   ],
   "source": [
    "print('Средняя продолжительность размещения:', round (days_exposition['days_exposition'].mean()), 'дней')\n",
    "print('Средняя медиана продолжительности размещения:', round (days_exposition['days_exposition'].median()), 'дней')"
   ]
  },
  {
   "cell_type": "markdown",
   "metadata": {},
   "source": [
    "В среднем объект продается от 2 до 3 месяцев. \n",
    "\n",
    "Мы видим, что есть публикации, которые закрываются в тот же день, но это не может говорить нам о продаже день в день. Справедливо считать быстрые продажы - 20 дней, и долгими более 200 дней. "
   ]
  },
  {
   "cell_type": "markdown",
   "metadata": {},
   "source": [
    "#### Факторы влияющие на общую (полную) стоимость объекта"
   ]
  },
  {
   "cell_type": "code",
   "execution_count": 43,
   "metadata": {
    "scrolled": false
   },
   "outputs": [
    {
     "data": {
      "text/plain": [
       "0.6896841048324908"
      ]
     },
     "execution_count": 43,
     "metadata": {},
     "output_type": "execute_result"
    },
    {
     "data": {
      "image/png": "[encoded data removed]",
      "text/plain": [
       "<Figure size 640x480 with 1 Axes>"
      ]
     },
     "metadata": {},
     "output_type": "display_data"
    }
   ],
   "source": [
    "#Найдем зависимость стоимости от площади объекта.\n",
    "seaborn.scatterplot(x=df['total_area'], y=df['last_price'])\n",
    "df['total_area'].corr(df['last_price'])"
   ]
  },
  {
   "cell_type": "markdown",
   "metadata": {},
   "source": [
    "Зависимость очевидна. Чем больше площадь, тем выше цена. Но гистограмма нам показывает, что это правило работает не всегда."
   ]
  },
  {
   "cell_type": "code",
   "execution_count": 44,
   "metadata": {
    "scrolled": false
   },
   "outputs": [
    {
     "data": {
      "text/plain": [
       "0.5195121578011838"
      ]
     },
     "execution_count": 44,
     "metadata": {},
     "output_type": "execute_result"
    },
    {
     "data": {
      "image/png": "[encoded data removed]",
      "text/plain": [
       "<Figure size 640x480 with 1 Axes>"
      ]
     },
     "metadata": {},
     "output_type": "display_data"
    }
   ],
   "source": [
    "#Найдем зависимость стоимости от жилой площади объекта.\n",
    "seaborn.scatterplot(x=df['living_area'], y=df['last_price'])\n",
    "df['living_area'].corr(df['last_price'])"
   ]
  },
  {
   "cell_type": "markdown",
   "metadata": {},
   "source": [
    "Небольшая зависимость есть. Чем больше жилая площадь, тем чуть больше стоимость."
   ]
  },
  {
   "cell_type": "code",
   "execution_count": 45,
   "metadata": {
    "scrolled": true
   },
   "outputs": [
    {
     "data": {
      "text/plain": [
       "0.44356455970322795"
      ]
     },
     "execution_count": 45,
     "metadata": {},
     "output_type": "execute_result"
    },
    {
     "data": {
      "image/png": "[encoded data removed]",
      "text/plain": [
       "<Figure size 640x480 with 1 Axes>"
      ]
     },
     "metadata": {},
     "output_type": "display_data"
    }
   ],
   "source": [
    "#Найдем зависимость стоимости от площади кухни объекта.\n",
    "seaborn.scatterplot(x=df['kitchen_area'], y=df['last_price'])\n",
    "df['kitchen_area'].corr(df['last_price'])"
   ]
  },
  {
   "cell_type": "markdown",
   "metadata": {},
   "source": [
    "Также наблюдаем небольшую зависимость: чем больше кухня, тем чуть больше стоимость квартиры."
   ]
  },
  {
   "cell_type": "code",
   "execution_count": 46,
   "metadata": {},
   "outputs": [
    {
     "name": "stdout",
     "output_type": "stream",
     "text": [
      "0.3934927713461918\n"
     ]
    },
    {
     "data": {
      "text/plain": [
       "<AxesSubplot:xlabel='rooms'>"
      ]
     },
     "execution_count": 46,
     "metadata": {},
     "output_type": "execute_result"
    },
    {
     "data": {
      "image/png": "[encoded data removed]",
      "text/plain": [
       "<Figure size 640x480 with 1 Axes>"
      ]
     },
     "metadata": {},
     "output_type": "display_data"
    }
   ],
   "source": [
    "#Зависимость цены от количества комнат\n",
    "print(df['last_price'].corr(df['rooms']))\n",
    "df.pivot_table(index='rooms', values='last_price').plot(grid=True, style='o-')"
   ]
  },
  {
   "cell_type": "markdown",
   "metadata": {},
   "source": [
    "Наблюдаем зависимость в выборке до 8 комнат: чем больше комнат, тем выше стоимость."
   ]
  },
  {
   "cell_type": "code",
   "execution_count": 47,
   "metadata": {
    "scrolled": false
   },
   "outputs": [
    {
     "data": {
      "text/plain": [
       "0.03168857031080884"
      ]
     },
     "execution_count": 47,
     "metadata": {},
     "output_type": "execute_result"
    },
    {
     "data": {
      "image/png": "[encoded data removed]",
      "text/plain": [
       "<Figure size 640x480 with 1 Axes>"
      ]
     },
     "metadata": {},
     "output_type": "display_data"
    }
   ],
   "source": [
    "#Зависимость цены от этажа\n",
    "df.pivot_table(index='floor_num', values='last_price', aggfunc=['median']).plot(grid=True, kind='bar')\n",
    "df['floor'].corr(df['last_price'])"
   ]
  },
  {
   "cell_type": "markdown",
   "metadata": {},
   "source": [
    "Квартиры на первом этаже дешевле на 10% квартир на последних этажах и на 20% дешевле, чем на любом другом этаже."
   ]
  },
  {
   "cell_type": "code",
   "execution_count": 48,
   "metadata": {
    "scrolled": true
   },
   "outputs": [
    {
     "data": {
      "text/plain": [
       "-0.018184794397893004"
      ]
     },
     "execution_count": 48,
     "metadata": {},
     "output_type": "execute_result"
    },
    {
     "data": {
      "image/png": "[encoded data removed]",
      "text/plain": [
       "<Figure size 640x480 with 1 Axes>"
      ]
     },
     "metadata": {},
     "output_type": "display_data"
    }
   ],
   "source": [
    "#Зависимость цены от дня недели\n",
    "df.pivot_table(index='weekday', values='last_price', aggfunc=['median']).plot(grid=True, kind='bar')\n",
    "df['weekday'].corr(df['last_price'])"
   ]
  },
  {
   "cell_type": "markdown",
   "metadata": {},
   "source": [
    "Зависимости между стоимость и днем недели публикации объявления нет."
   ]
  },
  {
   "cell_type": "code",
   "execution_count": 49,
   "metadata": {
    "scrolled": true
   },
   "outputs": [
    {
     "data": {
      "text/plain": [
       "-0.0020500418495486197"
      ]
     },
     "execution_count": 49,
     "metadata": {},
     "output_type": "execute_result"
    },
    {
     "data": {
      "image/png": "[encoded data removed]",
      "text/plain": [
       "<Figure size 640x480 with 1 Axes>"
      ]
     },
     "metadata": {},
     "output_type": "display_data"
    }
   ],
   "source": [
    "#Зависимость цены от месяца публикации\n",
    "df.pivot_table(index='month', values='last_price').plot(grid=True, kind='bar')\n",
    "df['month'].corr(df['last_price'])"
   ]
  },
  {
   "cell_type": "markdown",
   "metadata": {},
   "source": [
    "Наименьшую стоимость объектов мы наблюдаем в марте, июне и октябре, при чем в июне фиксируется самые низкие цены в году. \n",
    "\n",
    "Высокие значения видим в январе, апреле, июле и декабре."
   ]
  },
  {
   "cell_type": "code",
   "execution_count": 50,
   "metadata": {
    "scrolled": true
   },
   "outputs": [
    {
     "data": {
      "text/plain": [
       "-0.051522432837165934"
      ]
     },
     "execution_count": 50,
     "metadata": {},
     "output_type": "execute_result"
    },
    {
     "data": {
      "image/png": "[encoded data removed]",
      "text/plain": [
       "<Figure size 640x480 with 1 Axes>"
      ]
     },
     "metadata": {},
     "output_type": "display_data"
    }
   ],
   "source": [
    "#Зависимость цены от года продажи\n",
    "df.pivot_table(index='year', values='last_price', aggfunc='median').plot(grid=True, style='o-')\n",
    "df['year'].corr(df['last_price'])"
   ]
  },
  {
   "cell_type": "markdown",
   "metadata": {},
   "source": [
    "После 2014г года цена на недвижимость стала падать и с 2016г цены стабилизировались. "
   ]
  },
  {
   "cell_type": "markdown",
   "metadata": {},
   "source": [
    "#### Населённые пункты с самой высокой и низкой стоимостью квадратного метра"
   ]
  },
  {
   "cell_type": "code",
   "execution_count": 51,
   "metadata": {},
   "outputs": [
    {
     "data": {
      "text/html": [
       "<div>\n",
       "<style scoped>\n",
       "    .dataframe tbody tr th:only-of-type {\n",
       "        vertical-align: middle;\n",
       "    }\n",
       "\n",
       "    .dataframe tbody tr th {\n",
       "        vertical-align: top;\n",
       "    }\n",
       "\n",
       "    .dataframe thead th {\n",
       "        text-align: right;\n",
       "    }\n",
       "</style>\n",
       "<table border=\"1\" class=\"dataframe\">\n",
       "  <thead>\n",
       "    <tr style=\"text-align: right;\">\n",
       "      <th></th>\n",
       "      <th>count</th>\n",
       "      <th>mean</th>\n",
       "    </tr>\n",
       "    <tr>\n",
       "      <th>locality_name</th>\n",
       "      <th></th>\n",
       "      <th></th>\n",
       "    </tr>\n",
       "  </thead>\n",
       "  <tbody>\n",
       "    <tr>\n",
       "      <th>Санкт-Петербург</th>\n",
       "      <td>10005</td>\n",
       "      <td>115668.292876</td>\n",
       "    </tr>\n",
       "  </tbody>\n",
       "</table>\n",
       "</div>"
      ],
      "text/plain": [
       "                 count           mean\n",
       "locality_name                        \n",
       "Санкт-Петербург  10005  115668.292876"
      ]
     },
     "metadata": {},
     "output_type": "display_data"
    },
    {
     "data": {
      "text/html": [
       "<div>\n",
       "<style scoped>\n",
       "    .dataframe tbody tr th:only-of-type {\n",
       "        vertical-align: middle;\n",
       "    }\n",
       "\n",
       "    .dataframe tbody tr th {\n",
       "        vertical-align: top;\n",
       "    }\n",
       "\n",
       "    .dataframe thead th {\n",
       "        text-align: right;\n",
       "    }\n",
       "</style>\n",
       "<table border=\"1\" class=\"dataframe\">\n",
       "  <thead>\n",
       "    <tr style=\"text-align: right;\">\n",
       "      <th></th>\n",
       "      <th>count</th>\n",
       "      <th>mean</th>\n",
       "    </tr>\n",
       "    <tr>\n",
       "      <th>locality_name</th>\n",
       "      <th></th>\n",
       "      <th></th>\n",
       "    </tr>\n",
       "  </thead>\n",
       "  <tbody>\n",
       "    <tr>\n",
       "      <th>Всеволожск</th>\n",
       "      <td>270</td>\n",
       "      <td>67498.441204</td>\n",
       "    </tr>\n",
       "  </tbody>\n",
       "</table>\n",
       "</div>"
      ],
      "text/plain": [
       "               count          mean\n",
       "locality_name                     \n",
       "Всеволожск       270  67498.441204"
      ]
     },
     "metadata": {},
     "output_type": "display_data"
    }
   ],
   "source": [
    "high_low_price = df.groupby('locality_name')['price_per_m'].agg(['count','mean']).sort_values(by='count', ascending=False)[:10]\n",
    "display(high_low_price[high_low_price['mean'] == high_low_price['mean'].max()])\n",
    "display(high_low_price[high_low_price['mean'] == high_low_price['mean'].min()])"
   ]
  },
  {
   "cell_type": "markdown",
   "metadata": {},
   "source": [
    "ОБъекты с самой высокой стоимостью кв.м в Санкт-Петербурге, а самая низкая стоимость кв.м в Всеволожске."
   ]
  },
  {
   "cell_type": "markdown",
   "metadata": {},
   "source": [
    "#### Вычислим среднюю стоимость одного км в Санкт-Петербурге."
   ]
  },
  {
   "cell_type": "code",
   "execution_count": 52,
   "metadata": {},
   "outputs": [
    {
     "data": {
      "text/plain": [
       "616326"
      ]
     },
     "execution_count": 52,
     "metadata": {},
     "output_type": "execute_result"
    }
   ],
   "source": [
    "#узнаем среднюю стоимоть км.\n",
    "round (df['last_price'].mean()/df['city_centers_km'].mean())"
   ]
  },
  {
   "cell_type": "code",
   "execution_count": 53,
   "metadata": {
    "scrolled": true
   },
   "outputs": [
    {
     "data": {
      "text/plain": [
       "<AxesSubplot:xlabel='city_centers_km'>"
      ]
     },
     "execution_count": 53,
     "metadata": {},
     "output_type": "execute_result"
    },
    {
     "data": {
      "image/png": "[encoded data removed]",
      "text/plain": [
       "<Figure size 640x480 with 1 Axes>"
      ]
     },
     "metadata": {},
     "output_type": "display_data"
    }
   ],
   "source": [
    "#Построим гистограмму зависимости \n",
    "df.query('locality_name == \"Санкт-Петербург\"').pivot_table(index='city_centers_km', values='last_price').plot()"
   ]
  },
  {
   "cell_type": "markdown",
   "metadata": {},
   "source": [
    "Средняя стоимость одного км - 616 290руб. Видим прямую зависимость: чем ближе к центру, тем выше стоимость квартиры."
   ]
  },
  {
   "cell_type": "markdown",
   "metadata": {},
   "source": [
    "### Общий вывод"
   ]
  },
  {
   "cell_type": "markdown",
   "metadata": {},
   "source": [
    "Мы изучили объекты недвижимости представленные к продаже с 2014г по 2019г в Санкт-Петербурге и ленинградской области. \n",
    "\n",
    "Рынок Санкт-Петербурга имеет свои особенности, которые мы и увидели в исследовании. Например большое количество предложений с 6, 8 и даже 12 комнатами. Очевидно, что это бывшие коммуналки, которые могут продаваться как отдельные комнаты (поэтому здесь мы видим площадь кухонь 2кв.м, например), так и коммуналки целиком - поэтому видим площади квартир 200, 300, 600 и даже 900кв.м.\n",
    "\n",
    "Данные показали, что застройка в Санкт-Петербурге, особенно в центральном районе, невысокая: больше половины предложений располагаются не выше 5 этажа. Высоток в 25 этажей мало, а вот дома в 10-12 этажей уже встречаются чаще. И это логично, ведь в центральном районе, где больше всего предложений, мало новостоя. К слову там же, в радиусе 7 км от центра, расположились самые дорогие объекты,где средняя стоимость - 115 656руб за метр. Если говорить в общем о цене, то после резко падения цен в 2014 году, к 2016 значения выровнились и следующие три года почти не менялись.\n",
    "\n",
    "Рынок недвижимости имеет сезонность: в разы больше предложений с ноября до февраль, чем с мая по сентябрь - пора отпусков и долгих поездок загород. Также и с днями недели: больше половины объявлений публикуют в будние дни. Средняя продолжительность продажи 2-3 месяца. \n",
    "\n",
    "Особенности застройки Санкт-Петербурга не позволили выявить очевидные зависимости цены от какого-либо параметра. Безусловно чем больше площадь, тем и цена будет выше. Но и здесь мы увидели исключения. На цену вероятно врияет и расположение и состояние квартиры и много других признаков, которые стоит исследовать вкупе. "
   ]
  }
 ],
 "metadata": {
  "ExecuteTimeLog": [
   {
    "duration": 48,
    "start_time": "2022-09-15T20:06:19.801Z"
   },
   {
    "duration": 333,
    "start_time": "2022-09-15T20:06:30.851Z"
   },
   {
    "duration": 312,
    "start_time": "2022-09-15T20:06:32.999Z"
   },
   {
    "duration": 67,
    "start_time": "2022-09-15T20:06:54.989Z"
   },
   {
    "duration": 55,
    "start_time": "2022-09-15T20:07:52.439Z"
   },
   {
    "duration": 107,
    "start_time": "2022-09-15T20:08:00.937Z"
   },
   {
    "duration": 92,
    "start_time": "2022-09-15T20:11:12.391Z"
   },
   {
    "duration": 29,
    "start_time": "2022-09-15T20:24:16.862Z"
   },
   {
    "duration": 4,
    "start_time": "2022-09-15T20:25:47.885Z"
   },
   {
    "duration": 912,
    "start_time": "2022-09-15T20:28:27.749Z"
   },
   {
    "duration": 871,
    "start_time": "2022-09-15T20:28:50.569Z"
   },
   {
    "duration": 932,
    "start_time": "2022-09-15T20:29:57.008Z"
   },
   {
    "duration": 3,
    "start_time": "2022-09-15T20:30:13.962Z"
   },
   {
    "duration": 15,
    "start_time": "2022-09-15T20:30:35.256Z"
   },
   {
    "duration": 14,
    "start_time": "2022-09-15T20:30:43.378Z"
   },
   {
    "duration": 16,
    "start_time": "2022-09-15T20:30:44.490Z"
   },
   {
    "duration": 19,
    "start_time": "2022-09-15T20:34:34.460Z"
   },
   {
    "duration": 15,
    "start_time": "2022-09-15T20:34:35.630Z"
   },
   {
    "duration": 14,
    "start_time": "2022-09-15T20:35:12.484Z"
   },
   {
    "duration": 15,
    "start_time": "2022-09-15T20:35:13.562Z"
   },
   {
    "duration": 16,
    "start_time": "2022-09-15T20:35:34.063Z"
   },
   {
    "duration": 6,
    "start_time": "2022-09-15T20:37:03.315Z"
   },
   {
    "duration": 4,
    "start_time": "2022-09-15T20:37:05.632Z"
   },
   {
    "duration": 8,
    "start_time": "2022-09-15T20:37:35.724Z"
   },
   {
    "duration": 13,
    "start_time": "2022-09-15T20:37:47.168Z"
   },
   {
    "duration": 1223,
    "start_time": "2022-09-15T20:38:55.919Z"
   },
   {
    "duration": 17,
    "start_time": "2022-09-15T20:39:18.792Z"
   },
   {
    "duration": 15,
    "start_time": "2022-09-15T20:41:21.294Z"
   },
   {
    "duration": 13,
    "start_time": "2022-09-15T20:41:28.631Z"
   },
   {
    "duration": 13,
    "start_time": "2022-09-15T20:41:41.625Z"
   },
   {
    "duration": 12,
    "start_time": "2022-09-15T20:41:43.880Z"
   },
   {
    "duration": 13,
    "start_time": "2022-09-15T20:42:17.403Z"
   },
   {
    "duration": 17,
    "start_time": "2022-09-15T20:42:31.968Z"
   },
   {
    "duration": 12,
    "start_time": "2022-09-15T20:42:53.490Z"
   },
   {
    "duration": 12,
    "start_time": "2022-09-15T20:42:56.201Z"
   },
   {
    "duration": 12,
    "start_time": "2022-09-15T20:43:30.354Z"
   },
   {
    "duration": 10,
    "start_time": "2022-09-15T20:43:37.115Z"
   },
   {
    "duration": 10,
    "start_time": "2022-09-15T20:43:38.167Z"
   },
   {
    "duration": 11,
    "start_time": "2022-09-15T20:43:39.590Z"
   },
   {
    "duration": 14,
    "start_time": "2022-09-15T20:44:34.461Z"
   },
   {
    "duration": 10,
    "start_time": "2022-09-15T20:44:35.481Z"
   },
   {
    "duration": 109,
    "start_time": "2022-09-15T20:44:50.958Z"
   },
   {
    "duration": 114,
    "start_time": "2022-09-15T20:45:57.104Z"
   },
   {
    "duration": 10,
    "start_time": "2022-09-15T20:47:12.335Z"
   },
   {
    "duration": 8,
    "start_time": "2022-09-15T20:47:21.771Z"
   },
   {
    "duration": 44,
    "start_time": "2022-09-15T20:48:49.203Z"
   },
   {
    "duration": 1357,
    "start_time": "2022-09-15T20:48:56.974Z"
   },
   {
    "duration": 1432,
    "start_time": "2022-09-15T20:48:59.947Z"
   },
   {
    "duration": 379,
    "start_time": "2022-09-15T20:49:13.568Z"
   },
   {
    "duration": 118,
    "start_time": "2022-09-15T20:49:13.949Z"
   },
   {
    "duration": 8,
    "start_time": "2022-09-15T20:49:14.068Z"
   },
   {
    "duration": 1149,
    "start_time": "2022-09-15T20:49:14.078Z"
   },
   {
    "duration": 0,
    "start_time": "2022-09-15T20:49:15.229Z"
   },
   {
    "duration": 0,
    "start_time": "2022-09-15T20:49:15.230Z"
   },
   {
    "duration": 846,
    "start_time": "2022-09-15T20:49:20.480Z"
   },
   {
    "duration": 8,
    "start_time": "2022-09-15T20:50:22.260Z"
   },
   {
    "duration": 97,
    "start_time": "2022-09-15T20:50:38.438Z"
   },
   {
    "duration": 62,
    "start_time": "2022-09-15T20:51:25.285Z"
   },
   {
    "duration": 8,
    "start_time": "2022-09-15T20:51:30.284Z"
   },
   {
    "duration": 65,
    "start_time": "2022-09-15T20:52:39.087Z"
   },
   {
    "duration": 7,
    "start_time": "2022-09-15T20:52:45.287Z"
   },
   {
    "duration": 5,
    "start_time": "2022-09-15T20:52:51.399Z"
   },
   {
    "duration": 14,
    "start_time": "2022-09-15T20:53:20.112Z"
   },
   {
    "duration": 14,
    "start_time": "2022-09-15T20:53:44.645Z"
   },
   {
    "duration": 11,
    "start_time": "2022-09-15T20:54:18.158Z"
   },
   {
    "duration": 8,
    "start_time": "2022-09-15T20:54:21.743Z"
   },
   {
    "duration": 10,
    "start_time": "2022-09-15T20:54:24.938Z"
   },
   {
    "duration": 10,
    "start_time": "2022-09-15T20:54:34.710Z"
   },
   {
    "duration": 6,
    "start_time": "2022-09-15T20:54:54.681Z"
   },
   {
    "duration": 7,
    "start_time": "2022-09-15T21:00:36.406Z"
   },
   {
    "duration": 6,
    "start_time": "2022-09-15T21:00:57.552Z"
   },
   {
    "duration": 25,
    "start_time": "2022-09-15T21:02:11.991Z"
   },
   {
    "duration": 16,
    "start_time": "2022-09-15T21:02:28.829Z"
   },
   {
    "duration": 131,
    "start_time": "2022-09-15T21:03:05.586Z"
   },
   {
    "duration": 17,
    "start_time": "2022-09-15T21:03:54.903Z"
   },
   {
    "duration": 138,
    "start_time": "2022-09-15T21:04:19.109Z"
   },
   {
    "duration": 5,
    "start_time": "2022-09-15T21:07:44.870Z"
   },
   {
    "duration": 7,
    "start_time": "2022-09-15T21:09:08.058Z"
   },
   {
    "duration": 8,
    "start_time": "2022-09-15T21:09:27.875Z"
   },
   {
    "duration": 4,
    "start_time": "2022-09-15T21:10:27.113Z"
   },
   {
    "duration": 8,
    "start_time": "2022-09-15T21:12:26.724Z"
   },
   {
    "duration": 5,
    "start_time": "2022-09-15T21:12:53.935Z"
   },
   {
    "duration": 5,
    "start_time": "2022-09-15T21:13:04.086Z"
   },
   {
    "duration": 5,
    "start_time": "2022-09-15T21:13:09.555Z"
   },
   {
    "duration": 5,
    "start_time": "2022-09-15T21:13:16.261Z"
   },
   {
    "duration": 5,
    "start_time": "2022-09-15T21:13:23.628Z"
   },
   {
    "duration": 9,
    "start_time": "2022-09-15T21:16:44.604Z"
   },
   {
    "duration": 43,
    "start_time": "2022-09-16T09:32:00.234Z"
   },
   {
    "duration": 359,
    "start_time": "2022-09-16T09:32:09.538Z"
   },
   {
    "duration": 179,
    "start_time": "2022-09-16T09:32:09.899Z"
   },
   {
    "duration": 7,
    "start_time": "2022-09-16T09:32:10.079Z"
   },
   {
    "duration": 3,
    "start_time": "2022-09-16T09:32:10.088Z"
   },
   {
    "duration": 5,
    "start_time": "2022-09-16T09:32:10.093Z"
   },
   {
    "duration": 18,
    "start_time": "2022-09-16T09:32:10.099Z"
   },
   {
    "duration": 1630,
    "start_time": "2022-09-16T09:33:46.952Z"
   },
   {
    "duration": 1274,
    "start_time": "2022-09-16T09:43:59.084Z"
   },
   {
    "duration": 1267,
    "start_time": "2022-09-16T09:44:20.446Z"
   },
   {
    "duration": 1471,
    "start_time": "2022-09-16T09:44:36.448Z"
   },
   {
    "duration": 1666,
    "start_time": "2022-09-16T09:44:53.147Z"
   },
   {
    "duration": 1920,
    "start_time": "2022-09-16T09:45:05.300Z"
   },
   {
    "duration": 5,
    "start_time": "2022-09-16T09:50:10.700Z"
   },
   {
    "duration": 61,
    "start_time": "2022-09-16T09:52:22.543Z"
   },
   {
    "duration": 7,
    "start_time": "2022-09-16T09:52:29.695Z"
   },
   {
    "duration": 8,
    "start_time": "2022-09-16T09:52:51.442Z"
   },
   {
    "duration": 93,
    "start_time": "2022-09-16T09:53:09.586Z"
   },
   {
    "duration": 5,
    "start_time": "2022-09-16T09:53:26.606Z"
   },
   {
    "duration": 332,
    "start_time": "2022-09-16T09:53:29.208Z"
   },
   {
    "duration": 6,
    "start_time": "2022-09-16T09:53:47.703Z"
   },
   {
    "duration": 9,
    "start_time": "2022-09-16T10:02:21.952Z"
   },
   {
    "duration": 178,
    "start_time": "2022-09-16T10:02:30.750Z"
   },
   {
    "duration": 29,
    "start_time": "2022-09-16T10:02:55.833Z"
   },
   {
    "duration": 1377,
    "start_time": "2022-09-16T10:05:44.344Z"
   },
   {
    "duration": 1167,
    "start_time": "2022-09-16T10:09:35.567Z"
   },
   {
    "duration": 9,
    "start_time": "2022-09-16T10:11:07.180Z"
   },
   {
    "duration": 6,
    "start_time": "2022-09-16T10:11:28.176Z"
   },
   {
    "duration": 367,
    "start_time": "2022-09-16T10:11:35.234Z"
   },
   {
    "duration": 134,
    "start_time": "2022-09-16T10:11:35.603Z"
   },
   {
    "duration": 2193,
    "start_time": "2022-09-16T10:11:35.739Z"
   },
   {
    "duration": 9,
    "start_time": "2022-09-16T10:11:37.936Z"
   },
   {
    "duration": 7,
    "start_time": "2022-09-16T10:11:37.947Z"
   },
   {
    "duration": 5,
    "start_time": "2022-09-16T10:11:37.955Z"
   },
   {
    "duration": 7,
    "start_time": "2022-09-16T10:11:37.961Z"
   },
   {
    "duration": 78,
    "start_time": "2022-09-16T10:11:37.969Z"
   },
   {
    "duration": 8,
    "start_time": "2022-09-16T10:11:57.053Z"
   },
   {
    "duration": 7,
    "start_time": "2022-09-16T10:12:23.501Z"
   },
   {
    "duration": 7,
    "start_time": "2022-09-16T10:12:44.404Z"
   },
   {
    "duration": 7,
    "start_time": "2022-09-16T10:15:29.853Z"
   },
   {
    "duration": 7,
    "start_time": "2022-09-16T10:15:38.315Z"
   },
   {
    "duration": 400,
    "start_time": "2022-09-16T10:15:43.519Z"
   },
   {
    "duration": 141,
    "start_time": "2022-09-16T10:15:43.921Z"
   },
   {
    "duration": 2044,
    "start_time": "2022-09-16T10:15:44.064Z"
   },
   {
    "duration": 10,
    "start_time": "2022-09-16T10:15:46.111Z"
   },
   {
    "duration": 27,
    "start_time": "2022-09-16T10:15:46.128Z"
   },
   {
    "duration": 32,
    "start_time": "2022-09-16T10:15:46.157Z"
   },
   {
    "duration": 14,
    "start_time": "2022-09-16T10:15:46.191Z"
   },
   {
    "duration": 28,
    "start_time": "2022-09-16T10:15:46.207Z"
   },
   {
    "duration": 10,
    "start_time": "2022-09-16T10:15:59.061Z"
   },
   {
    "duration": 11,
    "start_time": "2022-09-16T10:17:15.969Z"
   },
   {
    "duration": 11,
    "start_time": "2022-09-16T10:18:43.866Z"
   },
   {
    "duration": 10,
    "start_time": "2022-09-16T10:29:22.571Z"
   },
   {
    "duration": 118,
    "start_time": "2022-09-16T10:30:20.696Z"
   },
   {
    "duration": 343,
    "start_time": "2022-09-16T10:30:35.470Z"
   },
   {
    "duration": 136,
    "start_time": "2022-09-16T10:30:35.815Z"
   },
   {
    "duration": 1999,
    "start_time": "2022-09-16T10:30:35.953Z"
   },
   {
    "duration": 8,
    "start_time": "2022-09-16T10:30:37.954Z"
   },
   {
    "duration": 12,
    "start_time": "2022-09-16T10:30:37.964Z"
   },
   {
    "duration": 6,
    "start_time": "2022-09-16T10:30:37.978Z"
   },
   {
    "duration": 13,
    "start_time": "2022-09-16T10:30:37.985Z"
   },
   {
    "duration": 5,
    "start_time": "2022-09-16T10:30:37.999Z"
   },
   {
    "duration": 7,
    "start_time": "2022-09-16T10:35:36.085Z"
   },
   {
    "duration": 16,
    "start_time": "2022-09-16T10:37:13.132Z"
   },
   {
    "duration": 26,
    "start_time": "2022-09-16T10:37:22.719Z"
   },
   {
    "duration": 11,
    "start_time": "2022-09-16T10:39:39.667Z"
   },
   {
    "duration": 11,
    "start_time": "2022-09-16T10:40:47.835Z"
   },
   {
    "duration": 71,
    "start_time": "2022-09-16T10:48:30.419Z"
   },
   {
    "duration": 5,
    "start_time": "2022-09-16T10:48:56.594Z"
   },
   {
    "duration": 12,
    "start_time": "2022-09-16T10:49:35.984Z"
   },
   {
    "duration": 12,
    "start_time": "2022-09-16T10:50:21.397Z"
   },
   {
    "duration": 4,
    "start_time": "2022-09-16T10:54:04.163Z"
   },
   {
    "duration": 6,
    "start_time": "2022-09-16T10:54:07.774Z"
   },
   {
    "duration": 381,
    "start_time": "2022-09-16T10:54:26.393Z"
   },
   {
    "duration": 134,
    "start_time": "2022-09-16T10:54:26.776Z"
   },
   {
    "duration": 2124,
    "start_time": "2022-09-16T10:54:26.912Z"
   },
   {
    "duration": 11,
    "start_time": "2022-09-16T10:54:29.040Z"
   },
   {
    "duration": 15,
    "start_time": "2022-09-16T10:54:29.052Z"
   },
   {
    "duration": 16,
    "start_time": "2022-09-16T10:54:29.068Z"
   },
   {
    "duration": 27,
    "start_time": "2022-09-16T10:54:29.085Z"
   },
   {
    "duration": 25,
    "start_time": "2022-09-16T10:54:29.114Z"
   },
   {
    "duration": 8,
    "start_time": "2022-09-16T10:54:29.141Z"
   },
   {
    "duration": 17,
    "start_time": "2022-09-16T10:54:29.152Z"
   },
   {
    "duration": 5,
    "start_time": "2022-09-16T10:55:03.241Z"
   },
   {
    "duration": 8,
    "start_time": "2022-09-16T10:55:06.074Z"
   },
   {
    "duration": 68,
    "start_time": "2022-09-16T10:56:18.573Z"
   },
   {
    "duration": 10,
    "start_time": "2022-09-16T10:56:26.478Z"
   },
   {
    "duration": 7,
    "start_time": "2022-09-16T10:56:36.524Z"
   },
   {
    "duration": 7,
    "start_time": "2022-09-16T10:58:46.655Z"
   },
   {
    "duration": 7,
    "start_time": "2022-09-16T10:58:50.837Z"
   },
   {
    "duration": 4,
    "start_time": "2022-09-16T11:02:00.905Z"
   },
   {
    "duration": 6,
    "start_time": "2022-09-16T11:02:04.907Z"
   },
   {
    "duration": 5,
    "start_time": "2022-09-16T11:08:11.350Z"
   },
   {
    "duration": 7,
    "start_time": "2022-09-16T11:08:14.107Z"
   },
   {
    "duration": 364,
    "start_time": "2022-09-16T11:08:38.638Z"
   },
   {
    "duration": 138,
    "start_time": "2022-09-16T11:08:39.004Z"
   },
   {
    "duration": 2048,
    "start_time": "2022-09-16T11:08:39.144Z"
   },
   {
    "duration": 8,
    "start_time": "2022-09-16T11:08:41.194Z"
   },
   {
    "duration": 12,
    "start_time": "2022-09-16T11:08:41.204Z"
   },
   {
    "duration": 10,
    "start_time": "2022-09-16T11:08:41.217Z"
   },
   {
    "duration": 39,
    "start_time": "2022-09-16T11:08:41.228Z"
   },
   {
    "duration": 10,
    "start_time": "2022-09-16T11:08:41.269Z"
   },
   {
    "duration": 6,
    "start_time": "2022-09-16T11:08:41.280Z"
   },
   {
    "duration": 9,
    "start_time": "2022-09-16T11:08:41.288Z"
   },
   {
    "duration": 88,
    "start_time": "2022-09-16T11:10:50.772Z"
   },
   {
    "duration": 15,
    "start_time": "2022-09-16T11:11:04.160Z"
   },
   {
    "duration": 8,
    "start_time": "2022-09-16T11:11:33.009Z"
   },
   {
    "duration": 371,
    "start_time": "2022-09-16T11:15:07.296Z"
   },
   {
    "duration": 132,
    "start_time": "2022-09-16T11:15:07.669Z"
   },
   {
    "duration": 2002,
    "start_time": "2022-09-16T11:15:07.802Z"
   },
   {
    "duration": 9,
    "start_time": "2022-09-16T11:15:09.806Z"
   },
   {
    "duration": 6,
    "start_time": "2022-09-16T11:15:09.816Z"
   },
   {
    "duration": 13,
    "start_time": "2022-09-16T11:15:09.823Z"
   },
   {
    "duration": 28,
    "start_time": "2022-09-16T11:15:09.838Z"
   },
   {
    "duration": 10,
    "start_time": "2022-09-16T11:15:09.868Z"
   },
   {
    "duration": 14,
    "start_time": "2022-09-16T11:15:09.880Z"
   },
   {
    "duration": 5,
    "start_time": "2022-09-16T11:15:09.897Z"
   },
   {
    "duration": 79,
    "start_time": "2022-09-16T11:18:12.729Z"
   },
   {
    "duration": 26,
    "start_time": "2022-09-16T11:19:01.512Z"
   },
   {
    "duration": 6,
    "start_time": "2022-09-16T11:19:04.074Z"
   },
   {
    "duration": 32,
    "start_time": "2022-09-16T11:20:46.579Z"
   },
   {
    "duration": 5,
    "start_time": "2022-09-16T11:20:49.566Z"
   },
   {
    "duration": 22,
    "start_time": "2022-09-16T11:29:51.451Z"
   },
   {
    "duration": 123,
    "start_time": "2022-09-16T11:31:39.134Z"
   },
   {
    "duration": 467,
    "start_time": "2022-09-16T11:32:17.182Z"
   },
   {
    "duration": 153,
    "start_time": "2022-09-16T11:32:28.939Z"
   },
   {
    "duration": 5,
    "start_time": "2022-09-16T11:33:16.022Z"
   },
   {
    "duration": 10,
    "start_time": "2022-09-16T11:33:41.187Z"
   },
   {
    "duration": 12,
    "start_time": "2022-09-16T11:33:46.041Z"
   },
   {
    "duration": 9,
    "start_time": "2022-09-16T11:34:43.737Z"
   },
   {
    "duration": 11,
    "start_time": "2022-09-16T11:37:37.344Z"
   },
   {
    "duration": 9,
    "start_time": "2022-09-16T11:39:06.095Z"
   },
   {
    "duration": 11,
    "start_time": "2022-09-16T11:39:15.140Z"
   },
   {
    "duration": 10,
    "start_time": "2022-09-16T11:41:44.699Z"
   },
   {
    "duration": 9,
    "start_time": "2022-09-16T11:41:54.468Z"
   },
   {
    "duration": 12,
    "start_time": "2022-09-16T11:43:09.148Z"
   },
   {
    "duration": 10,
    "start_time": "2022-09-16T11:43:12.273Z"
   },
   {
    "duration": 17,
    "start_time": "2022-09-16T11:43:39.506Z"
   },
   {
    "duration": 11,
    "start_time": "2022-09-16T11:44:01.601Z"
   },
   {
    "duration": 8,
    "start_time": "2022-09-16T11:44:30.196Z"
   },
   {
    "duration": 10,
    "start_time": "2022-09-16T11:44:55.712Z"
   },
   {
    "duration": 9,
    "start_time": "2022-09-16T11:46:29.652Z"
   },
   {
    "duration": 9,
    "start_time": "2022-09-16T11:46:37.616Z"
   },
   {
    "duration": 396,
    "start_time": "2022-09-16T11:46:43.116Z"
   },
   {
    "duration": 139,
    "start_time": "2022-09-16T11:46:43.513Z"
   },
   {
    "duration": 2043,
    "start_time": "2022-09-16T11:46:43.653Z"
   },
   {
    "duration": 9,
    "start_time": "2022-09-16T11:46:45.698Z"
   },
   {
    "duration": 5,
    "start_time": "2022-09-16T11:46:45.708Z"
   },
   {
    "duration": 5,
    "start_time": "2022-09-16T11:46:45.715Z"
   },
   {
    "duration": 18,
    "start_time": "2022-09-16T11:46:45.721Z"
   },
   {
    "duration": 11,
    "start_time": "2022-09-16T11:46:45.741Z"
   },
   {
    "duration": 19,
    "start_time": "2022-09-16T11:46:45.754Z"
   },
   {
    "duration": 51,
    "start_time": "2022-09-16T11:46:45.775Z"
   },
   {
    "duration": 9,
    "start_time": "2022-09-16T11:46:45.828Z"
   },
   {
    "duration": 158,
    "start_time": "2022-09-16T11:46:45.840Z"
   },
   {
    "duration": 27,
    "start_time": "2022-09-16T11:46:46.000Z"
   },
   {
    "duration": 6,
    "start_time": "2022-09-16T11:47:10.165Z"
   },
   {
    "duration": 7,
    "start_time": "2022-09-16T11:47:12.175Z"
   },
   {
    "duration": 7,
    "start_time": "2022-09-16T11:47:23.361Z"
   },
   {
    "duration": 4,
    "start_time": "2022-09-16T11:47:29.802Z"
   },
   {
    "duration": 90,
    "start_time": "2022-09-16T12:52:59.556Z"
   },
   {
    "duration": 34,
    "start_time": "2022-09-16T12:53:24.303Z"
   },
   {
    "duration": 15,
    "start_time": "2022-09-16T12:53:56.751Z"
   },
   {
    "duration": 7,
    "start_time": "2022-09-16T12:54:14.901Z"
   },
   {
    "duration": 10,
    "start_time": "2022-09-16T12:54:19.971Z"
   },
   {
    "duration": 148,
    "start_time": "2022-09-16T12:55:02.437Z"
   },
   {
    "duration": 8,
    "start_time": "2022-09-16T12:55:20.096Z"
   },
   {
    "duration": 18,
    "start_time": "2022-09-16T12:55:27.344Z"
   },
   {
    "duration": 949,
    "start_time": "2022-09-16T12:55:35.060Z"
   },
   {
    "duration": 55,
    "start_time": "2022-09-16T12:55:45.100Z"
   },
   {
    "duration": 28,
    "start_time": "2022-09-16T12:56:36.850Z"
   },
   {
    "duration": 100,
    "start_time": "2022-09-16T12:56:43.461Z"
   },
   {
    "duration": 25,
    "start_time": "2022-09-16T12:56:49.076Z"
   },
   {
    "duration": 14,
    "start_time": "2022-09-16T12:57:21.966Z"
   },
   {
    "duration": 15,
    "start_time": "2022-09-16T12:57:34.419Z"
   },
   {
    "duration": 13,
    "start_time": "2022-09-16T12:57:37.592Z"
   },
   {
    "duration": 403,
    "start_time": "2022-09-16T12:57:42.003Z"
   },
   {
    "duration": 160,
    "start_time": "2022-09-16T12:57:42.408Z"
   },
   {
    "duration": 2003,
    "start_time": "2022-09-16T12:57:42.573Z"
   },
   {
    "duration": 8,
    "start_time": "2022-09-16T12:57:44.577Z"
   },
   {
    "duration": 6,
    "start_time": "2022-09-16T12:57:44.586Z"
   },
   {
    "duration": 5,
    "start_time": "2022-09-16T12:57:44.594Z"
   },
   {
    "duration": 11,
    "start_time": "2022-09-16T12:57:44.600Z"
   },
   {
    "duration": 15,
    "start_time": "2022-09-16T12:57:44.612Z"
   },
   {
    "duration": 20,
    "start_time": "2022-09-16T12:57:44.631Z"
   },
   {
    "duration": 20,
    "start_time": "2022-09-16T12:57:44.652Z"
   },
   {
    "duration": 34,
    "start_time": "2022-09-16T12:57:44.673Z"
   },
   {
    "duration": 14,
    "start_time": "2022-09-16T12:57:44.708Z"
   },
   {
    "duration": 162,
    "start_time": "2022-09-16T12:57:44.724Z"
   },
   {
    "duration": 7,
    "start_time": "2022-09-16T12:57:44.888Z"
   },
   {
    "duration": 3,
    "start_time": "2022-09-16T12:57:44.897Z"
   },
   {
    "duration": 16,
    "start_time": "2022-09-16T12:57:58.471Z"
   },
   {
    "duration": 77,
    "start_time": "2022-09-16T12:59:44.951Z"
   },
   {
    "duration": 7,
    "start_time": "2022-09-16T13:01:50.127Z"
   },
   {
    "duration": 7,
    "start_time": "2022-09-16T13:02:09.472Z"
   },
   {
    "duration": 8,
    "start_time": "2022-09-16T13:02:32.719Z"
   },
   {
    "duration": 67,
    "start_time": "2022-09-16T13:06:21.217Z"
   },
   {
    "duration": 1317,
    "start_time": "2022-09-16T13:06:38.791Z"
   },
   {
    "duration": 1282,
    "start_time": "2022-09-16T13:06:42.021Z"
   },
   {
    "duration": 7,
    "start_time": "2022-09-16T13:07:02.096Z"
   },
   {
    "duration": 7,
    "start_time": "2022-09-16T13:07:17.604Z"
   },
   {
    "duration": 7,
    "start_time": "2022-09-16T13:07:53.678Z"
   },
   {
    "duration": 9,
    "start_time": "2022-09-16T13:09:04.252Z"
   },
   {
    "duration": 9,
    "start_time": "2022-09-16T13:09:36.529Z"
   },
   {
    "duration": 1299,
    "start_time": "2022-09-16T13:10:09.786Z"
   },
   {
    "duration": 16,
    "start_time": "2022-09-16T13:10:18.482Z"
   },
   {
    "duration": 17,
    "start_time": "2022-09-16T13:11:07.972Z"
   },
   {
    "duration": 5,
    "start_time": "2022-09-16T13:19:47.574Z"
   },
   {
    "duration": 10,
    "start_time": "2022-09-16T13:20:05.170Z"
   },
   {
    "duration": 11,
    "start_time": "2022-09-16T13:21:38.084Z"
   },
   {
    "duration": 9,
    "start_time": "2022-09-16T13:22:01.019Z"
   },
   {
    "duration": 12,
    "start_time": "2022-09-16T13:22:20.816Z"
   },
   {
    "duration": 355,
    "start_time": "2022-09-16T13:22:37.998Z"
   },
   {
    "duration": 133,
    "start_time": "2022-09-16T13:22:38.354Z"
   },
   {
    "duration": 2000,
    "start_time": "2022-09-16T13:22:38.488Z"
   },
   {
    "duration": 8,
    "start_time": "2022-09-16T13:22:40.490Z"
   },
   {
    "duration": 11,
    "start_time": "2022-09-16T13:22:40.499Z"
   },
   {
    "duration": 20,
    "start_time": "2022-09-16T13:22:40.512Z"
   },
   {
    "duration": 18,
    "start_time": "2022-09-16T13:22:40.534Z"
   },
   {
    "duration": 28,
    "start_time": "2022-09-16T13:22:40.553Z"
   },
   {
    "duration": 22,
    "start_time": "2022-09-16T13:22:40.582Z"
   },
   {
    "duration": 14,
    "start_time": "2022-09-16T13:22:40.606Z"
   },
   {
    "duration": 40,
    "start_time": "2022-09-16T13:22:40.622Z"
   },
   {
    "duration": 38,
    "start_time": "2022-09-16T13:22:40.663Z"
   },
   {
    "duration": 45,
    "start_time": "2022-09-16T13:22:40.703Z"
   },
   {
    "duration": 32,
    "start_time": "2022-09-16T13:22:40.749Z"
   },
   {
    "duration": 164,
    "start_time": "2022-09-16T13:22:40.782Z"
   },
   {
    "duration": 9,
    "start_time": "2022-09-16T13:22:40.947Z"
   },
   {
    "duration": 23,
    "start_time": "2022-09-16T13:22:40.957Z"
   },
   {
    "duration": 10,
    "start_time": "2022-09-16T13:24:09.392Z"
   },
   {
    "duration": 8,
    "start_time": "2022-09-16T13:24:19.021Z"
   },
   {
    "duration": 64,
    "start_time": "2022-09-16T13:24:36.505Z"
   },
   {
    "duration": 11,
    "start_time": "2022-09-16T13:24:44.272Z"
   },
   {
    "duration": 14,
    "start_time": "2022-09-16T13:27:34.740Z"
   },
   {
    "duration": 7,
    "start_time": "2022-09-16T13:27:54.665Z"
   },
   {
    "duration": 10,
    "start_time": "2022-09-16T13:28:10.647Z"
   },
   {
    "duration": 27,
    "start_time": "2022-09-16T13:33:58.606Z"
   },
   {
    "duration": 14,
    "start_time": "2022-09-16T13:34:38.886Z"
   },
   {
    "duration": 13,
    "start_time": "2022-09-16T13:37:10.276Z"
   },
   {
    "duration": 10,
    "start_time": "2022-09-16T13:38:20.941Z"
   },
   {
    "duration": 7,
    "start_time": "2022-09-16T13:40:48.997Z"
   },
   {
    "duration": 7,
    "start_time": "2022-09-16T13:43:21.194Z"
   },
   {
    "duration": 12,
    "start_time": "2022-09-16T13:44:02.758Z"
   },
   {
    "duration": 11,
    "start_time": "2022-09-16T13:44:15.041Z"
   },
   {
    "duration": 11,
    "start_time": "2022-09-16T13:46:30.818Z"
   },
   {
    "duration": 9,
    "start_time": "2022-09-16T13:46:57.208Z"
   },
   {
    "duration": 39,
    "start_time": "2022-09-16T13:47:39.793Z"
   },
   {
    "duration": 75,
    "start_time": "2022-09-16T13:49:01.324Z"
   },
   {
    "duration": 35,
    "start_time": "2022-09-16T13:49:37.494Z"
   },
   {
    "duration": 38,
    "start_time": "2022-09-16T13:50:29.100Z"
   },
   {
    "duration": 38,
    "start_time": "2022-09-16T13:50:32.113Z"
   },
   {
    "duration": 37,
    "start_time": "2022-09-16T13:50:44.709Z"
   },
   {
    "duration": 29,
    "start_time": "2022-09-16T13:50:52.698Z"
   },
   {
    "duration": 368,
    "start_time": "2022-09-16T13:51:33.697Z"
   },
   {
    "duration": 39,
    "start_time": "2022-09-16T13:54:24.731Z"
   },
   {
    "duration": 12,
    "start_time": "2022-09-16T13:55:02.346Z"
   },
   {
    "duration": 7,
    "start_time": "2022-09-16T13:55:09.793Z"
   },
   {
    "duration": 7,
    "start_time": "2022-09-16T13:56:30.089Z"
   },
   {
    "duration": 10,
    "start_time": "2022-09-16T13:57:14.536Z"
   },
   {
    "duration": 9,
    "start_time": "2022-09-16T13:57:24.932Z"
   },
   {
    "duration": 8,
    "start_time": "2022-09-16T13:57:55.603Z"
   },
   {
    "duration": 8,
    "start_time": "2022-09-16T13:58:40.545Z"
   },
   {
    "duration": 9,
    "start_time": "2022-09-16T13:58:45.577Z"
   },
   {
    "duration": 9,
    "start_time": "2022-09-16T13:58:48.050Z"
   },
   {
    "duration": 9,
    "start_time": "2022-09-16T13:58:48.673Z"
   },
   {
    "duration": 9,
    "start_time": "2022-09-16T13:58:49.257Z"
   },
   {
    "duration": 11,
    "start_time": "2022-09-16T13:58:49.679Z"
   },
   {
    "duration": 13,
    "start_time": "2022-09-16T13:58:55.918Z"
   },
   {
    "duration": 326,
    "start_time": "2022-09-16T13:59:01.380Z"
   },
   {
    "duration": 123,
    "start_time": "2022-09-16T13:59:01.708Z"
   },
   {
    "duration": 1931,
    "start_time": "2022-09-16T13:59:01.833Z"
   },
   {
    "duration": 7,
    "start_time": "2022-09-16T13:59:03.766Z"
   },
   {
    "duration": 6,
    "start_time": "2022-09-16T13:59:03.775Z"
   },
   {
    "duration": 5,
    "start_time": "2022-09-16T13:59:03.782Z"
   },
   {
    "duration": 14,
    "start_time": "2022-09-16T13:59:03.788Z"
   },
   {
    "duration": 8,
    "start_time": "2022-09-16T13:59:03.803Z"
   },
   {
    "duration": 38,
    "start_time": "2022-09-16T13:59:03.812Z"
   },
   {
    "duration": 15,
    "start_time": "2022-09-16T13:59:03.852Z"
   },
   {
    "duration": 8,
    "start_time": "2022-09-16T13:59:03.868Z"
   },
   {
    "duration": 5,
    "start_time": "2022-09-16T13:59:03.878Z"
   },
   {
    "duration": 10,
    "start_time": "2022-09-16T13:59:03.884Z"
   },
   {
    "duration": 48,
    "start_time": "2022-09-16T13:59:03.895Z"
   },
   {
    "duration": 31,
    "start_time": "2022-09-16T13:59:03.945Z"
   },
   {
    "duration": 5,
    "start_time": "2022-09-16T13:59:03.978Z"
   },
   {
    "duration": 158,
    "start_time": "2022-09-16T13:59:03.985Z"
   },
   {
    "duration": 9,
    "start_time": "2022-09-16T13:59:04.145Z"
   },
   {
    "duration": 3,
    "start_time": "2022-09-16T13:59:04.156Z"
   },
   {
    "duration": 10,
    "start_time": "2022-09-16T13:59:04.160Z"
   },
   {
    "duration": 6,
    "start_time": "2022-09-16T13:59:32.562Z"
   },
   {
    "duration": 12,
    "start_time": "2022-09-16T14:00:15.308Z"
   },
   {
    "duration": 148,
    "start_time": "2022-09-16T14:01:01.464Z"
   },
   {
    "duration": 144,
    "start_time": "2022-09-16T14:01:28.012Z"
   },
   {
    "duration": 3,
    "start_time": "2022-09-16T14:02:40.060Z"
   },
   {
    "duration": 1038,
    "start_time": "2022-09-16T14:02:49.095Z"
   },
   {
    "duration": 68,
    "start_time": "2022-09-16T14:03:03.704Z"
   },
   {
    "duration": 1015,
    "start_time": "2022-09-16T14:03:15.292Z"
   },
   {
    "duration": 867,
    "start_time": "2022-09-16T14:04:04.721Z"
   },
   {
    "duration": 77,
    "start_time": "2022-09-16T14:04:42.800Z"
   },
   {
    "duration": 6,
    "start_time": "2022-09-16T14:06:49.696Z"
   },
   {
    "duration": 8,
    "start_time": "2022-09-16T14:07:01.082Z"
   },
   {
    "duration": 164,
    "start_time": "2022-09-16T14:07:19.022Z"
   },
   {
    "duration": 34,
    "start_time": "2022-09-16T14:08:20.477Z"
   },
   {
    "duration": 44,
    "start_time": "2022-09-16T14:09:11.628Z"
   },
   {
    "duration": 11,
    "start_time": "2022-09-16T14:09:30.507Z"
   },
   {
    "duration": 15,
    "start_time": "2022-09-16T14:09:44.283Z"
   },
   {
    "duration": 11,
    "start_time": "2022-09-16T14:10:35.837Z"
   },
   {
    "duration": 3,
    "start_time": "2022-09-16T14:11:39.768Z"
   },
   {
    "duration": 14,
    "start_time": "2022-09-16T14:16:16.109Z"
   },
   {
    "duration": 25,
    "start_time": "2022-09-16T14:17:01.776Z"
   },
   {
    "duration": 40,
    "start_time": "2022-09-16T14:17:34.098Z"
   },
   {
    "duration": 8,
    "start_time": "2022-09-16T14:18:02.173Z"
   },
   {
    "duration": 10,
    "start_time": "2022-09-16T14:18:17.720Z"
   },
   {
    "duration": 6,
    "start_time": "2022-09-16T14:19:17.235Z"
   },
   {
    "duration": 9,
    "start_time": "2022-09-16T14:19:36.418Z"
   },
   {
    "duration": 9,
    "start_time": "2022-09-16T14:26:43.316Z"
   },
   {
    "duration": 6,
    "start_time": "2022-09-16T14:28:24.644Z"
   },
   {
    "duration": 9,
    "start_time": "2022-09-16T14:29:31.871Z"
   },
   {
    "duration": 12,
    "start_time": "2022-09-16T14:29:50.493Z"
   },
   {
    "duration": 555,
    "start_time": "2022-09-16T14:29:56.664Z"
   },
   {
    "duration": 132,
    "start_time": "2022-09-16T14:29:57.221Z"
   },
   {
    "duration": 1734,
    "start_time": "2022-09-16T14:29:57.354Z"
   },
   {
    "duration": 8,
    "start_time": "2022-09-16T14:29:59.090Z"
   },
   {
    "duration": 4,
    "start_time": "2022-09-16T14:29:59.099Z"
   },
   {
    "duration": 5,
    "start_time": "2022-09-16T14:29:59.105Z"
   },
   {
    "duration": 76,
    "start_time": "2022-09-16T14:29:59.111Z"
   },
   {
    "duration": 0,
    "start_time": "2022-09-16T14:29:59.189Z"
   },
   {
    "duration": 0,
    "start_time": "2022-09-16T14:29:59.190Z"
   },
   {
    "duration": 0,
    "start_time": "2022-09-16T14:29:59.191Z"
   },
   {
    "duration": 0,
    "start_time": "2022-09-16T14:29:59.192Z"
   },
   {
    "duration": 0,
    "start_time": "2022-09-16T14:29:59.193Z"
   },
   {
    "duration": 0,
    "start_time": "2022-09-16T14:29:59.193Z"
   },
   {
    "duration": 0,
    "start_time": "2022-09-16T14:29:59.194Z"
   },
   {
    "duration": 0,
    "start_time": "2022-09-16T14:29:59.196Z"
   },
   {
    "duration": 0,
    "start_time": "2022-09-16T14:29:59.197Z"
   },
   {
    "duration": 0,
    "start_time": "2022-09-16T14:29:59.197Z"
   },
   {
    "duration": 0,
    "start_time": "2022-09-16T14:29:59.198Z"
   },
   {
    "duration": 0,
    "start_time": "2022-09-16T14:29:59.199Z"
   },
   {
    "duration": 0,
    "start_time": "2022-09-16T14:29:59.222Z"
   },
   {
    "duration": 0,
    "start_time": "2022-09-16T14:29:59.223Z"
   },
   {
    "duration": 0,
    "start_time": "2022-09-16T14:29:59.225Z"
   },
   {
    "duration": 628,
    "start_time": "2022-09-16T14:31:16.150Z"
   },
   {
    "duration": 131,
    "start_time": "2022-09-16T14:31:16.780Z"
   },
   {
    "duration": 1731,
    "start_time": "2022-09-16T14:31:16.913Z"
   },
   {
    "duration": 7,
    "start_time": "2022-09-16T14:31:18.646Z"
   },
   {
    "duration": 8,
    "start_time": "2022-09-16T14:31:18.654Z"
   },
   {
    "duration": 8,
    "start_time": "2022-09-16T14:31:18.663Z"
   },
   {
    "duration": 70,
    "start_time": "2022-09-16T14:31:18.672Z"
   },
   {
    "duration": 0,
    "start_time": "2022-09-16T14:31:18.743Z"
   },
   {
    "duration": 0,
    "start_time": "2022-09-16T14:31:18.745Z"
   },
   {
    "duration": 0,
    "start_time": "2022-09-16T14:31:18.746Z"
   },
   {
    "duration": 0,
    "start_time": "2022-09-16T14:31:18.747Z"
   },
   {
    "duration": 0,
    "start_time": "2022-09-16T14:31:18.748Z"
   },
   {
    "duration": 0,
    "start_time": "2022-09-16T14:31:18.749Z"
   },
   {
    "duration": 0,
    "start_time": "2022-09-16T14:31:18.750Z"
   },
   {
    "duration": 0,
    "start_time": "2022-09-16T14:31:18.751Z"
   },
   {
    "duration": 0,
    "start_time": "2022-09-16T14:31:18.752Z"
   },
   {
    "duration": 0,
    "start_time": "2022-09-16T14:31:18.754Z"
   },
   {
    "duration": 0,
    "start_time": "2022-09-16T14:31:18.754Z"
   },
   {
    "duration": 0,
    "start_time": "2022-09-16T14:31:18.755Z"
   },
   {
    "duration": 0,
    "start_time": "2022-09-16T14:31:18.756Z"
   },
   {
    "duration": 0,
    "start_time": "2022-09-16T14:31:18.757Z"
   },
   {
    "duration": 0,
    "start_time": "2022-09-16T14:31:18.758Z"
   },
   {
    "duration": 637,
    "start_time": "2022-09-16T14:32:02.617Z"
   },
   {
    "duration": 134,
    "start_time": "2022-09-16T14:32:03.255Z"
   },
   {
    "duration": 1882,
    "start_time": "2022-09-16T14:32:03.390Z"
   },
   {
    "duration": 7,
    "start_time": "2022-09-16T14:32:05.274Z"
   },
   {
    "duration": 12,
    "start_time": "2022-09-16T14:32:05.283Z"
   },
   {
    "duration": 27,
    "start_time": "2022-09-16T14:32:05.296Z"
   },
   {
    "duration": 18,
    "start_time": "2022-09-16T14:32:05.325Z"
   },
   {
    "duration": 23,
    "start_time": "2022-09-16T14:32:05.344Z"
   },
   {
    "duration": 33,
    "start_time": "2022-09-16T14:32:05.368Z"
   },
   {
    "duration": 35,
    "start_time": "2022-09-16T14:32:05.403Z"
   },
   {
    "duration": 16,
    "start_time": "2022-09-16T14:32:05.439Z"
   },
   {
    "duration": 15,
    "start_time": "2022-09-16T14:32:05.456Z"
   },
   {
    "duration": 22,
    "start_time": "2022-09-16T14:32:05.473Z"
   },
   {
    "duration": 20,
    "start_time": "2022-09-16T14:32:05.496Z"
   },
   {
    "duration": 37,
    "start_time": "2022-09-16T14:32:05.517Z"
   },
   {
    "duration": 27,
    "start_time": "2022-09-16T14:32:05.556Z"
   },
   {
    "duration": 16,
    "start_time": "2022-09-16T14:32:05.585Z"
   },
   {
    "duration": 131,
    "start_time": "2022-09-16T14:32:05.602Z"
   },
   {
    "duration": 9,
    "start_time": "2022-09-16T14:32:05.735Z"
   },
   {
    "duration": 3,
    "start_time": "2022-09-16T14:32:05.746Z"
   },
   {
    "duration": 20,
    "start_time": "2022-09-16T14:32:05.750Z"
   },
   {
    "duration": 12,
    "start_time": "2022-09-16T14:32:31.568Z"
   },
   {
    "duration": 13,
    "start_time": "2022-09-16T14:32:52.340Z"
   },
   {
    "duration": 13,
    "start_time": "2022-09-16T14:33:10.058Z"
   },
   {
    "duration": 536,
    "start_time": "2022-09-16T14:34:09.278Z"
   },
   {
    "duration": 128,
    "start_time": "2022-09-16T14:34:09.816Z"
   },
   {
    "duration": 1734,
    "start_time": "2022-09-16T14:34:09.946Z"
   },
   {
    "duration": 8,
    "start_time": "2022-09-16T14:34:11.682Z"
   },
   {
    "duration": 7,
    "start_time": "2022-09-16T14:34:11.691Z"
   },
   {
    "duration": 6,
    "start_time": "2022-09-16T14:34:11.699Z"
   },
   {
    "duration": 10,
    "start_time": "2022-09-16T14:34:11.706Z"
   },
   {
    "duration": 12,
    "start_time": "2022-09-16T14:34:11.721Z"
   },
   {
    "duration": 6,
    "start_time": "2022-09-16T14:34:11.734Z"
   },
   {
    "duration": 19,
    "start_time": "2022-09-16T14:34:11.744Z"
   },
   {
    "duration": 27,
    "start_time": "2022-09-16T14:34:11.764Z"
   },
   {
    "duration": 35,
    "start_time": "2022-09-16T14:34:11.793Z"
   },
   {
    "duration": 8,
    "start_time": "2022-09-16T14:34:11.830Z"
   },
   {
    "duration": 11,
    "start_time": "2022-09-16T14:34:11.841Z"
   },
   {
    "duration": 21,
    "start_time": "2022-09-16T14:34:11.853Z"
   },
   {
    "duration": 47,
    "start_time": "2022-09-16T14:34:11.876Z"
   },
   {
    "duration": 5,
    "start_time": "2022-09-16T14:34:11.925Z"
   },
   {
    "duration": 132,
    "start_time": "2022-09-16T14:34:11.932Z"
   },
   {
    "duration": 8,
    "start_time": "2022-09-16T14:34:12.066Z"
   },
   {
    "duration": 3,
    "start_time": "2022-09-16T14:34:12.075Z"
   },
   {
    "duration": 10,
    "start_time": "2022-09-16T14:34:12.079Z"
   },
   {
    "duration": 5,
    "start_time": "2022-09-16T14:41:08.128Z"
   },
   {
    "duration": 6,
    "start_time": "2022-09-16T14:44:46.407Z"
   },
   {
    "duration": 28,
    "start_time": "2022-09-16T14:46:00.118Z"
   },
   {
    "duration": 4,
    "start_time": "2022-09-16T14:46:20.952Z"
   },
   {
    "duration": 4,
    "start_time": "2022-09-16T14:46:24.859Z"
   },
   {
    "duration": 20,
    "start_time": "2022-09-16T14:46:26.988Z"
   },
   {
    "duration": 75,
    "start_time": "2022-09-16T14:53:35.553Z"
   },
   {
    "duration": 4,
    "start_time": "2022-09-16T14:53:41.513Z"
   },
   {
    "duration": 132,
    "start_time": "2022-09-16T14:57:56.253Z"
   },
   {
    "duration": 20,
    "start_time": "2022-09-16T14:57:58.876Z"
   },
   {
    "duration": 67,
    "start_time": "2022-09-16T15:01:21.959Z"
   },
   {
    "duration": 320,
    "start_time": "2022-09-16T15:01:55.547Z"
   },
   {
    "duration": 9,
    "start_time": "2022-09-16T15:02:39.763Z"
   },
   {
    "duration": 300,
    "start_time": "2022-09-16T15:02:44.771Z"
   },
   {
    "duration": 294,
    "start_time": "2022-09-16T15:02:51.048Z"
   },
   {
    "duration": 544,
    "start_time": "2022-09-16T15:03:02.177Z"
   },
   {
    "duration": 123,
    "start_time": "2022-09-16T15:03:02.723Z"
   },
   {
    "duration": 1753,
    "start_time": "2022-09-16T15:03:02.847Z"
   },
   {
    "duration": 8,
    "start_time": "2022-09-16T15:03:04.602Z"
   },
   {
    "duration": 5,
    "start_time": "2022-09-16T15:03:04.611Z"
   },
   {
    "duration": 9,
    "start_time": "2022-09-16T15:03:04.618Z"
   },
   {
    "duration": 23,
    "start_time": "2022-09-16T15:03:04.629Z"
   },
   {
    "duration": 10,
    "start_time": "2022-09-16T15:03:04.654Z"
   },
   {
    "duration": 5,
    "start_time": "2022-09-16T15:03:04.665Z"
   },
   {
    "duration": 18,
    "start_time": "2022-09-16T15:03:04.672Z"
   },
   {
    "duration": 19,
    "start_time": "2022-09-16T15:03:04.692Z"
   },
   {
    "duration": 20,
    "start_time": "2022-09-16T15:03:04.712Z"
   },
   {
    "duration": 9,
    "start_time": "2022-09-16T15:03:04.734Z"
   },
   {
    "duration": 14,
    "start_time": "2022-09-16T15:03:04.744Z"
   },
   {
    "duration": 20,
    "start_time": "2022-09-16T15:03:04.760Z"
   },
   {
    "duration": 61,
    "start_time": "2022-09-16T15:03:04.781Z"
   },
   {
    "duration": 5,
    "start_time": "2022-09-16T15:03:04.844Z"
   },
   {
    "duration": 147,
    "start_time": "2022-09-16T15:03:04.850Z"
   },
   {
    "duration": 7,
    "start_time": "2022-09-16T15:03:04.999Z"
   },
   {
    "duration": 15,
    "start_time": "2022-09-16T15:03:05.007Z"
   },
   {
    "duration": 11,
    "start_time": "2022-09-16T15:03:05.024Z"
   },
   {
    "duration": 6,
    "start_time": "2022-09-16T15:03:05.036Z"
   },
   {
    "duration": 7,
    "start_time": "2022-09-16T15:03:05.043Z"
   },
   {
    "duration": 8,
    "start_time": "2022-09-16T15:03:05.052Z"
   },
   {
    "duration": 8,
    "start_time": "2022-09-16T15:03:05.061Z"
   },
   {
    "duration": 141,
    "start_time": "2022-09-16T15:03:05.070Z"
   },
   {
    "duration": 68,
    "start_time": "2022-09-16T15:03:05.213Z"
   },
   {
    "duration": 0,
    "start_time": "2022-09-16T15:03:05.282Z"
   },
   {
    "duration": 6,
    "start_time": "2022-09-16T15:04:33.867Z"
   },
   {
    "duration": 4,
    "start_time": "2022-09-16T15:04:40.489Z"
   },
   {
    "duration": 5,
    "start_time": "2022-09-16T15:04:43.041Z"
   },
   {
    "duration": 26,
    "start_time": "2022-09-16T15:04:48.333Z"
   },
   {
    "duration": 12,
    "start_time": "2022-09-16T15:07:39.833Z"
   },
   {
    "duration": 14,
    "start_time": "2022-09-16T15:08:13.729Z"
   },
   {
    "duration": 8,
    "start_time": "2022-09-16T15:09:12.465Z"
   },
   {
    "duration": 8,
    "start_time": "2022-09-16T15:09:16.759Z"
   },
   {
    "duration": 13,
    "start_time": "2022-09-16T15:09:34.171Z"
   },
   {
    "duration": 100,
    "start_time": "2022-09-16T15:10:00.452Z"
   },
   {
    "duration": 4,
    "start_time": "2022-09-16T15:10:13.342Z"
   },
   {
    "duration": 25,
    "start_time": "2022-09-16T15:10:15.977Z"
   },
   {
    "duration": 3,
    "start_time": "2022-09-16T15:10:37.262Z"
   },
   {
    "duration": 24,
    "start_time": "2022-09-16T15:10:39.477Z"
   },
   {
    "duration": 8,
    "start_time": "2022-09-16T15:10:57.994Z"
   },
   {
    "duration": 9,
    "start_time": "2022-09-16T15:11:45.974Z"
   },
   {
    "duration": 14,
    "start_time": "2022-09-16T15:12:01.738Z"
   },
   {
    "duration": 3,
    "start_time": "2022-09-16T15:13:23.446Z"
   },
   {
    "duration": 20,
    "start_time": "2022-09-16T15:13:27.458Z"
   },
   {
    "duration": 3,
    "start_time": "2022-09-16T15:15:47.838Z"
   },
   {
    "duration": 9,
    "start_time": "2022-09-16T15:16:27.497Z"
   },
   {
    "duration": 8,
    "start_time": "2022-09-16T15:16:32.547Z"
   },
   {
    "duration": 7,
    "start_time": "2022-09-16T15:16:55.202Z"
   },
   {
    "duration": 8,
    "start_time": "2022-09-16T15:17:11.879Z"
   },
   {
    "duration": 13,
    "start_time": "2022-09-16T15:17:52.765Z"
   },
   {
    "duration": 10,
    "start_time": "2022-09-16T15:17:59.346Z"
   },
   {
    "duration": 611,
    "start_time": "2022-09-16T15:18:10.643Z"
   },
   {
    "duration": 128,
    "start_time": "2022-09-16T15:18:11.255Z"
   },
   {
    "duration": 1760,
    "start_time": "2022-09-16T15:18:11.384Z"
   },
   {
    "duration": 9,
    "start_time": "2022-09-16T15:18:13.147Z"
   },
   {
    "duration": 18,
    "start_time": "2022-09-16T15:18:13.157Z"
   },
   {
    "duration": 18,
    "start_time": "2022-09-16T15:18:13.177Z"
   },
   {
    "duration": 34,
    "start_time": "2022-09-16T15:18:13.196Z"
   },
   {
    "duration": 24,
    "start_time": "2022-09-16T15:18:13.232Z"
   },
   {
    "duration": 29,
    "start_time": "2022-09-16T15:18:13.257Z"
   },
   {
    "duration": 40,
    "start_time": "2022-09-16T15:18:13.289Z"
   },
   {
    "duration": 32,
    "start_time": "2022-09-16T15:18:13.331Z"
   },
   {
    "duration": 17,
    "start_time": "2022-09-16T15:18:13.365Z"
   },
   {
    "duration": 13,
    "start_time": "2022-09-16T15:18:13.383Z"
   },
   {
    "duration": 19,
    "start_time": "2022-09-16T15:18:13.397Z"
   },
   {
    "duration": 36,
    "start_time": "2022-09-16T15:18:13.417Z"
   },
   {
    "duration": 32,
    "start_time": "2022-09-16T15:18:13.454Z"
   },
   {
    "duration": 6,
    "start_time": "2022-09-16T15:18:13.488Z"
   },
   {
    "duration": 153,
    "start_time": "2022-09-16T15:18:13.495Z"
   },
   {
    "duration": 10,
    "start_time": "2022-09-16T15:18:13.650Z"
   },
   {
    "duration": 14,
    "start_time": "2022-09-16T15:18:13.662Z"
   },
   {
    "duration": 35,
    "start_time": "2022-09-16T15:18:13.678Z"
   },
   {
    "duration": 24,
    "start_time": "2022-09-16T15:18:13.715Z"
   },
   {
    "duration": 17,
    "start_time": "2022-09-16T15:18:13.741Z"
   },
   {
    "duration": 10,
    "start_time": "2022-09-16T15:18:13.760Z"
   },
   {
    "duration": 23,
    "start_time": "2022-09-16T15:18:13.771Z"
   },
   {
    "duration": 160,
    "start_time": "2022-09-16T15:18:13.796Z"
   },
   {
    "duration": 78,
    "start_time": "2022-09-16T15:18:13.957Z"
   },
   {
    "duration": 0,
    "start_time": "2022-09-16T15:18:14.037Z"
   },
   {
    "duration": 13,
    "start_time": "2022-09-16T15:19:06.563Z"
   },
   {
    "duration": 4,
    "start_time": "2022-09-16T15:19:27.406Z"
   },
   {
    "duration": 25,
    "start_time": "2022-09-16T15:19:32.127Z"
   },
   {
    "duration": 8,
    "start_time": "2022-09-16T15:19:52.749Z"
   },
   {
    "duration": 15,
    "start_time": "2022-09-16T15:20:03.078Z"
   },
   {
    "duration": 8,
    "start_time": "2022-09-16T15:20:08.680Z"
   },
   {
    "duration": 4,
    "start_time": "2022-09-16T15:20:19.802Z"
   },
   {
    "duration": 31,
    "start_time": "2022-09-16T15:20:23.622Z"
   },
   {
    "duration": 4,
    "start_time": "2022-09-16T15:20:42.265Z"
   },
   {
    "duration": 24,
    "start_time": "2022-09-16T15:20:45.233Z"
   },
   {
    "duration": 43,
    "start_time": "2022-09-16T16:32:12.206Z"
   },
   {
    "duration": 1995,
    "start_time": "2022-09-16T16:35:04.977Z"
   },
   {
    "duration": 134,
    "start_time": "2022-09-16T16:38:36.048Z"
   },
   {
    "duration": 2493,
    "start_time": "2022-09-16T16:41:48.324Z"
   },
   {
    "duration": 3760,
    "start_time": "2022-09-16T16:42:16.910Z"
   },
   {
    "duration": 1951,
    "start_time": "2022-09-16T16:42:26.973Z"
   },
   {
    "duration": 1273,
    "start_time": "2022-09-16T16:43:52.812Z"
   },
   {
    "duration": 1653,
    "start_time": "2022-09-16T16:44:35.572Z"
   },
   {
    "duration": 237,
    "start_time": "2022-09-16T16:45:24.160Z"
   },
   {
    "duration": 1279,
    "start_time": "2022-09-16T16:45:47.091Z"
   },
   {
    "duration": 39,
    "start_time": "2022-09-16T16:50:49.729Z"
   },
   {
    "duration": 113,
    "start_time": "2022-09-16T16:52:11.985Z"
   },
   {
    "duration": 137,
    "start_time": "2022-09-16T16:53:01.035Z"
   },
   {
    "duration": 117,
    "start_time": "2022-09-16T16:53:35.440Z"
   },
   {
    "duration": 124,
    "start_time": "2022-09-16T16:53:40.650Z"
   },
   {
    "duration": 12,
    "start_time": "2022-09-16T16:56:41.937Z"
   },
   {
    "duration": 6,
    "start_time": "2022-09-16T16:57:01.555Z"
   },
   {
    "duration": 6,
    "start_time": "2022-09-16T16:58:13.567Z"
   },
   {
    "duration": 7,
    "start_time": "2022-09-16T16:59:04.945Z"
   },
   {
    "duration": 6,
    "start_time": "2022-09-16T16:59:16.204Z"
   },
   {
    "duration": 6,
    "start_time": "2022-09-16T16:59:18.396Z"
   },
   {
    "duration": 114,
    "start_time": "2022-09-16T17:00:06.138Z"
   },
   {
    "duration": 6,
    "start_time": "2022-09-16T17:00:18.953Z"
   },
   {
    "duration": 126,
    "start_time": "2022-09-16T17:00:46.891Z"
   },
   {
    "duration": 7,
    "start_time": "2022-09-16T17:00:49.135Z"
   },
   {
    "duration": 44,
    "start_time": "2022-09-16T17:16:22.873Z"
   },
   {
    "duration": 598,
    "start_time": "2022-09-16T17:16:31.097Z"
   },
   {
    "duration": 173,
    "start_time": "2022-09-16T17:16:31.696Z"
   },
   {
    "duration": 1726,
    "start_time": "2022-09-16T17:16:31.870Z"
   },
   {
    "duration": 8,
    "start_time": "2022-09-16T17:16:33.598Z"
   },
   {
    "duration": 5,
    "start_time": "2022-09-16T17:16:33.607Z"
   },
   {
    "duration": 14,
    "start_time": "2022-09-16T17:16:33.613Z"
   },
   {
    "duration": 19,
    "start_time": "2022-09-16T17:16:33.629Z"
   },
   {
    "duration": 10,
    "start_time": "2022-09-16T17:16:33.650Z"
   },
   {
    "duration": 5,
    "start_time": "2022-09-16T17:16:33.661Z"
   },
   {
    "duration": 17,
    "start_time": "2022-09-16T17:16:33.668Z"
   },
   {
    "duration": 19,
    "start_time": "2022-09-16T17:16:33.686Z"
   },
   {
    "duration": 12,
    "start_time": "2022-09-16T17:16:33.721Z"
   },
   {
    "duration": 13,
    "start_time": "2022-09-16T17:16:33.735Z"
   },
   {
    "duration": 9,
    "start_time": "2022-09-16T17:16:33.750Z"
   },
   {
    "duration": 19,
    "start_time": "2022-09-16T17:16:33.761Z"
   },
   {
    "duration": 43,
    "start_time": "2022-09-16T17:16:33.781Z"
   },
   {
    "duration": 7,
    "start_time": "2022-09-16T17:16:33.826Z"
   },
   {
    "duration": 146,
    "start_time": "2022-09-16T17:16:33.835Z"
   },
   {
    "duration": 8,
    "start_time": "2022-09-16T17:16:33.982Z"
   },
   {
    "duration": 5,
    "start_time": "2022-09-16T17:16:33.991Z"
   },
   {
    "duration": 25,
    "start_time": "2022-09-16T17:16:33.997Z"
   },
   {
    "duration": 4,
    "start_time": "2022-09-16T17:16:34.023Z"
   },
   {
    "duration": 14,
    "start_time": "2022-09-16T17:16:34.029Z"
   },
   {
    "duration": 5,
    "start_time": "2022-09-16T17:16:34.045Z"
   },
   {
    "duration": 5,
    "start_time": "2022-09-16T17:16:34.051Z"
   },
   {
    "duration": 132,
    "start_time": "2022-09-16T17:16:34.057Z"
   },
   {
    "duration": 4,
    "start_time": "2022-09-16T17:16:34.191Z"
   },
   {
    "duration": 28,
    "start_time": "2022-09-16T17:16:34.197Z"
   },
   {
    "duration": 1996,
    "start_time": "2022-09-16T17:16:34.227Z"
   },
   {
    "duration": 1929,
    "start_time": "2022-09-16T17:16:36.225Z"
   },
   {
    "duration": 141,
    "start_time": "2022-09-16T17:16:38.156Z"
   },
   {
    "duration": 6,
    "start_time": "2022-09-16T17:16:38.298Z"
   },
   {
    "duration": 16,
    "start_time": "2022-09-16T17:16:38.306Z"
   },
   {
    "duration": 88,
    "start_time": "2022-09-16T17:16:38.323Z"
   },
   {
    "duration": 17,
    "start_time": "2022-09-16T17:21:57.531Z"
   },
   {
    "duration": 18,
    "start_time": "2022-09-16T17:23:27.238Z"
   },
   {
    "duration": 19,
    "start_time": "2022-09-16T17:23:59.737Z"
   },
   {
    "duration": 456,
    "start_time": "2022-09-16T17:24:28.152Z"
   },
   {
    "duration": 643,
    "start_time": "2022-09-16T17:24:51.630Z"
   },
   {
    "duration": 737,
    "start_time": "2022-09-16T17:33:20.206Z"
   },
   {
    "duration": 200,
    "start_time": "2022-09-16T17:34:55.319Z"
   },
   {
    "duration": 305,
    "start_time": "2022-09-16T17:36:19.152Z"
   },
   {
    "duration": 14,
    "start_time": "2022-09-16T17:37:20.897Z"
   },
   {
    "duration": 31,
    "start_time": "2022-09-16T17:40:41.330Z"
   },
   {
    "duration": 154,
    "start_time": "2022-09-16T17:41:27.360Z"
   },
   {
    "duration": 142,
    "start_time": "2022-09-16T17:42:14.535Z"
   },
   {
    "duration": 1255,
    "start_time": "2022-09-16T17:43:28.434Z"
   },
   {
    "duration": 123,
    "start_time": "2022-09-16T17:43:47.610Z"
   },
   {
    "duration": 122,
    "start_time": "2022-09-16T17:45:10.718Z"
   },
   {
    "duration": 46,
    "start_time": "2022-09-17T10:43:23.021Z"
   },
   {
    "duration": 733,
    "start_time": "2022-09-17T10:43:31.172Z"
   },
   {
    "duration": 189,
    "start_time": "2022-09-17T10:43:31.907Z"
   },
   {
    "duration": 1786,
    "start_time": "2022-09-17T10:43:32.097Z"
   },
   {
    "duration": 9,
    "start_time": "2022-09-17T10:43:33.886Z"
   },
   {
    "duration": 5,
    "start_time": "2022-09-17T10:43:33.896Z"
   },
   {
    "duration": 6,
    "start_time": "2022-09-17T10:43:33.902Z"
   },
   {
    "duration": 10,
    "start_time": "2022-09-17T10:43:33.910Z"
   },
   {
    "duration": 12,
    "start_time": "2022-09-17T10:43:33.921Z"
   },
   {
    "duration": 6,
    "start_time": "2022-09-17T10:43:33.934Z"
   },
   {
    "duration": 19,
    "start_time": "2022-09-17T10:43:33.943Z"
   },
   {
    "duration": 48,
    "start_time": "2022-09-17T10:43:33.963Z"
   },
   {
    "duration": 9,
    "start_time": "2022-09-17T10:43:34.013Z"
   },
   {
    "duration": 8,
    "start_time": "2022-09-17T10:43:34.023Z"
   },
   {
    "duration": 11,
    "start_time": "2022-09-17T10:43:34.032Z"
   },
   {
    "duration": 21,
    "start_time": "2022-09-17T10:43:34.044Z"
   },
   {
    "duration": 53,
    "start_time": "2022-09-17T10:43:34.067Z"
   },
   {
    "duration": 6,
    "start_time": "2022-09-17T10:43:34.122Z"
   },
   {
    "duration": 170,
    "start_time": "2022-09-17T10:43:34.129Z"
   },
   {
    "duration": 8,
    "start_time": "2022-09-17T10:43:34.305Z"
   },
   {
    "duration": 4,
    "start_time": "2022-09-17T10:43:34.315Z"
   },
   {
    "duration": 10,
    "start_time": "2022-09-17T10:43:34.320Z"
   },
   {
    "duration": 3,
    "start_time": "2022-09-17T10:43:34.332Z"
   },
   {
    "duration": 7,
    "start_time": "2022-09-17T10:43:34.337Z"
   },
   {
    "duration": 5,
    "start_time": "2022-09-17T10:43:34.345Z"
   },
   {
    "duration": 5,
    "start_time": "2022-09-17T10:43:34.351Z"
   },
   {
    "duration": 157,
    "start_time": "2022-09-17T10:43:34.358Z"
   },
   {
    "duration": 5,
    "start_time": "2022-09-17T10:43:34.516Z"
   },
   {
    "duration": 21,
    "start_time": "2022-09-17T10:43:34.524Z"
   },
   {
    "duration": 2066,
    "start_time": "2022-09-17T10:43:34.547Z"
   },
   {
    "duration": 2003,
    "start_time": "2022-09-17T10:43:36.615Z"
   },
   {
    "duration": 146,
    "start_time": "2022-09-17T10:43:38.619Z"
   },
   {
    "duration": 6,
    "start_time": "2022-09-17T10:43:38.767Z"
   },
   {
    "duration": 7,
    "start_time": "2022-09-17T10:43:38.774Z"
   },
   {
    "duration": 24,
    "start_time": "2022-09-17T10:43:38.782Z"
   },
   {
    "duration": 129,
    "start_time": "2022-09-17T10:43:38.808Z"
   },
   {
    "duration": 134,
    "start_time": "2022-09-17T10:49:30.789Z"
   },
   {
    "duration": 5,
    "start_time": "2022-09-17T10:50:16.924Z"
   },
   {
    "duration": 149,
    "start_time": "2022-09-17T10:50:36.180Z"
   },
   {
    "duration": 142,
    "start_time": "2022-09-17T10:50:56.564Z"
   },
   {
    "duration": 154,
    "start_time": "2022-09-17T10:52:10.114Z"
   },
   {
    "duration": 137,
    "start_time": "2022-09-17T10:53:30.849Z"
   },
   {
    "duration": 146,
    "start_time": "2022-09-17T10:53:44.719Z"
   },
   {
    "duration": 131,
    "start_time": "2022-09-17T10:56:02.394Z"
   },
   {
    "duration": 269,
    "start_time": "2022-09-17T10:57:16.605Z"
   },
   {
    "duration": 136,
    "start_time": "2022-09-17T10:58:37.106Z"
   },
   {
    "duration": 66,
    "start_time": "2022-09-17T11:04:34.429Z"
   },
   {
    "duration": 8,
    "start_time": "2022-09-17T11:05:01.027Z"
   },
   {
    "duration": 6,
    "start_time": "2022-09-17T11:05:23.569Z"
   },
   {
    "duration": 8,
    "start_time": "2022-09-17T11:11:00.365Z"
   },
   {
    "duration": 7,
    "start_time": "2022-09-17T11:11:51.127Z"
   },
   {
    "duration": 10,
    "start_time": "2022-09-17T11:15:24.724Z"
   },
   {
    "duration": 7,
    "start_time": "2022-09-17T11:15:42.660Z"
   },
   {
    "duration": 110,
    "start_time": "2022-09-17T11:17:53.862Z"
   },
   {
    "duration": 14,
    "start_time": "2022-09-17T11:18:13.310Z"
   },
   {
    "duration": 17,
    "start_time": "2022-09-17T11:18:18.036Z"
   },
   {
    "duration": 25,
    "start_time": "2022-09-17T11:19:23.759Z"
   },
   {
    "duration": 25,
    "start_time": "2022-09-17T11:20:00.414Z"
   },
   {
    "duration": 20,
    "start_time": "2022-09-17T11:21:28.527Z"
   },
   {
    "duration": 52,
    "start_time": "2022-09-17T16:50:57.827Z"
   },
   {
    "duration": 741,
    "start_time": "2022-09-17T16:51:13.494Z"
   },
   {
    "duration": 374,
    "start_time": "2022-09-17T16:51:14.237Z"
   },
   {
    "duration": 1918,
    "start_time": "2022-09-17T16:51:14.612Z"
   },
   {
    "duration": 9,
    "start_time": "2022-09-17T16:51:16.532Z"
   },
   {
    "duration": 6,
    "start_time": "2022-09-17T16:51:16.543Z"
   },
   {
    "duration": 12,
    "start_time": "2022-09-17T16:51:16.551Z"
   },
   {
    "duration": 23,
    "start_time": "2022-09-17T16:51:16.565Z"
   },
   {
    "duration": 13,
    "start_time": "2022-09-17T16:51:16.590Z"
   },
   {
    "duration": 6,
    "start_time": "2022-09-17T16:51:16.604Z"
   },
   {
    "duration": 20,
    "start_time": "2022-09-17T16:51:16.613Z"
   },
   {
    "duration": 34,
    "start_time": "2022-09-17T16:51:16.634Z"
   },
   {
    "duration": 10,
    "start_time": "2022-09-17T16:51:16.670Z"
   },
   {
    "duration": 10,
    "start_time": "2022-09-17T16:51:16.682Z"
   },
   {
    "duration": 12,
    "start_time": "2022-09-17T16:51:16.694Z"
   },
   {
    "duration": 44,
    "start_time": "2022-09-17T16:51:16.708Z"
   },
   {
    "duration": 34,
    "start_time": "2022-09-17T16:51:16.753Z"
   },
   {
    "duration": 5,
    "start_time": "2022-09-17T16:51:16.789Z"
   },
   {
    "duration": 146,
    "start_time": "2022-09-17T16:51:16.796Z"
   },
   {
    "duration": 9,
    "start_time": "2022-09-17T16:51:16.947Z"
   },
   {
    "duration": 13,
    "start_time": "2022-09-17T16:51:16.958Z"
   },
   {
    "duration": 16,
    "start_time": "2022-09-17T16:51:16.973Z"
   },
   {
    "duration": 13,
    "start_time": "2022-09-17T16:51:16.990Z"
   },
   {
    "duration": 6,
    "start_time": "2022-09-17T16:51:17.004Z"
   },
   {
    "duration": 6,
    "start_time": "2022-09-17T16:51:17.011Z"
   },
   {
    "duration": 5,
    "start_time": "2022-09-17T16:51:17.018Z"
   },
   {
    "duration": 144,
    "start_time": "2022-09-17T16:51:17.024Z"
   },
   {
    "duration": 4,
    "start_time": "2022-09-17T16:51:17.170Z"
   },
   {
    "duration": 24,
    "start_time": "2022-09-17T16:51:17.177Z"
   },
   {
    "duration": 2168,
    "start_time": "2022-09-17T16:51:17.202Z"
   },
   {
    "duration": 2026,
    "start_time": "2022-09-17T16:51:19.372Z"
   },
   {
    "duration": 149,
    "start_time": "2022-09-17T16:51:21.399Z"
   },
   {
    "duration": 7,
    "start_time": "2022-09-17T16:51:21.550Z"
   },
   {
    "duration": 17,
    "start_time": "2022-09-17T16:51:21.558Z"
   },
   {
    "duration": 22,
    "start_time": "2022-09-17T16:51:21.576Z"
   },
   {
    "duration": 149,
    "start_time": "2022-09-17T16:51:21.599Z"
   },
   {
    "duration": 160,
    "start_time": "2022-09-17T16:51:21.750Z"
   },
   {
    "duration": 4,
    "start_time": "2022-09-17T16:51:21.912Z"
   },
   {
    "duration": 38,
    "start_time": "2022-09-17T16:51:21.918Z"
   },
   {
    "duration": 96,
    "start_time": "2022-09-17T16:52:05.167Z"
   },
   {
    "duration": 20,
    "start_time": "2022-09-17T16:52:23.953Z"
   },
   {
    "duration": 234,
    "start_time": "2022-09-17T16:53:33.208Z"
   },
   {
    "duration": 21,
    "start_time": "2022-09-17T16:53:49.489Z"
   },
   {
    "duration": 52,
    "start_time": "2022-09-17T16:53:54.790Z"
   },
   {
    "duration": 22,
    "start_time": "2022-09-17T16:56:01.237Z"
   },
   {
    "duration": 20,
    "start_time": "2022-09-17T16:56:37.495Z"
   },
   {
    "duration": 20,
    "start_time": "2022-09-17T16:56:56.192Z"
   },
   {
    "duration": 24,
    "start_time": "2022-09-17T16:57:02.047Z"
   },
   {
    "duration": 27,
    "start_time": "2022-09-17T16:57:22.797Z"
   },
   {
    "duration": 25,
    "start_time": "2022-09-17T16:58:00.442Z"
   },
   {
    "duration": 17,
    "start_time": "2022-09-17T16:58:09.812Z"
   },
   {
    "duration": 29,
    "start_time": "2022-09-17T17:00:27.762Z"
   },
   {
    "duration": 23,
    "start_time": "2022-09-17T17:02:39.374Z"
   },
   {
    "duration": 25,
    "start_time": "2022-09-17T17:03:03.253Z"
   },
   {
    "duration": 33,
    "start_time": "2022-09-17T17:03:48.941Z"
   },
   {
    "duration": 24,
    "start_time": "2022-09-17T17:11:40.201Z"
   },
   {
    "duration": 21,
    "start_time": "2022-09-17T17:11:46.783Z"
   },
   {
    "duration": 25,
    "start_time": "2022-09-17T17:12:06.371Z"
   },
   {
    "duration": 22,
    "start_time": "2022-09-17T17:12:21.110Z"
   },
   {
    "duration": 7,
    "start_time": "2022-09-17T17:14:44.624Z"
   },
   {
    "duration": 8,
    "start_time": "2022-09-17T17:16:00.557Z"
   },
   {
    "duration": 5,
    "start_time": "2022-09-17T17:16:07.230Z"
   },
   {
    "duration": 5,
    "start_time": "2022-09-17T17:16:11.779Z"
   },
   {
    "duration": 6,
    "start_time": "2022-09-17T17:16:14.354Z"
   },
   {
    "duration": 6,
    "start_time": "2022-09-17T17:16:17.914Z"
   },
   {
    "duration": 7,
    "start_time": "2022-09-17T17:16:22.551Z"
   },
   {
    "duration": 11,
    "start_time": "2022-09-17T17:16:30.584Z"
   },
   {
    "duration": 11,
    "start_time": "2022-09-17T17:17:19.915Z"
   },
   {
    "duration": 62,
    "start_time": "2022-09-17T17:19:07.584Z"
   },
   {
    "duration": 57,
    "start_time": "2022-09-17T17:19:51.446Z"
   },
   {
    "duration": 9,
    "start_time": "2022-09-17T17:19:58.990Z"
   },
   {
    "duration": 10,
    "start_time": "2022-09-17T17:22:05.491Z"
   },
   {
    "duration": 11,
    "start_time": "2022-09-17T17:22:41.492Z"
   },
   {
    "duration": 14,
    "start_time": "2022-09-17T17:23:19.637Z"
   },
   {
    "duration": 18,
    "start_time": "2022-09-17T17:23:27.653Z"
   },
   {
    "duration": 9,
    "start_time": "2022-09-17T17:23:46.714Z"
   },
   {
    "duration": 18,
    "start_time": "2022-09-17T17:24:00.261Z"
   },
   {
    "duration": 5,
    "start_time": "2022-09-17T17:24:12.215Z"
   },
   {
    "duration": 8,
    "start_time": "2022-09-17T17:24:14.946Z"
   },
   {
    "duration": 12,
    "start_time": "2022-09-17T17:27:52.821Z"
   },
   {
    "duration": 15,
    "start_time": "2022-09-17T17:28:01.912Z"
   },
   {
    "duration": 13,
    "start_time": "2022-09-17T17:28:17.024Z"
   },
   {
    "duration": 8,
    "start_time": "2022-09-17T17:30:00.123Z"
   },
   {
    "duration": 12,
    "start_time": "2022-09-17T17:31:21.482Z"
   },
   {
    "duration": 15,
    "start_time": "2022-09-17T17:34:26.739Z"
   },
   {
    "duration": 12,
    "start_time": "2022-09-17T17:36:21.872Z"
   },
   {
    "duration": 22,
    "start_time": "2022-09-17T17:37:05.538Z"
   },
   {
    "duration": 15,
    "start_time": "2022-09-17T17:37:25.374Z"
   },
   {
    "duration": 15,
    "start_time": "2022-09-17T17:37:37.936Z"
   },
   {
    "duration": 12,
    "start_time": "2022-09-17T17:39:47.787Z"
   },
   {
    "duration": 16,
    "start_time": "2022-09-17T17:41:32.193Z"
   },
   {
    "duration": 26,
    "start_time": "2022-09-17T17:43:08.260Z"
   },
   {
    "duration": 671,
    "start_time": "2022-09-17T17:43:27.835Z"
   },
   {
    "duration": 157,
    "start_time": "2022-09-17T17:43:28.507Z"
   },
   {
    "duration": 2121,
    "start_time": "2022-09-17T17:43:28.673Z"
   },
   {
    "duration": 9,
    "start_time": "2022-09-17T17:43:30.796Z"
   },
   {
    "duration": 46,
    "start_time": "2022-09-17T17:43:30.807Z"
   },
   {
    "duration": 53,
    "start_time": "2022-09-17T17:43:30.855Z"
   },
   {
    "duration": 23,
    "start_time": "2022-09-17T17:43:30.910Z"
   },
   {
    "duration": 20,
    "start_time": "2022-09-17T17:43:30.935Z"
   },
   {
    "duration": 21,
    "start_time": "2022-09-17T17:43:30.961Z"
   },
   {
    "duration": 25,
    "start_time": "2022-09-17T17:43:30.985Z"
   },
   {
    "duration": 23,
    "start_time": "2022-09-17T17:43:31.012Z"
   },
   {
    "duration": 53,
    "start_time": "2022-09-17T17:43:31.037Z"
   },
   {
    "duration": 7,
    "start_time": "2022-09-17T17:43:31.092Z"
   },
   {
    "duration": 13,
    "start_time": "2022-09-17T17:43:31.100Z"
   },
   {
    "duration": 24,
    "start_time": "2022-09-17T17:43:31.115Z"
   },
   {
    "duration": 47,
    "start_time": "2022-09-17T17:43:31.141Z"
   },
   {
    "duration": 6,
    "start_time": "2022-09-17T17:43:31.190Z"
   },
   {
    "duration": 163,
    "start_time": "2022-09-17T17:43:31.198Z"
   },
   {
    "duration": 9,
    "start_time": "2022-09-17T17:43:31.363Z"
   },
   {
    "duration": 23,
    "start_time": "2022-09-17T17:43:31.374Z"
   },
   {
    "duration": 27,
    "start_time": "2022-09-17T17:43:31.399Z"
   },
   {
    "duration": 7,
    "start_time": "2022-09-17T17:43:31.428Z"
   },
   {
    "duration": 7,
    "start_time": "2022-09-17T17:43:31.437Z"
   },
   {
    "duration": 36,
    "start_time": "2022-09-17T17:43:31.446Z"
   },
   {
    "duration": 17,
    "start_time": "2022-09-17T17:43:31.483Z"
   },
   {
    "duration": 145,
    "start_time": "2022-09-17T17:43:31.502Z"
   },
   {
    "duration": 10,
    "start_time": "2022-09-17T17:43:31.657Z"
   },
   {
    "duration": 47,
    "start_time": "2022-09-17T17:43:31.674Z"
   },
   {
    "duration": 2467,
    "start_time": "2022-09-17T17:43:31.723Z"
   },
   {
    "duration": 2608,
    "start_time": "2022-09-17T17:43:34.192Z"
   },
   {
    "duration": 184,
    "start_time": "2022-09-17T17:43:36.802Z"
   },
   {
    "duration": 9,
    "start_time": "2022-09-17T17:43:36.992Z"
   },
   {
    "duration": 11,
    "start_time": "2022-09-17T17:43:37.002Z"
   },
   {
    "duration": 17,
    "start_time": "2022-09-17T17:43:37.015Z"
   },
   {
    "duration": 173,
    "start_time": "2022-09-17T17:43:37.034Z"
   },
   {
    "duration": 193,
    "start_time": "2022-09-17T17:43:37.209Z"
   },
   {
    "duration": 5,
    "start_time": "2022-09-17T17:43:37.404Z"
   },
   {
    "duration": 57,
    "start_time": "2022-09-17T17:43:37.411Z"
   },
   {
    "duration": 109,
    "start_time": "2022-09-17T17:43:37.472Z"
   },
   {
    "duration": 0,
    "start_time": "2022-09-17T17:43:37.583Z"
   },
   {
    "duration": 8,
    "start_time": "2022-09-17T17:43:59.461Z"
   },
   {
    "duration": 16,
    "start_time": "2022-09-17T17:44:02.506Z"
   },
   {
    "duration": 728,
    "start_time": "2022-09-17T17:44:26.853Z"
   },
   {
    "duration": 154,
    "start_time": "2022-09-17T17:44:27.584Z"
   },
   {
    "duration": 2102,
    "start_time": "2022-09-17T17:44:27.740Z"
   },
   {
    "duration": 15,
    "start_time": "2022-09-17T17:44:29.845Z"
   },
   {
    "duration": 30,
    "start_time": "2022-09-17T17:44:29.865Z"
   },
   {
    "duration": 7,
    "start_time": "2022-09-17T17:44:29.897Z"
   },
   {
    "duration": 13,
    "start_time": "2022-09-17T17:44:29.906Z"
   },
   {
    "duration": 14,
    "start_time": "2022-09-17T17:44:29.920Z"
   },
   {
    "duration": 5,
    "start_time": "2022-09-17T17:44:29.936Z"
   },
   {
    "duration": 33,
    "start_time": "2022-09-17T17:44:29.944Z"
   },
   {
    "duration": 49,
    "start_time": "2022-09-17T17:44:29.979Z"
   },
   {
    "duration": 15,
    "start_time": "2022-09-17T17:44:30.031Z"
   },
   {
    "duration": 50,
    "start_time": "2022-09-17T17:44:30.049Z"
   },
   {
    "duration": 47,
    "start_time": "2022-09-17T17:44:30.101Z"
   },
   {
    "duration": 55,
    "start_time": "2022-09-17T17:44:30.151Z"
   },
   {
    "duration": 32,
    "start_time": "2022-09-17T17:44:30.208Z"
   },
   {
    "duration": 41,
    "start_time": "2022-09-17T17:44:30.242Z"
   },
   {
    "duration": 161,
    "start_time": "2022-09-17T17:44:30.285Z"
   },
   {
    "duration": 15,
    "start_time": "2022-09-17T17:44:30.449Z"
   },
   {
    "duration": 52,
    "start_time": "2022-09-17T17:44:30.465Z"
   },
   {
    "duration": 52,
    "start_time": "2022-09-17T17:44:30.519Z"
   },
   {
    "duration": 51,
    "start_time": "2022-09-17T17:44:30.572Z"
   },
   {
    "duration": 59,
    "start_time": "2022-09-17T17:44:30.625Z"
   },
   {
    "duration": 19,
    "start_time": "2022-09-17T17:44:30.686Z"
   },
   {
    "duration": 41,
    "start_time": "2022-09-17T17:44:30.707Z"
   },
   {
    "duration": 179,
    "start_time": "2022-09-17T17:44:30.754Z"
   },
   {
    "duration": 4,
    "start_time": "2022-09-17T17:44:30.935Z"
   },
   {
    "duration": 55,
    "start_time": "2022-09-17T17:44:30.947Z"
   },
   {
    "duration": 2313,
    "start_time": "2022-09-17T17:44:31.004Z"
   },
   {
    "duration": 2358,
    "start_time": "2022-09-17T17:44:33.318Z"
   },
   {
    "duration": 183,
    "start_time": "2022-09-17T17:44:35.678Z"
   },
   {
    "duration": 12,
    "start_time": "2022-09-17T17:44:35.862Z"
   },
   {
    "duration": 33,
    "start_time": "2022-09-17T17:44:35.876Z"
   },
   {
    "duration": 53,
    "start_time": "2022-09-17T17:44:35.911Z"
   },
   {
    "duration": 181,
    "start_time": "2022-09-17T17:44:35.966Z"
   },
   {
    "duration": 212,
    "start_time": "2022-09-17T17:44:36.149Z"
   },
   {
    "duration": 10,
    "start_time": "2022-09-17T17:44:36.363Z"
   },
   {
    "duration": 61,
    "start_time": "2022-09-17T17:44:36.378Z"
   },
   {
    "duration": 50,
    "start_time": "2022-09-17T17:44:36.442Z"
   },
   {
    "duration": 123,
    "start_time": "2022-09-17T17:44:36.493Z"
   },
   {
    "duration": 0,
    "start_time": "2022-09-17T17:44:36.618Z"
   },
   {
    "duration": 27,
    "start_time": "2022-09-17T17:45:49.547Z"
   },
   {
    "duration": 12,
    "start_time": "2022-09-17T17:46:31.575Z"
   },
   {
    "duration": 18,
    "start_time": "2022-09-17T17:46:51.378Z"
   },
   {
    "duration": 11,
    "start_time": "2022-09-17T17:48:05.026Z"
   },
   {
    "duration": 13,
    "start_time": "2022-09-17T17:48:15.127Z"
   },
   {
    "duration": 13,
    "start_time": "2022-09-17T17:48:21.992Z"
   },
   {
    "duration": 12,
    "start_time": "2022-09-17T17:48:46.912Z"
   },
   {
    "duration": 19,
    "start_time": "2022-09-17T17:52:16.938Z"
   },
   {
    "duration": 53,
    "start_time": "2022-09-17T21:48:53.849Z"
   },
   {
    "duration": 11,
    "start_time": "2022-09-17T21:48:58.163Z"
   },
   {
    "duration": 927,
    "start_time": "2022-09-17T21:49:05.260Z"
   },
   {
    "duration": 413,
    "start_time": "2022-09-17T21:49:06.189Z"
   },
   {
    "duration": 2244,
    "start_time": "2022-09-17T21:49:06.604Z"
   },
   {
    "duration": 14,
    "start_time": "2022-09-17T21:49:08.851Z"
   },
   {
    "duration": 13,
    "start_time": "2022-09-17T21:49:08.869Z"
   },
   {
    "duration": 14,
    "start_time": "2022-09-17T21:49:08.884Z"
   },
   {
    "duration": 15,
    "start_time": "2022-09-17T21:49:08.900Z"
   },
   {
    "duration": 26,
    "start_time": "2022-09-17T21:49:08.917Z"
   },
   {
    "duration": 21,
    "start_time": "2022-09-17T21:49:08.949Z"
   },
   {
    "duration": 17,
    "start_time": "2022-09-17T21:49:08.972Z"
   },
   {
    "duration": 42,
    "start_time": "2022-09-17T21:49:08.991Z"
   },
   {
    "duration": 30,
    "start_time": "2022-09-17T21:49:09.044Z"
   },
   {
    "duration": 25,
    "start_time": "2022-09-17T21:49:09.077Z"
   },
   {
    "duration": 10,
    "start_time": "2022-09-17T21:49:09.106Z"
   },
   {
    "duration": 46,
    "start_time": "2022-09-17T21:49:09.118Z"
   },
   {
    "duration": 30,
    "start_time": "2022-09-17T21:49:09.169Z"
   },
   {
    "duration": 57,
    "start_time": "2022-09-17T21:49:09.201Z"
   },
   {
    "duration": 9,
    "start_time": "2022-09-17T21:49:09.260Z"
   },
   {
    "duration": 196,
    "start_time": "2022-09-17T21:49:09.271Z"
   },
   {
    "duration": 9,
    "start_time": "2022-09-17T21:49:09.469Z"
   },
   {
    "duration": 3,
    "start_time": "2022-09-17T21:49:09.480Z"
   },
   {
    "duration": 13,
    "start_time": "2022-09-17T21:49:09.484Z"
   },
   {
    "duration": 4,
    "start_time": "2022-09-17T21:49:09.499Z"
   },
   {
    "duration": 41,
    "start_time": "2022-09-17T21:49:09.504Z"
   },
   {
    "duration": 12,
    "start_time": "2022-09-17T21:49:09.550Z"
   },
   {
    "duration": 6,
    "start_time": "2022-09-17T21:49:09.564Z"
   },
   {
    "duration": 179,
    "start_time": "2022-09-17T21:49:09.572Z"
   },
   {
    "duration": 5,
    "start_time": "2022-09-17T21:49:09.753Z"
   },
   {
    "duration": 28,
    "start_time": "2022-09-17T21:49:09.759Z"
   },
   {
    "duration": 2772,
    "start_time": "2022-09-17T21:49:09.789Z"
   },
   {
    "duration": 2476,
    "start_time": "2022-09-17T21:49:12.563Z"
   },
   {
    "duration": 172,
    "start_time": "2022-09-17T21:49:15.043Z"
   },
   {
    "duration": 30,
    "start_time": "2022-09-17T21:49:15.217Z"
   },
   {
    "duration": 10,
    "start_time": "2022-09-17T21:49:15.249Z"
   },
   {
    "duration": 15,
    "start_time": "2022-09-17T21:49:15.260Z"
   },
   {
    "duration": 173,
    "start_time": "2022-09-17T21:49:15.277Z"
   },
   {
    "duration": 196,
    "start_time": "2022-09-17T21:49:15.452Z"
   },
   {
    "duration": 5,
    "start_time": "2022-09-17T21:49:15.650Z"
   },
   {
    "duration": 19,
    "start_time": "2022-09-17T21:49:15.657Z"
   },
   {
    "duration": 9,
    "start_time": "2022-09-17T21:50:11.162Z"
   },
   {
    "duration": 1142,
    "start_time": "2022-09-17T21:50:42.048Z"
   },
   {
    "duration": 8,
    "start_time": "2022-09-17T21:51:03.002Z"
   },
   {
    "duration": 8,
    "start_time": "2022-09-17T21:51:13.384Z"
   },
   {
    "duration": 12,
    "start_time": "2022-09-17T21:51:23.943Z"
   },
   {
    "duration": 43,
    "start_time": "2022-09-17T21:51:44.933Z"
   },
   {
    "duration": 5,
    "start_time": "2022-09-17T21:53:27.964Z"
   },
   {
    "duration": 39,
    "start_time": "2022-09-17T21:53:33.144Z"
   },
   {
    "duration": 9,
    "start_time": "2022-09-17T21:54:05.947Z"
   },
   {
    "duration": 6,
    "start_time": "2022-09-17T21:54:19.645Z"
   },
   {
    "duration": 75,
    "start_time": "2022-09-17T21:54:45.682Z"
   },
   {
    "duration": 9,
    "start_time": "2022-09-17T21:55:42.044Z"
   },
   {
    "duration": 4,
    "start_time": "2022-09-17T21:55:48.745Z"
   },
   {
    "duration": 16,
    "start_time": "2022-09-17T21:56:03.270Z"
   },
   {
    "duration": 10,
    "start_time": "2022-09-17T21:56:17.665Z"
   },
   {
    "duration": 649,
    "start_time": "2022-09-17T21:56:48.153Z"
   },
   {
    "duration": 195,
    "start_time": "2022-09-17T21:56:48.804Z"
   },
   {
    "duration": 2266,
    "start_time": "2022-09-17T21:56:49.001Z"
   },
   {
    "duration": 9,
    "start_time": "2022-09-17T21:56:51.269Z"
   },
   {
    "duration": 18,
    "start_time": "2022-09-17T21:56:51.280Z"
   },
   {
    "duration": 6,
    "start_time": "2022-09-17T21:56:51.300Z"
   },
   {
    "duration": 17,
    "start_time": "2022-09-17T21:56:51.307Z"
   },
   {
    "duration": 34,
    "start_time": "2022-09-17T21:56:51.326Z"
   },
   {
    "duration": 6,
    "start_time": "2022-09-17T21:56:51.361Z"
   },
   {
    "duration": 22,
    "start_time": "2022-09-17T21:56:51.369Z"
   },
   {
    "duration": 24,
    "start_time": "2022-09-17T21:56:51.393Z"
   },
   {
    "duration": 26,
    "start_time": "2022-09-17T21:56:51.418Z"
   },
   {
    "duration": 13,
    "start_time": "2022-09-17T21:56:51.448Z"
   },
   {
    "duration": 93,
    "start_time": "2022-09-17T21:56:51.465Z"
   },
   {
    "duration": 0,
    "start_time": "2022-09-17T21:56:51.560Z"
   },
   {
    "duration": 0,
    "start_time": "2022-09-17T21:56:51.561Z"
   },
   {
    "duration": 0,
    "start_time": "2022-09-17T21:56:51.562Z"
   },
   {
    "duration": 0,
    "start_time": "2022-09-17T21:56:51.563Z"
   },
   {
    "duration": 0,
    "start_time": "2022-09-17T21:56:51.564Z"
   },
   {
    "duration": 0,
    "start_time": "2022-09-17T21:56:51.565Z"
   },
   {
    "duration": 0,
    "start_time": "2022-09-17T21:56:51.567Z"
   },
   {
    "duration": 0,
    "start_time": "2022-09-17T21:56:51.569Z"
   },
   {
    "duration": 0,
    "start_time": "2022-09-17T21:56:51.570Z"
   },
   {
    "duration": 0,
    "start_time": "2022-09-17T21:56:51.572Z"
   },
   {
    "duration": 0,
    "start_time": "2022-09-17T21:56:51.573Z"
   },
   {
    "duration": 0,
    "start_time": "2022-09-17T21:56:51.574Z"
   },
   {
    "duration": 0,
    "start_time": "2022-09-17T21:56:51.576Z"
   },
   {
    "duration": 0,
    "start_time": "2022-09-17T21:56:51.577Z"
   },
   {
    "duration": 0,
    "start_time": "2022-09-17T21:56:51.578Z"
   },
   {
    "duration": 0,
    "start_time": "2022-09-17T21:56:51.579Z"
   },
   {
    "duration": 0,
    "start_time": "2022-09-17T21:56:51.580Z"
   },
   {
    "duration": 0,
    "start_time": "2022-09-17T21:56:51.581Z"
   },
   {
    "duration": 0,
    "start_time": "2022-09-17T21:56:51.582Z"
   },
   {
    "duration": 0,
    "start_time": "2022-09-17T21:56:51.583Z"
   },
   {
    "duration": 0,
    "start_time": "2022-09-17T21:56:51.621Z"
   },
   {
    "duration": 0,
    "start_time": "2022-09-17T21:56:51.622Z"
   },
   {
    "duration": 0,
    "start_time": "2022-09-17T21:56:51.623Z"
   },
   {
    "duration": 0,
    "start_time": "2022-09-17T21:56:51.624Z"
   },
   {
    "duration": 127,
    "start_time": "2022-09-17T22:00:08.446Z"
   },
   {
    "duration": 19,
    "start_time": "2022-09-17T22:00:25.516Z"
   },
   {
    "duration": 649,
    "start_time": "2022-09-17T22:00:46.457Z"
   },
   {
    "duration": 183,
    "start_time": "2022-09-17T22:00:47.108Z"
   },
   {
    "duration": 2262,
    "start_time": "2022-09-17T22:00:47.293Z"
   },
   {
    "duration": 10,
    "start_time": "2022-09-17T22:00:49.557Z"
   },
   {
    "duration": 7,
    "start_time": "2022-09-17T22:00:49.569Z"
   },
   {
    "duration": 7,
    "start_time": "2022-09-17T22:00:49.577Z"
   },
   {
    "duration": 14,
    "start_time": "2022-09-17T22:00:49.586Z"
   },
   {
    "duration": 24,
    "start_time": "2022-09-17T22:00:49.602Z"
   },
   {
    "duration": 9,
    "start_time": "2022-09-17T22:00:49.634Z"
   },
   {
    "duration": 28,
    "start_time": "2022-09-17T22:00:49.646Z"
   },
   {
    "duration": 24,
    "start_time": "2022-09-17T22:00:49.675Z"
   },
   {
    "duration": 20,
    "start_time": "2022-09-17T22:00:49.701Z"
   },
   {
    "duration": 16,
    "start_time": "2022-09-17T22:00:49.730Z"
   },
   {
    "duration": 13,
    "start_time": "2022-09-17T22:00:49.748Z"
   },
   {
    "duration": 26,
    "start_time": "2022-09-17T22:00:49.763Z"
   },
   {
    "duration": 64,
    "start_time": "2022-09-17T22:00:49.791Z"
   },
   {
    "duration": 6,
    "start_time": "2022-09-17T22:00:49.857Z"
   },
   {
    "duration": 185,
    "start_time": "2022-09-17T22:00:49.865Z"
   },
   {
    "duration": 10,
    "start_time": "2022-09-17T22:00:50.052Z"
   },
   {
    "duration": 4,
    "start_time": "2022-09-17T22:00:50.064Z"
   },
   {
    "duration": 12,
    "start_time": "2022-09-17T22:00:50.070Z"
   },
   {
    "duration": 5,
    "start_time": "2022-09-17T22:00:50.083Z"
   },
   {
    "duration": 40,
    "start_time": "2022-09-17T22:00:50.089Z"
   },
   {
    "duration": 30,
    "start_time": "2022-09-17T22:00:50.130Z"
   },
   {
    "duration": 6,
    "start_time": "2022-09-17T22:00:50.162Z"
   },
   {
    "duration": 180,
    "start_time": "2022-09-17T22:00:50.170Z"
   },
   {
    "duration": 5,
    "start_time": "2022-09-17T22:00:50.351Z"
   },
   {
    "duration": 28,
    "start_time": "2022-09-17T22:00:50.360Z"
   },
   {
    "duration": 2628,
    "start_time": "2022-09-17T22:00:50.390Z"
   },
   {
    "duration": 2413,
    "start_time": "2022-09-17T22:00:53.023Z"
   },
   {
    "duration": 186,
    "start_time": "2022-09-17T22:00:55.438Z"
   },
   {
    "duration": 23,
    "start_time": "2022-09-17T22:00:55.626Z"
   },
   {
    "duration": 10,
    "start_time": "2022-09-17T22:00:55.651Z"
   },
   {
    "duration": 14,
    "start_time": "2022-09-17T22:00:55.663Z"
   },
   {
    "duration": 180,
    "start_time": "2022-09-17T22:00:55.679Z"
   },
   {
    "duration": 190,
    "start_time": "2022-09-17T22:00:55.862Z"
   },
   {
    "duration": 5,
    "start_time": "2022-09-17T22:00:56.054Z"
   },
   {
    "duration": 24,
    "start_time": "2022-09-17T22:00:56.060Z"
   },
   {
    "duration": 21,
    "start_time": "2022-09-17T22:05:33.063Z"
   },
   {
    "duration": 20,
    "start_time": "2022-09-17T22:10:16.083Z"
   },
   {
    "duration": 172,
    "start_time": "2022-09-17T22:12:19.982Z"
   },
   {
    "duration": 83,
    "start_time": "2022-09-17T22:17:02.049Z"
   },
   {
    "duration": 7,
    "start_time": "2022-09-17T22:17:10.848Z"
   },
   {
    "duration": 53,
    "start_time": "2022-09-17T22:19:57.161Z"
   },
   {
    "duration": 11,
    "start_time": "2022-09-17T22:22:23.492Z"
   },
   {
    "duration": 11,
    "start_time": "2022-09-17T22:24:57.183Z"
   },
   {
    "duration": 12,
    "start_time": "2022-09-17T22:26:12.956Z"
   },
   {
    "duration": 10,
    "start_time": "2022-09-17T22:26:41.059Z"
   },
   {
    "duration": 194,
    "start_time": "2022-09-17T22:34:04.440Z"
   },
   {
    "duration": 23,
    "start_time": "2022-09-17T22:35:04.962Z"
   },
   {
    "duration": 18,
    "start_time": "2022-09-17T22:35:25.460Z"
   },
   {
    "duration": 159,
    "start_time": "2022-09-17T22:36:31.157Z"
   },
   {
    "duration": 172,
    "start_time": "2022-09-17T22:37:05.802Z"
   },
   {
    "duration": 14,
    "start_time": "2022-09-17T22:58:36.955Z"
   },
   {
    "duration": 1059,
    "start_time": "2022-09-17T22:59:38.557Z"
   },
   {
    "duration": 12,
    "start_time": "2022-09-17T23:00:12.501Z"
   },
   {
    "duration": 6,
    "start_time": "2022-09-17T23:00:22.058Z"
   },
   {
    "duration": 159,
    "start_time": "2022-09-17T23:05:17.358Z"
   },
   {
    "duration": 147,
    "start_time": "2022-09-17T23:05:25.256Z"
   },
   {
    "duration": 326,
    "start_time": "2022-09-17T23:05:44.862Z"
   },
   {
    "duration": 148,
    "start_time": "2022-09-17T23:06:09.559Z"
   },
   {
    "duration": 158,
    "start_time": "2022-09-17T23:06:26.756Z"
   },
   {
    "duration": 149,
    "start_time": "2022-09-17T23:07:31.946Z"
   },
   {
    "duration": 149,
    "start_time": "2022-09-17T23:07:40.446Z"
   },
   {
    "duration": 163,
    "start_time": "2022-09-17T23:07:50.937Z"
   },
   {
    "duration": 156,
    "start_time": "2022-09-17T23:08:02.156Z"
   },
   {
    "duration": 159,
    "start_time": "2022-09-17T23:12:24.973Z"
   },
   {
    "duration": 26,
    "start_time": "2022-09-17T23:14:06.261Z"
   },
   {
    "duration": 47,
    "start_time": "2022-09-17T23:15:01.332Z"
   },
   {
    "duration": 27,
    "start_time": "2022-09-17T23:16:58.602Z"
   },
   {
    "duration": 23,
    "start_time": "2022-09-17T23:17:19.068Z"
   },
   {
    "duration": 24,
    "start_time": "2022-09-17T23:17:31.458Z"
   },
   {
    "duration": 37,
    "start_time": "2022-09-17T23:18:19.059Z"
   },
   {
    "duration": 55,
    "start_time": "2022-09-18T08:39:17.402Z"
   },
   {
    "duration": 841,
    "start_time": "2022-09-18T08:39:26.305Z"
   },
   {
    "duration": 367,
    "start_time": "2022-09-18T08:39:27.148Z"
   },
   {
    "duration": 2343,
    "start_time": "2022-09-18T08:39:27.518Z"
   },
   {
    "duration": 9,
    "start_time": "2022-09-18T08:39:29.864Z"
   },
   {
    "duration": 36,
    "start_time": "2022-09-18T08:39:29.875Z"
   },
   {
    "duration": 10,
    "start_time": "2022-09-18T08:39:29.912Z"
   },
   {
    "duration": 16,
    "start_time": "2022-09-18T08:39:29.924Z"
   },
   {
    "duration": 10,
    "start_time": "2022-09-18T08:39:29.944Z"
   },
   {
    "duration": 11,
    "start_time": "2022-09-18T08:39:29.957Z"
   },
   {
    "duration": 13,
    "start_time": "2022-09-18T08:39:29.971Z"
   },
   {
    "duration": 48,
    "start_time": "2022-09-18T08:39:29.987Z"
   },
   {
    "duration": 31,
    "start_time": "2022-09-18T08:39:30.037Z"
   },
   {
    "duration": 37,
    "start_time": "2022-09-18T08:39:30.070Z"
   },
   {
    "duration": 37,
    "start_time": "2022-09-18T08:39:30.109Z"
   },
   {
    "duration": 23,
    "start_time": "2022-09-18T08:39:30.148Z"
   },
   {
    "duration": 35,
    "start_time": "2022-09-18T08:39:30.173Z"
   },
   {
    "duration": 62,
    "start_time": "2022-09-18T08:39:30.211Z"
   },
   {
    "duration": 28,
    "start_time": "2022-09-18T08:39:30.275Z"
   },
   {
    "duration": 237,
    "start_time": "2022-09-18T08:39:30.305Z"
   },
   {
    "duration": 13,
    "start_time": "2022-09-18T08:39:30.549Z"
   },
   {
    "duration": 48,
    "start_time": "2022-09-18T08:39:30.564Z"
   },
   {
    "duration": 30,
    "start_time": "2022-09-18T08:39:30.615Z"
   },
   {
    "duration": 44,
    "start_time": "2022-09-18T08:39:30.647Z"
   },
   {
    "duration": 39,
    "start_time": "2022-09-18T08:39:30.693Z"
   },
   {
    "duration": 15,
    "start_time": "2022-09-18T08:39:30.733Z"
   },
   {
    "duration": 19,
    "start_time": "2022-09-18T08:39:30.750Z"
   },
   {
    "duration": 186,
    "start_time": "2022-09-18T08:39:30.771Z"
   },
   {
    "duration": 5,
    "start_time": "2022-09-18T08:39:30.961Z"
   },
   {
    "duration": 66,
    "start_time": "2022-09-18T08:39:30.968Z"
   },
   {
    "duration": 3276,
    "start_time": "2022-09-18T08:39:31.036Z"
   },
   {
    "duration": 3133,
    "start_time": "2022-09-18T08:39:34.315Z"
   },
   {
    "duration": 182,
    "start_time": "2022-09-18T08:39:37.451Z"
   },
   {
    "duration": 15,
    "start_time": "2022-09-18T08:39:37.635Z"
   },
   {
    "duration": 26,
    "start_time": "2022-09-18T08:39:37.652Z"
   },
   {
    "duration": 47,
    "start_time": "2022-09-18T08:39:37.680Z"
   },
   {
    "duration": 198,
    "start_time": "2022-09-18T08:39:37.729Z"
   },
   {
    "duration": 211,
    "start_time": "2022-09-18T08:39:37.929Z"
   },
   {
    "duration": 186,
    "start_time": "2022-09-18T08:39:38.142Z"
   },
   {
    "duration": 19,
    "start_time": "2022-09-18T08:39:38.330Z"
   },
   {
    "duration": 208,
    "start_time": "2022-09-18T08:39:38.351Z"
   },
   {
    "duration": 41,
    "start_time": "2022-09-18T08:39:38.562Z"
   },
   {
    "duration": 28,
    "start_time": "2022-09-18T08:39:38.606Z"
   },
   {
    "duration": 217,
    "start_time": "2022-09-18T08:39:38.636Z"
   },
   {
    "duration": 150,
    "start_time": "2022-09-18T08:42:23.349Z"
   },
   {
    "duration": 134,
    "start_time": "2022-09-18T08:44:13.620Z"
   },
   {
    "duration": 325,
    "start_time": "2022-09-18T08:44:35.498Z"
   },
   {
    "duration": 140,
    "start_time": "2022-09-18T08:44:43.199Z"
   },
   {
    "duration": 108,
    "start_time": "2022-09-18T08:47:34.713Z"
   },
   {
    "duration": 156,
    "start_time": "2022-09-18T08:55:59.609Z"
   },
   {
    "duration": 169,
    "start_time": "2022-09-18T08:57:02.203Z"
   },
   {
    "duration": 16,
    "start_time": "2022-09-18T08:57:17.808Z"
   },
   {
    "duration": 14,
    "start_time": "2022-09-18T08:57:56.473Z"
   },
   {
    "duration": 151,
    "start_time": "2022-09-18T08:58:29.704Z"
   },
   {
    "duration": 184,
    "start_time": "2022-09-18T08:58:48.966Z"
   },
   {
    "duration": 197,
    "start_time": "2022-09-18T08:59:27.904Z"
   },
   {
    "duration": 453,
    "start_time": "2022-09-18T09:01:16.961Z"
   },
   {
    "duration": 173,
    "start_time": "2022-09-18T09:01:55.002Z"
   },
   {
    "duration": 160,
    "start_time": "2022-09-18T09:04:54.021Z"
   },
   {
    "duration": 186,
    "start_time": "2022-09-18T09:06:38.705Z"
   },
   {
    "duration": 209,
    "start_time": "2022-09-18T09:08:09.475Z"
   },
   {
    "duration": 574,
    "start_time": "2022-09-18T09:11:28.397Z"
   },
   {
    "duration": 14,
    "start_time": "2022-09-18T09:11:46.475Z"
   },
   {
    "duration": 8,
    "start_time": "2022-09-18T09:13:49.634Z"
   },
   {
    "duration": 17,
    "start_time": "2022-09-18T09:14:17.463Z"
   },
   {
    "duration": 50,
    "start_time": "2022-09-18T09:25:32.312Z"
   },
   {
    "duration": 14,
    "start_time": "2022-09-18T09:41:07.487Z"
   },
   {
    "duration": 42,
    "start_time": "2022-09-18T09:41:23.832Z"
   },
   {
    "duration": 41,
    "start_time": "2022-09-18T09:41:34.714Z"
   },
   {
    "duration": 17,
    "start_time": "2022-09-18T09:41:53.764Z"
   },
   {
    "duration": 21,
    "start_time": "2022-09-18T09:42:16.965Z"
   },
   {
    "duration": 18,
    "start_time": "2022-09-18T09:42:30.274Z"
   },
   {
    "duration": 664,
    "start_time": "2022-09-18T09:42:46.573Z"
   },
   {
    "duration": 90,
    "start_time": "2022-09-18T09:42:47.239Z"
   },
   {
    "duration": 74,
    "start_time": "2022-09-18T09:42:47.330Z"
   },
   {
    "duration": 1974,
    "start_time": "2022-09-18T09:42:47.406Z"
   },
   {
    "duration": 9,
    "start_time": "2022-09-18T09:42:49.382Z"
   },
   {
    "duration": 7,
    "start_time": "2022-09-18T09:42:49.393Z"
   },
   {
    "duration": 12,
    "start_time": "2022-09-18T09:42:49.401Z"
   },
   {
    "duration": 47,
    "start_time": "2022-09-18T09:42:49.415Z"
   },
   {
    "duration": 3,
    "start_time": "2022-09-18T09:42:49.463Z"
   },
   {
    "duration": 12,
    "start_time": "2022-09-18T09:42:49.476Z"
   },
   {
    "duration": 10,
    "start_time": "2022-09-18T09:42:49.489Z"
   },
   {
    "duration": 8,
    "start_time": "2022-09-18T09:42:49.501Z"
   },
   {
    "duration": 24,
    "start_time": "2022-09-18T09:42:49.511Z"
   },
   {
    "duration": 44,
    "start_time": "2022-09-18T09:42:49.536Z"
   },
   {
    "duration": 10,
    "start_time": "2022-09-18T09:42:49.582Z"
   },
   {
    "duration": 10,
    "start_time": "2022-09-18T09:42:49.594Z"
   },
   {
    "duration": 15,
    "start_time": "2022-09-18T09:42:49.605Z"
   },
   {
    "duration": 31,
    "start_time": "2022-09-18T09:42:49.621Z"
   },
   {
    "duration": 42,
    "start_time": "2022-09-18T09:42:49.654Z"
   },
   {
    "duration": 6,
    "start_time": "2022-09-18T09:42:49.698Z"
   },
   {
    "duration": 176,
    "start_time": "2022-09-18T09:42:49.705Z"
   },
   {
    "duration": 9,
    "start_time": "2022-09-18T09:42:49.883Z"
   },
   {
    "duration": 4,
    "start_time": "2022-09-18T09:42:49.893Z"
   },
   {
    "duration": 16,
    "start_time": "2022-09-18T09:42:49.898Z"
   },
   {
    "duration": 4,
    "start_time": "2022-09-18T09:42:49.916Z"
   },
   {
    "duration": 13,
    "start_time": "2022-09-18T09:42:49.922Z"
   },
   {
    "duration": 6,
    "start_time": "2022-09-18T09:42:49.937Z"
   },
   {
    "duration": 30,
    "start_time": "2022-09-18T09:42:49.947Z"
   },
   {
    "duration": 145,
    "start_time": "2022-09-18T09:42:49.979Z"
   },
   {
    "duration": 4,
    "start_time": "2022-09-18T09:42:50.126Z"
   },
   {
    "duration": 27,
    "start_time": "2022-09-18T09:42:50.132Z"
   },
   {
    "duration": 2330,
    "start_time": "2022-09-18T09:42:50.161Z"
   },
   {
    "duration": 97,
    "start_time": "2022-09-18T09:42:52.493Z"
   },
   {
    "duration": 0,
    "start_time": "2022-09-18T09:42:52.592Z"
   },
   {
    "duration": 0,
    "start_time": "2022-09-18T09:42:52.593Z"
   },
   {
    "duration": 0,
    "start_time": "2022-09-18T09:42:52.595Z"
   },
   {
    "duration": 0,
    "start_time": "2022-09-18T09:42:52.596Z"
   },
   {
    "duration": 0,
    "start_time": "2022-09-18T09:42:52.597Z"
   },
   {
    "duration": 0,
    "start_time": "2022-09-18T09:42:52.600Z"
   },
   {
    "duration": 0,
    "start_time": "2022-09-18T09:42:52.601Z"
   },
   {
    "duration": 0,
    "start_time": "2022-09-18T09:42:52.601Z"
   },
   {
    "duration": 0,
    "start_time": "2022-09-18T09:42:52.602Z"
   },
   {
    "duration": 0,
    "start_time": "2022-09-18T09:42:52.603Z"
   },
   {
    "duration": 0,
    "start_time": "2022-09-18T09:42:52.604Z"
   },
   {
    "duration": 0,
    "start_time": "2022-09-18T09:42:52.604Z"
   },
   {
    "duration": 0,
    "start_time": "2022-09-18T09:42:52.605Z"
   },
   {
    "duration": 24,
    "start_time": "2022-09-18T09:46:14.906Z"
   },
   {
    "duration": 8,
    "start_time": "2022-09-18T09:53:58.113Z"
   },
   {
    "duration": 9,
    "start_time": "2022-09-18T09:55:21.702Z"
   },
   {
    "duration": 652,
    "start_time": "2022-09-18T09:55:39.025Z"
   },
   {
    "duration": 111,
    "start_time": "2022-09-18T09:55:39.679Z"
   },
   {
    "duration": 54,
    "start_time": "2022-09-18T09:55:39.791Z"
   },
   {
    "duration": 2325,
    "start_time": "2022-09-18T09:55:39.847Z"
   },
   {
    "duration": 13,
    "start_time": "2022-09-18T09:55:42.175Z"
   },
   {
    "duration": 20,
    "start_time": "2022-09-18T09:55:42.190Z"
   },
   {
    "duration": 7,
    "start_time": "2022-09-18T09:55:42.212Z"
   },
   {
    "duration": 27,
    "start_time": "2022-09-18T09:55:42.220Z"
   },
   {
    "duration": 10,
    "start_time": "2022-09-18T09:55:42.249Z"
   },
   {
    "duration": 19,
    "start_time": "2022-09-18T09:55:42.260Z"
   },
   {
    "duration": 11,
    "start_time": "2022-09-18T09:55:42.290Z"
   },
   {
    "duration": 6,
    "start_time": "2022-09-18T09:55:42.302Z"
   },
   {
    "duration": 24,
    "start_time": "2022-09-18T09:55:42.310Z"
   },
   {
    "duration": 29,
    "start_time": "2022-09-18T09:55:42.338Z"
   },
   {
    "duration": 14,
    "start_time": "2022-09-18T09:55:42.376Z"
   },
   {
    "duration": 29,
    "start_time": "2022-09-18T09:55:42.391Z"
   },
   {
    "duration": 11,
    "start_time": "2022-09-18T09:55:42.422Z"
   },
   {
    "duration": 24,
    "start_time": "2022-09-18T09:55:42.434Z"
   },
   {
    "duration": 53,
    "start_time": "2022-09-18T09:55:42.460Z"
   },
   {
    "duration": 6,
    "start_time": "2022-09-18T09:55:42.514Z"
   },
   {
    "duration": 172,
    "start_time": "2022-09-18T09:55:42.521Z"
   },
   {
    "duration": 11,
    "start_time": "2022-09-18T09:55:42.699Z"
   },
   {
    "duration": 9,
    "start_time": "2022-09-18T09:55:42.712Z"
   },
   {
    "duration": 15,
    "start_time": "2022-09-18T09:55:42.722Z"
   },
   {
    "duration": 10,
    "start_time": "2022-09-18T09:55:42.739Z"
   },
   {
    "duration": 11,
    "start_time": "2022-09-18T09:55:42.750Z"
   },
   {
    "duration": 42,
    "start_time": "2022-09-18T09:55:42.762Z"
   },
   {
    "duration": 7,
    "start_time": "2022-09-18T09:55:42.805Z"
   },
   {
    "duration": 148,
    "start_time": "2022-09-18T09:55:42.813Z"
   },
   {
    "duration": 4,
    "start_time": "2022-09-18T09:55:42.963Z"
   },
   {
    "duration": 65,
    "start_time": "2022-09-18T09:55:42.968Z"
   },
   {
    "duration": 2540,
    "start_time": "2022-09-18T09:55:43.034Z"
   },
   {
    "duration": 2521,
    "start_time": "2022-09-18T09:55:45.579Z"
   },
   {
    "duration": 163,
    "start_time": "2022-09-18T09:55:48.103Z"
   },
   {
    "duration": 16,
    "start_time": "2022-09-18T09:55:48.268Z"
   },
   {
    "duration": 37,
    "start_time": "2022-09-18T09:55:48.287Z"
   },
   {
    "duration": 16,
    "start_time": "2022-09-18T09:55:48.326Z"
   },
   {
    "duration": 183,
    "start_time": "2022-09-18T09:55:48.343Z"
   },
   {
    "duration": 207,
    "start_time": "2022-09-18T09:55:48.527Z"
   },
   {
    "duration": 182,
    "start_time": "2022-09-18T09:55:48.735Z"
   },
   {
    "duration": 161,
    "start_time": "2022-09-18T09:55:48.921Z"
   },
   {
    "duration": 168,
    "start_time": "2022-09-18T09:55:49.084Z"
   },
   {
    "duration": 33,
    "start_time": "2022-09-18T09:55:49.253Z"
   },
   {
    "duration": 5,
    "start_time": "2022-09-18T09:55:49.288Z"
   },
   {
    "duration": 158,
    "start_time": "2022-09-18T09:55:49.295Z"
   },
   {
    "duration": 27,
    "start_time": "2022-09-18T09:56:31.842Z"
   },
   {
    "duration": 12,
    "start_time": "2022-09-18T09:56:43.685Z"
   },
   {
    "duration": 9,
    "start_time": "2022-09-18T09:59:30.828Z"
   },
   {
    "duration": 10,
    "start_time": "2022-09-18T10:01:59.351Z"
   },
   {
    "duration": 14,
    "start_time": "2022-09-18T10:06:08.372Z"
   },
   {
    "duration": 10,
    "start_time": "2022-09-18T10:06:18.042Z"
   },
   {
    "duration": 11,
    "start_time": "2022-09-18T10:06:25.051Z"
   },
   {
    "duration": 13,
    "start_time": "2022-09-18T10:07:02.132Z"
   },
   {
    "duration": 11,
    "start_time": "2022-09-18T10:07:48.139Z"
   },
   {
    "duration": 11,
    "start_time": "2022-09-18T10:08:07.658Z"
   },
   {
    "duration": 9,
    "start_time": "2022-09-18T10:20:43.664Z"
   },
   {
    "duration": 7,
    "start_time": "2022-09-18T10:21:16.274Z"
   },
   {
    "duration": 10,
    "start_time": "2022-09-18T10:21:35.539Z"
   },
   {
    "duration": 6,
    "start_time": "2022-09-18T10:36:25.112Z"
   },
   {
    "duration": 8,
    "start_time": "2022-09-18T10:41:54.536Z"
   },
   {
    "duration": 13,
    "start_time": "2022-09-18T10:41:58.153Z"
   },
   {
    "duration": 16,
    "start_time": "2022-09-18T10:42:33.543Z"
   },
   {
    "duration": 628,
    "start_time": "2022-09-18T10:43:42.655Z"
   },
   {
    "duration": 109,
    "start_time": "2022-09-18T10:43:43.288Z"
   },
   {
    "duration": 54,
    "start_time": "2022-09-18T10:43:43.399Z"
   },
   {
    "duration": 2091,
    "start_time": "2022-09-18T10:43:43.454Z"
   },
   {
    "duration": 11,
    "start_time": "2022-09-18T10:43:45.548Z"
   },
   {
    "duration": 12,
    "start_time": "2022-09-18T10:43:45.560Z"
   },
   {
    "duration": 48,
    "start_time": "2022-09-18T10:43:45.574Z"
   },
   {
    "duration": 34,
    "start_time": "2022-09-18T10:43:45.624Z"
   },
   {
    "duration": 29,
    "start_time": "2022-09-18T10:43:45.659Z"
   },
   {
    "duration": 35,
    "start_time": "2022-09-18T10:43:45.690Z"
   },
   {
    "duration": 5,
    "start_time": "2022-09-18T10:43:45.727Z"
   },
   {
    "duration": 26,
    "start_time": "2022-09-18T10:43:45.733Z"
   },
   {
    "duration": 19,
    "start_time": "2022-09-18T10:43:45.761Z"
   },
   {
    "duration": 15,
    "start_time": "2022-09-18T10:43:45.787Z"
   },
   {
    "duration": 13,
    "start_time": "2022-09-18T10:43:45.803Z"
   },
   {
    "duration": 21,
    "start_time": "2022-09-18T10:43:45.817Z"
   },
   {
    "duration": 58,
    "start_time": "2022-09-18T10:43:45.839Z"
   },
   {
    "duration": 9,
    "start_time": "2022-09-18T10:43:45.900Z"
   },
   {
    "duration": 161,
    "start_time": "2022-09-18T10:43:45.911Z"
   },
   {
    "duration": 10,
    "start_time": "2022-09-18T10:43:46.076Z"
   },
   {
    "duration": 25,
    "start_time": "2022-09-18T10:43:46.088Z"
   },
   {
    "duration": 10,
    "start_time": "2022-09-18T10:43:46.114Z"
   },
   {
    "duration": 3,
    "start_time": "2022-09-18T10:43:46.126Z"
   },
   {
    "duration": 6,
    "start_time": "2022-09-18T10:43:46.131Z"
   },
   {
    "duration": 5,
    "start_time": "2022-09-18T10:43:46.139Z"
   },
   {
    "duration": 6,
    "start_time": "2022-09-18T10:43:46.145Z"
   },
   {
    "duration": 196,
    "start_time": "2022-09-18T10:43:46.152Z"
   },
   {
    "duration": 4,
    "start_time": "2022-09-18T10:43:46.349Z"
   },
   {
    "duration": 34,
    "start_time": "2022-09-18T10:43:46.355Z"
   },
   {
    "duration": 2624,
    "start_time": "2022-09-18T10:43:46.391Z"
   },
   {
    "duration": 2229,
    "start_time": "2022-09-18T10:43:49.016Z"
   },
   {
    "duration": 166,
    "start_time": "2022-09-18T10:43:51.247Z"
   },
   {
    "duration": 8,
    "start_time": "2022-09-18T10:43:51.415Z"
   },
   {
    "duration": 5,
    "start_time": "2022-09-18T10:43:51.425Z"
   },
   {
    "duration": 15,
    "start_time": "2022-09-18T10:43:51.432Z"
   },
   {
    "duration": 164,
    "start_time": "2022-09-18T10:43:51.449Z"
   },
   {
    "duration": 194,
    "start_time": "2022-09-18T10:43:51.615Z"
   },
   {
    "duration": 159,
    "start_time": "2022-09-18T10:43:51.811Z"
   },
   {
    "duration": 182,
    "start_time": "2022-09-18T10:43:51.972Z"
   },
   {
    "duration": 163,
    "start_time": "2022-09-18T10:43:52.156Z"
   },
   {
    "duration": 18,
    "start_time": "2022-09-18T10:43:52.323Z"
   },
   {
    "duration": 5,
    "start_time": "2022-09-18T10:43:52.343Z"
   },
   {
    "duration": 173,
    "start_time": "2022-09-18T10:43:52.350Z"
   },
   {
    "duration": 6,
    "start_time": "2022-09-18T10:49:35.348Z"
   },
   {
    "duration": 65,
    "start_time": "2022-09-18T10:55:15.050Z"
   },
   {
    "duration": 76,
    "start_time": "2022-09-18T10:56:04.798Z"
   },
   {
    "duration": 43,
    "start_time": "2022-09-18T11:00:59.366Z"
   },
   {
    "duration": 179,
    "start_time": "2022-09-18T11:10:32.607Z"
   },
   {
    "duration": 17,
    "start_time": "2022-09-18T11:13:07.255Z"
   },
   {
    "duration": 29,
    "start_time": "2022-09-18T11:13:40.851Z"
   },
   {
    "duration": 7,
    "start_time": "2022-09-18T11:14:09.651Z"
   },
   {
    "duration": 5,
    "start_time": "2022-09-18T11:14:18.417Z"
   },
   {
    "duration": 8,
    "start_time": "2022-09-18T11:17:21.817Z"
   },
   {
    "duration": 22,
    "start_time": "2022-09-18T11:19:46.647Z"
   },
   {
    "duration": 9,
    "start_time": "2022-09-18T11:24:03.916Z"
   },
   {
    "duration": 655,
    "start_time": "2022-09-18T11:25:50.270Z"
   },
   {
    "duration": 98,
    "start_time": "2022-09-18T11:25:50.927Z"
   },
   {
    "duration": 47,
    "start_time": "2022-09-18T11:25:51.026Z"
   },
   {
    "duration": 2062,
    "start_time": "2022-09-18T11:25:51.082Z"
   },
   {
    "duration": 8,
    "start_time": "2022-09-18T11:25:53.146Z"
   },
   {
    "duration": 31,
    "start_time": "2022-09-18T11:25:53.156Z"
   },
   {
    "duration": 10,
    "start_time": "2022-09-18T11:25:53.196Z"
   },
   {
    "duration": 7,
    "start_time": "2022-09-18T11:25:53.208Z"
   },
   {
    "duration": 25,
    "start_time": "2022-09-18T11:25:53.217Z"
   },
   {
    "duration": 18,
    "start_time": "2022-09-18T11:25:53.245Z"
   },
   {
    "duration": 42,
    "start_time": "2022-09-18T11:25:53.264Z"
   },
   {
    "duration": 6,
    "start_time": "2022-09-18T11:25:53.308Z"
   },
   {
    "duration": 8,
    "start_time": "2022-09-18T11:25:53.315Z"
   },
   {
    "duration": 7,
    "start_time": "2022-09-18T11:25:53.325Z"
   },
   {
    "duration": 72,
    "start_time": "2022-09-18T11:25:53.333Z"
   },
   {
    "duration": 159,
    "start_time": "2022-09-18T11:25:53.408Z"
   },
   {
    "duration": 20,
    "start_time": "2022-09-18T11:25:53.568Z"
   },
   {
    "duration": 19,
    "start_time": "2022-09-18T11:25:53.589Z"
   },
   {
    "duration": 8,
    "start_time": "2022-09-18T11:25:53.609Z"
   },
   {
    "duration": 6,
    "start_time": "2022-09-18T11:25:53.619Z"
   },
   {
    "duration": 3,
    "start_time": "2022-09-18T11:25:53.626Z"
   },
   {
    "duration": 92,
    "start_time": "2022-09-18T11:25:53.631Z"
   },
   {
    "duration": 0,
    "start_time": "2022-09-18T11:25:53.726Z"
   },
   {
    "duration": 0,
    "start_time": "2022-09-18T11:25:53.727Z"
   },
   {
    "duration": 0,
    "start_time": "2022-09-18T11:25:53.728Z"
   },
   {
    "duration": 0,
    "start_time": "2022-09-18T11:25:53.729Z"
   },
   {
    "duration": 0,
    "start_time": "2022-09-18T11:25:53.730Z"
   },
   {
    "duration": 0,
    "start_time": "2022-09-18T11:25:53.730Z"
   },
   {
    "duration": 0,
    "start_time": "2022-09-18T11:25:53.731Z"
   },
   {
    "duration": 1,
    "start_time": "2022-09-18T11:25:53.732Z"
   },
   {
    "duration": 0,
    "start_time": "2022-09-18T11:25:53.734Z"
   },
   {
    "duration": 0,
    "start_time": "2022-09-18T11:25:53.735Z"
   },
   {
    "duration": 0,
    "start_time": "2022-09-18T11:25:53.736Z"
   },
   {
    "duration": 0,
    "start_time": "2022-09-18T11:25:53.737Z"
   },
   {
    "duration": 0,
    "start_time": "2022-09-18T11:25:53.738Z"
   },
   {
    "duration": 0,
    "start_time": "2022-09-18T11:25:53.739Z"
   },
   {
    "duration": 0,
    "start_time": "2022-09-18T11:25:53.740Z"
   },
   {
    "duration": 0,
    "start_time": "2022-09-18T11:25:53.741Z"
   },
   {
    "duration": 0,
    "start_time": "2022-09-18T11:25:53.742Z"
   },
   {
    "duration": 0,
    "start_time": "2022-09-18T11:25:53.743Z"
   },
   {
    "duration": 0,
    "start_time": "2022-09-18T11:25:53.744Z"
   },
   {
    "duration": 9,
    "start_time": "2022-09-18T11:29:47.307Z"
   },
   {
    "duration": 590,
    "start_time": "2022-09-18T11:32:52.730Z"
   },
   {
    "duration": 98,
    "start_time": "2022-09-18T11:32:53.322Z"
   },
   {
    "duration": 46,
    "start_time": "2022-09-18T11:32:53.421Z"
   },
   {
    "duration": 2169,
    "start_time": "2022-09-18T11:32:53.479Z"
   },
   {
    "duration": 9,
    "start_time": "2022-09-18T11:32:55.650Z"
   },
   {
    "duration": 40,
    "start_time": "2022-09-18T11:32:55.660Z"
   },
   {
    "duration": 5,
    "start_time": "2022-09-18T11:32:55.701Z"
   },
   {
    "duration": 6,
    "start_time": "2022-09-18T11:32:55.708Z"
   },
   {
    "duration": 26,
    "start_time": "2022-09-18T11:32:55.716Z"
   },
   {
    "duration": 19,
    "start_time": "2022-09-18T11:32:55.745Z"
   },
   {
    "duration": 35,
    "start_time": "2022-09-18T11:32:55.765Z"
   },
   {
    "duration": 6,
    "start_time": "2022-09-18T11:32:55.802Z"
   },
   {
    "duration": 10,
    "start_time": "2022-09-18T11:32:55.810Z"
   },
   {
    "duration": 10,
    "start_time": "2022-09-18T11:32:55.821Z"
   },
   {
    "duration": 83,
    "start_time": "2022-09-18T11:32:55.833Z"
   },
   {
    "duration": 163,
    "start_time": "2022-09-18T11:32:55.917Z"
   },
   {
    "duration": 18,
    "start_time": "2022-09-18T11:32:56.083Z"
   },
   {
    "duration": 11,
    "start_time": "2022-09-18T11:32:56.104Z"
   },
   {
    "duration": 10,
    "start_time": "2022-09-18T11:32:56.117Z"
   },
   {
    "duration": 10,
    "start_time": "2022-09-18T11:32:56.128Z"
   },
   {
    "duration": 4,
    "start_time": "2022-09-18T11:32:56.139Z"
   },
   {
    "duration": 9,
    "start_time": "2022-09-18T11:32:56.144Z"
   },
   {
    "duration": 5,
    "start_time": "2022-09-18T11:32:56.155Z"
   },
   {
    "duration": 21,
    "start_time": "2022-09-18T11:32:56.162Z"
   },
   {
    "duration": 201,
    "start_time": "2022-09-18T11:32:56.188Z"
   },
   {
    "duration": 7,
    "start_time": "2022-09-18T11:32:56.391Z"
   },
   {
    "duration": 26,
    "start_time": "2022-09-18T11:32:56.399Z"
   },
   {
    "duration": 2827,
    "start_time": "2022-09-18T11:32:56.428Z"
   },
   {
    "duration": 2444,
    "start_time": "2022-09-18T11:32:59.257Z"
   },
   {
    "duration": 188,
    "start_time": "2022-09-18T11:33:01.706Z"
   },
   {
    "duration": 12,
    "start_time": "2022-09-18T11:33:01.896Z"
   },
   {
    "duration": 13,
    "start_time": "2022-09-18T11:33:01.910Z"
   },
   {
    "duration": 24,
    "start_time": "2022-09-18T11:33:01.925Z"
   },
   {
    "duration": 168,
    "start_time": "2022-09-18T11:33:01.951Z"
   },
   {
    "duration": 208,
    "start_time": "2022-09-18T11:33:02.121Z"
   },
   {
    "duration": 202,
    "start_time": "2022-09-18T11:33:02.332Z"
   },
   {
    "duration": 213,
    "start_time": "2022-09-18T11:33:02.536Z"
   },
   {
    "duration": 167,
    "start_time": "2022-09-18T11:33:02.751Z"
   },
   {
    "duration": 17,
    "start_time": "2022-09-18T11:33:02.920Z"
   },
   {
    "duration": 5,
    "start_time": "2022-09-18T11:33:02.939Z"
   },
   {
    "duration": 187,
    "start_time": "2022-09-18T11:33:02.945Z"
   },
   {
    "duration": 50,
    "start_time": "2022-09-18T11:36:46.700Z"
   },
   {
    "duration": 614,
    "start_time": "2022-09-18T11:37:07.610Z"
   },
   {
    "duration": 95,
    "start_time": "2022-09-18T11:37:08.225Z"
   },
   {
    "duration": 49,
    "start_time": "2022-09-18T11:37:08.322Z"
   },
   {
    "duration": 2110,
    "start_time": "2022-09-18T11:37:08.381Z"
   },
   {
    "duration": 11,
    "start_time": "2022-09-18T11:37:10.493Z"
   },
   {
    "duration": 32,
    "start_time": "2022-09-18T11:37:10.508Z"
   },
   {
    "duration": 4,
    "start_time": "2022-09-18T11:37:10.542Z"
   },
   {
    "duration": 12,
    "start_time": "2022-09-18T11:37:10.547Z"
   },
   {
    "duration": 45,
    "start_time": "2022-09-18T11:37:10.562Z"
   },
   {
    "duration": 47,
    "start_time": "2022-09-18T11:37:10.611Z"
   },
   {
    "duration": 37,
    "start_time": "2022-09-18T11:37:10.660Z"
   },
   {
    "duration": 8,
    "start_time": "2022-09-18T11:37:10.699Z"
   },
   {
    "duration": 23,
    "start_time": "2022-09-18T11:37:10.709Z"
   },
   {
    "duration": 8,
    "start_time": "2022-09-18T11:37:10.734Z"
   },
   {
    "duration": 62,
    "start_time": "2022-09-18T11:37:10.744Z"
   },
   {
    "duration": 167,
    "start_time": "2022-09-18T11:37:10.808Z"
   },
   {
    "duration": 16,
    "start_time": "2022-09-18T11:37:10.976Z"
   },
   {
    "duration": 17,
    "start_time": "2022-09-18T11:37:10.998Z"
   },
   {
    "duration": 9,
    "start_time": "2022-09-18T11:37:11.016Z"
   },
   {
    "duration": 68,
    "start_time": "2022-09-18T11:37:11.027Z"
   },
   {
    "duration": 0,
    "start_time": "2022-09-18T11:37:11.097Z"
   },
   {
    "duration": 0,
    "start_time": "2022-09-18T11:37:11.098Z"
   },
   {
    "duration": 0,
    "start_time": "2022-09-18T11:37:11.099Z"
   },
   {
    "duration": 0,
    "start_time": "2022-09-18T11:37:11.100Z"
   },
   {
    "duration": 0,
    "start_time": "2022-09-18T11:37:11.101Z"
   },
   {
    "duration": 0,
    "start_time": "2022-09-18T11:37:11.102Z"
   },
   {
    "duration": 0,
    "start_time": "2022-09-18T11:37:11.106Z"
   },
   {
    "duration": 0,
    "start_time": "2022-09-18T11:37:11.106Z"
   },
   {
    "duration": 0,
    "start_time": "2022-09-18T11:37:11.108Z"
   },
   {
    "duration": 0,
    "start_time": "2022-09-18T11:37:11.110Z"
   },
   {
    "duration": 0,
    "start_time": "2022-09-18T11:37:11.112Z"
   },
   {
    "duration": 0,
    "start_time": "2022-09-18T11:37:11.113Z"
   },
   {
    "duration": 0,
    "start_time": "2022-09-18T11:37:11.115Z"
   },
   {
    "duration": 0,
    "start_time": "2022-09-18T11:37:11.116Z"
   },
   {
    "duration": 0,
    "start_time": "2022-09-18T11:37:11.117Z"
   },
   {
    "duration": 0,
    "start_time": "2022-09-18T11:37:11.119Z"
   },
   {
    "duration": 0,
    "start_time": "2022-09-18T11:37:11.120Z"
   },
   {
    "duration": 0,
    "start_time": "2022-09-18T11:37:11.121Z"
   },
   {
    "duration": 0,
    "start_time": "2022-09-18T11:37:11.123Z"
   },
   {
    "duration": 0,
    "start_time": "2022-09-18T11:37:11.124Z"
   },
   {
    "duration": 0,
    "start_time": "2022-09-18T11:37:11.126Z"
   },
   {
    "duration": 18,
    "start_time": "2022-09-18T11:37:33.878Z"
   },
   {
    "duration": 652,
    "start_time": "2022-09-18T12:04:32.293Z"
   },
   {
    "duration": 99,
    "start_time": "2022-09-18T12:04:32.947Z"
   },
   {
    "duration": 61,
    "start_time": "2022-09-18T12:04:33.048Z"
   },
   {
    "duration": 2062,
    "start_time": "2022-09-18T12:04:33.111Z"
   },
   {
    "duration": 12,
    "start_time": "2022-09-18T12:04:35.174Z"
   },
   {
    "duration": 57,
    "start_time": "2022-09-18T12:04:35.188Z"
   },
   {
    "duration": 4,
    "start_time": "2022-09-18T12:04:35.248Z"
   },
   {
    "duration": 12,
    "start_time": "2022-09-18T12:04:35.255Z"
   },
   {
    "duration": 40,
    "start_time": "2022-09-18T12:04:35.269Z"
   },
   {
    "duration": 33,
    "start_time": "2022-09-18T12:04:35.313Z"
   },
   {
    "duration": 38,
    "start_time": "2022-09-18T12:04:35.348Z"
   },
   {
    "duration": 12,
    "start_time": "2022-09-18T12:04:35.387Z"
   },
   {
    "duration": 42,
    "start_time": "2022-09-18T12:04:35.400Z"
   },
   {
    "duration": 13,
    "start_time": "2022-09-18T12:04:35.443Z"
   },
   {
    "duration": 66,
    "start_time": "2022-09-18T12:04:35.458Z"
   },
   {
    "duration": 177,
    "start_time": "2022-09-18T12:04:35.526Z"
   },
   {
    "duration": 9,
    "start_time": "2022-09-18T12:04:35.705Z"
   },
   {
    "duration": 4,
    "start_time": "2022-09-18T12:04:35.715Z"
   },
   {
    "duration": 9,
    "start_time": "2022-09-18T12:04:35.721Z"
   },
   {
    "duration": 10,
    "start_time": "2022-09-18T12:04:35.732Z"
   },
   {
    "duration": 5,
    "start_time": "2022-09-18T12:04:35.743Z"
   },
   {
    "duration": 7,
    "start_time": "2022-09-18T12:04:35.749Z"
   },
   {
    "duration": 23,
    "start_time": "2022-09-18T12:04:35.757Z"
   },
   {
    "duration": 7,
    "start_time": "2022-09-18T12:04:35.782Z"
   },
   {
    "duration": 199,
    "start_time": "2022-09-18T12:04:35.794Z"
   },
   {
    "duration": 5,
    "start_time": "2022-09-18T12:04:36.001Z"
   },
   {
    "duration": 24,
    "start_time": "2022-09-18T12:04:36.008Z"
   },
   {
    "duration": 2756,
    "start_time": "2022-09-18T12:04:36.037Z"
   },
   {
    "duration": 2216,
    "start_time": "2022-09-18T12:04:38.797Z"
   },
   {
    "duration": 182,
    "start_time": "2022-09-18T12:04:41.015Z"
   },
   {
    "duration": 8,
    "start_time": "2022-09-18T12:04:41.198Z"
   },
   {
    "duration": 12,
    "start_time": "2022-09-18T12:04:41.208Z"
   },
   {
    "duration": 13,
    "start_time": "2022-09-18T12:04:41.222Z"
   },
   {
    "duration": 170,
    "start_time": "2022-09-18T12:04:41.236Z"
   },
   {
    "duration": 219,
    "start_time": "2022-09-18T12:04:41.409Z"
   },
   {
    "duration": 193,
    "start_time": "2022-09-18T12:04:41.630Z"
   },
   {
    "duration": 183,
    "start_time": "2022-09-18T12:04:41.825Z"
   },
   {
    "duration": 165,
    "start_time": "2022-09-18T12:04:42.009Z"
   },
   {
    "duration": 32,
    "start_time": "2022-09-18T12:04:42.176Z"
   },
   {
    "duration": 28,
    "start_time": "2022-09-18T12:04:42.210Z"
   },
   {
    "duration": 186,
    "start_time": "2022-09-18T12:04:42.240Z"
   },
   {
    "duration": 7,
    "start_time": "2022-09-18T12:06:28.313Z"
   },
   {
    "duration": 15,
    "start_time": "2022-09-18T12:07:23.480Z"
   },
   {
    "duration": 5,
    "start_time": "2022-09-18T12:07:41.797Z"
   },
   {
    "duration": 71,
    "start_time": "2022-09-18T12:08:43.404Z"
   },
   {
    "duration": 17,
    "start_time": "2022-09-18T12:08:58.066Z"
   },
   {
    "duration": 71,
    "start_time": "2022-09-18T12:09:21.658Z"
   },
   {
    "duration": 83,
    "start_time": "2022-09-18T12:09:35.578Z"
   },
   {
    "duration": 68,
    "start_time": "2022-09-18T12:09:40.254Z"
   },
   {
    "duration": 57,
    "start_time": "2022-09-18T12:09:46.596Z"
   },
   {
    "duration": 9,
    "start_time": "2022-09-18T12:10:17.804Z"
   },
   {
    "duration": 646,
    "start_time": "2022-09-18T12:10:31.174Z"
   },
   {
    "duration": 107,
    "start_time": "2022-09-18T12:10:31.822Z"
   },
   {
    "duration": 64,
    "start_time": "2022-09-18T12:10:31.931Z"
   },
   {
    "duration": 1993,
    "start_time": "2022-09-18T12:10:31.999Z"
   },
   {
    "duration": 15,
    "start_time": "2022-09-18T12:10:33.993Z"
   },
   {
    "duration": 24,
    "start_time": "2022-09-18T12:10:34.010Z"
   },
   {
    "duration": 5,
    "start_time": "2022-09-18T12:10:34.035Z"
   },
   {
    "duration": 6,
    "start_time": "2022-09-18T12:10:34.041Z"
   },
   {
    "duration": 39,
    "start_time": "2022-09-18T12:10:34.049Z"
   },
   {
    "duration": 21,
    "start_time": "2022-09-18T12:10:34.091Z"
   },
   {
    "duration": 27,
    "start_time": "2022-09-18T12:10:34.114Z"
   },
   {
    "duration": 5,
    "start_time": "2022-09-18T12:10:34.142Z"
   },
   {
    "duration": 10,
    "start_time": "2022-09-18T12:10:34.148Z"
   },
   {
    "duration": 28,
    "start_time": "2022-09-18T12:10:34.159Z"
   },
   {
    "duration": 52,
    "start_time": "2022-09-18T12:10:34.194Z"
   },
   {
    "duration": 8,
    "start_time": "2022-09-18T12:10:34.248Z"
   },
   {
    "duration": 165,
    "start_time": "2022-09-18T12:10:34.258Z"
   },
   {
    "duration": 7,
    "start_time": "2022-09-18T12:10:34.425Z"
   },
   {
    "duration": 4,
    "start_time": "2022-09-18T12:10:34.433Z"
   },
   {
    "duration": 12,
    "start_time": "2022-09-18T12:10:34.438Z"
   },
   {
    "duration": 34,
    "start_time": "2022-09-18T12:10:34.451Z"
   },
   {
    "duration": 8,
    "start_time": "2022-09-18T12:10:34.492Z"
   },
   {
    "duration": 13,
    "start_time": "2022-09-18T12:10:34.501Z"
   },
   {
    "duration": 5,
    "start_time": "2022-09-18T12:10:34.515Z"
   },
   {
    "duration": 6,
    "start_time": "2022-09-18T12:10:34.521Z"
   },
   {
    "duration": 184,
    "start_time": "2022-09-18T12:10:34.528Z"
   },
   {
    "duration": 5,
    "start_time": "2022-09-18T12:10:34.713Z"
   },
   {
    "duration": 20,
    "start_time": "2022-09-18T12:10:34.722Z"
   },
   {
    "duration": 2928,
    "start_time": "2022-09-18T12:10:34.744Z"
   },
   {
    "duration": 2430,
    "start_time": "2022-09-18T12:10:37.673Z"
   },
   {
    "duration": 157,
    "start_time": "2022-09-18T12:10:40.106Z"
   },
   {
    "duration": 7,
    "start_time": "2022-09-18T12:10:40.265Z"
   },
   {
    "duration": 24,
    "start_time": "2022-09-18T12:10:40.279Z"
   },
   {
    "duration": 32,
    "start_time": "2022-09-18T12:10:40.305Z"
   },
   {
    "duration": 170,
    "start_time": "2022-09-18T12:10:40.339Z"
   },
   {
    "duration": 201,
    "start_time": "2022-09-18T12:10:40.511Z"
   },
   {
    "duration": 187,
    "start_time": "2022-09-18T12:10:40.715Z"
   },
   {
    "duration": 200,
    "start_time": "2022-09-18T12:10:40.904Z"
   },
   {
    "duration": 180,
    "start_time": "2022-09-18T12:10:41.106Z"
   },
   {
    "duration": 24,
    "start_time": "2022-09-18T12:10:41.289Z"
   },
   {
    "duration": 7,
    "start_time": "2022-09-18T12:10:41.314Z"
   },
   {
    "duration": 189,
    "start_time": "2022-09-18T12:10:41.323Z"
   },
   {
    "duration": 11,
    "start_time": "2022-09-18T12:12:39.968Z"
   },
   {
    "duration": 13,
    "start_time": "2022-09-18T12:12:45.683Z"
   },
   {
    "duration": 8,
    "start_time": "2022-09-18T12:13:59.803Z"
   },
   {
    "duration": 630,
    "start_time": "2022-09-18T12:14:07.602Z"
   },
   {
    "duration": 97,
    "start_time": "2022-09-18T12:14:08.234Z"
   },
   {
    "duration": 63,
    "start_time": "2022-09-18T12:14:08.333Z"
   },
   {
    "duration": 2136,
    "start_time": "2022-09-18T12:14:08.400Z"
   },
   {
    "duration": 9,
    "start_time": "2022-09-18T12:14:10.538Z"
   },
   {
    "duration": 41,
    "start_time": "2022-09-18T12:14:10.548Z"
   },
   {
    "duration": 9,
    "start_time": "2022-09-18T12:14:10.598Z"
   },
   {
    "duration": 10,
    "start_time": "2022-09-18T12:14:10.610Z"
   },
   {
    "duration": 27,
    "start_time": "2022-09-18T12:14:10.621Z"
   },
   {
    "duration": 20,
    "start_time": "2022-09-18T12:14:10.650Z"
   },
   {
    "duration": 38,
    "start_time": "2022-09-18T12:14:10.672Z"
   },
   {
    "duration": 5,
    "start_time": "2022-09-18T12:14:10.712Z"
   },
   {
    "duration": 10,
    "start_time": "2022-09-18T12:14:10.719Z"
   },
   {
    "duration": 7,
    "start_time": "2022-09-18T12:14:10.732Z"
   },
   {
    "duration": 78,
    "start_time": "2022-09-18T12:14:10.740Z"
   },
   {
    "duration": 8,
    "start_time": "2022-09-18T12:14:10.820Z"
   },
   {
    "duration": 12,
    "start_time": "2022-09-18T12:14:10.829Z"
   },
   {
    "duration": 180,
    "start_time": "2022-09-18T12:14:10.842Z"
   },
   {
    "duration": 8,
    "start_time": "2022-09-18T12:14:11.023Z"
   },
   {
    "duration": 5,
    "start_time": "2022-09-18T12:14:11.032Z"
   },
   {
    "duration": 9,
    "start_time": "2022-09-18T12:14:11.038Z"
   },
   {
    "duration": 32,
    "start_time": "2022-09-18T12:14:11.049Z"
   },
   {
    "duration": 11,
    "start_time": "2022-09-18T12:14:11.082Z"
   },
   {
    "duration": 12,
    "start_time": "2022-09-18T12:14:11.097Z"
   },
   {
    "duration": 5,
    "start_time": "2022-09-18T12:14:11.111Z"
   },
   {
    "duration": 8,
    "start_time": "2022-09-18T12:14:11.117Z"
   },
   {
    "duration": 199,
    "start_time": "2022-09-18T12:14:11.126Z"
   },
   {
    "duration": 4,
    "start_time": "2022-09-18T12:14:11.327Z"
   },
   {
    "duration": 24,
    "start_time": "2022-09-18T12:14:11.333Z"
   },
   {
    "duration": 2798,
    "start_time": "2022-09-18T12:14:11.358Z"
   },
   {
    "duration": 2399,
    "start_time": "2022-09-18T12:14:14.158Z"
   },
   {
    "duration": 179,
    "start_time": "2022-09-18T12:14:16.559Z"
   },
   {
    "duration": 7,
    "start_time": "2022-09-18T12:14:16.740Z"
   },
   {
    "duration": 7,
    "start_time": "2022-09-18T12:14:16.749Z"
   },
   {
    "duration": 32,
    "start_time": "2022-09-18T12:14:16.757Z"
   },
   {
    "duration": 165,
    "start_time": "2022-09-18T12:14:16.794Z"
   },
   {
    "duration": 207,
    "start_time": "2022-09-18T12:14:16.961Z"
   },
   {
    "duration": 184,
    "start_time": "2022-09-18T12:14:17.170Z"
   },
   {
    "duration": 180,
    "start_time": "2022-09-18T12:14:17.355Z"
   },
   {
    "duration": 169,
    "start_time": "2022-09-18T12:14:17.537Z"
   },
   {
    "duration": 18,
    "start_time": "2022-09-18T12:14:17.710Z"
   },
   {
    "duration": 5,
    "start_time": "2022-09-18T12:14:17.729Z"
   },
   {
    "duration": 188,
    "start_time": "2022-09-18T12:14:17.735Z"
   },
   {
    "duration": 337,
    "start_time": "2022-09-18T12:14:47.996Z"
   },
   {
    "duration": 162,
    "start_time": "2022-09-18T12:27:38.463Z"
   },
   {
    "duration": 825,
    "start_time": "2022-09-18T12:29:01.602Z"
   },
   {
    "duration": 635,
    "start_time": "2022-09-18T12:29:18.000Z"
   },
   {
    "duration": 98,
    "start_time": "2022-09-18T12:29:18.637Z"
   },
   {
    "duration": 62,
    "start_time": "2022-09-18T12:29:18.737Z"
   },
   {
    "duration": 2189,
    "start_time": "2022-09-18T12:29:18.802Z"
   },
   {
    "duration": 11,
    "start_time": "2022-09-18T12:29:20.996Z"
   },
   {
    "duration": 31,
    "start_time": "2022-09-18T12:29:21.009Z"
   },
   {
    "duration": 5,
    "start_time": "2022-09-18T12:29:21.041Z"
   },
   {
    "duration": 17,
    "start_time": "2022-09-18T12:29:21.048Z"
   },
   {
    "duration": 40,
    "start_time": "2022-09-18T12:29:21.067Z"
   },
   {
    "duration": 22,
    "start_time": "2022-09-18T12:29:21.111Z"
   },
   {
    "duration": 652,
    "start_time": "2022-09-18T12:29:21.135Z"
   },
   {
    "duration": 0,
    "start_time": "2022-09-18T12:29:21.790Z"
   },
   {
    "duration": 0,
    "start_time": "2022-09-18T12:29:21.793Z"
   },
   {
    "duration": 0,
    "start_time": "2022-09-18T12:29:21.795Z"
   },
   {
    "duration": 0,
    "start_time": "2022-09-18T12:29:21.796Z"
   },
   {
    "duration": 0,
    "start_time": "2022-09-18T12:29:21.796Z"
   },
   {
    "duration": 0,
    "start_time": "2022-09-18T12:29:21.798Z"
   },
   {
    "duration": 0,
    "start_time": "2022-09-18T12:29:21.799Z"
   },
   {
    "duration": 0,
    "start_time": "2022-09-18T12:29:21.801Z"
   },
   {
    "duration": 0,
    "start_time": "2022-09-18T12:29:21.802Z"
   },
   {
    "duration": 0,
    "start_time": "2022-09-18T12:29:21.803Z"
   },
   {
    "duration": 0,
    "start_time": "2022-09-18T12:29:21.804Z"
   },
   {
    "duration": 0,
    "start_time": "2022-09-18T12:29:21.805Z"
   },
   {
    "duration": 0,
    "start_time": "2022-09-18T12:29:21.806Z"
   },
   {
    "duration": 0,
    "start_time": "2022-09-18T12:29:21.807Z"
   },
   {
    "duration": 0,
    "start_time": "2022-09-18T12:29:21.808Z"
   },
   {
    "duration": 0,
    "start_time": "2022-09-18T12:29:21.809Z"
   },
   {
    "duration": 0,
    "start_time": "2022-09-18T12:29:21.810Z"
   },
   {
    "duration": 0,
    "start_time": "2022-09-18T12:29:21.811Z"
   },
   {
    "duration": 0,
    "start_time": "2022-09-18T12:29:21.813Z"
   },
   {
    "duration": 0,
    "start_time": "2022-09-18T12:29:21.814Z"
   },
   {
    "duration": 0,
    "start_time": "2022-09-18T12:29:21.815Z"
   },
   {
    "duration": 0,
    "start_time": "2022-09-18T12:29:21.817Z"
   },
   {
    "duration": 0,
    "start_time": "2022-09-18T12:29:21.818Z"
   },
   {
    "duration": 0,
    "start_time": "2022-09-18T12:29:21.819Z"
   },
   {
    "duration": 0,
    "start_time": "2022-09-18T12:29:21.821Z"
   },
   {
    "duration": 0,
    "start_time": "2022-09-18T12:29:21.822Z"
   },
   {
    "duration": 0,
    "start_time": "2022-09-18T12:29:21.823Z"
   },
   {
    "duration": 0,
    "start_time": "2022-09-18T12:29:21.825Z"
   },
   {
    "duration": 0,
    "start_time": "2022-09-18T12:29:21.826Z"
   },
   {
    "duration": 0,
    "start_time": "2022-09-18T12:29:21.827Z"
   },
   {
    "duration": 0,
    "start_time": "2022-09-18T12:29:21.878Z"
   },
   {
    "duration": 0,
    "start_time": "2022-09-18T12:29:21.879Z"
   },
   {
    "duration": 0,
    "start_time": "2022-09-18T12:29:21.880Z"
   },
   {
    "duration": 0,
    "start_time": "2022-09-18T12:29:21.881Z"
   },
   {
    "duration": 0,
    "start_time": "2022-09-18T12:29:21.882Z"
   },
   {
    "duration": 0,
    "start_time": "2022-09-18T12:29:21.883Z"
   },
   {
    "duration": 0,
    "start_time": "2022-09-18T12:29:21.884Z"
   },
   {
    "duration": 9,
    "start_time": "2022-09-18T12:29:50.500Z"
   },
   {
    "duration": 9,
    "start_time": "2022-09-18T12:29:59.108Z"
   },
   {
    "duration": 653,
    "start_time": "2022-09-18T12:34:06.175Z"
   },
   {
    "duration": 108,
    "start_time": "2022-09-18T12:34:06.830Z"
   },
   {
    "duration": 73,
    "start_time": "2022-09-18T12:34:06.939Z"
   },
   {
    "duration": 2154,
    "start_time": "2022-09-18T12:34:07.014Z"
   },
   {
    "duration": 12,
    "start_time": "2022-09-18T12:34:09.170Z"
   },
   {
    "duration": 49,
    "start_time": "2022-09-18T12:34:09.183Z"
   },
   {
    "duration": 4,
    "start_time": "2022-09-18T12:34:09.236Z"
   },
   {
    "duration": 7,
    "start_time": "2022-09-18T12:34:09.241Z"
   },
   {
    "duration": 52,
    "start_time": "2022-09-18T12:34:09.249Z"
   },
   {
    "duration": 24,
    "start_time": "2022-09-18T12:34:09.304Z"
   },
   {
    "duration": 9,
    "start_time": "2022-09-18T12:34:09.329Z"
   },
   {
    "duration": 6,
    "start_time": "2022-09-18T12:34:09.340Z"
   },
   {
    "duration": 169,
    "start_time": "2022-09-18T12:34:09.348Z"
   },
   {
    "duration": 8,
    "start_time": "2022-09-18T12:34:09.519Z"
   },
   {
    "duration": 6,
    "start_time": "2022-09-18T12:34:09.529Z"
   },
   {
    "duration": 42,
    "start_time": "2022-09-18T12:34:09.537Z"
   },
   {
    "duration": 6,
    "start_time": "2022-09-18T12:34:09.580Z"
   },
   {
    "duration": 26,
    "start_time": "2022-09-18T12:34:09.590Z"
   },
   {
    "duration": 6,
    "start_time": "2022-09-18T12:34:09.618Z"
   },
   {
    "duration": 37,
    "start_time": "2022-09-18T12:34:09.626Z"
   },
   {
    "duration": 8,
    "start_time": "2022-09-18T12:34:09.664Z"
   },
   {
    "duration": 27,
    "start_time": "2022-09-18T12:34:09.673Z"
   },
   {
    "duration": 16,
    "start_time": "2022-09-18T12:34:09.702Z"
   },
   {
    "duration": 7,
    "start_time": "2022-09-18T12:34:09.719Z"
   },
   {
    "duration": 4,
    "start_time": "2022-09-18T12:34:09.728Z"
   },
   {
    "duration": 8,
    "start_time": "2022-09-18T12:34:09.733Z"
   },
   {
    "duration": 198,
    "start_time": "2022-09-18T12:34:09.742Z"
   },
   {
    "duration": 4,
    "start_time": "2022-09-18T12:34:09.944Z"
   },
   {
    "duration": 38,
    "start_time": "2022-09-18T12:34:09.949Z"
   },
   {
    "duration": 3011,
    "start_time": "2022-09-18T12:34:09.999Z"
   },
   {
    "duration": 2355,
    "start_time": "2022-09-18T12:34:13.013Z"
   },
   {
    "duration": 198,
    "start_time": "2022-09-18T12:34:15.370Z"
   },
   {
    "duration": 17,
    "start_time": "2022-09-18T12:34:15.570Z"
   },
   {
    "duration": 27,
    "start_time": "2022-09-18T12:34:15.598Z"
   },
   {
    "duration": 25,
    "start_time": "2022-09-18T12:34:15.627Z"
   },
   {
    "duration": 182,
    "start_time": "2022-09-18T12:34:15.655Z"
   },
   {
    "duration": 177,
    "start_time": "2022-09-18T12:34:15.840Z"
   },
   {
    "duration": 171,
    "start_time": "2022-09-18T12:34:16.018Z"
   },
   {
    "duration": 159,
    "start_time": "2022-09-18T12:34:16.193Z"
   },
   {
    "duration": 167,
    "start_time": "2022-09-18T12:34:16.353Z"
   },
   {
    "duration": 17,
    "start_time": "2022-09-18T12:34:16.522Z"
   },
   {
    "duration": 5,
    "start_time": "2022-09-18T12:34:16.541Z"
   },
   {
    "duration": 196,
    "start_time": "2022-09-18T12:34:16.548Z"
   },
   {
    "duration": 55,
    "start_time": "2022-09-18T16:56:56.203Z"
   },
   {
    "duration": 831,
    "start_time": "2022-09-18T16:57:03.606Z"
   },
   {
    "duration": 318,
    "start_time": "2022-09-18T16:57:04.439Z"
   },
   {
    "duration": 47,
    "start_time": "2022-09-18T16:57:04.759Z"
   },
   {
    "duration": 1844,
    "start_time": "2022-09-18T16:57:04.809Z"
   },
   {
    "duration": 10,
    "start_time": "2022-09-18T16:57:06.654Z"
   },
   {
    "duration": 35,
    "start_time": "2022-09-18T16:57:06.665Z"
   },
   {
    "duration": 4,
    "start_time": "2022-09-18T16:57:06.701Z"
   },
   {
    "duration": 25,
    "start_time": "2022-09-18T16:57:06.706Z"
   },
   {
    "duration": 33,
    "start_time": "2022-09-18T16:57:06.733Z"
   },
   {
    "duration": 17,
    "start_time": "2022-09-18T16:57:06.769Z"
   },
   {
    "duration": 9,
    "start_time": "2022-09-18T16:57:06.787Z"
   },
   {
    "duration": 13,
    "start_time": "2022-09-18T16:57:06.797Z"
   },
   {
    "duration": 140,
    "start_time": "2022-09-18T16:57:06.811Z"
   },
   {
    "duration": 7,
    "start_time": "2022-09-18T16:57:06.952Z"
   },
   {
    "duration": 8,
    "start_time": "2022-09-18T16:57:06.960Z"
   },
   {
    "duration": 45,
    "start_time": "2022-09-18T16:57:06.969Z"
   },
   {
    "duration": 5,
    "start_time": "2022-09-18T16:57:07.015Z"
   },
   {
    "duration": 26,
    "start_time": "2022-09-18T16:57:07.022Z"
   },
   {
    "duration": 15,
    "start_time": "2022-09-18T16:57:07.049Z"
   },
   {
    "duration": 48,
    "start_time": "2022-09-18T16:57:07.065Z"
   },
   {
    "duration": 18,
    "start_time": "2022-09-18T16:57:07.115Z"
   },
   {
    "duration": 19,
    "start_time": "2022-09-18T16:57:07.134Z"
   },
   {
    "duration": 10,
    "start_time": "2022-09-18T16:57:07.155Z"
   },
   {
    "duration": 22,
    "start_time": "2022-09-18T16:57:07.167Z"
   },
   {
    "duration": 13,
    "start_time": "2022-09-18T16:57:07.190Z"
   },
   {
    "duration": 31,
    "start_time": "2022-09-18T16:57:07.205Z"
   },
   {
    "duration": 196,
    "start_time": "2022-09-18T16:57:07.237Z"
   },
   {
    "duration": 4,
    "start_time": "2022-09-18T16:57:07.437Z"
   },
   {
    "duration": 36,
    "start_time": "2022-09-18T16:57:07.442Z"
   },
   {
    "duration": 2430,
    "start_time": "2022-09-18T16:57:07.480Z"
   },
   {
    "duration": 1904,
    "start_time": "2022-09-18T16:57:09.912Z"
   },
   {
    "duration": 145,
    "start_time": "2022-09-18T16:57:11.818Z"
   },
   {
    "duration": 7,
    "start_time": "2022-09-18T16:57:11.964Z"
   },
   {
    "duration": 7,
    "start_time": "2022-09-18T16:57:11.973Z"
   },
   {
    "duration": 31,
    "start_time": "2022-09-18T16:57:11.982Z"
   },
   {
    "duration": 148,
    "start_time": "2022-09-18T16:57:12.015Z"
   },
   {
    "duration": 172,
    "start_time": "2022-09-18T16:57:12.164Z"
   },
   {
    "duration": 153,
    "start_time": "2022-09-18T16:57:12.337Z"
   },
   {
    "duration": 194,
    "start_time": "2022-09-18T16:57:12.492Z"
   },
   {
    "duration": 184,
    "start_time": "2022-09-18T16:57:12.688Z"
   },
   {
    "duration": 16,
    "start_time": "2022-09-18T16:57:12.875Z"
   },
   {
    "duration": 18,
    "start_time": "2022-09-18T16:57:12.893Z"
   },
   {
    "duration": 157,
    "start_time": "2022-09-18T16:57:12.913Z"
   },
   {
    "duration": 68,
    "start_time": "2022-09-18T20:38:55.733Z"
   },
   {
    "duration": 1123,
    "start_time": "2022-09-18T20:39:06.016Z"
   },
   {
    "duration": 488,
    "start_time": "2022-09-18T20:39:07.145Z"
   },
   {
    "duration": 58,
    "start_time": "2022-09-18T20:39:07.635Z"
   },
   {
    "duration": 2305,
    "start_time": "2022-09-18T20:39:07.694Z"
   },
   {
    "duration": 17,
    "start_time": "2022-09-18T20:39:10.004Z"
   },
   {
    "duration": 49,
    "start_time": "2022-09-18T20:39:10.023Z"
   },
   {
    "duration": 14,
    "start_time": "2022-09-18T20:39:10.074Z"
   },
   {
    "duration": 56,
    "start_time": "2022-09-18T20:39:10.090Z"
   },
   {
    "duration": 49,
    "start_time": "2022-09-18T20:39:10.148Z"
   },
   {
    "duration": 29,
    "start_time": "2022-09-18T20:39:10.206Z"
   },
   {
    "duration": 20,
    "start_time": "2022-09-18T20:39:10.240Z"
   },
   {
    "duration": 18,
    "start_time": "2022-09-18T20:39:10.262Z"
   },
   {
    "duration": 176,
    "start_time": "2022-09-18T20:39:10.290Z"
   },
   {
    "duration": 11,
    "start_time": "2022-09-18T20:39:10.470Z"
   },
   {
    "duration": 61,
    "start_time": "2022-09-18T20:39:10.483Z"
   },
   {
    "duration": 55,
    "start_time": "2022-09-18T20:39:10.546Z"
   },
   {
    "duration": 12,
    "start_time": "2022-09-18T20:39:10.609Z"
   },
   {
    "duration": 32,
    "start_time": "2022-09-18T20:39:10.623Z"
   },
   {
    "duration": 13,
    "start_time": "2022-09-18T20:39:10.657Z"
   },
   {
    "duration": 96,
    "start_time": "2022-09-18T20:39:10.671Z"
   },
   {
    "duration": 13,
    "start_time": "2022-09-18T20:39:10.769Z"
   },
   {
    "duration": 46,
    "start_time": "2022-09-18T20:39:10.787Z"
   },
   {
    "duration": 23,
    "start_time": "2022-09-18T20:39:10.835Z"
   },
   {
    "duration": 9,
    "start_time": "2022-09-18T20:39:10.860Z"
   },
   {
    "duration": 10,
    "start_time": "2022-09-18T20:39:10.871Z"
   },
   {
    "duration": 62,
    "start_time": "2022-09-18T20:39:10.882Z"
   },
   {
    "duration": 245,
    "start_time": "2022-09-18T20:39:10.946Z"
   },
   {
    "duration": 17,
    "start_time": "2022-09-18T20:39:11.201Z"
   },
   {
    "duration": 42,
    "start_time": "2022-09-18T20:39:11.227Z"
   },
   {
    "duration": 189,
    "start_time": "2022-09-18T20:39:11.271Z"
   },
   {
    "duration": 0,
    "start_time": "2022-09-18T20:39:11.463Z"
   },
   {
    "duration": 0,
    "start_time": "2022-09-18T20:39:11.465Z"
   },
   {
    "duration": 0,
    "start_time": "2022-09-18T20:39:11.467Z"
   },
   {
    "duration": 0,
    "start_time": "2022-09-18T20:39:11.477Z"
   },
   {
    "duration": 0,
    "start_time": "2022-09-18T20:39:11.479Z"
   },
   {
    "duration": 0,
    "start_time": "2022-09-18T20:39:11.481Z"
   },
   {
    "duration": 0,
    "start_time": "2022-09-18T20:39:11.483Z"
   },
   {
    "duration": 0,
    "start_time": "2022-09-18T20:39:11.486Z"
   },
   {
    "duration": 0,
    "start_time": "2022-09-18T20:39:11.488Z"
   },
   {
    "duration": 0,
    "start_time": "2022-09-18T20:39:11.490Z"
   },
   {
    "duration": 0,
    "start_time": "2022-09-18T20:39:11.493Z"
   },
   {
    "duration": 0,
    "start_time": "2022-09-18T20:39:11.496Z"
   },
   {
    "duration": 0,
    "start_time": "2022-09-18T20:39:11.498Z"
   },
   {
    "duration": 13,
    "start_time": "2022-09-18T20:39:45.248Z"
   },
   {
    "duration": 24,
    "start_time": "2022-09-18T20:40:52.062Z"
   },
   {
    "duration": 20,
    "start_time": "2022-09-18T20:45:46.679Z"
   },
   {
    "duration": 17,
    "start_time": "2022-09-18T20:45:52.941Z"
   },
   {
    "duration": 186,
    "start_time": "2022-09-18T20:49:24.090Z"
   },
   {
    "duration": 1086,
    "start_time": "2022-09-18T20:49:41.574Z"
   },
   {
    "duration": 255,
    "start_time": "2022-09-18T20:49:56.953Z"
   },
   {
    "duration": 1116,
    "start_time": "2022-09-18T20:50:33.449Z"
   },
   {
    "duration": 1811,
    "start_time": "2022-09-18T20:52:50.684Z"
   },
   {
    "duration": 15,
    "start_time": "2022-09-18T20:54:41.496Z"
   },
   {
    "duration": 1733,
    "start_time": "2022-09-18T20:54:47.476Z"
   },
   {
    "duration": 2759,
    "start_time": "2022-09-18T21:23:21.528Z"
   },
   {
    "duration": 1832,
    "start_time": "2022-09-18T21:23:39.220Z"
   },
   {
    "duration": 189,
    "start_time": "2022-09-18T21:23:59.175Z"
   },
   {
    "duration": 245,
    "start_time": "2022-09-18T21:24:22.501Z"
   },
   {
    "duration": 208,
    "start_time": "2022-09-18T21:27:12.848Z"
   },
   {
    "duration": 209,
    "start_time": "2022-09-18T21:27:19.308Z"
   },
   {
    "duration": 195,
    "start_time": "2022-09-18T21:28:13.120Z"
   },
   {
    "duration": 661,
    "start_time": "2022-09-18T21:32:57.073Z"
   },
   {
    "duration": 449,
    "start_time": "2022-09-18T21:34:12.373Z"
   },
   {
    "duration": 401,
    "start_time": "2022-09-18T21:34:30.165Z"
   },
   {
    "duration": 9,
    "start_time": "2022-09-18T21:36:07.709Z"
   },
   {
    "duration": 12,
    "start_time": "2022-09-18T21:36:10.493Z"
   },
   {
    "duration": 13,
    "start_time": "2022-09-18T21:37:29.137Z"
   },
   {
    "duration": 9,
    "start_time": "2022-09-18T21:37:35.555Z"
   },
   {
    "duration": 25,
    "start_time": "2022-09-18T21:38:52.297Z"
   },
   {
    "duration": 395,
    "start_time": "2022-09-18T21:39:25.959Z"
   },
   {
    "duration": 45,
    "start_time": "2022-09-18T21:41:22.845Z"
   },
   {
    "duration": 46,
    "start_time": "2022-09-18T21:42:50.448Z"
   },
   {
    "duration": 62,
    "start_time": "2022-09-18T21:43:05.386Z"
   },
   {
    "duration": 13,
    "start_time": "2022-09-18T21:44:21.678Z"
   },
   {
    "duration": 2691,
    "start_time": "2022-09-18T21:54:17.926Z"
   },
   {
    "duration": 2422,
    "start_time": "2022-09-18T21:55:53.445Z"
   },
   {
    "duration": 1930,
    "start_time": "2022-09-18T21:56:19.037Z"
   },
   {
    "duration": 658,
    "start_time": "2022-09-18T21:56:36.811Z"
   },
   {
    "duration": 100,
    "start_time": "2022-09-18T21:56:37.472Z"
   },
   {
    "duration": 58,
    "start_time": "2022-09-18T21:56:37.574Z"
   },
   {
    "duration": 2208,
    "start_time": "2022-09-18T21:56:37.636Z"
   },
   {
    "duration": 12,
    "start_time": "2022-09-18T21:56:39.847Z"
   },
   {
    "duration": 25,
    "start_time": "2022-09-18T21:56:39.860Z"
   },
   {
    "duration": 4,
    "start_time": "2022-09-18T21:56:39.886Z"
   },
   {
    "duration": 58,
    "start_time": "2022-09-18T21:56:39.892Z"
   },
   {
    "duration": 37,
    "start_time": "2022-09-18T21:56:39.951Z"
   },
   {
    "duration": 32,
    "start_time": "2022-09-18T21:56:39.996Z"
   },
   {
    "duration": 17,
    "start_time": "2022-09-18T21:56:40.029Z"
   },
   {
    "duration": 18,
    "start_time": "2022-09-18T21:56:40.048Z"
   },
   {
    "duration": 210,
    "start_time": "2022-09-18T21:56:40.067Z"
   },
   {
    "duration": 11,
    "start_time": "2022-09-18T21:56:40.280Z"
   },
   {
    "duration": 42,
    "start_time": "2022-09-18T21:56:40.293Z"
   },
   {
    "duration": 33,
    "start_time": "2022-09-18T21:56:40.336Z"
   },
   {
    "duration": 6,
    "start_time": "2022-09-18T21:56:40.370Z"
   },
   {
    "duration": 63,
    "start_time": "2022-09-18T21:56:40.378Z"
   },
   {
    "duration": 9,
    "start_time": "2022-09-18T21:56:40.443Z"
   },
   {
    "duration": 47,
    "start_time": "2022-09-18T21:56:40.453Z"
   },
   {
    "duration": 44,
    "start_time": "2022-09-18T21:56:40.501Z"
   },
   {
    "duration": 11,
    "start_time": "2022-09-18T21:56:40.548Z"
   },
   {
    "duration": 8,
    "start_time": "2022-09-18T21:56:40.560Z"
   },
   {
    "duration": 70,
    "start_time": "2022-09-18T21:56:40.570Z"
   },
   {
    "duration": 8,
    "start_time": "2022-09-18T21:56:40.643Z"
   },
   {
    "duration": 13,
    "start_time": "2022-09-18T21:56:40.652Z"
   },
   {
    "duration": 207,
    "start_time": "2022-09-18T21:56:40.667Z"
   },
   {
    "duration": 13,
    "start_time": "2022-09-18T21:56:40.877Z"
   },
   {
    "duration": 60,
    "start_time": "2022-09-18T21:56:40.895Z"
   },
   {
    "duration": 1967,
    "start_time": "2022-09-18T21:56:40.957Z"
   },
   {
    "duration": 11,
    "start_time": "2022-09-18T21:56:42.926Z"
   },
   {
    "duration": 2275,
    "start_time": "2022-09-18T21:56:42.938Z"
   },
   {
    "duration": 188,
    "start_time": "2022-09-18T21:56:45.215Z"
   },
   {
    "duration": 12,
    "start_time": "2022-09-18T21:56:45.409Z"
   },
   {
    "duration": 219,
    "start_time": "2022-09-18T21:56:45.427Z"
   },
   {
    "duration": 192,
    "start_time": "2022-09-18T21:56:45.648Z"
   },
   {
    "duration": 201,
    "start_time": "2022-09-18T21:56:45.842Z"
   },
   {
    "duration": 184,
    "start_time": "2022-09-18T21:56:46.044Z"
   },
   {
    "duration": 184,
    "start_time": "2022-09-18T21:56:46.230Z"
   },
   {
    "duration": 22,
    "start_time": "2022-09-18T21:56:46.416Z"
   },
   {
    "duration": 5,
    "start_time": "2022-09-18T21:56:46.441Z"
   },
   {
    "duration": 203,
    "start_time": "2022-09-18T21:56:46.448Z"
   },
   {
    "duration": 175,
    "start_time": "2022-09-18T22:00:47.732Z"
   },
   {
    "duration": 527,
    "start_time": "2022-09-18T22:01:12.806Z"
   },
   {
    "duration": 554,
    "start_time": "2022-09-18T22:01:58.001Z"
   },
   {
    "duration": 112,
    "start_time": "2022-09-18T22:02:08.411Z"
   },
   {
    "duration": 14,
    "start_time": "2022-09-18T22:03:11.910Z"
   },
   {
    "duration": 89,
    "start_time": "2022-09-18T22:03:23.866Z"
   },
   {
    "duration": 170,
    "start_time": "2022-09-18T22:04:11.711Z"
   },
   {
    "duration": 220,
    "start_time": "2022-09-18T22:04:21.000Z"
   },
   {
    "duration": 107,
    "start_time": "2022-09-18T22:05:11.824Z"
   },
   {
    "duration": 17,
    "start_time": "2022-09-18T22:08:09.420Z"
   },
   {
    "duration": 95,
    "start_time": "2022-09-18T22:09:49.012Z"
   },
   {
    "duration": 4,
    "start_time": "2022-09-18T22:10:00.013Z"
   },
   {
    "duration": 8,
    "start_time": "2022-09-18T22:10:09.235Z"
   },
   {
    "duration": 6,
    "start_time": "2022-09-18T22:10:30.544Z"
   },
   {
    "duration": 52,
    "start_time": "2022-09-18T22:13:09.107Z"
   },
   {
    "duration": 15,
    "start_time": "2022-09-18T22:13:24.492Z"
   },
   {
    "duration": 6,
    "start_time": "2022-09-18T22:13:59.546Z"
   },
   {
    "duration": 5,
    "start_time": "2022-09-18T22:14:16.359Z"
   },
   {
    "duration": 6,
    "start_time": "2022-09-18T22:14:29.360Z"
   },
   {
    "duration": 3,
    "start_time": "2022-09-18T22:33:55.261Z"
   },
   {
    "duration": 308,
    "start_time": "2022-09-18T22:36:46.359Z"
   },
   {
    "duration": 169,
    "start_time": "2022-09-18T22:37:52.804Z"
   },
   {
    "duration": 148,
    "start_time": "2022-09-18T22:38:04.917Z"
   },
   {
    "duration": 182,
    "start_time": "2022-09-18T22:40:19.557Z"
   },
   {
    "duration": 162,
    "start_time": "2022-09-18T22:42:33.703Z"
   },
   {
    "duration": 163,
    "start_time": "2022-09-18T22:44:12.247Z"
   },
   {
    "duration": 162,
    "start_time": "2022-09-18T22:50:40.579Z"
   },
   {
    "duration": 180,
    "start_time": "2022-09-18T23:29:17.321Z"
   },
   {
    "duration": 193,
    "start_time": "2022-09-18T23:31:56.212Z"
   },
   {
    "duration": 171,
    "start_time": "2022-09-18T23:32:49.616Z"
   },
   {
    "duration": 157,
    "start_time": "2022-09-18T23:33:22.905Z"
   },
   {
    "duration": 151,
    "start_time": "2022-09-18T23:33:54.468Z"
   },
   {
    "duration": 155,
    "start_time": "2022-09-18T23:34:06.298Z"
   },
   {
    "duration": 177,
    "start_time": "2022-09-18T23:34:23.316Z"
   },
   {
    "duration": 162,
    "start_time": "2022-09-18T23:45:28.613Z"
   },
   {
    "duration": 192,
    "start_time": "2022-09-18T23:48:26.928Z"
   },
   {
    "duration": 136,
    "start_time": "2022-09-18T23:48:48.161Z"
   },
   {
    "duration": 155,
    "start_time": "2022-09-18T23:49:20.345Z"
   },
   {
    "duration": 178,
    "start_time": "2022-09-18T23:49:27.929Z"
   },
   {
    "duration": 174,
    "start_time": "2022-09-18T23:49:36.443Z"
   },
   {
    "duration": 164,
    "start_time": "2022-09-18T23:50:05.943Z"
   },
   {
    "duration": 158,
    "start_time": "2022-09-18T23:51:10.037Z"
   },
   {
    "duration": 149,
    "start_time": "2022-09-18T23:52:08.365Z"
   },
   {
    "duration": 159,
    "start_time": "2022-09-18T23:52:24.516Z"
   },
   {
    "duration": 142,
    "start_time": "2022-09-18T23:52:38.385Z"
   },
   {
    "duration": 6,
    "start_time": "2022-09-19T00:05:28.192Z"
   },
   {
    "duration": 7,
    "start_time": "2022-09-19T00:06:04.121Z"
   },
   {
    "duration": 6,
    "start_time": "2022-09-19T00:06:36.497Z"
   },
   {
    "duration": 10,
    "start_time": "2022-09-19T00:07:49.569Z"
   },
   {
    "duration": 6,
    "start_time": "2022-09-19T00:08:47.961Z"
   },
   {
    "duration": 5,
    "start_time": "2022-09-19T00:13:53.338Z"
   },
   {
    "duration": 48,
    "start_time": "2022-09-19T10:23:59.624Z"
   },
   {
    "duration": 959,
    "start_time": "2022-09-19T10:24:08.507Z"
   },
   {
    "duration": 325,
    "start_time": "2022-09-19T10:24:09.468Z"
   },
   {
    "duration": 52,
    "start_time": "2022-09-19T10:24:09.795Z"
   },
   {
    "duration": 2066,
    "start_time": "2022-09-19T10:24:09.849Z"
   },
   {
    "duration": 10,
    "start_time": "2022-09-19T10:24:11.917Z"
   },
   {
    "duration": 50,
    "start_time": "2022-09-19T10:24:11.928Z"
   },
   {
    "duration": 5,
    "start_time": "2022-09-19T10:24:11.980Z"
   },
   {
    "duration": 32,
    "start_time": "2022-09-19T10:24:11.987Z"
   },
   {
    "duration": 39,
    "start_time": "2022-09-19T10:24:12.021Z"
   },
   {
    "duration": 22,
    "start_time": "2022-09-19T10:24:12.062Z"
   },
   {
    "duration": 8,
    "start_time": "2022-09-19T10:24:12.086Z"
   },
   {
    "duration": 16,
    "start_time": "2022-09-19T10:24:12.096Z"
   },
   {
    "duration": 148,
    "start_time": "2022-09-19T10:24:12.119Z"
   },
   {
    "duration": 8,
    "start_time": "2022-09-19T10:24:12.270Z"
   },
   {
    "duration": 14,
    "start_time": "2022-09-19T10:24:12.279Z"
   },
   {
    "duration": 53,
    "start_time": "2022-09-19T10:24:12.295Z"
   },
   {
    "duration": 7,
    "start_time": "2022-09-19T10:24:12.350Z"
   },
   {
    "duration": 17,
    "start_time": "2022-09-19T10:24:12.359Z"
   },
   {
    "duration": 16,
    "start_time": "2022-09-19T10:24:12.378Z"
   },
   {
    "duration": 38,
    "start_time": "2022-09-19T10:24:12.396Z"
   },
   {
    "duration": 22,
    "start_time": "2022-09-19T10:24:12.435Z"
   },
   {
    "duration": 32,
    "start_time": "2022-09-19T10:24:12.459Z"
   },
   {
    "duration": 24,
    "start_time": "2022-09-19T10:24:12.493Z"
   },
   {
    "duration": 13,
    "start_time": "2022-09-19T10:24:12.519Z"
   },
   {
    "duration": 18,
    "start_time": "2022-09-19T10:24:12.534Z"
   },
   {
    "duration": 17,
    "start_time": "2022-09-19T10:24:12.553Z"
   },
   {
    "duration": 201,
    "start_time": "2022-09-19T10:24:12.571Z"
   },
   {
    "duration": 5,
    "start_time": "2022-09-19T10:24:12.774Z"
   },
   {
    "duration": 27,
    "start_time": "2022-09-19T10:24:12.780Z"
   },
   {
    "duration": 1686,
    "start_time": "2022-09-19T10:24:12.808Z"
   },
   {
    "duration": 9,
    "start_time": "2022-09-19T10:24:14.496Z"
   },
   {
    "duration": 176,
    "start_time": "2022-09-19T10:24:14.507Z"
   },
   {
    "duration": 6,
    "start_time": "2022-09-19T10:24:14.685Z"
   },
   {
    "duration": 175,
    "start_time": "2022-09-19T10:24:14.692Z"
   },
   {
    "duration": 166,
    "start_time": "2022-09-19T10:24:14.868Z"
   },
   {
    "duration": 153,
    "start_time": "2022-09-19T10:24:15.037Z"
   },
   {
    "duration": 167,
    "start_time": "2022-09-19T10:24:15.192Z"
   },
   {
    "duration": 167,
    "start_time": "2022-09-19T10:24:15.361Z"
   },
   {
    "duration": 169,
    "start_time": "2022-09-19T10:24:15.530Z"
   },
   {
    "duration": 252,
    "start_time": "2022-09-19T10:24:15.700Z"
   },
   {
    "duration": 158,
    "start_time": "2022-09-19T10:24:15.956Z"
   },
   {
    "duration": 18,
    "start_time": "2022-09-19T10:24:16.120Z"
   },
   {
    "duration": 4,
    "start_time": "2022-09-19T10:24:16.140Z"
   },
   {
    "duration": 178,
    "start_time": "2022-09-19T10:24:16.146Z"
   },
   {
    "duration": 794,
    "start_time": "2022-09-19T12:39:33.205Z"
   },
   {
    "duration": 96,
    "start_time": "2022-09-19T12:39:34.001Z"
   },
   {
    "duration": 51,
    "start_time": "2022-09-19T12:39:34.099Z"
   },
   {
    "duration": 2039,
    "start_time": "2022-09-19T12:39:34.152Z"
   },
   {
    "duration": 9,
    "start_time": "2022-09-19T12:39:36.193Z"
   },
   {
    "duration": 25,
    "start_time": "2022-09-19T12:39:36.204Z"
   },
   {
    "duration": 4,
    "start_time": "2022-09-19T12:39:36.231Z"
   },
   {
    "duration": 9,
    "start_time": "2022-09-19T12:39:36.237Z"
   },
   {
    "duration": 43,
    "start_time": "2022-09-19T12:39:36.247Z"
   },
   {
    "duration": 32,
    "start_time": "2022-09-19T12:39:36.293Z"
   },
   {
    "duration": 9,
    "start_time": "2022-09-19T12:39:36.327Z"
   },
   {
    "duration": 11,
    "start_time": "2022-09-19T12:39:36.338Z"
   },
   {
    "duration": 157,
    "start_time": "2022-09-19T12:39:36.351Z"
   },
   {
    "duration": 14,
    "start_time": "2022-09-19T12:39:36.512Z"
   },
   {
    "duration": 4,
    "start_time": "2022-09-19T12:39:36.527Z"
   },
   {
    "duration": 31,
    "start_time": "2022-09-19T12:39:36.532Z"
   },
   {
    "duration": 5,
    "start_time": "2022-09-19T12:39:36.565Z"
   },
   {
    "duration": 8,
    "start_time": "2022-09-19T12:39:36.571Z"
   },
   {
    "duration": 6,
    "start_time": "2022-09-19T12:39:36.581Z"
   },
   {
    "duration": 32,
    "start_time": "2022-09-19T12:39:36.620Z"
   },
   {
    "duration": 25,
    "start_time": "2022-09-19T12:39:36.654Z"
   },
   {
    "duration": 11,
    "start_time": "2022-09-19T12:39:36.681Z"
   },
   {
    "duration": 8,
    "start_time": "2022-09-19T12:39:36.694Z"
   },
   {
    "duration": 17,
    "start_time": "2022-09-19T12:39:36.704Z"
   },
   {
    "duration": 10,
    "start_time": "2022-09-19T12:39:36.723Z"
   },
   {
    "duration": 7,
    "start_time": "2022-09-19T12:39:36.735Z"
   },
   {
    "duration": 219,
    "start_time": "2022-09-19T12:39:36.743Z"
   },
   {
    "duration": 5,
    "start_time": "2022-09-19T12:39:36.964Z"
   },
   {
    "duration": 37,
    "start_time": "2022-09-19T12:39:36.971Z"
   },
   {
    "duration": 1688,
    "start_time": "2022-09-19T12:39:37.010Z"
   },
   {
    "duration": 8,
    "start_time": "2022-09-19T12:39:38.700Z"
   },
   {
    "duration": 180,
    "start_time": "2022-09-19T12:39:38.710Z"
   },
   {
    "duration": 7,
    "start_time": "2022-09-19T12:39:38.892Z"
   },
   {
    "duration": 228,
    "start_time": "2022-09-19T12:39:38.901Z"
   },
   {
    "duration": 192,
    "start_time": "2022-09-19T12:39:39.132Z"
   },
   {
    "duration": 156,
    "start_time": "2022-09-19T12:39:39.326Z"
   },
   {
    "duration": 179,
    "start_time": "2022-09-19T12:39:39.484Z"
   },
   {
    "duration": 166,
    "start_time": "2022-09-19T12:39:39.665Z"
   },
   {
    "duration": 194,
    "start_time": "2022-09-19T12:39:39.833Z"
   },
   {
    "duration": 247,
    "start_time": "2022-09-19T12:39:40.028Z"
   },
   {
    "duration": 163,
    "start_time": "2022-09-19T12:39:40.279Z"
   },
   {
    "duration": 19,
    "start_time": "2022-09-19T12:39:40.443Z"
   },
   {
    "duration": 5,
    "start_time": "2022-09-19T12:39:40.463Z"
   },
   {
    "duration": 189,
    "start_time": "2022-09-19T12:39:40.470Z"
   },
   {
    "duration": 45,
    "start_time": "2022-09-21T13:50:40.527Z"
   },
   {
    "duration": 812,
    "start_time": "2022-09-21T13:50:48.162Z"
   },
   {
    "duration": 306,
    "start_time": "2022-09-21T13:50:48.977Z"
   },
   {
    "duration": 49,
    "start_time": "2022-09-21T13:50:49.284Z"
   },
   {
    "duration": 1921,
    "start_time": "2022-09-21T13:50:49.336Z"
   },
   {
    "duration": 9,
    "start_time": "2022-09-21T13:50:51.258Z"
   },
   {
    "duration": 38,
    "start_time": "2022-09-21T13:50:51.268Z"
   },
   {
    "duration": 3,
    "start_time": "2022-09-21T13:50:51.308Z"
   },
   {
    "duration": 10,
    "start_time": "2022-09-21T13:50:51.312Z"
   },
   {
    "duration": 24,
    "start_time": "2022-09-21T13:50:51.324Z"
   },
   {
    "duration": 28,
    "start_time": "2022-09-21T13:50:51.351Z"
   },
   {
    "duration": 8,
    "start_time": "2022-09-21T13:50:51.381Z"
   },
   {
    "duration": 6,
    "start_time": "2022-09-21T13:50:51.390Z"
   },
   {
    "duration": 139,
    "start_time": "2022-09-21T13:50:51.397Z"
   },
   {
    "duration": 8,
    "start_time": "2022-09-21T13:50:51.537Z"
   },
   {
    "duration": 7,
    "start_time": "2022-09-21T13:50:51.546Z"
   },
   {
    "duration": 39,
    "start_time": "2022-09-21T13:50:51.554Z"
   },
   {
    "duration": 5,
    "start_time": "2022-09-21T13:50:51.594Z"
   },
   {
    "duration": 9,
    "start_time": "2022-09-21T13:50:51.601Z"
   },
   {
    "duration": 17,
    "start_time": "2022-09-21T13:50:51.611Z"
   },
   {
    "duration": 33,
    "start_time": "2022-09-21T13:50:51.629Z"
   },
   {
    "duration": 6,
    "start_time": "2022-09-21T13:50:51.677Z"
   },
   {
    "duration": 68,
    "start_time": "2022-09-21T13:50:51.685Z"
   },
   {
    "duration": 0,
    "start_time": "2022-09-21T13:50:51.755Z"
   },
   {
    "duration": 0,
    "start_time": "2022-09-21T13:50:51.756Z"
   },
   {
    "duration": 0,
    "start_time": "2022-09-21T13:50:51.757Z"
   },
   {
    "duration": 0,
    "start_time": "2022-09-21T13:50:51.758Z"
   },
   {
    "duration": 0,
    "start_time": "2022-09-21T13:50:51.759Z"
   },
   {
    "duration": 0,
    "start_time": "2022-09-21T13:50:51.760Z"
   },
   {
    "duration": 0,
    "start_time": "2022-09-21T13:50:51.760Z"
   },
   {
    "duration": 0,
    "start_time": "2022-09-21T13:50:51.761Z"
   },
   {
    "duration": 0,
    "start_time": "2022-09-21T13:50:51.761Z"
   },
   {
    "duration": 0,
    "start_time": "2022-09-21T13:50:51.762Z"
   },
   {
    "duration": 0,
    "start_time": "2022-09-21T13:50:51.762Z"
   },
   {
    "duration": 0,
    "start_time": "2022-09-21T13:50:51.776Z"
   },
   {
    "duration": 0,
    "start_time": "2022-09-21T13:50:51.777Z"
   },
   {
    "duration": 1,
    "start_time": "2022-09-21T13:50:51.778Z"
   },
   {
    "duration": 0,
    "start_time": "2022-09-21T13:50:51.779Z"
   },
   {
    "duration": 0,
    "start_time": "2022-09-21T13:50:51.780Z"
   },
   {
    "duration": 0,
    "start_time": "2022-09-21T13:50:51.781Z"
   },
   {
    "duration": 0,
    "start_time": "2022-09-21T13:50:51.782Z"
   },
   {
    "duration": 0,
    "start_time": "2022-09-21T13:50:51.783Z"
   },
   {
    "duration": 0,
    "start_time": "2022-09-21T13:50:51.784Z"
   },
   {
    "duration": 0,
    "start_time": "2022-09-21T13:50:51.785Z"
   },
   {
    "duration": 1,
    "start_time": "2022-09-21T13:50:51.785Z"
   },
   {
    "duration": 0,
    "start_time": "2022-09-21T13:50:51.787Z"
   },
   {
    "duration": 60,
    "start_time": "2022-09-21T13:51:14.867Z"
   },
   {
    "duration": 10,
    "start_time": "2022-09-21T13:59:52.683Z"
   },
   {
    "duration": 65,
    "start_time": "2022-09-21T14:00:15.118Z"
   },
   {
    "duration": 7,
    "start_time": "2022-09-21T14:00:49.422Z"
   },
   {
    "duration": 60,
    "start_time": "2022-09-21T14:01:02.966Z"
   },
   {
    "duration": 24,
    "start_time": "2022-09-21T14:03:03.782Z"
   },
   {
    "duration": 83,
    "start_time": "2022-09-21T14:23:46.736Z"
   },
   {
    "duration": 10,
    "start_time": "2022-09-21T14:24:08.477Z"
   },
   {
    "duration": 8,
    "start_time": "2022-09-21T14:28:03.834Z"
   },
   {
    "duration": 6,
    "start_time": "2022-09-21T14:30:49.466Z"
   },
   {
    "duration": 7,
    "start_time": "2022-09-21T14:30:58.904Z"
   },
   {
    "duration": 7,
    "start_time": "2022-09-21T14:31:05.795Z"
   },
   {
    "duration": 7,
    "start_time": "2022-09-21T14:31:12.709Z"
   },
   {
    "duration": 59,
    "start_time": "2022-09-21T14:31:24.177Z"
   },
   {
    "duration": 3,
    "start_time": "2022-09-21T14:33:59.998Z"
   },
   {
    "duration": 4,
    "start_time": "2022-09-21T14:36:29.292Z"
   },
   {
    "duration": 60,
    "start_time": "2022-09-21T14:36:32.972Z"
   },
   {
    "duration": 25,
    "start_time": "2022-09-21T14:52:27.069Z"
   },
   {
    "duration": 35,
    "start_time": "2022-09-21T14:53:19.812Z"
   },
   {
    "duration": 37,
    "start_time": "2022-09-21T14:53:52.581Z"
   },
   {
    "duration": 23,
    "start_time": "2022-09-21T14:54:46.276Z"
   },
   {
    "duration": 15,
    "start_time": "2022-09-21T15:03:38.682Z"
   },
   {
    "duration": 57,
    "start_time": "2022-09-21T15:23:18.569Z"
   },
   {
    "duration": 569,
    "start_time": "2022-09-21T15:33:21.110Z"
   },
   {
    "duration": 90,
    "start_time": "2022-09-21T15:33:21.681Z"
   },
   {
    "duration": 46,
    "start_time": "2022-09-21T15:33:21.773Z"
   },
   {
    "duration": 1811,
    "start_time": "2022-09-21T15:33:21.821Z"
   },
   {
    "duration": 9,
    "start_time": "2022-09-21T15:33:23.634Z"
   },
   {
    "duration": 22,
    "start_time": "2022-09-21T15:33:23.644Z"
   },
   {
    "duration": 4,
    "start_time": "2022-09-21T15:33:23.667Z"
   },
   {
    "duration": 8,
    "start_time": "2022-09-21T15:33:23.672Z"
   },
   {
    "duration": 28,
    "start_time": "2022-09-21T15:33:23.681Z"
   },
   {
    "duration": 19,
    "start_time": "2022-09-21T15:33:23.712Z"
   },
   {
    "duration": 9,
    "start_time": "2022-09-21T15:33:23.732Z"
   },
   {
    "duration": 34,
    "start_time": "2022-09-21T15:33:23.742Z"
   },
   {
    "duration": 131,
    "start_time": "2022-09-21T15:33:23.778Z"
   },
   {
    "duration": 7,
    "start_time": "2022-09-21T15:33:23.911Z"
   },
   {
    "duration": 3,
    "start_time": "2022-09-21T15:33:23.920Z"
   },
   {
    "duration": 74,
    "start_time": "2022-09-21T15:33:23.925Z"
   },
   {
    "duration": 5,
    "start_time": "2022-09-21T15:33:24.001Z"
   },
   {
    "duration": 8,
    "start_time": "2022-09-21T15:33:24.007Z"
   },
   {
    "duration": 6,
    "start_time": "2022-09-21T15:33:24.016Z"
   },
   {
    "duration": 26,
    "start_time": "2022-09-21T15:33:24.023Z"
   },
   {
    "duration": 7,
    "start_time": "2022-09-21T15:33:24.077Z"
   },
   {
    "duration": 21,
    "start_time": "2022-09-21T15:33:24.086Z"
   },
   {
    "duration": 4,
    "start_time": "2022-09-21T15:33:24.108Z"
   },
   {
    "duration": 10,
    "start_time": "2022-09-21T15:33:24.114Z"
   },
   {
    "duration": 4,
    "start_time": "2022-09-21T15:33:24.125Z"
   },
   {
    "duration": 6,
    "start_time": "2022-09-21T15:33:24.130Z"
   },
   {
    "duration": 4,
    "start_time": "2022-09-21T15:33:24.138Z"
   },
   {
    "duration": 4,
    "start_time": "2022-09-21T15:33:24.176Z"
   },
   {
    "duration": 162,
    "start_time": "2022-09-21T15:33:24.181Z"
   },
   {
    "duration": 4,
    "start_time": "2022-09-21T15:33:24.345Z"
   },
   {
    "duration": 33,
    "start_time": "2022-09-21T15:33:24.351Z"
   },
   {
    "duration": 1537,
    "start_time": "2022-09-21T15:33:24.385Z"
   },
   {
    "duration": 7,
    "start_time": "2022-09-21T15:33:25.924Z"
   },
   {
    "duration": 152,
    "start_time": "2022-09-21T15:33:25.933Z"
   },
   {
    "duration": 5,
    "start_time": "2022-09-21T15:33:26.087Z"
   },
   {
    "duration": 158,
    "start_time": "2022-09-21T15:33:26.093Z"
   },
   {
    "duration": 159,
    "start_time": "2022-09-21T15:33:26.253Z"
   },
   {
    "duration": 151,
    "start_time": "2022-09-21T15:33:26.414Z"
   },
   {
    "duration": 161,
    "start_time": "2022-09-21T15:33:26.567Z"
   },
   {
    "duration": 148,
    "start_time": "2022-09-21T15:33:26.730Z"
   },
   {
    "duration": 167,
    "start_time": "2022-09-21T15:33:26.880Z"
   },
   {
    "duration": 225,
    "start_time": "2022-09-21T15:33:27.049Z"
   },
   {
    "duration": 142,
    "start_time": "2022-09-21T15:33:27.277Z"
   },
   {
    "duration": 14,
    "start_time": "2022-09-21T15:33:27.421Z"
   },
   {
    "duration": 4,
    "start_time": "2022-09-21T15:33:27.437Z"
   },
   {
    "duration": 162,
    "start_time": "2022-09-21T15:33:27.442Z"
   },
   {
    "duration": 8,
    "start_time": "2022-09-21T15:35:54.935Z"
   },
   {
    "duration": 474,
    "start_time": "2022-09-21T15:53:48.750Z"
   },
   {
    "duration": 101,
    "start_time": "2022-09-21T15:55:03.776Z"
   },
   {
    "duration": 150,
    "start_time": "2022-09-21T15:55:29.789Z"
   },
   {
    "duration": 18,
    "start_time": "2022-09-21T15:56:09.454Z"
   },
   {
    "duration": 152,
    "start_time": "2022-09-21T15:58:56.132Z"
   },
   {
    "duration": 135,
    "start_time": "2022-09-21T16:02:47.473Z"
   },
   {
    "duration": 155,
    "start_time": "2022-09-21T16:05:52.153Z"
   },
   {
    "duration": 148,
    "start_time": "2022-09-21T16:11:42.348Z"
   },
   {
    "duration": 253,
    "start_time": "2022-09-21T16:12:53.482Z"
   },
   {
    "duration": 263,
    "start_time": "2022-09-21T16:13:17.769Z"
   },
   {
    "duration": 51,
    "start_time": "2022-09-21T16:14:19.515Z"
   },
   {
    "duration": 178,
    "start_time": "2022-09-21T16:14:36.887Z"
   },
   {
    "duration": 18,
    "start_time": "2022-09-21T16:18:08.795Z"
   },
   {
    "duration": 28538,
    "start_time": "2022-09-21T16:18:40.519Z"
   },
   {
    "duration": 155,
    "start_time": "2022-09-21T16:19:57.375Z"
   },
   {
    "duration": 133,
    "start_time": "2022-09-21T16:26:14.242Z"
   },
   {
    "duration": 1052,
    "start_time": "2022-09-21T16:26:38.016Z"
   },
   {
    "duration": 89,
    "start_time": "2022-09-21T16:26:39.070Z"
   },
   {
    "duration": 48,
    "start_time": "2022-09-21T16:26:39.161Z"
   },
   {
    "duration": 1881,
    "start_time": "2022-09-21T16:26:39.211Z"
   },
   {
    "duration": 10,
    "start_time": "2022-09-21T16:26:41.096Z"
   },
   {
    "duration": 23,
    "start_time": "2022-09-21T16:26:41.108Z"
   },
   {
    "duration": 4,
    "start_time": "2022-09-21T16:26:41.133Z"
   },
   {
    "duration": 6,
    "start_time": "2022-09-21T16:26:41.139Z"
   },
   {
    "duration": 39,
    "start_time": "2022-09-21T16:26:41.146Z"
   },
   {
    "duration": 20,
    "start_time": "2022-09-21T16:26:41.187Z"
   },
   {
    "duration": 9,
    "start_time": "2022-09-21T16:26:41.210Z"
   },
   {
    "duration": 6,
    "start_time": "2022-09-21T16:26:41.220Z"
   },
   {
    "duration": 163,
    "start_time": "2022-09-21T16:26:41.227Z"
   },
   {
    "duration": 8,
    "start_time": "2022-09-21T16:26:41.394Z"
   },
   {
    "duration": 5,
    "start_time": "2022-09-21T16:26:41.403Z"
   },
   {
    "duration": 77,
    "start_time": "2022-09-21T16:26:41.410Z"
   },
   {
    "duration": 5,
    "start_time": "2022-09-21T16:26:41.488Z"
   },
   {
    "duration": 9,
    "start_time": "2022-09-21T16:26:41.495Z"
   },
   {
    "duration": 6,
    "start_time": "2022-09-21T16:26:41.505Z"
   },
   {
    "duration": 27,
    "start_time": "2022-09-21T16:26:41.513Z"
   },
   {
    "duration": 36,
    "start_time": "2022-09-21T16:26:41.542Z"
   },
   {
    "duration": 32,
    "start_time": "2022-09-21T16:26:41.581Z"
   },
   {
    "duration": 4,
    "start_time": "2022-09-21T16:26:41.615Z"
   },
   {
    "duration": 12,
    "start_time": "2022-09-21T16:26:41.621Z"
   },
   {
    "duration": 11,
    "start_time": "2022-09-21T16:26:41.635Z"
   },
   {
    "duration": 28,
    "start_time": "2022-09-21T16:26:41.648Z"
   },
   {
    "duration": 6,
    "start_time": "2022-09-21T16:26:41.678Z"
   },
   {
    "duration": 9,
    "start_time": "2022-09-21T16:26:41.686Z"
   },
   {
    "duration": 8,
    "start_time": "2022-09-21T16:26:41.697Z"
   },
   {
    "duration": 190,
    "start_time": "2022-09-21T16:26:41.706Z"
   },
   {
    "duration": 4,
    "start_time": "2022-09-21T16:26:41.898Z"
   },
   {
    "duration": 28,
    "start_time": "2022-09-21T16:26:41.904Z"
   },
   {
    "duration": 1531,
    "start_time": "2022-09-21T16:26:41.933Z"
   },
   {
    "duration": 16,
    "start_time": "2022-09-21T16:26:43.466Z"
   },
   {
    "duration": 247,
    "start_time": "2022-09-21T16:26:43.484Z"
   },
   {
    "duration": 7,
    "start_time": "2022-09-21T16:26:43.732Z"
   },
   {
    "duration": 179,
    "start_time": "2022-09-21T16:26:43.740Z"
   },
   {
    "duration": 164,
    "start_time": "2022-09-21T16:26:43.921Z"
   },
   {
    "duration": 146,
    "start_time": "2022-09-21T16:26:44.087Z"
   },
   {
    "duration": 165,
    "start_time": "2022-09-21T16:26:44.235Z"
   },
   {
    "duration": 151,
    "start_time": "2022-09-21T16:26:44.403Z"
   },
   {
    "duration": 158,
    "start_time": "2022-09-21T16:26:44.556Z"
   },
   {
    "duration": 146,
    "start_time": "2022-09-21T16:26:44.715Z"
   },
   {
    "duration": 146,
    "start_time": "2022-09-21T16:26:44.863Z"
   },
   {
    "duration": 16,
    "start_time": "2022-09-21T16:26:45.011Z"
   },
   {
    "duration": 14,
    "start_time": "2022-09-21T16:26:45.029Z"
   },
   {
    "duration": 171,
    "start_time": "2022-09-21T16:26:45.045Z"
   },
   {
    "duration": 129,
    "start_time": "2022-09-21T16:29:31.843Z"
   },
   {
    "duration": 1027,
    "start_time": "2022-09-21T16:53:18.734Z"
   },
   {
    "duration": 86,
    "start_time": "2022-09-21T16:53:19.763Z"
   },
   {
    "duration": 43,
    "start_time": "2022-09-21T16:53:19.851Z"
   },
   {
    "duration": 1832,
    "start_time": "2022-09-21T16:53:19.896Z"
   },
   {
    "duration": 8,
    "start_time": "2022-09-21T16:53:21.730Z"
   },
   {
    "duration": 22,
    "start_time": "2022-09-21T16:53:21.740Z"
   },
   {
    "duration": 3,
    "start_time": "2022-09-21T16:53:21.764Z"
   },
   {
    "duration": 5,
    "start_time": "2022-09-21T16:53:21.769Z"
   },
   {
    "duration": 26,
    "start_time": "2022-09-21T16:53:21.776Z"
   },
   {
    "duration": 19,
    "start_time": "2022-09-21T16:53:21.804Z"
   },
   {
    "duration": 9,
    "start_time": "2022-09-21T16:53:21.824Z"
   },
   {
    "duration": 7,
    "start_time": "2022-09-21T16:53:21.835Z"
   },
   {
    "duration": 154,
    "start_time": "2022-09-21T16:53:21.844Z"
   },
   {
    "duration": 7,
    "start_time": "2022-09-21T16:53:22.000Z"
   },
   {
    "duration": 13,
    "start_time": "2022-09-21T16:53:22.008Z"
   },
   {
    "duration": 67,
    "start_time": "2022-09-21T16:53:22.022Z"
   },
   {
    "duration": 6,
    "start_time": "2022-09-21T16:53:22.090Z"
   },
   {
    "duration": 7,
    "start_time": "2022-09-21T16:53:22.098Z"
   },
   {
    "duration": 7,
    "start_time": "2022-09-21T16:53:22.107Z"
   },
   {
    "duration": 62,
    "start_time": "2022-09-21T16:53:22.115Z"
   },
   {
    "duration": 7,
    "start_time": "2022-09-21T16:53:22.179Z"
   },
   {
    "duration": 21,
    "start_time": "2022-09-21T16:53:22.187Z"
   },
   {
    "duration": 4,
    "start_time": "2022-09-21T16:53:22.209Z"
   },
   {
    "duration": 13,
    "start_time": "2022-09-21T16:53:22.214Z"
   },
   {
    "duration": 10,
    "start_time": "2022-09-21T16:53:22.228Z"
   },
   {
    "duration": 3,
    "start_time": "2022-09-21T16:53:22.239Z"
   },
   {
    "duration": 34,
    "start_time": "2022-09-21T16:53:22.243Z"
   },
   {
    "duration": 4,
    "start_time": "2022-09-21T16:53:22.281Z"
   },
   {
    "duration": 7,
    "start_time": "2022-09-21T16:53:22.286Z"
   },
   {
    "duration": 176,
    "start_time": "2022-09-21T16:53:22.294Z"
   },
   {
    "duration": 6,
    "start_time": "2022-09-21T16:53:22.472Z"
   },
   {
    "duration": 21,
    "start_time": "2022-09-21T16:53:22.479Z"
   },
   {
    "duration": 1452,
    "start_time": "2022-09-21T16:53:22.501Z"
   },
   {
    "duration": 9,
    "start_time": "2022-09-21T16:53:23.954Z"
   },
   {
    "duration": 237,
    "start_time": "2022-09-21T16:53:23.964Z"
   },
   {
    "duration": 5,
    "start_time": "2022-09-21T16:53:24.203Z"
   },
   {
    "duration": 162,
    "start_time": "2022-09-21T16:53:24.210Z"
   },
   {
    "duration": 154,
    "start_time": "2022-09-21T16:53:24.373Z"
   },
   {
    "duration": 144,
    "start_time": "2022-09-21T16:53:24.528Z"
   },
   {
    "duration": 145,
    "start_time": "2022-09-21T16:53:24.676Z"
   },
   {
    "duration": 137,
    "start_time": "2022-09-21T16:53:24.823Z"
   },
   {
    "duration": 150,
    "start_time": "2022-09-21T16:53:24.962Z"
   },
   {
    "duration": 169,
    "start_time": "2022-09-21T16:53:25.114Z"
   },
   {
    "duration": 150,
    "start_time": "2022-09-21T16:53:25.285Z"
   },
   {
    "duration": 17,
    "start_time": "2022-09-21T16:53:25.437Z"
   },
   {
    "duration": 21,
    "start_time": "2022-09-21T16:53:25.456Z"
   },
   {
    "duration": 153,
    "start_time": "2022-09-21T16:53:25.478Z"
   },
   {
    "duration": 61,
    "start_time": "2022-09-22T08:18:05.889Z"
   },
   {
    "duration": 1342,
    "start_time": "2022-09-22T08:18:13.397Z"
   },
   {
    "duration": 363,
    "start_time": "2022-09-22T08:18:14.741Z"
   },
   {
    "duration": 58,
    "start_time": "2022-09-22T08:18:15.106Z"
   },
   {
    "duration": 1858,
    "start_time": "2022-09-22T08:18:15.166Z"
   },
   {
    "duration": 11,
    "start_time": "2022-09-22T08:18:17.028Z"
   },
   {
    "duration": 23,
    "start_time": "2022-09-22T08:18:17.041Z"
   },
   {
    "duration": 3,
    "start_time": "2022-09-22T08:18:17.065Z"
   },
   {
    "duration": 7,
    "start_time": "2022-09-22T08:18:17.070Z"
   },
   {
    "duration": 20,
    "start_time": "2022-09-22T08:18:17.078Z"
   },
   {
    "duration": 22,
    "start_time": "2022-09-22T08:18:17.115Z"
   },
   {
    "duration": 12,
    "start_time": "2022-09-22T08:18:17.138Z"
   },
   {
    "duration": 7,
    "start_time": "2022-09-22T08:18:17.151Z"
   },
   {
    "duration": 135,
    "start_time": "2022-09-22T08:18:17.160Z"
   },
   {
    "duration": 7,
    "start_time": "2022-09-22T08:18:17.297Z"
   },
   {
    "duration": 8,
    "start_time": "2022-09-22T08:18:17.305Z"
   },
   {
    "duration": 71,
    "start_time": "2022-09-22T08:18:17.324Z"
   },
   {
    "duration": 5,
    "start_time": "2022-09-22T08:18:17.396Z"
   },
   {
    "duration": 22,
    "start_time": "2022-09-22T08:18:17.403Z"
   },
   {
    "duration": 12,
    "start_time": "2022-09-22T08:18:17.428Z"
   },
   {
    "duration": 29,
    "start_time": "2022-09-22T08:18:17.442Z"
   },
   {
    "duration": 6,
    "start_time": "2022-09-22T08:18:17.472Z"
   },
   {
    "duration": 6,
    "start_time": "2022-09-22T08:18:17.480Z"
   },
   {
    "duration": 43,
    "start_time": "2022-09-22T08:18:17.488Z"
   },
   {
    "duration": 3,
    "start_time": "2022-09-22T08:18:17.536Z"
   },
   {
    "duration": 9,
    "start_time": "2022-09-22T08:18:17.540Z"
   },
   {
    "duration": 9,
    "start_time": "2022-09-22T08:18:17.551Z"
   },
   {
    "duration": 4,
    "start_time": "2022-09-22T08:18:17.561Z"
   },
   {
    "duration": 7,
    "start_time": "2022-09-22T08:18:17.567Z"
   },
   {
    "duration": 8,
    "start_time": "2022-09-22T08:18:17.575Z"
   },
   {
    "duration": 6,
    "start_time": "2022-09-22T08:18:17.584Z"
   },
   {
    "duration": 194,
    "start_time": "2022-09-22T08:18:17.591Z"
   },
   {
    "duration": 4,
    "start_time": "2022-09-22T08:18:17.787Z"
   },
   {
    "duration": 37,
    "start_time": "2022-09-22T08:18:17.792Z"
   },
   {
    "duration": 1414,
    "start_time": "2022-09-22T08:18:17.836Z"
   },
   {
    "duration": 9,
    "start_time": "2022-09-22T08:18:19.251Z"
   },
   {
    "duration": 232,
    "start_time": "2022-09-22T08:18:19.262Z"
   },
   {
    "duration": 5,
    "start_time": "2022-09-22T08:18:19.495Z"
   },
   {
    "duration": 162,
    "start_time": "2022-09-22T08:18:19.508Z"
   },
   {
    "duration": 154,
    "start_time": "2022-09-22T08:18:19.672Z"
   },
   {
    "duration": 140,
    "start_time": "2022-09-22T08:18:19.838Z"
   },
   {
    "duration": 165,
    "start_time": "2022-09-22T08:18:19.980Z"
   },
   {
    "duration": 138,
    "start_time": "2022-09-22T08:18:20.147Z"
   },
   {
    "duration": 147,
    "start_time": "2022-09-22T08:18:20.287Z"
   },
   {
    "duration": 132,
    "start_time": "2022-09-22T08:18:20.439Z"
   },
   {
    "duration": 127,
    "start_time": "2022-09-22T08:18:20.573Z"
   },
   {
    "duration": 42,
    "start_time": "2022-09-22T08:18:20.702Z"
   },
   {
    "duration": 4,
    "start_time": "2022-09-22T08:18:20.745Z"
   },
   {
    "duration": 155,
    "start_time": "2022-09-22T08:18:20.750Z"
   },
   {
    "duration": 22,
    "start_time": "2022-09-22T08:20:16.564Z"
   },
   {
    "duration": 29,
    "start_time": "2022-09-22T08:20:53.436Z"
   },
   {
    "duration": 195,
    "start_time": "2022-09-22T08:31:54.641Z"
   },
   {
    "duration": 158,
    "start_time": "2022-09-22T08:32:34.729Z"
   },
   {
    "duration": 468,
    "start_time": "2022-09-22T08:33:16.667Z"
   },
   {
    "duration": 134,
    "start_time": "2022-09-22T08:33:34.840Z"
   },
   {
    "duration": 164,
    "start_time": "2022-09-22T08:48:33.636Z"
   },
   {
    "duration": 1131,
    "start_time": "2022-09-22T09:01:42.753Z"
   },
   {
    "duration": 116,
    "start_time": "2022-09-22T09:01:43.886Z"
   },
   {
    "duration": 62,
    "start_time": "2022-09-22T09:01:44.003Z"
   },
   {
    "duration": 1973,
    "start_time": "2022-09-22T09:01:44.067Z"
   },
   {
    "duration": 9,
    "start_time": "2022-09-22T09:01:46.042Z"
   },
   {
    "duration": 23,
    "start_time": "2022-09-22T09:01:46.052Z"
   },
   {
    "duration": 3,
    "start_time": "2022-09-22T09:01:46.076Z"
   },
   {
    "duration": 11,
    "start_time": "2022-09-22T09:01:46.080Z"
   },
   {
    "duration": 27,
    "start_time": "2022-09-22T09:01:46.092Z"
   },
   {
    "duration": 23,
    "start_time": "2022-09-22T09:01:46.122Z"
   },
   {
    "duration": 8,
    "start_time": "2022-09-22T09:01:46.147Z"
   },
   {
    "duration": 5,
    "start_time": "2022-09-22T09:01:46.157Z"
   },
   {
    "duration": 151,
    "start_time": "2022-09-22T09:01:46.164Z"
   },
   {
    "duration": 17,
    "start_time": "2022-09-22T09:01:46.324Z"
   },
   {
    "duration": 6,
    "start_time": "2022-09-22T09:01:46.343Z"
   },
   {
    "duration": 85,
    "start_time": "2022-09-22T09:01:46.350Z"
   },
   {
    "duration": 6,
    "start_time": "2022-09-22T09:01:46.437Z"
   },
   {
    "duration": 8,
    "start_time": "2022-09-22T09:01:46.445Z"
   },
   {
    "duration": 7,
    "start_time": "2022-09-22T09:01:46.454Z"
   },
   {
    "duration": 42,
    "start_time": "2022-09-22T09:01:46.462Z"
   },
   {
    "duration": 33,
    "start_time": "2022-09-22T09:01:46.506Z"
   },
   {
    "duration": 9,
    "start_time": "2022-09-22T09:01:46.542Z"
   },
   {
    "duration": 48,
    "start_time": "2022-09-22T09:01:46.553Z"
   },
   {
    "duration": 40,
    "start_time": "2022-09-22T09:01:46.603Z"
   },
   {
    "duration": 5,
    "start_time": "2022-09-22T09:01:46.644Z"
   },
   {
    "duration": 12,
    "start_time": "2022-09-22T09:01:46.650Z"
   },
   {
    "duration": 10,
    "start_time": "2022-09-22T09:01:46.665Z"
   },
   {
    "duration": 3,
    "start_time": "2022-09-22T09:01:46.679Z"
   },
   {
    "duration": 5,
    "start_time": "2022-09-22T09:01:46.685Z"
   },
   {
    "duration": 35,
    "start_time": "2022-09-22T09:01:46.692Z"
   },
   {
    "duration": 11,
    "start_time": "2022-09-22T09:01:46.740Z"
   },
   {
    "duration": 204,
    "start_time": "2022-09-22T09:01:46.752Z"
   },
   {
    "duration": 4,
    "start_time": "2022-09-22T09:01:46.957Z"
   },
   {
    "duration": 24,
    "start_time": "2022-09-22T09:01:46.963Z"
   },
   {
    "duration": 1507,
    "start_time": "2022-09-22T09:01:46.989Z"
   },
   {
    "duration": 41,
    "start_time": "2022-09-22T09:01:48.498Z"
   },
   {
    "duration": 228,
    "start_time": "2022-09-22T09:01:48.541Z"
   },
   {
    "duration": 6,
    "start_time": "2022-09-22T09:01:48.771Z"
   },
   {
    "duration": 186,
    "start_time": "2022-09-22T09:01:48.778Z"
   },
   {
    "duration": 176,
    "start_time": "2022-09-22T09:01:48.966Z"
   },
   {
    "duration": 202,
    "start_time": "2022-09-22T09:01:49.144Z"
   },
   {
    "duration": 164,
    "start_time": "2022-09-22T09:01:49.348Z"
   },
   {
    "duration": 147,
    "start_time": "2022-09-22T09:01:49.513Z"
   },
   {
    "duration": 149,
    "start_time": "2022-09-22T09:01:49.662Z"
   },
   {
    "duration": 167,
    "start_time": "2022-09-22T09:01:49.826Z"
   },
   {
    "duration": 139,
    "start_time": "2022-09-22T09:01:49.995Z"
   },
   {
    "duration": 19,
    "start_time": "2022-09-22T09:01:50.135Z"
   },
   {
    "duration": 4,
    "start_time": "2022-09-22T09:01:50.156Z"
   },
   {
    "duration": 190,
    "start_time": "2022-09-22T09:01:50.162Z"
   },
   {
    "duration": 1368,
    "start_time": "2022-09-22T15:32:13.460Z"
   },
   {
    "duration": 152,
    "start_time": "2022-09-22T15:32:14.830Z"
   },
   {
    "duration": 49,
    "start_time": "2022-09-22T15:32:16.720Z"
   },
   {
    "duration": 2122,
    "start_time": "2022-09-22T15:32:20.704Z"
   },
   {
    "duration": 9,
    "start_time": "2022-09-22T15:32:22.828Z"
   },
   {
    "duration": 47,
    "start_time": "2022-09-22T15:32:22.839Z"
   },
   {
    "duration": 46,
    "start_time": "2022-09-22T15:32:22.888Z"
   },
   {
    "duration": 40,
    "start_time": "2022-09-22T15:32:22.936Z"
   },
   {
    "duration": 25,
    "start_time": "2022-09-22T15:32:24.495Z"
   },
   {
    "duration": 23,
    "start_time": "2022-09-22T15:32:25.366Z"
   },
   {
    "duration": 10,
    "start_time": "2022-09-22T15:32:25.801Z"
   },
   {
    "duration": 7,
    "start_time": "2022-09-22T15:32:26.186Z"
   },
   {
    "duration": 134,
    "start_time": "2022-09-22T15:32:26.587Z"
   },
   {
    "duration": 7,
    "start_time": "2022-09-22T15:32:26.816Z"
   },
   {
    "duration": 4,
    "start_time": "2022-09-22T15:32:27.663Z"
   },
   {
    "duration": 64,
    "start_time": "2022-09-22T15:36:29.612Z"
   },
   {
    "duration": 6,
    "start_time": "2022-09-22T15:36:31.382Z"
   },
   {
    "duration": 9,
    "start_time": "2022-09-22T15:36:31.878Z"
   },
   {
    "duration": 6,
    "start_time": "2022-09-22T15:36:32.904Z"
   },
   {
    "duration": 30,
    "start_time": "2022-09-22T15:37:26.782Z"
   },
   {
    "duration": 8,
    "start_time": "2022-09-22T15:37:28.474Z"
   },
   {
    "duration": 7,
    "start_time": "2022-09-22T15:37:38.014Z"
   },
   {
    "duration": 40,
    "start_time": "2022-09-22T15:37:39.111Z"
   },
   {
    "duration": 23,
    "start_time": "2022-09-22T15:38:55.606Z"
   },
   {
    "duration": 4,
    "start_time": "2022-09-22T15:38:57.533Z"
   },
   {
    "duration": 10,
    "start_time": "2022-09-22T15:39:01.892Z"
   },
   {
    "duration": 12,
    "start_time": "2022-09-22T15:39:04.942Z"
   },
   {
    "duration": 5,
    "start_time": "2022-09-22T15:39:08.770Z"
   },
   {
    "duration": 5,
    "start_time": "2022-09-22T15:39:09.005Z"
   },
   {
    "duration": 5,
    "start_time": "2022-09-22T15:39:09.198Z"
   },
   {
    "duration": 5,
    "start_time": "2022-09-22T15:39:09.388Z"
   },
   {
    "duration": 175,
    "start_time": "2022-09-22T15:39:09.618Z"
   },
   {
    "duration": 5,
    "start_time": "2022-09-22T15:39:09.946Z"
   },
   {
    "duration": 21,
    "start_time": "2022-09-22T15:39:10.477Z"
   },
   {
    "duration": 1615,
    "start_time": "2022-09-22T15:39:11.642Z"
   },
   {
    "duration": 8,
    "start_time": "2022-09-22T15:39:14.785Z"
   },
   {
    "duration": 252,
    "start_time": "2022-09-22T15:39:16.238Z"
   },
   {
    "duration": 5,
    "start_time": "2022-09-22T15:39:16.492Z"
   },
   {
    "duration": 184,
    "start_time": "2022-09-22T15:39:19.384Z"
   },
   {
    "duration": 173,
    "start_time": "2022-09-22T15:39:33.214Z"
   },
   {
    "duration": 159,
    "start_time": "2022-09-22T15:39:36.840Z"
   },
   {
    "duration": 162,
    "start_time": "2022-09-22T15:39:40.441Z"
   },
   {
    "duration": 144,
    "start_time": "2022-09-22T15:39:44.394Z"
   },
   {
    "duration": 78,
    "start_time": "2022-09-22T15:42:13.459Z"
   },
   {
    "duration": 60,
    "start_time": "2022-09-22T16:13:22.010Z"
   },
   {
    "duration": 1395,
    "start_time": "2022-09-22T16:13:35.579Z"
   },
   {
    "duration": 403,
    "start_time": "2022-09-22T16:13:36.975Z"
   },
   {
    "duration": 56,
    "start_time": "2022-09-22T16:13:37.379Z"
   },
   {
    "duration": 1855,
    "start_time": "2022-09-22T16:13:37.436Z"
   },
   {
    "duration": 12,
    "start_time": "2022-09-22T16:13:39.293Z"
   },
   {
    "duration": 52,
    "start_time": "2022-09-22T16:13:39.307Z"
   },
   {
    "duration": 4,
    "start_time": "2022-09-22T16:13:39.361Z"
   },
   {
    "duration": 8,
    "start_time": "2022-09-22T16:13:39.367Z"
   },
   {
    "duration": 58,
    "start_time": "2022-09-22T16:13:39.377Z"
   },
   {
    "duration": 18,
    "start_time": "2022-09-22T16:13:39.438Z"
   },
   {
    "duration": 16,
    "start_time": "2022-09-22T16:13:39.458Z"
   },
   {
    "duration": 8,
    "start_time": "2022-09-22T16:13:39.476Z"
   },
   {
    "duration": 6,
    "start_time": "2022-09-22T16:13:39.485Z"
   },
   {
    "duration": 152,
    "start_time": "2022-09-22T16:13:39.492Z"
   },
   {
    "duration": 8,
    "start_time": "2022-09-22T16:13:39.645Z"
   },
   {
    "duration": 3,
    "start_time": "2022-09-22T16:13:39.654Z"
   },
   {
    "duration": 80,
    "start_time": "2022-09-22T16:13:39.659Z"
   },
   {
    "duration": 5,
    "start_time": "2022-09-22T16:13:39.741Z"
   },
   {
    "duration": 10,
    "start_time": "2022-09-22T16:13:39.747Z"
   },
   {
    "duration": 6,
    "start_time": "2022-09-22T16:13:39.758Z"
   },
   {
    "duration": 69,
    "start_time": "2022-09-22T16:13:39.766Z"
   },
   {
    "duration": 9,
    "start_time": "2022-09-22T16:13:39.836Z"
   },
   {
    "duration": 7,
    "start_time": "2022-09-22T16:13:39.846Z"
   },
   {
    "duration": 36,
    "start_time": "2022-09-22T16:13:39.854Z"
   },
   {
    "duration": 72,
    "start_time": "2022-09-22T16:13:39.892Z"
   },
   {
    "duration": 19,
    "start_time": "2022-09-22T16:13:39.966Z"
   },
   {
    "duration": 6,
    "start_time": "2022-09-22T16:13:39.986Z"
   },
   {
    "duration": 23,
    "start_time": "2022-09-22T16:13:40.008Z"
   },
   {
    "duration": 24,
    "start_time": "2022-09-22T16:13:40.033Z"
   },
   {
    "duration": 3,
    "start_time": "2022-09-22T16:13:40.059Z"
   },
   {
    "duration": 10,
    "start_time": "2022-09-22T16:13:40.063Z"
   },
   {
    "duration": 5,
    "start_time": "2022-09-22T16:13:40.075Z"
   },
   {
    "duration": 13,
    "start_time": "2022-09-22T16:13:40.082Z"
   },
   {
    "duration": 207,
    "start_time": "2022-09-22T16:13:40.097Z"
   },
   {
    "duration": 22,
    "start_time": "2022-09-22T16:13:40.305Z"
   },
   {
    "duration": 24,
    "start_time": "2022-09-22T16:13:40.337Z"
   },
   {
    "duration": 1570,
    "start_time": "2022-09-22T16:13:40.362Z"
   },
   {
    "duration": 21,
    "start_time": "2022-09-22T16:13:41.934Z"
   },
   {
    "duration": 287,
    "start_time": "2022-09-22T16:13:41.957Z"
   },
   {
    "duration": 6,
    "start_time": "2022-09-22T16:13:42.245Z"
   },
   {
    "duration": 177,
    "start_time": "2022-09-22T16:13:42.252Z"
   },
   {
    "duration": 197,
    "start_time": "2022-09-22T16:13:42.430Z"
   },
   {
    "duration": 210,
    "start_time": "2022-09-22T16:13:42.631Z"
   },
   {
    "duration": 150,
    "start_time": "2022-09-22T16:13:42.843Z"
   },
   {
    "duration": 147,
    "start_time": "2022-09-22T16:13:42.995Z"
   },
   {
    "duration": 145,
    "start_time": "2022-09-22T16:13:43.144Z"
   },
   {
    "duration": 197,
    "start_time": "2022-09-22T16:13:43.290Z"
   },
   {
    "duration": 153,
    "start_time": "2022-09-22T16:13:43.489Z"
   },
   {
    "duration": 21,
    "start_time": "2022-09-22T16:13:43.644Z"
   },
   {
    "duration": 5,
    "start_time": "2022-09-22T16:13:43.667Z"
   },
   {
    "duration": 172,
    "start_time": "2022-09-22T16:13:43.673Z"
   },
   {
    "duration": 23,
    "start_time": "2022-09-22T16:14:53.105Z"
   },
   {
    "duration": 9,
    "start_time": "2022-09-22T16:15:08.595Z"
   },
   {
    "duration": 9,
    "start_time": "2022-09-22T16:21:41.673Z"
   },
   {
    "duration": 1171,
    "start_time": "2022-09-22T16:21:51.503Z"
   },
   {
    "duration": 124,
    "start_time": "2022-09-22T16:21:52.676Z"
   },
   {
    "duration": 56,
    "start_time": "2022-09-22T16:21:52.802Z"
   },
   {
    "duration": 1875,
    "start_time": "2022-09-22T16:21:52.861Z"
   },
   {
    "duration": 9,
    "start_time": "2022-09-22T16:21:54.738Z"
   },
   {
    "duration": 58,
    "start_time": "2022-09-22T16:21:54.749Z"
   },
   {
    "duration": 41,
    "start_time": "2022-09-22T16:21:54.811Z"
   },
   {
    "duration": 11,
    "start_time": "2022-09-22T16:21:54.854Z"
   },
   {
    "duration": 37,
    "start_time": "2022-09-22T16:21:54.866Z"
   },
   {
    "duration": 36,
    "start_time": "2022-09-22T16:21:54.905Z"
   },
   {
    "duration": 18,
    "start_time": "2022-09-22T16:21:54.942Z"
   },
   {
    "duration": 7,
    "start_time": "2022-09-22T16:21:54.961Z"
   },
   {
    "duration": 13,
    "start_time": "2022-09-22T16:21:54.970Z"
   },
   {
    "duration": 152,
    "start_time": "2022-09-22T16:21:54.984Z"
   },
   {
    "duration": 7,
    "start_time": "2022-09-22T16:21:55.138Z"
   },
   {
    "duration": 20,
    "start_time": "2022-09-22T16:21:55.147Z"
   },
   {
    "duration": 68,
    "start_time": "2022-09-22T16:21:55.168Z"
   },
   {
    "duration": 4,
    "start_time": "2022-09-22T16:21:55.238Z"
   },
   {
    "duration": 9,
    "start_time": "2022-09-22T16:21:55.244Z"
   },
   {
    "duration": 15,
    "start_time": "2022-09-22T16:21:55.254Z"
   },
   {
    "duration": 53,
    "start_time": "2022-09-22T16:21:55.270Z"
   },
   {
    "duration": 11,
    "start_time": "2022-09-22T16:21:55.324Z"
   },
   {
    "duration": 16,
    "start_time": "2022-09-22T16:21:55.336Z"
   },
   {
    "duration": 44,
    "start_time": "2022-09-22T16:21:55.354Z"
   },
   {
    "duration": 7,
    "start_time": "2022-09-22T16:21:55.399Z"
   },
   {
    "duration": 57,
    "start_time": "2022-09-22T16:21:55.407Z"
   },
   {
    "duration": 3,
    "start_time": "2022-09-22T16:21:55.466Z"
   },
   {
    "duration": 15,
    "start_time": "2022-09-22T16:21:55.474Z"
   },
   {
    "duration": 16,
    "start_time": "2022-09-22T16:21:55.491Z"
   },
   {
    "duration": 18,
    "start_time": "2022-09-22T16:21:55.508Z"
   },
   {
    "duration": 29,
    "start_time": "2022-09-22T16:21:55.527Z"
   },
   {
    "duration": 23,
    "start_time": "2022-09-22T16:21:55.557Z"
   },
   {
    "duration": 25,
    "start_time": "2022-09-22T16:21:55.582Z"
   },
   {
    "duration": 224,
    "start_time": "2022-09-22T16:21:55.608Z"
   },
   {
    "duration": 5,
    "start_time": "2022-09-22T16:21:55.836Z"
   },
   {
    "duration": 38,
    "start_time": "2022-09-22T16:21:55.842Z"
   },
   {
    "duration": 1450,
    "start_time": "2022-09-22T16:21:55.881Z"
   },
   {
    "duration": 13,
    "start_time": "2022-09-22T16:21:57.332Z"
   },
   {
    "duration": 241,
    "start_time": "2022-09-22T16:21:57.347Z"
   },
   {
    "duration": 5,
    "start_time": "2022-09-22T16:21:57.590Z"
   },
   {
    "duration": 187,
    "start_time": "2022-09-22T16:21:57.597Z"
   },
   {
    "duration": 192,
    "start_time": "2022-09-22T16:21:57.786Z"
   },
   {
    "duration": 174,
    "start_time": "2022-09-22T16:21:57.979Z"
   },
   {
    "duration": 181,
    "start_time": "2022-09-22T16:21:58.155Z"
   },
   {
    "duration": 142,
    "start_time": "2022-09-22T16:21:58.344Z"
   },
   {
    "duration": 152,
    "start_time": "2022-09-22T16:21:58.487Z"
   },
   {
    "duration": 174,
    "start_time": "2022-09-22T16:21:58.641Z"
   },
   {
    "duration": 138,
    "start_time": "2022-09-22T16:21:58.823Z"
   },
   {
    "duration": 14,
    "start_time": "2022-09-22T16:21:58.963Z"
   },
   {
    "duration": 4,
    "start_time": "2022-09-22T16:21:58.979Z"
   },
   {
    "duration": 169,
    "start_time": "2022-09-22T16:21:58.984Z"
   },
   {
    "duration": 51,
    "start_time": "2022-09-23T22:17:18.337Z"
   },
   {
    "duration": 1431,
    "start_time": "2022-09-23T22:17:24.593Z"
   },
   {
    "duration": 168,
    "start_time": "2022-09-23T22:17:26.026Z"
   },
   {
    "duration": 62,
    "start_time": "2022-09-23T22:17:26.197Z"
   },
   {
    "duration": 2044,
    "start_time": "2022-09-23T22:17:26.261Z"
   },
   {
    "duration": 9,
    "start_time": "2022-09-23T22:17:28.307Z"
   },
   {
    "duration": 33,
    "start_time": "2022-09-23T22:17:28.318Z"
   },
   {
    "duration": 4,
    "start_time": "2022-09-23T22:17:28.353Z"
   },
   {
    "duration": 10,
    "start_time": "2022-09-23T22:17:28.358Z"
   },
   {
    "duration": 29,
    "start_time": "2022-09-23T22:17:28.370Z"
   },
   {
    "duration": 25,
    "start_time": "2022-09-23T22:17:28.402Z"
   },
   {
    "duration": 20,
    "start_time": "2022-09-23T22:17:28.431Z"
   },
   {
    "duration": 9,
    "start_time": "2022-09-23T22:17:28.453Z"
   },
   {
    "duration": 52,
    "start_time": "2022-09-23T22:17:28.463Z"
   },
   {
    "duration": 8,
    "start_time": "2022-09-23T22:17:28.518Z"
   },
   {
    "duration": 169,
    "start_time": "2022-09-23T22:17:28.528Z"
   },
   {
    "duration": 7,
    "start_time": "2022-09-23T22:17:28.699Z"
   },
   {
    "duration": 8,
    "start_time": "2022-09-23T22:17:28.708Z"
   },
   {
    "duration": 75,
    "start_time": "2022-09-23T22:17:28.718Z"
   },
   {
    "duration": 5,
    "start_time": "2022-09-23T22:17:28.795Z"
   },
   {
    "duration": 11,
    "start_time": "2022-09-23T22:17:28.802Z"
   },
   {
    "duration": 10,
    "start_time": "2022-09-23T22:17:28.815Z"
   },
   {
    "duration": 33,
    "start_time": "2022-09-23T22:17:28.827Z"
   },
   {
    "duration": 33,
    "start_time": "2022-09-23T22:17:28.862Z"
   },
   {
    "duration": 8,
    "start_time": "2022-09-23T22:17:28.897Z"
   },
   {
    "duration": 41,
    "start_time": "2022-09-23T22:17:28.907Z"
   },
   {
    "duration": 7,
    "start_time": "2022-09-23T22:17:28.951Z"
   },
   {
    "duration": 24,
    "start_time": "2022-09-23T22:17:28.989Z"
   },
   {
    "duration": 4,
    "start_time": "2022-09-23T22:17:29.017Z"
   },
   {
    "duration": 11,
    "start_time": "2022-09-23T22:17:29.022Z"
   },
   {
    "duration": 11,
    "start_time": "2022-09-23T22:17:29.035Z"
   },
   {
    "duration": 4,
    "start_time": "2022-09-23T22:17:29.047Z"
   },
   {
    "duration": 39,
    "start_time": "2022-09-23T22:17:29.053Z"
   },
   {
    "duration": 5,
    "start_time": "2022-09-23T22:17:29.093Z"
   },
   {
    "duration": 7,
    "start_time": "2022-09-23T22:17:29.099Z"
   },
   {
    "duration": 206,
    "start_time": "2022-09-23T22:17:29.107Z"
   },
   {
    "duration": 4,
    "start_time": "2022-09-23T22:17:29.315Z"
   },
   {
    "duration": 23,
    "start_time": "2022-09-23T22:17:29.321Z"
   },
   {
    "duration": 1699,
    "start_time": "2022-09-23T22:17:29.346Z"
   },
   {
    "duration": 9,
    "start_time": "2022-09-23T22:17:31.047Z"
   },
   {
    "duration": 268,
    "start_time": "2022-09-23T22:17:31.058Z"
   },
   {
    "duration": 6,
    "start_time": "2022-09-23T22:17:31.328Z"
   },
   {
    "duration": 205,
    "start_time": "2022-09-23T22:17:31.335Z"
   },
   {
    "duration": 185,
    "start_time": "2022-09-23T22:17:31.542Z"
   },
   {
    "duration": 180,
    "start_time": "2022-09-23T22:17:31.729Z"
   },
   {
    "duration": 233,
    "start_time": "2022-09-23T22:17:31.910Z"
   },
   {
    "duration": 147,
    "start_time": "2022-09-23T22:17:32.145Z"
   },
   {
    "duration": 157,
    "start_time": "2022-09-23T22:17:32.293Z"
   },
   {
    "duration": 199,
    "start_time": "2022-09-23T22:17:32.452Z"
   },
   {
    "duration": 153,
    "start_time": "2022-09-23T22:17:32.653Z"
   },
   {
    "duration": 17,
    "start_time": "2022-09-23T22:17:32.808Z"
   },
   {
    "duration": 5,
    "start_time": "2022-09-23T22:17:32.827Z"
   },
   {
    "duration": 187,
    "start_time": "2022-09-23T22:17:32.833Z"
   }
  ],
  "kernelspec": {
   "display_name": "Python 3 (ipykernel)",
   "language": "python",
   "name": "python3"
  },
  "language_info": {
   "codemirror_mode": {
    "name": "ipython",
    "version": 3
   },
   "file_extension": ".py",
   "mimetype": "text/x-python",
   "name": "python",
   "nbconvert_exporter": "python",
   "pygments_lexer": "ipython3",
   "version": "3.9.13"
  },
  "toc": {
   "base_numbering": 1,
   "nav_menu": {},
   "number_sections": true,
   "sideBar": true,
   "skip_h1_title": true,
   "title_cell": "Table of Contents",
   "title_sidebar": "Contents",
   "toc_cell": false,
   "toc_position": {
    "height": "calc(100% - 180px)",
    "left": "10px",
    "top": "150px",
    "width": "165px"
   },
   "toc_section_display": true,
   "toc_window_display": false
  }
 },
 "nbformat": 4,
 "nbformat_minor": 2
}
